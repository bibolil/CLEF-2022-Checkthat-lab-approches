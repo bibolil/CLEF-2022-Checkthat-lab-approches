{
 "cells": [
  {
   "cell_type": "code",
   "execution_count": 1,
   "id": "26a68781",
   "metadata": {
    "_cell_guid": "b1076dfc-b9ad-4769-8c92-a6c4dae69d19",
    "_uuid": "8f2839f25d086af736a60e9eeb907d3b93b6e0e5",
    "execution": {
     "iopub.execute_input": "2022-04-05T16:40:02.817293Z",
     "iopub.status.busy": "2022-04-05T16:40:02.815770Z",
     "iopub.status.idle": "2022-04-05T16:40:07.304737Z",
     "shell.execute_reply": "2022-04-05T16:40:07.305323Z",
     "shell.execute_reply.started": "2022-04-05T16:04:02.580683Z"
    },
    "papermill": {
     "duration": 4.55516,
     "end_time": "2022-04-05T16:40:07.305637",
     "exception": false,
     "start_time": "2022-04-05T16:40:02.750477",
     "status": "completed"
    },
    "tags": []
   },
   "outputs": [
    {
     "name": "stdout",
     "output_type": "stream",
     "text": [
      "/kaggle/input/checkworthiness/checkworthiness/CT22_arabic_1A_checkworthy_dev_test.tsv\n",
      "/kaggle/input/checkworthiness/checkworthiness/CT22_arabic_1A_checkworthy_train.tsv\n",
      "/kaggle/input/checkworthiness/checkworthiness/CT22_arabic_1A_checkworthy_dev.tsv\n"
     ]
    }
   ],
   "source": [
    "# This Python 3 environment comes with many helpful analytics libraries installed\n",
    "# It is defined by the kaggle/python Docker image: https://github.com/kaggle/docker-python\n",
    "# For example, here's several helpful packages to load\n",
    "\n",
    "import numpy as np # linear algebra\n",
    "import pandas as pd # data processing, CSV file I/O (e.g. pd.read_csv)\n",
    "import tensorflow as tf\n",
    "# Input data files are available in the read-only \"../input/\" directory\n",
    "# For example, running this (by clicking run or pressing Shift+Enter) will list all files under the input directory\n",
    "\n",
    "import os\n",
    "for dirname, _, filenames in os.walk('/kaggle/input'):\n",
    "    for filename in filenames:\n",
    "        print(os.path.join(dirname, filename))\n",
    "\n",
    "# You can write up to 20GB to the current directory (/kaggle/working/) that gets preserved as output when you create a version using \"Save & Run All\" \n",
    "# You can also write temporary files to /kaggle/temp/, but they won't be saved outside of the current session"
   ]
  },
  {
   "cell_type": "code",
   "execution_count": 2,
   "id": "29cbd3e9",
   "metadata": {
    "execution": {
     "iopub.execute_input": "2022-04-05T16:40:07.428387Z",
     "iopub.status.busy": "2022-04-05T16:40:07.427604Z",
     "iopub.status.idle": "2022-04-05T16:40:07.500240Z",
     "shell.execute_reply": "2022-04-05T16:40:07.499782Z",
     "shell.execute_reply.started": "2022-04-05T16:04:06.933824Z"
    },
    "papermill": {
     "duration": 0.134291,
     "end_time": "2022-04-05T16:40:07.500388",
     "exception": false,
     "start_time": "2022-04-05T16:40:07.366097",
     "status": "completed"
    },
    "tags": []
   },
   "outputs": [],
   "source": [
    "train=pd.read_csv('/kaggle/input/checkworthiness/checkworthiness/CT22_arabic_1A_checkworthy_train.tsv',sep='\\t')\n",
    "test=pd.read_csv('/kaggle/input/checkworthiness/checkworthiness/CT22_arabic_1A_checkworthy_dev_test.tsv',sep='\\t')\n",
    "dev=pd.read_csv('/kaggle/input/checkworthiness/checkworthiness/CT22_arabic_1A_checkworthy_dev.tsv',sep='\\t')"
   ]
  },
  {
   "cell_type": "code",
   "execution_count": 3,
   "id": "2b25fe02",
   "metadata": {
    "execution": {
     "iopub.execute_input": "2022-04-05T16:40:07.619222Z",
     "iopub.status.busy": "2022-04-05T16:40:07.618482Z",
     "iopub.status.idle": "2022-04-05T16:40:07.623971Z",
     "shell.execute_reply": "2022-04-05T16:40:07.624411Z",
     "shell.execute_reply.started": "2022-04-05T16:04:07.001366Z"
    },
    "papermill": {
     "duration": 0.066184,
     "end_time": "2022-04-05T16:40:07.624538",
     "exception": false,
     "start_time": "2022-04-05T16:40:07.558354",
     "status": "completed"
    },
    "tags": []
   },
   "outputs": [
    {
     "name": "stdout",
     "output_type": "stream",
     "text": [
      "2513 691 235\n"
     ]
    }
   ],
   "source": [
    "print(len(train),len(test),len(dev))"
   ]
  },
  {
   "cell_type": "code",
   "execution_count": 4,
   "id": "04d55036",
   "metadata": {
    "execution": {
     "iopub.execute_input": "2022-04-05T16:40:07.748118Z",
     "iopub.status.busy": "2022-04-05T16:40:07.747244Z",
     "iopub.status.idle": "2022-04-05T16:40:07.759862Z",
     "shell.execute_reply": "2022-04-05T16:40:07.760356Z",
     "shell.execute_reply.started": "2022-04-05T16:04:07.010955Z"
    },
    "papermill": {
     "duration": 0.077882,
     "end_time": "2022-04-05T16:40:07.760490",
     "exception": false,
     "start_time": "2022-04-05T16:40:07.682608",
     "status": "completed"
    },
    "tags": []
   },
   "outputs": [
    {
     "data": {
      "text/html": [
       "<div>\n",
       "<style scoped>\n",
       "    .dataframe tbody tr th:only-of-type {\n",
       "        vertical-align: middle;\n",
       "    }\n",
       "\n",
       "    .dataframe tbody tr th {\n",
       "        vertical-align: top;\n",
       "    }\n",
       "\n",
       "    .dataframe thead th {\n",
       "        text-align: right;\n",
       "    }\n",
       "</style>\n",
       "<table border=\"1\" class=\"dataframe\">\n",
       "  <thead>\n",
       "    <tr style=\"text-align: right;\">\n",
       "      <th></th>\n",
       "      <th>topic</th>\n",
       "      <th>tweet_id</th>\n",
       "      <th>tweet_url</th>\n",
       "      <th>tweet_text</th>\n",
       "      <th>class_label</th>\n",
       "    </tr>\n",
       "  </thead>\n",
       "  <tbody>\n",
       "    <tr>\n",
       "      <th>0</th>\n",
       "      <td>COVID-19</td>\n",
       "      <td>1366750293535444997</td>\n",
       "      <td>http://twitter.com/user/status/136675029353544...</td>\n",
       "      <td>الصحة: من تلقى لقاح كورونا وتجاوز بعد استكمال ...</td>\n",
       "      <td>1</td>\n",
       "    </tr>\n",
       "    <tr>\n",
       "      <th>1</th>\n",
       "      <td>COVID-19</td>\n",
       "      <td>1296280796131721217</td>\n",
       "      <td>http://twitter.com/user/status/129628079613172...</td>\n",
       "      <td>تصريح صادم من «الصحة العالمية»: لا يوجد لقاح ل...</td>\n",
       "      <td>1</td>\n",
       "    </tr>\n",
       "    <tr>\n",
       "      <th>2</th>\n",
       "      <td>COVID-19</td>\n",
       "      <td>1293111922326409216</td>\n",
       "      <td>http://twitter.com/user/status/129311192232640...</td>\n",
       "      <td>🔴بوتين يعلن عن تسجيل أول #لقاح ضد #فيروس_كورون...</td>\n",
       "      <td>1</td>\n",
       "    </tr>\n",
       "    <tr>\n",
       "      <th>3</th>\n",
       "      <td>COVID-19</td>\n",
       "      <td>1290288058617589761</td>\n",
       "      <td>http://twitter.com/user/status/129028805861758...</td>\n",
       "      <td>#روسيا تعد بتوفير ملايين الجرعات من لقاح #كورو...</td>\n",
       "      <td>0</td>\n",
       "    </tr>\n",
       "    <tr>\n",
       "      <th>4</th>\n",
       "      <td>COVID-19</td>\n",
       "      <td>1293172767261630464</td>\n",
       "      <td>http://twitter.com/user/status/129317276726163...</td>\n",
       "      <td>#روسيا #Russia تعلن الموافقة على اول لقاح لفير...</td>\n",
       "      <td>1</td>\n",
       "    </tr>\n",
       "  </tbody>\n",
       "</table>\n",
       "</div>"
      ],
      "text/plain": [
       "      topic             tweet_id  \\\n",
       "0  COVID-19  1366750293535444997   \n",
       "1  COVID-19  1296280796131721217   \n",
       "2  COVID-19  1293111922326409216   \n",
       "3  COVID-19  1290288058617589761   \n",
       "4  COVID-19  1293172767261630464   \n",
       "\n",
       "                                           tweet_url  \\\n",
       "0  http://twitter.com/user/status/136675029353544...   \n",
       "1  http://twitter.com/user/status/129628079613172...   \n",
       "2  http://twitter.com/user/status/129311192232640...   \n",
       "3  http://twitter.com/user/status/129028805861758...   \n",
       "4  http://twitter.com/user/status/129317276726163...   \n",
       "\n",
       "                                          tweet_text  class_label  \n",
       "0  الصحة: من تلقى لقاح كورونا وتجاوز بعد استكمال ...            1  \n",
       "1  تصريح صادم من «الصحة العالمية»: لا يوجد لقاح ل...            1  \n",
       "2  🔴بوتين يعلن عن تسجيل أول #لقاح ضد #فيروس_كورون...            1  \n",
       "3  #روسيا تعد بتوفير ملايين الجرعات من لقاح #كورو...            0  \n",
       "4  #روسيا #Russia تعلن الموافقة على اول لقاح لفير...            1  "
      ]
     },
     "execution_count": 4,
     "metadata": {},
     "output_type": "execute_result"
    }
   ],
   "source": [
    "dev.head()"
   ]
  },
  {
   "cell_type": "code",
   "execution_count": 5,
   "id": "fcb40fe8",
   "metadata": {
    "execution": {
     "iopub.execute_input": "2022-04-05T16:40:07.889240Z",
     "iopub.status.busy": "2022-04-05T16:40:07.888605Z",
     "iopub.status.idle": "2022-04-05T16:40:07.891387Z",
     "shell.execute_reply": "2022-04-05T16:40:07.891853Z",
     "shell.execute_reply.started": "2022-04-05T16:04:07.033857Z"
    },
    "papermill": {
     "duration": 0.072071,
     "end_time": "2022-04-05T16:40:07.891988",
     "exception": false,
     "start_time": "2022-04-05T16:40:07.819917",
     "status": "completed"
    },
    "tags": []
   },
   "outputs": [
    {
     "data": {
      "text/html": [
       "<div>\n",
       "<style scoped>\n",
       "    .dataframe tbody tr th:only-of-type {\n",
       "        vertical-align: middle;\n",
       "    }\n",
       "\n",
       "    .dataframe tbody tr th {\n",
       "        vertical-align: top;\n",
       "    }\n",
       "\n",
       "    .dataframe thead th {\n",
       "        text-align: right;\n",
       "    }\n",
       "</style>\n",
       "<table border=\"1\" class=\"dataframe\">\n",
       "  <thead>\n",
       "    <tr style=\"text-align: right;\">\n",
       "      <th></th>\n",
       "      <th>topic</th>\n",
       "      <th>tweet_id</th>\n",
       "      <th>tweet_url</th>\n",
       "      <th>tweet_text</th>\n",
       "      <th>class_label</th>\n",
       "    </tr>\n",
       "  </thead>\n",
       "  <tbody>\n",
       "    <tr>\n",
       "      <th>0</th>\n",
       "      <td>COVID-19</td>\n",
       "      <td>1.294701e+18</td>\n",
       "      <td>http://twitter.com/user/status/129470128763696...</td>\n",
       "      <td>البروفيسورة سارة جيلبرت قائدة فريق العمل في لق...</td>\n",
       "      <td>0</td>\n",
       "    </tr>\n",
       "    <tr>\n",
       "      <th>1</th>\n",
       "      <td>COVID-19</td>\n",
       "      <td>1.295658e+18</td>\n",
       "      <td>http://twitter.com/user/status/129565789215520...</td>\n",
       "      <td>#الصين :اللقاح المضاد ل #فيروس_كورونا سيكون مت...</td>\n",
       "      <td>0</td>\n",
       "    </tr>\n",
       "    <tr>\n",
       "      <th>2</th>\n",
       "      <td>COVID-19</td>\n",
       "      <td>1.293537e+18</td>\n",
       "      <td>http://twitter.com/user/status/129353728218048...</td>\n",
       "      <td>وزير الصحة الروسى: تطعيم الأطباء بلقاح #كورونا...</td>\n",
       "      <td>1</td>\n",
       "    </tr>\n",
       "    <tr>\n",
       "      <th>3</th>\n",
       "      <td>COVID-19</td>\n",
       "      <td>1.292930e+18</td>\n",
       "      <td>http://twitter.com/user/status/129292970615784...</td>\n",
       "      <td>الرئيس الروسي يعلن عبر صفحته على الفسبوك انه س...</td>\n",
       "      <td>1</td>\n",
       "    </tr>\n",
       "    <tr>\n",
       "      <th>4</th>\n",
       "      <td>COVID-19</td>\n",
       "      <td>1.298759e+18</td>\n",
       "      <td>http://twitter.com/user/status/129875879324599...</td>\n",
       "      <td>فاوتشي يحذر من \"سلبية\" التعجيل باستخدام لقاح ل...</td>\n",
       "      <td>0</td>\n",
       "    </tr>\n",
       "  </tbody>\n",
       "</table>\n",
       "</div>"
      ],
      "text/plain": [
       "      topic      tweet_id                                          tweet_url  \\\n",
       "0  COVID-19  1.294701e+18  http://twitter.com/user/status/129470128763696...   \n",
       "1  COVID-19  1.295658e+18  http://twitter.com/user/status/129565789215520...   \n",
       "2  COVID-19  1.293537e+18  http://twitter.com/user/status/129353728218048...   \n",
       "3  COVID-19  1.292930e+18  http://twitter.com/user/status/129292970615784...   \n",
       "4  COVID-19  1.298759e+18  http://twitter.com/user/status/129875879324599...   \n",
       "\n",
       "                                          tweet_text  class_label  \n",
       "0  البروفيسورة سارة جيلبرت قائدة فريق العمل في لق...            0  \n",
       "1  #الصين :اللقاح المضاد ل #فيروس_كورونا سيكون مت...            0  \n",
       "2  وزير الصحة الروسى: تطعيم الأطباء بلقاح #كورونا...            1  \n",
       "3  الرئيس الروسي يعلن عبر صفحته على الفسبوك انه س...            1  \n",
       "4  فاوتشي يحذر من \"سلبية\" التعجيل باستخدام لقاح ل...            0  "
      ]
     },
     "execution_count": 5,
     "metadata": {},
     "output_type": "execute_result"
    }
   ],
   "source": [
    "test.head()"
   ]
  },
  {
   "cell_type": "code",
   "execution_count": 6,
   "id": "2e5e2efc",
   "metadata": {
    "execution": {
     "iopub.execute_input": "2022-04-05T16:40:08.019829Z",
     "iopub.status.busy": "2022-04-05T16:40:08.019103Z",
     "iopub.status.idle": "2022-04-05T16:40:08.022032Z",
     "shell.execute_reply": "2022-04-05T16:40:08.022677Z",
     "shell.execute_reply.started": "2022-04-05T16:04:07.049417Z"
    },
    "papermill": {
     "duration": 0.071488,
     "end_time": "2022-04-05T16:40:08.022824",
     "exception": false,
     "start_time": "2022-04-05T16:40:07.951336",
     "status": "completed"
    },
    "tags": []
   },
   "outputs": [
    {
     "data": {
      "text/html": [
       "<div>\n",
       "<style scoped>\n",
       "    .dataframe tbody tr th:only-of-type {\n",
       "        vertical-align: middle;\n",
       "    }\n",
       "\n",
       "    .dataframe tbody tr th {\n",
       "        vertical-align: top;\n",
       "    }\n",
       "\n",
       "    .dataframe thead th {\n",
       "        text-align: right;\n",
       "    }\n",
       "</style>\n",
       "<table border=\"1\" class=\"dataframe\">\n",
       "  <thead>\n",
       "    <tr style=\"text-align: right;\">\n",
       "      <th></th>\n",
       "      <th>topic</th>\n",
       "      <th>tweet_id</th>\n",
       "      <th>tweet_url</th>\n",
       "      <th>tweet_text</th>\n",
       "      <th>class_label</th>\n",
       "    </tr>\n",
       "  </thead>\n",
       "  <tbody>\n",
       "    <tr>\n",
       "      <th>0</th>\n",
       "      <td>COVID-19</td>\n",
       "      <td>1.297845e+18</td>\n",
       "      <td>http://twitter.com/user/status/129784491603128...</td>\n",
       "      <td>الحكومة البرازيلية @jairbolsonaro توقع اتفاقية...</td>\n",
       "      <td>0</td>\n",
       "    </tr>\n",
       "    <tr>\n",
       "      <th>1</th>\n",
       "      <td>COVID-19</td>\n",
       "      <td>1.241050e+18</td>\n",
       "      <td>http://twitter.com/user/status/124105023091052...</td>\n",
       "      <td>غضب شعبي في قطر لتباطؤ الحكومة ضد فيروس كورونا...</td>\n",
       "      <td>1</td>\n",
       "    </tr>\n",
       "    <tr>\n",
       "      <th>2</th>\n",
       "      <td>COVID-19</td>\n",
       "      <td>1.367191e+18</td>\n",
       "      <td>http://twitter.com/user/status/136719122552314...</td>\n",
       "      <td>( نحن بطيئون ) اعطاء لقاح كورونا في السعوديه ن...</td>\n",
       "      <td>0</td>\n",
       "    </tr>\n",
       "    <tr>\n",
       "      <th>3</th>\n",
       "      <td>COVID-19</td>\n",
       "      <td>1.298319e+18</td>\n",
       "      <td>http://twitter.com/user/status/129831900213403...</td>\n",
       "      <td>فإن لم تفلح كل المحاولات في ايجاد علاج او لقاح...</td>\n",
       "      <td>1</td>\n",
       "    </tr>\n",
       "    <tr>\n",
       "      <th>4</th>\n",
       "      <td>COVID-19</td>\n",
       "      <td>1.293136e+18</td>\n",
       "      <td>http://twitter.com/user/status/129313552259289...</td>\n",
       "      <td>أعلن #الرئيس_الروسي #فلاديمير_بوتين، اليوم، أن...</td>\n",
       "      <td>0</td>\n",
       "    </tr>\n",
       "  </tbody>\n",
       "</table>\n",
       "</div>"
      ],
      "text/plain": [
       "      topic      tweet_id                                          tweet_url  \\\n",
       "0  COVID-19  1.297845e+18  http://twitter.com/user/status/129784491603128...   \n",
       "1  COVID-19  1.241050e+18  http://twitter.com/user/status/124105023091052...   \n",
       "2  COVID-19  1.367191e+18  http://twitter.com/user/status/136719122552314...   \n",
       "3  COVID-19  1.298319e+18  http://twitter.com/user/status/129831900213403...   \n",
       "4  COVID-19  1.293136e+18  http://twitter.com/user/status/129313552259289...   \n",
       "\n",
       "                                          tweet_text  class_label  \n",
       "0  الحكومة البرازيلية @jairbolsonaro توقع اتفاقية...            0  \n",
       "1  غضب شعبي في قطر لتباطؤ الحكومة ضد فيروس كورونا...            1  \n",
       "2  ( نحن بطيئون ) اعطاء لقاح كورونا في السعوديه ن...            0  \n",
       "3  فإن لم تفلح كل المحاولات في ايجاد علاج او لقاح...            1  \n",
       "4  أعلن #الرئيس_الروسي #فلاديمير_بوتين، اليوم، أن...            0  "
      ]
     },
     "execution_count": 6,
     "metadata": {},
     "output_type": "execute_result"
    }
   ],
   "source": [
    "train.head()"
   ]
  },
  {
   "cell_type": "code",
   "execution_count": 7,
   "id": "54b15b5b",
   "metadata": {
    "execution": {
     "iopub.execute_input": "2022-04-05T16:40:08.154722Z",
     "iopub.status.busy": "2022-04-05T16:40:08.153911Z",
     "iopub.status.idle": "2022-04-05T16:40:08.157869Z",
     "shell.execute_reply": "2022-04-05T16:40:08.157413Z",
     "shell.execute_reply.started": "2022-04-05T16:04:07.064539Z"
    },
    "papermill": {
     "duration": 0.074504,
     "end_time": "2022-04-05T16:40:08.157973",
     "exception": false,
     "start_time": "2022-04-05T16:40:08.083469",
     "status": "completed"
    },
    "tags": []
   },
   "outputs": [],
   "source": [
    "train.drop(['tweet_url'],axis=1,inplace=True)\n",
    "test.drop(['tweet_url'],axis=1,inplace=True)\n",
    "dev.drop(['tweet_url'],axis=1,inplace=True)"
   ]
  },
  {
   "cell_type": "code",
   "execution_count": 8,
   "id": "2a985c35",
   "metadata": {
    "execution": {
     "iopub.execute_input": "2022-04-05T16:40:08.295485Z",
     "iopub.status.busy": "2022-04-05T16:40:08.289831Z",
     "iopub.status.idle": "2022-04-05T16:40:08.299475Z",
     "shell.execute_reply": "2022-04-05T16:40:08.299014Z",
     "shell.execute_reply.started": "2022-04-05T16:04:07.077754Z"
    },
    "papermill": {
     "duration": 0.078846,
     "end_time": "2022-04-05T16:40:08.299607",
     "exception": false,
     "start_time": "2022-04-05T16:40:08.220761",
     "status": "completed"
    },
    "tags": []
   },
   "outputs": [
    {
     "data": {
      "text/html": [
       "<div>\n",
       "<style scoped>\n",
       "    .dataframe tbody tr th:only-of-type {\n",
       "        vertical-align: middle;\n",
       "    }\n",
       "\n",
       "    .dataframe tbody tr th {\n",
       "        vertical-align: top;\n",
       "    }\n",
       "\n",
       "    .dataframe thead th {\n",
       "        text-align: right;\n",
       "    }\n",
       "</style>\n",
       "<table border=\"1\" class=\"dataframe\">\n",
       "  <thead>\n",
       "    <tr style=\"text-align: right;\">\n",
       "      <th></th>\n",
       "      <th>topic</th>\n",
       "      <th>tweet_id</th>\n",
       "      <th>tweet_text</th>\n",
       "      <th>class_label</th>\n",
       "    </tr>\n",
       "  </thead>\n",
       "  <tbody>\n",
       "  </tbody>\n",
       "</table>\n",
       "</div>"
      ],
      "text/plain": [
       "Empty DataFrame\n",
       "Columns: [topic, tweet_id, tweet_text, class_label]\n",
       "Index: []"
      ]
     },
     "execution_count": 8,
     "metadata": {},
     "output_type": "execute_result"
    }
   ],
   "source": [
    "train[train.isnull().any(axis=1)].head()"
   ]
  },
  {
   "cell_type": "code",
   "execution_count": 9,
   "id": "40df1a7d",
   "metadata": {
    "execution": {
     "iopub.execute_input": "2022-04-05T16:40:08.428405Z",
     "iopub.status.busy": "2022-04-05T16:40:08.427856Z",
     "iopub.status.idle": "2022-04-05T16:40:08.432529Z",
     "shell.execute_reply": "2022-04-05T16:40:08.432050Z",
     "shell.execute_reply.started": "2022-04-05T16:04:07.092666Z"
    },
    "papermill": {
     "duration": 0.072042,
     "end_time": "2022-04-05T16:40:08.432639",
     "exception": false,
     "start_time": "2022-04-05T16:40:08.360597",
     "status": "completed"
    },
    "tags": []
   },
   "outputs": [
    {
     "data": {
      "text/html": [
       "<div>\n",
       "<style scoped>\n",
       "    .dataframe tbody tr th:only-of-type {\n",
       "        vertical-align: middle;\n",
       "    }\n",
       "\n",
       "    .dataframe tbody tr th {\n",
       "        vertical-align: top;\n",
       "    }\n",
       "\n",
       "    .dataframe thead th {\n",
       "        text-align: right;\n",
       "    }\n",
       "</style>\n",
       "<table border=\"1\" class=\"dataframe\">\n",
       "  <thead>\n",
       "    <tr style=\"text-align: right;\">\n",
       "      <th></th>\n",
       "      <th>topic</th>\n",
       "      <th>tweet_id</th>\n",
       "      <th>tweet_text</th>\n",
       "      <th>class_label</th>\n",
       "    </tr>\n",
       "  </thead>\n",
       "  <tbody>\n",
       "  </tbody>\n",
       "</table>\n",
       "</div>"
      ],
      "text/plain": [
       "Empty DataFrame\n",
       "Columns: [topic, tweet_id, tweet_text, class_label]\n",
       "Index: []"
      ]
     },
     "execution_count": 9,
     "metadata": {},
     "output_type": "execute_result"
    }
   ],
   "source": [
    "test[test.isnull().any(axis=1)].head()"
   ]
  },
  {
   "cell_type": "code",
   "execution_count": 10,
   "id": "62f86406",
   "metadata": {
    "execution": {
     "iopub.execute_input": "2022-04-05T16:40:08.561436Z",
     "iopub.status.busy": "2022-04-05T16:40:08.557155Z",
     "iopub.status.idle": "2022-04-05T16:40:08.564549Z",
     "shell.execute_reply": "2022-04-05T16:40:08.564100Z",
     "shell.execute_reply.started": "2022-04-05T16:04:07.107612Z"
    },
    "papermill": {
     "duration": 0.070734,
     "end_time": "2022-04-05T16:40:08.564654",
     "exception": false,
     "start_time": "2022-04-05T16:40:08.493920",
     "status": "completed"
    },
    "tags": []
   },
   "outputs": [
    {
     "data": {
      "text/html": [
       "<div>\n",
       "<style scoped>\n",
       "    .dataframe tbody tr th:only-of-type {\n",
       "        vertical-align: middle;\n",
       "    }\n",
       "\n",
       "    .dataframe tbody tr th {\n",
       "        vertical-align: top;\n",
       "    }\n",
       "\n",
       "    .dataframe thead th {\n",
       "        text-align: right;\n",
       "    }\n",
       "</style>\n",
       "<table border=\"1\" class=\"dataframe\">\n",
       "  <thead>\n",
       "    <tr style=\"text-align: right;\">\n",
       "      <th></th>\n",
       "      <th>topic</th>\n",
       "      <th>tweet_id</th>\n",
       "      <th>tweet_text</th>\n",
       "      <th>class_label</th>\n",
       "    </tr>\n",
       "  </thead>\n",
       "  <tbody>\n",
       "  </tbody>\n",
       "</table>\n",
       "</div>"
      ],
      "text/plain": [
       "Empty DataFrame\n",
       "Columns: [topic, tweet_id, tweet_text, class_label]\n",
       "Index: []"
      ]
     },
     "execution_count": 10,
     "metadata": {},
     "output_type": "execute_result"
    }
   ],
   "source": [
    "dev[dev.isnull().any(axis=1)].head()"
   ]
  },
  {
   "cell_type": "code",
   "execution_count": 11,
   "id": "cf75d16a",
   "metadata": {
    "execution": {
     "iopub.execute_input": "2022-04-05T16:40:08.688912Z",
     "iopub.status.busy": "2022-04-05T16:40:08.688385Z",
     "iopub.status.idle": "2022-04-05T16:40:09.462477Z",
     "shell.execute_reply": "2022-04-05T16:40:09.461946Z",
     "shell.execute_reply.started": "2022-04-05T16:04:07.120893Z"
    },
    "papermill": {
     "duration": 0.837462,
     "end_time": "2022-04-05T16:40:09.462614",
     "exception": false,
     "start_time": "2022-04-05T16:40:08.625152",
     "status": "completed"
    },
    "tags": []
   },
   "outputs": [
    {
     "data": {
      "text/plain": [
       "<AxesSubplot:xlabel='class_label', ylabel='count'>"
      ]
     },
     "execution_count": 11,
     "metadata": {},
     "output_type": "execute_result"
    },
    {
     "data": {
      "image/png": "[encoded data removed]",
      "text/plain": [
       "<Figure size 432x288 with 1 Axes>"
      ]
     },
     "metadata": {
      "needs_background": "light"
     },
     "output_type": "display_data"
    }
   ],
   "source": [
    "import seaborn as sns\n",
    "sns.countplot(x='class_label', data=train)"
   ]
  },
  {
   "cell_type": "markdown",
   "id": "abd3563c",
   "metadata": {
    "papermill": {
     "duration": 0.062151,
     "end_time": "2022-04-05T16:40:09.588436",
     "exception": false,
     "start_time": "2022-04-05T16:40:09.526285",
     "status": "completed"
    },
    "tags": []
   },
   "source": [
    "Data preprocessing"
   ]
  },
  {
   "cell_type": "code",
   "execution_count": 12,
   "id": "cfa4a9f7",
   "metadata": {
    "execution": {
     "iopub.execute_input": "2022-04-05T16:40:09.718176Z",
     "iopub.status.busy": "2022-04-05T16:40:09.717661Z",
     "iopub.status.idle": "2022-04-05T16:40:35.309628Z",
     "shell.execute_reply": "2022-04-05T16:40:35.309073Z",
     "shell.execute_reply.started": "2022-04-05T16:04:07.826941Z"
    },
    "papermill": {
     "duration": 25.659425,
     "end_time": "2022-04-05T16:40:35.309764",
     "exception": false,
     "start_time": "2022-04-05T16:40:09.650339",
     "status": "completed"
    },
    "tags": []
   },
   "outputs": [
    {
     "name": "stdout",
     "output_type": "stream",
     "text": [
      "Requirement already satisfied: pyarabic in /opt/conda/lib/python3.7/site-packages (0.6.14)\r\n",
      "Requirement already satisfied: six>=1.14.0 in /opt/conda/lib/python3.7/site-packages (from pyarabic) (1.16.0)\r\n",
      "\u001b[33mWARNING: Running pip as the 'root' user can result in broken permissions and conflicting behaviour with the system package manager. It is recommended to use a virtual environment instead: https://pip.pypa.io/warnings/venv\u001b[0m\r\n",
      "Collecting farasapy\r\n",
      "  Downloading farasapy-0.0.14-py3-none-any.whl (11 kB)\r\n",
      "Requirement already satisfied: tqdm in /opt/conda/lib/python3.7/site-packages (from farasapy) (4.62.3)\r\n",
      "Requirement already satisfied: requests in /opt/conda/lib/python3.7/site-packages (from farasapy) (2.26.0)\r\n",
      "Requirement already satisfied: certifi>=2017.4.17 in /opt/conda/lib/python3.7/site-packages (from requests->farasapy) (2021.10.8)\r\n",
      "Requirement already satisfied: idna<4,>=2.5 in /opt/conda/lib/python3.7/site-packages (from requests->farasapy) (3.1)\r\n",
      "Requirement already satisfied: charset-normalizer~=2.0.0 in /opt/conda/lib/python3.7/site-packages (from requests->farasapy) (2.0.9)\r\n",
      "Requirement already satisfied: urllib3<1.27,>=1.21.1 in /opt/conda/lib/python3.7/site-packages (from requests->farasapy) (1.26.7)\r\n",
      "Installing collected packages: farasapy\r\n",
      "Successfully installed farasapy-0.0.14\r\n",
      "\u001b[33mWARNING: Running pip as the 'root' user can result in broken permissions and conflicting behaviour with the system package manager. It is recommended to use a virtual environment instead: https://pip.pypa.io/warnings/venv\u001b[0m\r\n",
      "Collecting tashaphyne\r\n",
      "  Downloading Tashaphyne-0.3.6-py3-none-any.whl (251 kB)\r\n",
      "     |████████████████████████████████| 251 kB 922 kB/s            \r\n",
      "\u001b[?25hRequirement already satisfied: pyarabic in /opt/conda/lib/python3.7/site-packages (from tashaphyne) (0.6.14)\r\n",
      "Requirement already satisfied: six>=1.14.0 in /opt/conda/lib/python3.7/site-packages (from pyarabic->tashaphyne) (1.16.0)\r\n",
      "Installing collected packages: tashaphyne\r\n",
      "Successfully installed tashaphyne-0.3.6\r\n",
      "\u001b[33mWARNING: Running pip as the 'root' user can result in broken permissions and conflicting behaviour with the system package manager. It is recommended to use a virtual environment instead: https://pip.pypa.io/warnings/venv\u001b[0m\r\n"
     ]
    }
   ],
   "source": [
    "!pip install pyarabic\n",
    "!pip install farasapy\n",
    "!pip install tashaphyne"
   ]
  },
  {
   "cell_type": "code",
   "execution_count": 13,
   "id": "43715440",
   "metadata": {
    "execution": {
     "iopub.execute_input": "2022-04-05T16:40:35.448864Z",
     "iopub.status.busy": "2022-04-05T16:40:35.448102Z",
     "iopub.status.idle": "2022-04-05T16:40:36.179478Z",
     "shell.execute_reply": "2022-04-05T16:40:36.178948Z",
     "shell.execute_reply.started": "2022-04-05T16:04:34.872579Z"
    },
    "papermill": {
     "duration": 0.802454,
     "end_time": "2022-04-05T16:40:36.179605",
     "exception": false,
     "start_time": "2022-04-05T16:40:35.377151",
     "status": "completed"
    },
    "tags": []
   },
   "outputs": [],
   "source": [
    "from nltk.corpus import stopwords\n",
    "from textblob import TextBlob\n",
    "import re\n",
    "from tashaphyne.stemming import ArabicLightStemmer\n",
    "from nltk.stem.isri import ISRIStemmer\n",
    "import tashaphyne.arabic_const as arabconst \n",
    "import pyarabic.araby as araby"
   ]
  },
  {
   "cell_type": "code",
   "execution_count": 14,
   "id": "5b46414d",
   "metadata": {
    "execution": {
     "iopub.execute_input": "2022-04-05T16:40:36.336712Z",
     "iopub.status.busy": "2022-04-05T16:40:36.335905Z",
     "iopub.status.idle": "2022-04-05T16:40:36.345510Z",
     "shell.execute_reply": "2022-04-05T16:40:36.345065Z",
     "shell.execute_reply.started": "2022-04-05T16:04:35.554320Z"
    },
    "papermill": {
     "duration": 0.098811,
     "end_time": "2022-04-05T16:40:36.345629",
     "exception": false,
     "start_time": "2022-04-05T16:40:36.246818",
     "status": "completed"
    },
    "tags": []
   },
   "outputs": [],
   "source": [
    "stops = set(stopwords.words(\"arabic\"))\n",
    "stop_word_comp = {\"،\",\"آض\",\"آمينَ\",\"آه\",\"آهاً\",\"آي\",\"أ\",\"أب\",\"أجل\",\"أجمع\",\"أخ\",\"أخذ\",\"أصبح\",\"أضحى\",\"أقبل\",\"أقل\",\"أكثر\",\"ألا\",\"أم\",\"أما\",\"أمامك\",\"أمامكَ\",\"أمسى\",\"أمّا\",\"أن\",\"أنا\",\"أنت\",\"أنتم\",\"أنتما\",\"أنتن\",\"أنتِ\",\"أنشأ\",\"أنّى\",\"أو\",\"أوشك\",\"أولئك\",\"أولئكم\",\"أولاء\",\"أولالك\",\"أوّهْ\",\"أي\",\"أيا\",\"أين\",\"أينما\",\"أيّ\",\"أَنَّ\",\"أََيُّ\",\"أُفٍّ\",\"إذ\",\"إذا\",\"إذاً\",\"إذما\",\"إذن\",\"إلى\",\"إليكم\",\"إليكما\",\"إليكنّ\",\"إليكَ\",\"إلَيْكَ\",\"إلّا\",\"إمّا\",\"إن\",\"إنّما\",\"إي\",\"إياك\",\"إياكم\",\"إياكما\",\"إياكن\",\"إيانا\",\"إياه\",\"إياها\",\"إياهم\",\"إياهما\",\"إياهن\",\"إياي\",\"إيهٍ\",\"إِنَّ\",\"ا\",\"ابتدأ\",\"اثر\",\"اجل\",\"احد\",\"اخرى\",\"اخلولق\",\"اذا\",\"اربعة\",\"ارتدّ\",\"استحال\",\"اطار\",\"اعادة\",\"اعلنت\",\"اف\",\"اكثر\",\"اكد\",\"الألاء\",\"الألى\",\"الا\",\"الاخيرة\",\"الان\",\"الاول\",\"الاولى\",\"التى\",\"التي\",\"الثاني\",\"الثانية\",\"الذاتي\",\"الذى\",\"الذي\",\"الذين\",\"السابق\",\"الف\",\"اللائي\",\"اللاتي\",\"اللتان\",\"اللتيا\",\"اللتين\",\"اللذان\",\"اللذين\",\"اللواتي\",\"الماضي\",\"المقبل\",\"الوقت\",\"الى\",\"اليوم\",\"اما\",\"امام\",\"امس\",\"ان\",\"انبرى\",\"انقلب\",\"انه\",\"انها\",\"او\",\"اول\",\"اي\",\"ايار\",\"ايام\",\"ايضا\",\"ب\",\"بات\",\"باسم\",\"بان\",\"بخٍ\",\"برس\",\"بسبب\",\"بسّ\",\"بشكل\",\"بضع\",\"بطآن\",\"بعد\",\"بعض\",\"بك\",\"بكم\",\"بكما\",\"بكن\",\"بل\",\"بلى\",\"بما\",\"بماذا\",\"بمن\",\"بن\",\"بنا\",\"به\",\"بها\",\"بي\",\"بيد\",\"بين\",\"بَسْ\",\"بَلْهَ\",\"بِئْسَ\",\"تانِ\",\"تانِك\",\"تبدّل\",\"تجاه\",\"تحوّل\",\"تلقاء\",\"تلك\",\"تلكم\",\"تلكما\",\"تم\",\"تينك\",\"تَيْنِ\",\"تِه\",\"تِي\",\"ثلاثة\",\"ثم\",\"ثمّ\",\"ثمّة\",\"ثُمَّ\",\"جعل\",\"جلل\",\"جميع\",\"جير\",\"حار\",\"حاشا\",\"حاليا\",\"حاي\",\"حتى\",\"حرى\",\"حسب\",\"حم\",\"حوالى\",\"حول\",\"حيث\",\"حيثما\",\"حين\",\"حيَّ\",\"حَبَّذَا\",\"حَتَّى\",\"حَذارِ\",\"خلا\",\"خلال\",\"دون\",\"دونك\",\"ذا\",\"ذات\",\"ذاك\",\"ذانك\",\"ذانِ\",\"ذلك\",\"ذلكم\",\"ذلكما\",\"ذلكن\",\"ذو\",\"ذوا\",\"ذواتا\",\"ذواتي\",\"ذيت\",\"ذينك\",\"ذَيْنِ\",\"ذِه\",\"ذِي\",\"راح\",\"رجع\",\"رويدك\",\"ريث\",\"رُبَّ\",\"زيارة\",\"سبحان\",\"سرعان\",\"سنة\",\"سنوات\",\"سوف\",\"سوى\",\"سَاءَ\",\"سَاءَمَا\",\"شبه\",\"شخصا\",\"شرع\",\"شَتَّانَ\",\"صار\",\"صباح\",\"صفر\",\"صهٍ\",\"صهْ\",\"ضد\",\"ضمن\",\"طاق\",\"طالما\",\"طفق\",\"طَق\",\"ظلّ\",\"عاد\",\"عام\",\"عاما\",\"عامة\",\"عدا\",\"عدة\",\"عدد\",\"عدم\",\"عسى\",\"عشر\",\"عشرة\",\"علق\",\"على\",\"عليك\",\"عليه\",\"عليها\",\"علًّ\",\"عن\",\"عند\",\"عندما\",\"عوض\",\"عين\",\"عَدَسْ\",\"عَمَّا\",\"غدا\",\"غير\",\"ـ\",\"ف\",\"فان\",\"فلان\",\"فو\",\"فى\",\"في\",\"فيم\",\"فيما\",\"فيه\",\"فيها\",\"قال\",\"قام\",\"قبل\",\"قد\",\"قطّ\",\"قلما\",\"قوة\",\"كأنّما\",\"كأين\",\"كأيّ\",\"كأيّن\",\"كاد\",\"كان\",\"كانت\",\"كذا\",\"كذلك\",\"كرب\",\"كل\",\"كلا\",\"كلاهما\",\"كلتا\",\"كلم\",\"كليكما\",\"كليهما\",\"كلّما\",\"كلَّا\",\"كم\",\"كما\",\"كي\",\"كيت\",\"كيف\",\"كيفما\",\"كَأَنَّ\",\"كِخ\",\"لئن\",\"لا\",\"لات\",\"لاسيما\",\"لدن\",\"لدى\",\"لعمر\",\"لقاء\",\"لك\",\"لكم\",\"لكما\",\"لكن\",\"لكنَّما\",\"لكي\",\"لكيلا\",\"للامم\",\"لم\",\"لما\",\"لمّا\",\"لن\",\"لنا\",\"له\",\"لها\",\"لو\",\"لوكالة\",\"لولا\",\"لوما\",\"لي\",\"لَسْتَ\",\"لَسْتُ\",\"لَسْتُم\",\"لَسْتُمَا\",\"لَسْتُنَّ\",\"لَسْتِ\",\"لَسْنَ\",\"لَعَلَّ\",\"لَكِنَّ\",\"لَيْتَ\",\"لَيْسَ\",\"لَيْسَا\",\"لَيْسَتَا\",\"لَيْسَتْ\",\"لَيْسُوا\",\"لَِسْنَا\",\"ما\",\"ماانفك\",\"مابرح\",\"مادام\",\"ماذا\",\"مازال\",\"مافتئ\",\"مايو\",\"متى\",\"مثل\",\"مذ\",\"مساء\",\"مع\",\"معاذ\",\"مقابل\",\"مكانكم\",\"مكانكما\",\"مكانكنّ\",\"مكانَك\",\"مليار\",\"مليون\",\"مما\",\"ممن\",\"من\",\"منذ\",\"منها\",\"مه\",\"مهما\",\"مَنْ\",\"مِن\",\"نحن\",\"نحو\",\"نعم\",\"نفس\",\"نفسه\",\"نهاية\",\"نَخْ\",\"نِعِمّا\",\"نِعْمَ\",\"ها\",\"هاؤم\",\"هاكَ\",\"هاهنا\",\"هبّ\",\"هذا\",\"هذه\",\"هكذا\",\"هل\",\"هلمَّ\",\"هلّا\",\"هم\",\"هما\",\"هن\",\"هنا\",\"هناك\",\"هنالك\",\"هو\",\"هي\",\"هيا\",\"هيت\",\"هيّا\",\"هَؤلاء\",\"هَاتانِ\",\"هَاتَيْنِ\",\"هَاتِه\",\"هَاتِي\",\"هَجْ\",\"هَذا\",\"هَذانِ\",\"هَذَيْنِ\",\"هَذِه\",\"هَذِي\",\"هَيْهَاتَ\",\"و\",\"و6\",\"وا\",\"واحد\",\"واضاف\",\"واضافت\",\"واكد\",\"وان\",\"واهاً\",\"واوضح\",\"وراءَك\",\"وفي\",\"وقال\",\"وقالت\",\"وقد\",\"وقف\",\"وكان\",\"وكانت\",\"ولا\",\"ولم\",\"ومن\",\"مَن\",\"وهو\",\"وهي\",\"ويكأنّ\",\"وَيْ\",\"وُشْكَانََ\",\"يكون\",\"يمكن\",\"يوم\",\"ّأيّان\"}\n",
    "ArListem = ArabicLightStemmer()\n"
   ]
  },
  {
   "cell_type": "code",
   "execution_count": 15,
   "id": "0ed2bc26",
   "metadata": {
    "execution": {
     "iopub.execute_input": "2022-04-05T16:40:36.496242Z",
     "iopub.status.busy": "2022-04-05T16:40:36.495350Z",
     "iopub.status.idle": "2022-04-05T16:40:36.497801Z",
     "shell.execute_reply": "2022-04-05T16:40:36.497086Z",
     "shell.execute_reply.started": "2022-04-05T16:04:35.589380Z"
    },
    "papermill": {
     "duration": 0.086017,
     "end_time": "2022-04-05T16:40:36.497969",
     "exception": false,
     "start_time": "2022-04-05T16:40:36.411952",
     "status": "completed"
    },
    "tags": []
   },
   "outputs": [],
   "source": [
    "def stem(text):\n",
    "    zen = TextBlob(text)\n",
    "    words = zen.words\n",
    "    cleaned = list()\n",
    "    for w in words:\n",
    "        ArListem.light_stem(w)\n",
    "        cleaned.append(ArListem.get_root())\n",
    "    return \" \".join(cleaned)\n"
   ]
  },
  {
   "cell_type": "code",
   "execution_count": 16,
   "id": "2ad9ca6a",
   "metadata": {
    "execution": {
     "iopub.execute_input": "2022-04-05T16:40:36.732416Z",
     "iopub.status.busy": "2022-04-05T16:40:36.731577Z",
     "iopub.status.idle": "2022-04-05T16:40:36.735714Z",
     "shell.execute_reply": "2022-04-05T16:40:36.736369Z",
     "shell.execute_reply.started": "2022-04-05T16:04:35.597138Z"
    },
    "papermill": {
     "duration": 0.121508,
     "end_time": "2022-04-05T16:40:36.736563",
     "exception": false,
     "start_time": "2022-04-05T16:40:36.615055",
     "status": "completed"
    },
    "tags": []
   },
   "outputs": [],
   "source": [
    "def normalizeArabic(text):\n",
    "    text = re.sub(\"[إأٱآا]\", \"ا\", text)\n",
    "    text = re.sub(\"ى\", \"ي\", text)\n",
    "    text = re.sub(\"ؤ\", \"ء\", text)\n",
    "    text = re.sub(\"ئ\", \"ء\", text)\n",
    "    text = re.sub(\"ة\", \"ه\", text)\n",
    "    noise = re.compile(\"\"\" ّ    | # Tashdid\n",
    "                             َ    | # Fatha\n",
    "                             ً    | # Tanwin Fath\n",
    "                             ُ    | # Damma\n",
    "                             ٌ    | # Tanwin Damm\n",
    "                             ِ    | # Kasra\n",
    "                             ٍ    | # Tanwin Kasr\n",
    "                             ْ    | # Sukun\n",
    "                             ـ     # Tatwil/Kashida\n",
    "                         \"\"\", re.VERBOSE)\n",
    "    text = re.sub(noise, '', text)\n",
    "    text = re.sub(r'(.)\\1+', r\"\\1\\1\", text) # Remove longation\n",
    "    return araby.strip_tashkeel(text)"
   ]
  },
  {
   "cell_type": "code",
   "execution_count": 17,
   "id": "ab73cfd0",
   "metadata": {
    "execution": {
     "iopub.execute_input": "2022-04-05T16:40:36.961608Z",
     "iopub.status.busy": "2022-04-05T16:40:36.960735Z",
     "iopub.status.idle": "2022-04-05T16:40:36.962971Z",
     "shell.execute_reply": "2022-04-05T16:40:36.962310Z",
     "shell.execute_reply.started": "2022-04-05T16:04:35.608164Z"
    },
    "papermill": {
     "duration": 0.117845,
     "end_time": "2022-04-05T16:40:36.963143",
     "exception": false,
     "start_time": "2022-04-05T16:40:36.845298",
     "status": "completed"
    },
    "tags": []
   },
   "outputs": [],
   "source": [
    "def remove_stop_words(text):\n",
    "    zen = TextBlob(text)\n",
    "    words = zen.words\n",
    "    return \" \".join([w for w in words if not w in stops and not w in stop_word_comp and len(w) >= 2])"
   ]
  },
  {
   "cell_type": "code",
   "execution_count": 18,
   "id": "7deb31b6",
   "metadata": {
    "execution": {
     "iopub.execute_input": "2022-04-05T16:40:37.145787Z",
     "iopub.status.busy": "2022-04-05T16:40:37.144208Z",
     "iopub.status.idle": "2022-04-05T16:40:37.146401Z",
     "shell.execute_reply": "2022-04-05T16:40:37.146803Z",
     "shell.execute_reply.started": "2022-04-05T16:04:35.621174Z"
    },
    "papermill": {
     "duration": 0.075359,
     "end_time": "2022-04-05T16:40:37.146926",
     "exception": false,
     "start_time": "2022-04-05T16:40:37.071567",
     "status": "completed"
    },
    "tags": []
   },
   "outputs": [],
   "source": [
    "def remove_alphas(text):\n",
    "    # Removes any link in the text\n",
    "      text = re.sub('_', ' ', text)\n",
    "      text = re.sub('،', '', text)\n",
    "      text = re.sub('[A-Za-z0-9]','',text)\n",
    "      return text"
   ]
  },
  {
   "cell_type": "code",
   "execution_count": 19,
   "id": "a8f1916b",
   "metadata": {
    "execution": {
     "iopub.execute_input": "2022-04-05T16:40:37.283063Z",
     "iopub.status.busy": "2022-04-05T16:40:37.282215Z",
     "iopub.status.idle": "2022-04-05T16:40:37.285619Z",
     "shell.execute_reply": "2022-04-05T16:40:37.285131Z",
     "shell.execute_reply.started": "2022-04-05T16:04:35.631024Z"
    },
    "papermill": {
     "duration": 0.072856,
     "end_time": "2022-04-05T16:40:37.285725",
     "exception": false,
     "start_time": "2022-04-05T16:40:37.212869",
     "status": "completed"
    },
    "tags": []
   },
   "outputs": [],
   "source": [
    "def remove_html(text):\n",
    "    \"\"\"\n",
    "        Remove the html in sample text\n",
    "    \"\"\"\n",
    "    html = re.compile(r\"<.*?>|&([a-z0-9]+|#[0-9]{1,6}|#x[0-9a-f]{1,6});\")\n",
    "    return re.sub(html, \"\", text)"
   ]
  },
  {
   "cell_type": "code",
   "execution_count": 20,
   "id": "c1276d8b",
   "metadata": {
    "execution": {
     "iopub.execute_input": "2022-04-05T16:40:37.422048Z",
     "iopub.status.busy": "2022-04-05T16:40:37.421533Z",
     "iopub.status.idle": "2022-04-05T16:40:37.425143Z",
     "shell.execute_reply": "2022-04-05T16:40:37.424706Z",
     "shell.execute_reply.started": "2022-04-05T16:04:35.640948Z"
    },
    "papermill": {
     "duration": 0.073196,
     "end_time": "2022-04-05T16:40:37.425245",
     "exception": false,
     "start_time": "2022-04-05T16:40:37.352049",
     "status": "completed"
    },
    "tags": []
   },
   "outputs": [],
   "source": [
    "def remove_URL(text):\n",
    "    \"\"\"\n",
    "        Remove URLs from a sample string\n",
    "    \"\"\"\n",
    "    return re.sub(r\"https?://\\S+|www\\.\\S+\", \"\", text)"
   ]
  },
  {
   "cell_type": "code",
   "execution_count": 21,
   "id": "2326e076",
   "metadata": {
    "execution": {
     "iopub.execute_input": "2022-04-05T16:40:37.564463Z",
     "iopub.status.busy": "2022-04-05T16:40:37.563496Z",
     "iopub.status.idle": "2022-04-05T16:40:37.565381Z",
     "shell.execute_reply": "2022-04-05T16:40:37.565809Z",
     "shell.execute_reply.started": "2022-04-05T16:04:35.650254Z"
    },
    "papermill": {
     "duration": 0.074466,
     "end_time": "2022-04-05T16:40:37.565925",
     "exception": false,
     "start_time": "2022-04-05T16:40:37.491459",
     "status": "completed"
    },
    "tags": []
   },
   "outputs": [],
   "source": [
    "def remove_special_characters(text):\n",
    "    \"\"\"\n",
    "        Remove special special characters, including symbols, emojis, and other graphic characters\n",
    "    \"\"\"\n",
    "    emoji_pattern = re.compile(\n",
    "        '['\n",
    "        u'\\U0001F600-\\U0001F64F'  # emoticons\n",
    "        u'\\U0001F300-\\U0001F5FF'  # symbols & pictographs\n",
    "        u'\\U0001F680-\\U0001F6FF'  # transport & map symbols\n",
    "        u'\\U0001F1E0-\\U0001F1FF'  # flags (iOS)\n",
    "        u'\\U00002702-\\U000027B0'\n",
    "        u'\\U000024C2-\\U0001F251'\n",
    "        ']+',\n",
    "        flags=re.UNICODE)\n",
    "    return emoji_pattern.sub(r'', text)"
   ]
  },
  {
   "cell_type": "code",
   "execution_count": 22,
   "id": "67888069",
   "metadata": {
    "execution": {
     "iopub.execute_input": "2022-04-05T16:40:37.707019Z",
     "iopub.status.busy": "2022-04-05T16:40:37.702720Z",
     "iopub.status.idle": "2022-04-05T16:40:37.708923Z",
     "shell.execute_reply": "2022-04-05T16:40:37.709404Z",
     "shell.execute_reply.started": "2022-04-05T16:04:35.659886Z"
    },
    "papermill": {
     "duration": 0.077053,
     "end_time": "2022-04-05T16:40:37.709530",
     "exception": false,
     "start_time": "2022-04-05T16:40:37.632477",
     "status": "completed"
    },
    "tags": []
   },
   "outputs": [],
   "source": [
    "data=pd.concat([train,dev,test])"
   ]
  },
  {
   "cell_type": "code",
   "execution_count": 23,
   "id": "f1227127",
   "metadata": {
    "execution": {
     "iopub.execute_input": "2022-04-05T16:40:37.849228Z",
     "iopub.status.busy": "2022-04-05T16:40:37.847693Z",
     "iopub.status.idle": "2022-04-05T16:40:37.849848Z",
     "shell.execute_reply": "2022-04-05T16:40:37.850251Z",
     "shell.execute_reply.started": "2022-04-05T16:04:35.675983Z"
    },
    "papermill": {
     "duration": 0.074055,
     "end_time": "2022-04-05T16:40:37.850403",
     "exception": false,
     "start_time": "2022-04-05T16:40:37.776348",
     "status": "completed"
    },
    "tags": []
   },
   "outputs": [],
   "source": [
    "data['tweet_text'] = data['tweet_text'].astype(\"string\")"
   ]
  },
  {
   "cell_type": "code",
   "execution_count": 24,
   "id": "bb7b38aa",
   "metadata": {
    "execution": {
     "iopub.execute_input": "2022-04-05T16:40:37.991615Z",
     "iopub.status.busy": "2022-04-05T16:40:37.991066Z",
     "iopub.status.idle": "2022-04-05T16:40:37.995610Z",
     "shell.execute_reply": "2022-04-05T16:40:37.995172Z",
     "shell.execute_reply.started": "2022-04-05T16:04:35.690101Z"
    },
    "papermill": {
     "duration": 0.079268,
     "end_time": "2022-04-05T16:40:37.995720",
     "exception": false,
     "start_time": "2022-04-05T16:40:37.916452",
     "status": "completed"
    },
    "tags": []
   },
   "outputs": [
    {
     "name": "stdout",
     "output_type": "stream",
     "text": [
      "4    أعلن #الرئيس_الروسي #فلاديمير_بوتين، اليوم، أن...\n",
      "4    #روسيا #Russia تعلن الموافقة على اول لقاح لفير...\n",
      "4    فاوتشي يحذر من \"سلبية\" التعجيل باستخدام لقاح ل...\n",
      "Name: tweet_text, dtype: string\n",
      "1    غضب شعبي في قطر لتباطؤ الحكومة ضد فيروس كورونا...\n",
      "1    تصريح صادم من «الصحة العالمية»: لا يوجد لقاح ل...\n",
      "1    #الصين :اللقاح المضاد ل #فيروس_كورونا سيكون مت...\n",
      "Name: tweet_text, dtype: string\n"
     ]
    }
   ],
   "source": [
    "test3=data['tweet_text'][4]\n",
    "test4=data['tweet_text'][1]\n",
    "print(test3)\n",
    "print(test4)"
   ]
  },
  {
   "cell_type": "code",
   "execution_count": 25,
   "id": "c3e433b1",
   "metadata": {
    "execution": {
     "iopub.execute_input": "2022-04-05T16:40:38.133442Z",
     "iopub.status.busy": "2022-04-05T16:40:38.132542Z",
     "iopub.status.idle": "2022-04-05T16:40:38.135384Z",
     "shell.execute_reply": "2022-04-05T16:40:38.134948Z",
     "shell.execute_reply.started": "2022-04-05T16:04:35.702693Z"
    },
    "papermill": {
     "duration": 0.073162,
     "end_time": "2022-04-05T16:40:38.135488",
     "exception": false,
     "start_time": "2022-04-05T16:40:38.062326",
     "status": "completed"
    },
    "tags": []
   },
   "outputs": [],
   "source": [
    "#data['tweet_text'] = data['tweet_text'].apply(lambda x:remove_alphas(x))\n",
    "#data['tweet_text'] = data['tweet_text'].apply(lambda x:remove_stop_words(x))\n",
    "#data['tweet_text'] = data['tweet_text'].apply(lambda x:normalizeArabic(x))\n",
    "#data['tweet_text'] = data['tweet_text'].apply(lambda x:stem(x))"
   ]
  },
  {
   "cell_type": "code",
   "execution_count": 26,
   "id": "79857e70",
   "metadata": {
    "execution": {
     "iopub.execute_input": "2022-04-05T16:40:38.279091Z",
     "iopub.status.busy": "2022-04-05T16:40:38.278548Z",
     "iopub.status.idle": "2022-04-05T16:40:40.628908Z",
     "shell.execute_reply": "2022-04-05T16:40:40.628146Z",
     "shell.execute_reply.started": "2022-04-05T16:04:35.708547Z"
    },
    "papermill": {
     "duration": 2.425525,
     "end_time": "2022-04-05T16:40:40.629037",
     "exception": false,
     "start_time": "2022-04-05T16:40:38.203512",
     "status": "completed"
    },
    "tags": []
   },
   "outputs": [
    {
     "name": "stdout",
     "output_type": "stream",
     "text": [
      "Cloning into 'arabert'...\r\n",
      "remote: Enumerating objects: 564, done.\u001b[K\r\n",
      "remote: Counting objects: 100% (350/350), done.\u001b[K\r\n",
      "remote: Compressing objects: 100% (252/252), done.\u001b[K\r\n",
      "remote: Total 564 (delta 188), reused 247 (delta 92), pack-reused 214\u001b[K\r\n",
      "Receiving objects: 100% (564/564), 9.16 MiB | 16.31 MiB/s, done.\r\n",
      "Resolving deltas: 100% (311/311), done.\r\n"
     ]
    }
   ],
   "source": [
    "!git clone https://github.com/aub-mind/arabert\n"
   ]
  },
  {
   "cell_type": "code",
   "execution_count": 27,
   "id": "84353466",
   "metadata": {
    "execution": {
     "iopub.execute_input": "2022-04-05T16:40:40.777648Z",
     "iopub.status.busy": "2022-04-05T16:40:40.776834Z",
     "iopub.status.idle": "2022-04-05T16:40:40.784711Z",
     "shell.execute_reply": "2022-04-05T16:40:40.785187Z",
     "shell.execute_reply.started": "2022-04-05T16:04:39.442438Z"
    },
    "papermill": {
     "duration": 0.083971,
     "end_time": "2022-04-05T16:40:40.785345",
     "exception": false,
     "start_time": "2022-04-05T16:40:40.701374",
     "status": "completed"
    },
    "tags": []
   },
   "outputs": [],
   "source": [
    "from arabert.preprocess import ArabertPreprocessor\n",
    "\n",
    "model_name=\"aubmindlab/bert-base-arabertv01\"\n",
    "arabert_prep = ArabertPreprocessor(model_name=model_name)\n",
    "\n",
    "#data['tweet_text'] = data['tweet_text'].apply(lambda x:arabert_prep.preprocess(x))"
   ]
  },
  {
   "cell_type": "code",
   "execution_count": 28,
   "id": "36b8a85c",
   "metadata": {
    "execution": {
     "iopub.execute_input": "2022-04-05T16:40:40.930878Z",
     "iopub.status.busy": "2022-04-05T16:40:40.930090Z",
     "iopub.status.idle": "2022-04-05T16:40:40.936229Z",
     "shell.execute_reply": "2022-04-05T16:40:40.935777Z",
     "shell.execute_reply.started": "2022-04-05T16:04:39.466523Z"
    },
    "papermill": {
     "duration": 0.080113,
     "end_time": "2022-04-05T16:40:40.936364",
     "exception": false,
     "start_time": "2022-04-05T16:40:40.856251",
     "status": "completed"
    },
    "tags": []
   },
   "outputs": [
    {
     "name": "stdout",
     "output_type": "stream",
     "text": [
      "1    غضب شعبي في قطر لتباطؤ الحكومة ضد فيروس كورونا...\n",
      "1    تصريح صادم من «الصحة العالمية»: لا يوجد لقاح ل...\n",
      "1    #الصين :اللقاح المضاد ل #فيروس_كورونا سيكون مت...\n",
      "Name: tweet_text, dtype: string\n"
     ]
    }
   ],
   "source": [
    "test3=data['tweet_text'][4]\n",
    "test4=data['tweet_text'][1]\n",
    "print(test4)\n"
   ]
  },
  {
   "cell_type": "code",
   "execution_count": 29,
   "id": "fcabc840",
   "metadata": {
    "execution": {
     "iopub.execute_input": "2022-04-05T16:40:41.084856Z",
     "iopub.status.busy": "2022-04-05T16:40:41.084119Z",
     "iopub.status.idle": "2022-04-05T16:40:41.087471Z",
     "shell.execute_reply": "2022-04-05T16:40:41.086999Z",
     "shell.execute_reply.started": "2022-04-05T16:04:39.477023Z"
    },
    "papermill": {
     "duration": 0.079773,
     "end_time": "2022-04-05T16:40:41.087579",
     "exception": false,
     "start_time": "2022-04-05T16:40:41.007806",
     "status": "completed"
    },
    "tags": []
   },
   "outputs": [],
   "source": [
    "from sklearn.model_selection import train_test_split\n",
    "X = data.tweet_text.values\n",
    "y = data.class_label.values"
   ]
  },
  {
   "cell_type": "code",
   "execution_count": 30,
   "id": "714d5f97",
   "metadata": {
    "execution": {
     "iopub.execute_input": "2022-04-05T16:40:41.238539Z",
     "iopub.status.busy": "2022-04-05T16:40:41.236337Z",
     "iopub.status.idle": "2022-04-05T16:40:41.240898Z",
     "shell.execute_reply": "2022-04-05T16:40:41.240479Z",
     "shell.execute_reply.started": "2022-04-05T16:04:39.486091Z"
    },
    "papermill": {
     "duration": 0.0819,
     "end_time": "2022-04-05T16:40:41.240998",
     "exception": false,
     "start_time": "2022-04-05T16:40:41.159098",
     "status": "completed"
    },
    "tags": []
   },
   "outputs": [],
   "source": [
    "X_train, X_test, y_train, y_test = train_test_split(X,y, test_size=0.2,shuffle=True, random_state=42)\n",
    "X_train, X_val, y_train, y_val = train_test_split(X_train,y_train, test_size=0.1,shuffle=True, random_state=42)"
   ]
  },
  {
   "cell_type": "code",
   "execution_count": 31,
   "id": "1b770d6b",
   "metadata": {
    "execution": {
     "iopub.execute_input": "2022-04-05T16:40:41.387699Z",
     "iopub.status.busy": "2022-04-05T16:40:41.387014Z",
     "iopub.status.idle": "2022-04-05T16:40:44.042425Z",
     "shell.execute_reply": "2022-04-05T16:40:44.041481Z",
     "shell.execute_reply.started": "2022-04-05T16:04:39.503667Z"
    },
    "papermill": {
     "duration": 2.730365,
     "end_time": "2022-04-05T16:40:44.042580",
     "exception": false,
     "start_time": "2022-04-05T16:40:41.312215",
     "status": "completed"
    },
    "tags": []
   },
   "outputs": [],
   "source": [
    "#transformers\n",
    "from transformers import BertTokenizerFast\n",
    "from transformers import TFBertModel\n",
    "from transformers import RobertaTokenizerFast\n",
    "from transformers import TFRobertaModel"
   ]
  },
  {
   "cell_type": "code",
   "execution_count": 32,
   "id": "eb1ebb10",
   "metadata": {
    "execution": {
     "iopub.execute_input": "2022-04-05T16:40:44.194787Z",
     "iopub.status.busy": "2022-04-05T16:40:44.193838Z",
     "iopub.status.idle": "2022-04-05T16:40:54.814095Z",
     "shell.execute_reply": "2022-04-05T16:40:54.813623Z",
     "shell.execute_reply.started": "2022-04-05T16:04:42.179983Z"
    },
    "papermill": {
     "duration": 10.699668,
     "end_time": "2022-04-05T16:40:54.814257",
     "exception": false,
     "start_time": "2022-04-05T16:40:44.114589",
     "status": "completed"
    },
    "tags": []
   },
   "outputs": [
    {
     "data": {
      "application/vnd.jupyter.widget-view+json": {
       "model_id": "af9e6432edd348399760640f3144114d",
       "version_major": 2,
       "version_minor": 0
      },
      "text/plain": [
       "Downloading:   0%|          | 0.00/326k [00:00<?, ?B/s]"
      ]
     },
     "metadata": {},
     "output_type": "display_data"
    },
    {
     "data": {
      "application/vnd.jupyter.widget-view+json": {
       "model_id": "ccc3b94c42de43c79f9242181f07f2d4",
       "version_major": 2,
       "version_minor": 0
      },
      "text/plain": [
       "Downloading:   0%|          | 0.00/112 [00:00<?, ?B/s]"
      ]
     },
     "metadata": {},
     "output_type": "display_data"
    },
    {
     "data": {
      "application/vnd.jupyter.widget-view+json": {
       "model_id": "f3c6f545234144ca9f1fac3e36cc2901",
       "version_major": 2,
       "version_minor": 0
      },
      "text/plain": [
       "Downloading:   0%|          | 0.00/62.0 [00:00<?, ?B/s]"
      ]
     },
     "metadata": {},
     "output_type": "display_data"
    },
    {
     "data": {
      "application/vnd.jupyter.widget-view+json": {
       "model_id": "2ffa1c5edf6c45ba8cf961cc0e47e3d5",
       "version_major": 2,
       "version_minor": 0
      },
      "text/plain": [
       "Downloading:   0%|          | 0.00/491 [00:00<?, ?B/s]"
      ]
     },
     "metadata": {},
     "output_type": "display_data"
    },
    {
     "data": {
      "application/vnd.jupyter.widget-view+json": {
       "model_id": "22b4b953599a4b1d9272297bb397ad3e",
       "version_major": 2,
       "version_minor": 0
      },
      "text/plain": [
       "Downloading:   0%|          | 0.00/762k [00:00<?, ?B/s]"
      ]
     },
     "metadata": {},
     "output_type": "display_data"
    },
    {
     "data": {
      "application/vnd.jupyter.widget-view+json": {
       "model_id": "882e0ae27eae414b9875b0fa92b2fc49",
       "version_major": 2,
       "version_minor": 0
      },
      "text/plain": [
       "Downloading:   0%|          | 0.00/2.57M [00:00<?, ?B/s]"
      ]
     },
     "metadata": {},
     "output_type": "display_data"
    },
    {
     "data": {
      "application/vnd.jupyter.widget-view+json": {
       "model_id": "e01756dd84164ae685c075db09dd4041",
       "version_major": 2,
       "version_minor": 0
      },
      "text/plain": [
       "Downloading:   0%|          | 0.00/112 [00:00<?, ?B/s]"
      ]
     },
     "metadata": {},
     "output_type": "display_data"
    },
    {
     "data": {
      "application/vnd.jupyter.widget-view+json": {
       "model_id": "300b5c007bff4b41b1a952a4c7b7b7ed",
       "version_major": 2,
       "version_minor": 0
      },
      "text/plain": [
       "Downloading:   0%|          | 0.00/379 [00:00<?, ?B/s]"
      ]
     },
     "metadata": {},
     "output_type": "display_data"
    },
    {
     "data": {
      "application/vnd.jupyter.widget-view+json": {
       "model_id": "9e53b2644b1c42d8930481ceb773623e",
       "version_major": 2,
       "version_minor": 0
      },
      "text/plain": [
       "Downloading:   0%|          | 0.00/576 [00:00<?, ?B/s]"
      ]
     },
     "metadata": {},
     "output_type": "display_data"
    }
   ],
   "source": [
    "tokenizer = BertTokenizerFast.from_pretrained('asafaya/bert-base-arabic')\n",
    "tokenizer2 = BertTokenizerFast.from_pretrained('aubmindlab/bert-base-arabertv01')\n",
    "\n"
   ]
  },
  {
   "cell_type": "code",
   "execution_count": 33,
   "id": "cfb59dec",
   "metadata": {
    "execution": {
     "iopub.execute_input": "2022-04-05T16:40:54.974425Z",
     "iopub.status.busy": "2022-04-05T16:40:54.973564Z",
     "iopub.status.idle": "2022-04-05T16:40:55.863586Z",
     "shell.execute_reply": "2022-04-05T16:40:55.862784Z",
     "shell.execute_reply.started": "2022-04-05T16:05:10.825970Z"
    },
    "papermill": {
     "duration": 0.971044,
     "end_time": "2022-04-05T16:40:55.863745",
     "exception": false,
     "start_time": "2022-04-05T16:40:54.892701",
     "status": "completed"
    },
    "tags": []
   },
   "outputs": [],
   "source": [
    "token_lens_test = []\n",
    "\n",
    "for txt in data['tweet_text'].values:\n",
    "    tokens = tokenizer.encode(txt, max_length=512, truncation=True)\n",
    "    token_lens_test.append(len(tokens))\n",
    "    \n",
    "max_len=np.max(token_lens_test)"
   ]
  },
  {
   "cell_type": "code",
   "execution_count": null,
   "id": "f941d0df",
   "metadata": {
    "papermill": {
     "duration": 0.075435,
     "end_time": "2022-04-05T16:40:56.016213",
     "exception": false,
     "start_time": "2022-04-05T16:40:55.940778",
     "status": "completed"
    },
    "tags": []
   },
   "outputs": [],
   "source": []
  },
  {
   "cell_type": "code",
   "execution_count": 34,
   "id": "4046efb5",
   "metadata": {
    "execution": {
     "iopub.execute_input": "2022-04-05T16:40:56.171532Z",
     "iopub.status.busy": "2022-04-05T16:40:56.170811Z",
     "iopub.status.idle": "2022-04-05T16:40:56.174394Z",
     "shell.execute_reply": "2022-04-05T16:40:56.173826Z",
     "shell.execute_reply.started": "2022-04-05T16:05:11.862874Z"
    },
    "papermill": {
     "duration": 0.082864,
     "end_time": "2022-04-05T16:40:56.174521",
     "exception": false,
     "start_time": "2022-04-05T16:40:56.091657",
     "status": "completed"
    },
    "tags": []
   },
   "outputs": [
    {
     "name": "stdout",
     "output_type": "stream",
     "text": [
      "MAX TOKENIZED SENTENCE LENGTH: 173\n"
     ]
    }
   ],
   "source": [
    "print(f\"MAX TOKENIZED SENTENCE LENGTH: {max_len}\")\n"
   ]
  },
  {
   "cell_type": "code",
   "execution_count": 35,
   "id": "35f253b4",
   "metadata": {
    "execution": {
     "iopub.execute_input": "2022-04-05T16:40:56.330578Z",
     "iopub.status.busy": "2022-04-05T16:40:56.329803Z",
     "iopub.status.idle": "2022-04-05T16:40:56.332348Z",
     "shell.execute_reply": "2022-04-05T16:40:56.331803Z",
     "shell.execute_reply.started": "2022-04-05T16:05:11.870623Z"
    },
    "papermill": {
     "duration": 0.081774,
     "end_time": "2022-04-05T16:40:56.332464",
     "exception": false,
     "start_time": "2022-04-05T16:40:56.250690",
     "status": "completed"
    },
    "tags": []
   },
   "outputs": [],
   "source": [
    "MAX_LEN=175"
   ]
  },
  {
   "cell_type": "code",
   "execution_count": 36,
   "id": "c224ae52",
   "metadata": {
    "execution": {
     "iopub.execute_input": "2022-04-05T16:40:56.491627Z",
     "iopub.status.busy": "2022-04-05T16:40:56.490763Z",
     "iopub.status.idle": "2022-04-05T16:40:56.492576Z",
     "shell.execute_reply": "2022-04-05T16:40:56.493019Z",
     "shell.execute_reply.started": "2022-04-05T16:05:11.878551Z"
    },
    "papermill": {
     "duration": 0.084009,
     "end_time": "2022-04-05T16:40:56.493146",
     "exception": false,
     "start_time": "2022-04-05T16:40:56.409137",
     "status": "completed"
    },
    "tags": []
   },
   "outputs": [],
   "source": [
    "def tokenize(data,max_len=MAX_LEN) :\n",
    "    input_ids = []\n",
    "    attention_masks = []\n",
    "    for i in range(len(data)):\n",
    "        encoded = tokenizer.encode_plus(\n",
    "            data[i],\n",
    "            add_special_tokens=True,\n",
    "            max_length=MAX_LEN,\n",
    "            padding='max_length',\n",
    "            pad_to_max_length = True,\n",
    "            return_attention_mask=True,\n",
    "            truncation=True\n",
    "        )\n",
    "        input_ids.append(encoded['input_ids'])\n",
    "        attention_masks.append(encoded['attention_mask'])\n",
    "    return np.array(input_ids),np.array(attention_masks)"
   ]
  },
  {
   "cell_type": "code",
   "execution_count": 37,
   "id": "64946cdd",
   "metadata": {
    "execution": {
     "iopub.execute_input": "2022-04-05T16:40:56.651615Z",
     "iopub.status.busy": "2022-04-05T16:40:56.650944Z",
     "iopub.status.idle": "2022-04-05T16:40:56.653500Z",
     "shell.execute_reply": "2022-04-05T16:40:56.653075Z",
     "shell.execute_reply.started": "2022-04-05T16:05:11.888700Z"
    },
    "papermill": {
     "duration": 0.084094,
     "end_time": "2022-04-05T16:40:56.653620",
     "exception": false,
     "start_time": "2022-04-05T16:40:56.569526",
     "status": "completed"
    },
    "tags": []
   },
   "outputs": [],
   "source": [
    "def tokenize2(data,max_len=MAX_LEN) :\n",
    "    input_ids = []\n",
    "    attention_masks = []\n",
    "    for i in range(len(data)):\n",
    "        encoded = tokenizer2.encode_plus(\n",
    "            data[i],\n",
    "            add_special_tokens=True,\n",
    "            max_length=MAX_LEN,\n",
    "            padding='max_length',\n",
    "            pad_to_max_length = True,\n",
    "            return_attention_mask=True,\n",
    "            truncation=True\n",
    "        )\n",
    "        input_ids.append(encoded['input_ids'])\n",
    "        attention_masks.append(encoded['attention_mask'])\n",
    "    return np.array(input_ids),np.array(attention_masks)"
   ]
  },
  {
   "cell_type": "code",
   "execution_count": 38,
   "id": "e8bf0e20",
   "metadata": {
    "execution": {
     "iopub.execute_input": "2022-04-05T16:40:56.810463Z",
     "iopub.status.busy": "2022-04-05T16:40:56.809693Z",
     "iopub.status.idle": "2022-04-05T16:40:59.302019Z",
     "shell.execute_reply": "2022-04-05T16:40:59.301077Z",
     "shell.execute_reply.started": "2022-04-05T16:05:11.898375Z"
    },
    "papermill": {
     "duration": 2.572608,
     "end_time": "2022-04-05T16:40:59.302175",
     "exception": false,
     "start_time": "2022-04-05T16:40:56.729567",
     "status": "completed"
    },
    "tags": []
   },
   "outputs": [],
   "source": [
    "train_input_ids, train_attention_masks = tokenize(X_train, MAX_LEN)\n",
    "val_input_ids, val_attention_masks = tokenize(X_val, MAX_LEN)\n",
    "test_input_ids, test_attention_masks = tokenize(X_test, MAX_LEN)\n",
    "\n",
    "train_input_ids2, train_attention_masks2 = tokenize2(X_train, MAX_LEN)\n",
    "val_input_ids2, val_attention_masks2 = tokenize2(X_val, MAX_LEN)\n",
    "test_input_ids2, test_attention_masks2 = tokenize2(X_test, MAX_LEN)"
   ]
  },
  {
   "cell_type": "code",
   "execution_count": 39,
   "id": "5b52b683",
   "metadata": {
    "execution": {
     "iopub.execute_input": "2022-04-05T16:40:59.461904Z",
     "iopub.status.busy": "2022-04-05T16:40:59.461378Z",
     "iopub.status.idle": "2022-04-05T16:41:39.040643Z",
     "shell.execute_reply": "2022-04-05T16:41:39.039993Z",
     "shell.execute_reply.started": "2022-04-05T16:05:14.143104Z"
    },
    "papermill": {
     "duration": 39.662446,
     "end_time": "2022-04-05T16:41:39.040814",
     "exception": false,
     "start_time": "2022-04-05T16:40:59.378368",
     "status": "completed"
    },
    "tags": []
   },
   "outputs": [
    {
     "data": {
      "application/vnd.jupyter.widget-view+json": {
       "model_id": "68991d24e2064b179db93eee0923b7f1",
       "version_major": 2,
       "version_minor": 0
      },
      "text/plain": [
       "Downloading:   0%|          | 0.00/520M [00:00<?, ?B/s]"
      ]
     },
     "metadata": {},
     "output_type": "display_data"
    },
    {
     "name": "stderr",
     "output_type": "stream",
     "text": [
      "2022-04-05 16:41:13.686950: I tensorflow/stream_executor/cuda/cuda_gpu_executor.cc:937] successful NUMA node read from SysFS had negative value (-1), but there must be at least one NUMA node, so returning NUMA node zero\n",
      "2022-04-05 16:41:13.688050: I tensorflow/stream_executor/cuda/cuda_gpu_executor.cc:937] successful NUMA node read from SysFS had negative value (-1), but there must be at least one NUMA node, so returning NUMA node zero\n",
      "2022-04-05 16:41:13.688750: I tensorflow/stream_executor/cuda/cuda_gpu_executor.cc:937] successful NUMA node read from SysFS had negative value (-1), but there must be at least one NUMA node, so returning NUMA node zero\n",
      "2022-04-05 16:41:13.689648: I tensorflow/core/platform/cpu_feature_guard.cc:142] This TensorFlow binary is optimized with oneAPI Deep Neural Network Library (oneDNN) to use the following CPU instructions in performance-critical operations:  AVX2 AVX512F FMA\n",
      "To enable them in other operations, rebuild TensorFlow with the appropriate compiler flags.\n",
      "2022-04-05 16:41:13.690393: I tensorflow/stream_executor/cuda/cuda_gpu_executor.cc:937] successful NUMA node read from SysFS had negative value (-1), but there must be at least one NUMA node, so returning NUMA node zero\n",
      "2022-04-05 16:41:13.691059: I tensorflow/stream_executor/cuda/cuda_gpu_executor.cc:937] successful NUMA node read from SysFS had negative value (-1), but there must be at least one NUMA node, so returning NUMA node zero\n",
      "2022-04-05 16:41:13.691710: I tensorflow/stream_executor/cuda/cuda_gpu_executor.cc:937] successful NUMA node read from SysFS had negative value (-1), but there must be at least one NUMA node, so returning NUMA node zero\n",
      "2022-04-05 16:41:18.272613: I tensorflow/stream_executor/cuda/cuda_gpu_executor.cc:937] successful NUMA node read from SysFS had negative value (-1), but there must be at least one NUMA node, so returning NUMA node zero\n",
      "2022-04-05 16:41:18.273411: I tensorflow/stream_executor/cuda/cuda_gpu_executor.cc:937] successful NUMA node read from SysFS had negative value (-1), but there must be at least one NUMA node, so returning NUMA node zero\n",
      "2022-04-05 16:41:18.274048: I tensorflow/stream_executor/cuda/cuda_gpu_executor.cc:937] successful NUMA node read from SysFS had negative value (-1), but there must be at least one NUMA node, so returning NUMA node zero\n",
      "2022-04-05 16:41:18.274623: I tensorflow/core/common_runtime/gpu/gpu_device.cc:1510] Created device /job:localhost/replica:0/task:0/device:GPU:0 with 14959 MB memory:  -> device: 0, name: Tesla P100-PCIE-16GB, pci bus id: 0000:00:04.0, compute capability: 6.0\n",
      "Some layers from the model checkpoint at asafaya/bert-base-arabic were not used when initializing TFBertModel: ['mlm___cls']\n",
      "- This IS expected if you are initializing TFBertModel from the checkpoint of a model trained on another task or with another architecture (e.g. initializing a BertForSequenceClassification model from a BertForPreTraining model).\n",
      "- This IS NOT expected if you are initializing TFBertModel from the checkpoint of a model that you expect to be exactly identical (initializing a BertForSequenceClassification model from a BertForSequenceClassification model).\n",
      "All the layers of TFBertModel were initialized from the model checkpoint at asafaya/bert-base-arabic.\n",
      "If your task is similar to the task the model of the checkpoint was trained on, you can already use TFBertModel for predictions without further training.\n"
     ]
    },
    {
     "data": {
      "application/vnd.jupyter.widget-view+json": {
       "model_id": "e2e6138aa8944fc6895a1f37051171a1",
       "version_major": 2,
       "version_minor": 0
      },
      "text/plain": [
       "Downloading:   0%|          | 0.00/708M [00:00<?, ?B/s]"
      ]
     },
     "metadata": {},
     "output_type": "display_data"
    },
    {
     "name": "stderr",
     "output_type": "stream",
     "text": [
      "Some layers from the model checkpoint at aubmindlab/bert-base-arabertv01 were not used when initializing TFBertModel: ['mlm___cls', 'nsp___cls']\n",
      "- This IS expected if you are initializing TFBertModel from the checkpoint of a model trained on another task or with another architecture (e.g. initializing a BertForSequenceClassification model from a BertForPreTraining model).\n",
      "- This IS NOT expected if you are initializing TFBertModel from the checkpoint of a model that you expect to be exactly identical (initializing a BertForSequenceClassification model from a BertForSequenceClassification model).\n",
      "All the layers of TFBertModel were initialized from the model checkpoint at aubmindlab/bert-base-arabertv01.\n",
      "If your task is similar to the task the model of the checkpoint was trained on, you can already use TFBertModel for predictions without further training.\n"
     ]
    }
   ],
   "source": [
    "bert_model = TFBertModel.from_pretrained('asafaya/bert-base-arabic')\n",
    "bert_model2 = TFBertModel.from_pretrained('aubmindlab/bert-base-arabertv01')\n"
   ]
  },
  {
   "cell_type": "code",
   "execution_count": 40,
   "id": "29682bd9",
   "metadata": {
    "execution": {
     "iopub.execute_input": "2022-04-05T16:41:39.215455Z",
     "iopub.status.busy": "2022-04-05T16:41:39.214628Z",
     "iopub.status.idle": "2022-04-05T16:41:39.217794Z",
     "shell.execute_reply": "2022-04-05T16:41:39.217275Z",
     "shell.execute_reply.started": "2022-04-05T16:06:44.909454Z"
    },
    "papermill": {
     "duration": 0.094258,
     "end_time": "2022-04-05T16:41:39.217926",
     "exception": false,
     "start_time": "2022-04-05T16:41:39.123668",
     "status": "completed"
    },
    "tags": []
   },
   "outputs": [],
   "source": [
    "def create_model(bert_model,learning,max_len=MAX_LEN):\n",
    "    \n",
    "    ##params###\n",
    "    opt = tf.keras.optimizers.Adam(learning_rate=learning)\n",
    "    loss = 'binary_crossentropy'\n",
    "    input_ids = tf.keras.Input(shape=(max_len,),dtype='int32')\n",
    "    attention_masks = tf.keras.Input(shape=(max_len,),dtype='int32')\n",
    "    embeddings = bert_model([input_ids,attention_masks])[1]\n",
    "    x=tf.keras.layers.Dense(10, activation=\"relu\")(embeddings)\n",
    "    x=tf.keras.layers.Dropout(0.1)(x)\n",
    "    output = tf.keras.layers.Dense(1, activation=\"sigmoid\")(x)\n",
    "    model = tf.keras.models.Model(inputs = [input_ids,attention_masks], outputs = output)\n",
    "    model.compile(opt, loss=loss, metrics=['accuracy'])\n",
    "    return model"
   ]
  },
  {
   "cell_type": "code",
   "execution_count": 41,
   "id": "cacbd557",
   "metadata": {
    "execution": {
     "iopub.execute_input": "2022-04-05T16:41:39.388622Z",
     "iopub.status.busy": "2022-04-05T16:41:39.387873Z",
     "iopub.status.idle": "2022-04-05T16:41:46.464800Z",
     "shell.execute_reply": "2022-04-05T16:41:46.465482Z",
     "shell.execute_reply.started": "2022-04-05T16:06:44.920113Z"
    },
    "papermill": {
     "duration": 7.164387,
     "end_time": "2022-04-05T16:41:46.465645",
     "exception": false,
     "start_time": "2022-04-05T16:41:39.301258",
     "status": "completed"
    },
    "tags": []
   },
   "outputs": [
    {
     "name": "stdout",
     "output_type": "stream",
     "text": [
      "Model: \"model\"\n",
      "__________________________________________________________________________________________________\n",
      "Layer (type)                    Output Shape         Param #     Connected to                     \n",
      "==================================================================================================\n",
      "input_1 (InputLayer)            [(None, 175)]        0                                            \n",
      "__________________________________________________________________________________________________\n",
      "input_2 (InputLayer)            [(None, 175)]        0                                            \n",
      "__________________________________________________________________________________________________\n",
      "tf_bert_model (TFBertModel)     TFBaseModelOutputWit 110617344   input_1[0][0]                    \n",
      "                                                                 input_2[0][0]                    \n",
      "__________________________________________________________________________________________________\n",
      "dense (Dense)                   (None, 10)           7690        tf_bert_model[0][1]              \n",
      "__________________________________________________________________________________________________\n",
      "dropout_74 (Dropout)            (None, 10)           0           dense[0][0]                      \n",
      "__________________________________________________________________________________________________\n",
      "dense_1 (Dense)                 (None, 1)            11          dropout_74[0][0]                 \n",
      "==================================================================================================\n",
      "Total params: 110,625,045\n",
      "Trainable params: 110,625,045\n",
      "Non-trainable params: 0\n",
      "__________________________________________________________________________________________________\n"
     ]
    }
   ],
   "source": [
    "model = create_model(bert_model,2e-5,MAX_LEN)\n",
    "model.summary()"
   ]
  },
  {
   "cell_type": "code",
   "execution_count": 42,
   "id": "5ea11f74",
   "metadata": {
    "execution": {
     "iopub.execute_input": "2022-04-05T16:41:46.634416Z",
     "iopub.status.busy": "2022-04-05T16:41:46.633823Z",
     "iopub.status.idle": "2022-04-05T16:41:48.280635Z",
     "shell.execute_reply": "2022-04-05T16:41:48.281356Z",
     "shell.execute_reply.started": "2022-04-05T16:06:51.359561Z"
    },
    "papermill": {
     "duration": 1.736126,
     "end_time": "2022-04-05T16:41:48.281516",
     "exception": false,
     "start_time": "2022-04-05T16:41:46.545390",
     "status": "completed"
    },
    "tags": []
   },
   "outputs": [
    {
     "name": "stdout",
     "output_type": "stream",
     "text": [
      "Model: \"model_1\"\n",
      "__________________________________________________________________________________________________\n",
      "Layer (type)                    Output Shape         Param #     Connected to                     \n",
      "==================================================================================================\n",
      "input_3 (InputLayer)            [(None, 175)]        0                                            \n",
      "__________________________________________________________________________________________________\n",
      "input_4 (InputLayer)            [(None, 175)]        0                                            \n",
      "__________________________________________________________________________________________________\n",
      "tf_bert_model_1 (TFBertModel)   TFBaseModelOutputWit 135193344   input_3[0][0]                    \n",
      "                                                                 input_4[0][0]                    \n",
      "__________________________________________________________________________________________________\n",
      "dense_2 (Dense)                 (None, 10)           7690        tf_bert_model_1[0][1]            \n",
      "__________________________________________________________________________________________________\n",
      "dropout_75 (Dropout)            (None, 10)           0           dense_2[0][0]                    \n",
      "__________________________________________________________________________________________________\n",
      "dense_3 (Dense)                 (None, 1)            11          dropout_75[0][0]                 \n",
      "==================================================================================================\n",
      "Total params: 135,201,045\n",
      "Trainable params: 135,201,045\n",
      "Non-trainable params: 0\n",
      "__________________________________________________________________________________________________\n"
     ]
    }
   ],
   "source": [
    "model2 = create_model(bert_model2,2e-5,MAX_LEN)\n",
    "model2.summary()"
   ]
  },
  {
   "cell_type": "code",
   "execution_count": 43,
   "id": "f355d4a7",
   "metadata": {
    "execution": {
     "iopub.execute_input": "2022-04-05T16:41:48.450200Z",
     "iopub.status.busy": "2022-04-05T16:41:48.449592Z",
     "iopub.status.idle": "2022-04-05T16:41:49.105356Z",
     "shell.execute_reply": "2022-04-05T16:41:49.106124Z",
     "shell.execute_reply.started": "2022-04-05T16:06:53.016627Z"
    },
    "papermill": {
     "duration": 0.744662,
     "end_time": "2022-04-05T16:41:49.106313",
     "exception": false,
     "start_time": "2022-04-05T16:41:48.361651",
     "status": "completed"
    },
    "tags": []
   },
   "outputs": [
    {
     "name": "stderr",
     "output_type": "stream",
     "text": [
      "2022-04-05 16:41:48.452382: I tensorflow/core/profiler/lib/profiler_session.cc:131] Profiler session initializing.\n",
      "2022-04-05 16:41:48.452422: I tensorflow/core/profiler/lib/profiler_session.cc:146] Profiler session started.\n",
      "2022-04-05 16:41:48.454556: I tensorflow/core/profiler/internal/gpu/cupti_tracer.cc:1614] Profiler found 1 GPUs\n",
      "2022-04-05 16:41:48.959171: I tensorflow/core/profiler/lib/profiler_session.cc:164] Profiler session tear down.\n",
      "2022-04-05 16:41:48.959370: I tensorflow/core/profiler/internal/gpu/cupti_tracer.cc:1748] CUPTI activity buffer flushed\n"
     ]
    }
   ],
   "source": [
    "from tensorflow.keras.callbacks import ReduceLROnPlateau, TensorBoard\n",
    "\n",
    "tensorboard = TensorBoard(log_dir = 'logs')\n",
    "reduce_lr = ReduceLROnPlateau(monitor = 'val_accuracy', mode='auto',verbose=1)"
   ]
  },
  {
   "cell_type": "code",
   "execution_count": 44,
   "id": "9741055c",
   "metadata": {
    "execution": {
     "iopub.execute_input": "2022-04-05T16:41:49.274421Z",
     "iopub.status.busy": "2022-04-05T16:41:49.273645Z",
     "iopub.status.idle": "2022-04-05T16:51:24.798906Z",
     "shell.execute_reply": "2022-04-05T16:51:24.798399Z",
     "shell.execute_reply.started": "2022-04-05T16:06:53.644744Z"
    },
    "papermill": {
     "duration": 575.61188,
     "end_time": "2022-04-05T16:51:24.799067",
     "exception": false,
     "start_time": "2022-04-05T16:41:49.187187",
     "status": "completed"
    },
    "tags": []
   },
   "outputs": [
    {
     "name": "stderr",
     "output_type": "stream",
     "text": [
      "2022-04-05 16:41:49.355504: I tensorflow/compiler/mlir/mlir_graph_optimization_pass.cc:185] None of the MLIR Optimization Passes are enabled (registered 2)\n"
     ]
    },
    {
     "name": "stdout",
     "output_type": "stream",
     "text": [
      "Epoch 1/10\n",
      " 1/78 [..............................] - ETA: 18:27 - loss: 0.7124 - accuracy: 0.5625"
     ]
    },
    {
     "name": "stderr",
     "output_type": "stream",
     "text": [
      "2022-04-05 16:42:04.176531: I tensorflow/core/profiler/lib/profiler_session.cc:131] Profiler session initializing.\n",
      "2022-04-05 16:42:04.176590: I tensorflow/core/profiler/lib/profiler_session.cc:146] Profiler session started.\n"
     ]
    },
    {
     "name": "stdout",
     "output_type": "stream",
     "text": [
      " 2/78 [..............................] - ETA: 1:49 - loss: 0.6948 - accuracy: 0.5156 "
     ]
    },
    {
     "name": "stderr",
     "output_type": "stream",
     "text": [
      "2022-04-05 16:42:05.222831: I tensorflow/core/profiler/lib/profiler_session.cc:66] Profiler session collecting data.\n",
      "2022-04-05 16:42:05.226637: I tensorflow/core/profiler/internal/gpu/cupti_tracer.cc:1748] CUPTI activity buffer flushed\n",
      "2022-04-05 16:42:05.400223: I tensorflow/core/profiler/internal/gpu/cupti_collector.cc:673]  GpuTracer has collected 2896 callback api events and 2893 activity events. \n",
      "2022-04-05 16:42:05.473413: I tensorflow/core/profiler/lib/profiler_session.cc:164] Profiler session tear down.\n"
     ]
    },
    {
     "name": "stdout",
     "output_type": "stream",
     "text": [
      "78/78 [==============================] - 70s 724ms/step - loss: 0.6633 - accuracy: 0.6093 - val_loss: 0.6516 - val_accuracy: 0.5942\n",
      "Epoch 2/10\n",
      "78/78 [==============================] - 52s 668ms/step - loss: 0.6316 - accuracy: 0.6493 - val_loss: 0.6568 - val_accuracy: 0.6413\n",
      "Epoch 3/10\n",
      "78/78 [==============================] - 53s 674ms/step - loss: 0.5756 - accuracy: 0.6933 - val_loss: 0.6493 - val_accuracy: 0.6341\n",
      "Epoch 4/10\n",
      "78/78 [==============================] - 53s 677ms/step - loss: 0.4596 - accuracy: 0.7887 - val_loss: 0.6382 - val_accuracy: 0.6667\n",
      "Epoch 5/10\n",
      "78/78 [==============================] - 53s 675ms/step - loss: 0.3066 - accuracy: 0.8776 - val_loss: 0.7594 - val_accuracy: 0.6920\n",
      "Epoch 6/10\n",
      "78/78 [==============================] - 53s 675ms/step - loss: 0.1910 - accuracy: 0.9325 - val_loss: 0.9638 - val_accuracy: 0.6775\n",
      "Epoch 7/10\n",
      "78/78 [==============================] - 53s 677ms/step - loss: 0.1387 - accuracy: 0.9535 - val_loss: 1.0995 - val_accuracy: 0.6739\n",
      "Epoch 8/10\n",
      "78/78 [==============================] - 53s 676ms/step - loss: 0.0861 - accuracy: 0.9733 - val_loss: 1.0945 - val_accuracy: 0.6848\n",
      "Epoch 9/10\n",
      "78/78 [==============================] - 53s 677ms/step - loss: 0.0673 - accuracy: 0.9766 - val_loss: 1.6013 - val_accuracy: 0.6341\n",
      "Epoch 10/10\n",
      "78/78 [==============================] - 53s 675ms/step - loss: 0.0817 - accuracy: 0.9709 - val_loss: 1.4990 - val_accuracy: 0.6703\n"
     ]
    }
   ],
   "source": [
    "history_bert = model.fit([train_input_ids,train_attention_masks], y_train, validation_data=([val_input_ids,val_attention_masks], y_val), epochs=10, batch_size=32,callbacks=[tensorboard,reduce_lr])"
   ]
  },
  {
   "cell_type": "code",
   "execution_count": 45,
   "id": "8627972f",
   "metadata": {
    "execution": {
     "iopub.execute_input": "2022-04-05T16:51:25.478401Z",
     "iopub.status.busy": "2022-04-05T16:51:25.471331Z",
     "iopub.status.idle": "2022-04-05T16:51:32.776230Z",
     "shell.execute_reply": "2022-04-05T16:51:32.776800Z",
     "shell.execute_reply.started": "2022-04-05T16:16:30.128429Z"
    },
    "papermill": {
     "duration": 7.642571,
     "end_time": "2022-04-05T16:51:32.776990",
     "exception": false,
     "start_time": "2022-04-05T16:51:25.134419",
     "status": "completed"
    },
    "tags": []
   },
   "outputs": [],
   "source": [
    "result_bert = model.predict([test_input_ids,test_attention_masks])\n"
   ]
  },
  {
   "cell_type": "code",
   "execution_count": 46,
   "id": "45e62fda",
   "metadata": {
    "execution": {
     "iopub.execute_input": "2022-04-05T16:51:33.450779Z",
     "iopub.status.busy": "2022-04-05T16:51:33.449659Z",
     "iopub.status.idle": "2022-04-05T17:00:41.654884Z",
     "shell.execute_reply": "2022-04-05T17:00:41.655400Z",
     "shell.execute_reply.started": "2022-04-05T16:16:37.363124Z"
    },
    "papermill": {
     "duration": 548.544442,
     "end_time": "2022-04-05T17:00:41.655580",
     "exception": false,
     "start_time": "2022-04-05T16:51:33.111138",
     "status": "completed"
    },
    "tags": []
   },
   "outputs": [
    {
     "name": "stdout",
     "output_type": "stream",
     "text": [
      "Epoch 1/10\n",
      " 1/78 [..............................] - ETA: 18:48 - loss: 0.6874 - accuracy: 0.5938"
     ]
    },
    {
     "name": "stderr",
     "output_type": "stream",
     "text": [
      "2022-04-05 16:51:48.510966: I tensorflow/core/profiler/lib/profiler_session.cc:131] Profiler session initializing.\n",
      "2022-04-05 16:51:48.511022: I tensorflow/core/profiler/lib/profiler_session.cc:146] Profiler session started.\n"
     ]
    },
    {
     "name": "stdout",
     "output_type": "stream",
     "text": [
      " 2/78 [..............................] - ETA: 1:47 - loss: 0.6514 - accuracy: 0.6406 "
     ]
    },
    {
     "name": "stderr",
     "output_type": "stream",
     "text": [
      "2022-04-05 16:51:50.714016: I tensorflow/core/profiler/lib/profiler_session.cc:66] Profiler session collecting data.\n",
      "2022-04-05 16:51:50.721586: I tensorflow/core/profiler/internal/gpu/cupti_tracer.cc:1748] CUPTI activity buffer flushed\n",
      "2022-04-05 16:51:50.894609: I tensorflow/core/profiler/internal/gpu/cupti_collector.cc:673]  GpuTracer has collected 2896 callback api events and 2893 activity events. \n",
      "2022-04-05 16:51:50.981885: I tensorflow/core/profiler/lib/profiler_session.cc:164] Profiler session tear down.\n"
     ]
    },
    {
     "name": "stdout",
     "output_type": "stream",
     "text": [
      "78/78 [==============================] - 72s 749ms/step - loss: 0.6786 - accuracy: 0.6012 - val_loss: 0.6542 - val_accuracy: 0.5906\n",
      "Epoch 2/10\n",
      "78/78 [==============================] - 53s 674ms/step - loss: 0.6371 - accuracy: 0.6384 - val_loss: 0.6660 - val_accuracy: 0.6087\n",
      "Epoch 3/10\n",
      "78/78 [==============================] - 53s 681ms/step - loss: 0.5536 - accuracy: 0.7123 - val_loss: 0.6198 - val_accuracy: 0.6486\n",
      "Epoch 4/10\n",
      "78/78 [==============================] - 53s 681ms/step - loss: 0.4432 - accuracy: 0.7798 - val_loss: 0.6622 - val_accuracy: 0.6667\n",
      "Epoch 5/10\n",
      "78/78 [==============================] - 53s 681ms/step - loss: 0.3379 - accuracy: 0.8610 - val_loss: 0.7966 - val_accuracy: 0.6667\n",
      "Epoch 6/10\n",
      "78/78 [==============================] - 53s 681ms/step - loss: 0.1943 - accuracy: 0.9269 - val_loss: 0.9053 - val_accuracy: 0.6703\n",
      "Epoch 7/10\n",
      "78/78 [==============================] - 53s 674ms/step - loss: 0.1650 - accuracy: 0.9358 - val_loss: 1.0717 - val_accuracy: 0.6739\n",
      "Epoch 8/10\n",
      "78/78 [==============================] - 53s 682ms/step - loss: 0.1105 - accuracy: 0.9653 - val_loss: 1.0242 - val_accuracy: 0.6558\n",
      "Epoch 9/10\n",
      "78/78 [==============================] - 53s 674ms/step - loss: 0.0871 - accuracy: 0.9701 - val_loss: 1.1337 - val_accuracy: 0.6739\n",
      "Epoch 10/10\n",
      "78/78 [==============================] - 53s 674ms/step - loss: 0.0842 - accuracy: 0.9713 - val_loss: 1.2031 - val_accuracy: 0.6449\n"
     ]
    }
   ],
   "source": [
    "history_bert2 = model2.fit([train_input_ids2,train_attention_masks2], y_train, validation_data=([val_input_ids2,val_attention_masks2], y_val), epochs=10, batch_size=32,callbacks=[tensorboard,reduce_lr])"
   ]
  },
  {
   "cell_type": "code",
   "execution_count": 47,
   "id": "9f9802dd",
   "metadata": {
    "execution": {
     "iopub.execute_input": "2022-04-05T17:00:42.839698Z",
     "iopub.status.busy": "2022-04-05T17:00:42.839103Z",
     "iopub.status.idle": "2022-04-05T17:00:50.592724Z",
     "shell.execute_reply": "2022-04-05T17:00:50.592164Z",
     "shell.execute_reply.started": "2022-04-05T16:26:12.950353Z"
    },
    "papermill": {
     "duration": 8.346122,
     "end_time": "2022-04-05T17:00:50.592863",
     "exception": false,
     "start_time": "2022-04-05T17:00:42.246741",
     "status": "completed"
    },
    "tags": []
   },
   "outputs": [],
   "source": [
    "result_bert2 = model2.predict([test_input_ids2,test_attention_masks2])\n"
   ]
  },
  {
   "cell_type": "code",
   "execution_count": 48,
   "id": "c3a3c80a",
   "metadata": {
    "execution": {
     "iopub.execute_input": "2022-04-05T17:00:51.799397Z",
     "iopub.status.busy": "2022-04-05T17:00:51.797663Z",
     "iopub.status.idle": "2022-04-05T17:00:51.801621Z",
     "shell.execute_reply": "2022-04-05T17:00:51.801144Z",
     "shell.execute_reply.started": "2022-04-05T16:33:50.434258Z"
    },
    "papermill": {
     "duration": 0.621757,
     "end_time": "2022-04-05T17:00:51.801739",
     "exception": false,
     "start_time": "2022-04-05T17:00:51.179982",
     "status": "completed"
    },
    "tags": []
   },
   "outputs": [
    {
     "name": "stdout",
     "output_type": "stream",
     "text": [
      "[0.00145415]\n"
     ]
    }
   ],
   "source": [
    "print(result_bert[1]*0.7+result_bert2[1]*0.3)"
   ]
  },
  {
   "cell_type": "code",
   "execution_count": 49,
   "id": "18a0743b",
   "metadata": {
    "execution": {
     "iopub.execute_input": "2022-04-05T17:00:52.976769Z",
     "iopub.status.busy": "2022-04-05T17:00:52.974999Z",
     "iopub.status.idle": "2022-04-05T17:00:52.977410Z",
     "shell.execute_reply": "2022-04-05T17:00:52.977813Z",
     "shell.execute_reply.started": "2022-04-05T16:39:13.263168Z"
    },
    "papermill": {
     "duration": 0.590716,
     "end_time": "2022-04-05T17:00:52.977945",
     "exception": false,
     "start_time": "2022-04-05T17:00:52.387229",
     "status": "completed"
    },
    "tags": []
   },
   "outputs": [],
   "source": [
    "resultat=[]\n",
    "for i in range(len(result_bert)):\n",
    "    resultat.append(result_bert[i]*0.5+result_bert2[i]*0.5)"
   ]
  },
  {
   "cell_type": "code",
   "execution_count": 50,
   "id": "05315f73",
   "metadata": {
    "execution": {
     "iopub.execute_input": "2022-04-05T17:00:54.149289Z",
     "iopub.status.busy": "2022-04-05T17:00:54.148593Z",
     "iopub.status.idle": "2022-04-05T17:00:54.151289Z",
     "shell.execute_reply": "2022-04-05T17:00:54.151717Z",
     "shell.execute_reply.started": "2022-04-05T16:39:14.946151Z"
    },
    "papermill": {
     "duration": 0.588803,
     "end_time": "2022-04-05T17:00:54.151850",
     "exception": false,
     "start_time": "2022-04-05T17:00:53.563047",
     "status": "completed"
    },
    "tags": []
   },
   "outputs": [
    {
     "name": "stdout",
     "output_type": "stream",
     "text": [
      "[0.998584]\n"
     ]
    }
   ],
   "source": [
    "print(resultat[3])"
   ]
  },
  {
   "cell_type": "code",
   "execution_count": 51,
   "id": "b36d45c4",
   "metadata": {
    "execution": {
     "iopub.execute_input": "2022-04-05T17:00:55.330906Z",
     "iopub.status.busy": "2022-04-05T17:00:55.330063Z",
     "iopub.status.idle": "2022-04-05T17:00:55.332532Z",
     "shell.execute_reply": "2022-04-05T17:00:55.332063Z",
     "shell.execute_reply.started": "2022-04-05T16:39:16.748908Z"
    },
    "papermill": {
     "duration": 0.597818,
     "end_time": "2022-04-05T17:00:55.332654",
     "exception": false,
     "start_time": "2022-04-05T17:00:54.734836",
     "status": "completed"
    },
    "tags": []
   },
   "outputs": [],
   "source": [
    "y_predicted=[]\n",
    "for i in range(len(resultat)):\n",
    "    if resultat[i]>0.5:\n",
    "        y_predicted.append(1)\n",
    "    else:\n",
    "        y_predicted.append(0)"
   ]
  },
  {
   "cell_type": "code",
   "execution_count": 52,
   "id": "553ed880",
   "metadata": {
    "execution": {
     "iopub.execute_input": "2022-04-05T17:00:56.514674Z",
     "iopub.status.busy": "2022-04-05T17:00:56.512792Z",
     "iopub.status.idle": "2022-04-05T17:00:56.517315Z",
     "shell.execute_reply": "2022-04-05T17:00:56.516779Z",
     "shell.execute_reply.started": "2022-04-05T16:39:18.822041Z"
    },
    "papermill": {
     "duration": 0.596629,
     "end_time": "2022-04-05T17:00:56.517440",
     "exception": false,
     "start_time": "2022-04-05T17:00:55.920811",
     "status": "completed"
    },
    "tags": []
   },
   "outputs": [
    {
     "name": "stdout",
     "output_type": "stream",
     "text": [
      "[0, 0, 0, 1, 1, 1, 0, 0, 1, 1, 0, 0, 0, 0, 0, 0, 1, 0, 1, 1, 0, 0, 0, 0, 1, 0, 0, 1, 1, 1, 0, 0, 1, 0, 1, 0, 0, 0, 0, 0, 0, 0, 0, 0, 0, 0, 0, 0, 0, 1, 0, 0, 1, 0, 0, 1, 0, 0, 1, 0, 1, 0, 1, 0, 0, 1, 0, 0, 1, 1, 0, 0, 0, 0, 0, 0, 0, 0, 0, 0, 1, 1, 0, 0, 0, 1, 0, 0, 0, 0, 0, 0, 1, 1, 1, 1, 0, 0, 1, 1, 0, 0, 1, 0, 1, 0, 1, 1, 0, 1, 1, 0, 0, 0, 0, 1, 0, 0, 1, 1, 1, 0, 0, 0, 0, 0, 1, 1, 1, 1, 1, 1, 0, 0, 0, 1, 0, 0, 0, 0, 0, 0, 1, 0, 0, 0, 1, 0, 1, 1, 0, 1, 0, 1, 1, 0, 0, 1, 0, 0, 1, 0, 1, 0, 0, 0, 0, 0, 0, 0, 0, 1, 1, 0, 0, 0, 0, 0, 0, 1, 0, 0, 1, 0, 0, 0, 0, 0, 0, 1, 1, 0, 0, 1, 1, 0, 0, 0, 1, 0, 0, 1, 1, 0, 0, 1, 1, 0, 1, 1, 0, 0, 0, 0, 0, 0, 0, 1, 1, 1, 0, 1, 0, 0, 0, 0, 1, 0, 1, 0, 0, 1, 0, 0, 0, 0, 0, 0, 1, 0, 0, 0, 0, 0, 1, 0, 1, 1, 1, 0, 0, 1, 0, 0, 0, 1, 1, 1, 0, 1, 0, 0, 1, 0, 0, 0, 0, 0, 0, 1, 1, 0, 1, 1, 0, 1, 1, 1, 0, 1, 0, 0, 0, 0, 0, 0, 0, 0, 0, 0, 0, 0, 1, 0, 0, 0, 1, 0, 0, 1, 0, 1, 0, 0, 1, 1, 1, 1, 1, 1, 1, 0, 0, 1, 1, 1, 0, 1, 1, 1, 0, 0, 0, 0, 1, 1, 0, 1, 1, 0, 0, 0, 1, 0, 1, 0, 1, 0, 1, 0, 1, 1, 0, 1, 0, 0, 0, 0, 0, 1, 0, 1, 1, 0, 0, 0, 1, 1, 0, 0, 1, 0, 1, 1, 0, 0, 0, 0, 1, 0, 0, 0, 1, 0, 1, 0, 0, 0, 0, 1, 0, 0, 0, 1, 1, 1, 0, 0, 0, 1, 0, 1, 1, 0, 0, 0, 0, 1, 1, 0, 0, 0, 1, 0, 1, 0, 0, 1, 0, 0, 0, 0, 1, 0, 0, 0, 0, 0, 0, 0, 0, 0, 0, 1, 1, 0, 0, 1, 0, 1, 0, 0, 0, 1, 1, 0, 0, 0, 0, 0, 0, 0, 0, 0, 0, 1, 0, 0, 0, 0, 1, 0, 1, 0, 1, 0, 0, 1, 0, 1, 0, 1, 0, 0, 0, 0, 0, 0, 1, 0, 1, 1, 0, 0, 1, 0, 0, 0, 1, 0, 0, 0, 0, 0, 1, 0, 0, 0, 0, 0, 0, 0, 0, 0, 1, 1, 0, 1, 1, 1, 0, 0, 1, 1, 0, 0, 0, 0, 0, 0, 1, 1, 0, 0, 1, 0, 1, 0, 0, 0, 0, 0, 1, 0, 1, 1, 0, 0, 1, 0, 0, 0, 1, 0, 1, 1, 1, 1, 0, 0, 1, 0, 0, 0, 0, 1, 0, 0, 0, 1, 0, 0, 1, 0, 1, 0, 1, 1, 0, 0, 1, 1, 0, 0, 0, 0, 1, 0, 0, 1, 0, 1, 1, 0, 1, 1, 0, 1, 1, 0, 0, 1, 1, 0, 0, 0, 1, 1, 0, 0, 0, 0, 1, 1, 0, 1, 1, 1, 1, 1, 1, 0, 1, 1, 0, 0, 0, 1, 0, 1, 0, 0, 1, 0, 0, 1, 0, 1, 0, 0, 0, 1, 1, 1, 1, 0, 0, 0, 1, 0, 0, 0, 1, 0, 0, 1, 0, 1, 0, 0, 0, 0, 0, 1, 0, 0, 1, 0, 0, 1, 0, 1, 0, 0, 0, 1, 0, 1, 0, 0, 0, 0, 0, 0, 1, 0, 1, 0, 0, 0, 0, 1, 0, 0, 1, 1, 0, 0, 1, 1, 1, 0, 0, 0, 0, 1, 0, 0]\n"
     ]
    }
   ],
   "source": [
    "#y_predicted = np.where(resultat> 0.5, 1, 0)\n",
    "print(y_predicted)"
   ]
  },
  {
   "cell_type": "code",
   "execution_count": 53,
   "id": "290e0a3b",
   "metadata": {
    "execution": {
     "iopub.execute_input": "2022-04-05T17:00:57.856911Z",
     "iopub.status.busy": "2022-04-05T17:00:57.856009Z",
     "iopub.status.idle": "2022-04-05T17:00:57.859166Z",
     "shell.execute_reply": "2022-04-05T17:00:57.859779Z",
     "shell.execute_reply.started": "2022-04-05T16:38:41.372935Z"
    },
    "papermill": {
     "duration": 0.76005,
     "end_time": "2022-04-05T17:00:57.859979",
     "exception": false,
     "start_time": "2022-04-05T17:00:57.099929",
     "status": "completed"
    },
    "tags": []
   },
   "outputs": [],
   "source": [
    "def conf_matrix(y, y_pred, title):\n",
    "    fig, ax =plt.subplots(figsize=(5,5))\n",
    "    labels=['Negative', 'Positive']\n",
    "    ax=sns.heatmap(confusion_matrix(y, y_pred), annot=True, cmap=\"Blues\", fmt='g', cbar=False, annot_kws={\"size\":25})\n",
    "    plt.title(title, fontsize=20)\n",
    "    ax.xaxis.set_ticklabels(labels, fontsize=17) \n",
    "    ax.yaxis.set_ticklabels(labels, fontsize=17)\n",
    "    ax.set_ylabel('Test', fontsize=20)\n",
    "    ax.set_xlabel('Predicted', fontsize=20)\n",
    "    plt.show()\n"
   ]
  },
  {
   "cell_type": "code",
   "execution_count": 54,
   "id": "11e316e7",
   "metadata": {
    "execution": {
     "iopub.execute_input": "2022-04-05T17:00:59.170306Z",
     "iopub.status.busy": "2022-04-05T17:00:59.169428Z",
     "iopub.status.idle": "2022-04-05T17:00:59.303660Z",
     "shell.execute_reply": "2022-04-05T17:00:59.302951Z",
     "shell.execute_reply.started": "2022-04-05T16:39:22.729713Z"
    },
    "papermill": {
     "duration": 0.776113,
     "end_time": "2022-04-05T17:00:59.303849",
     "exception": false,
     "start_time": "2022-04-05T17:00:58.527736",
     "status": "completed"
    },
    "tags": []
   },
   "outputs": [
    {
     "data": {
      "image/png": "[encoded data removed]",
      "text/plain": [
       "<Figure size 360x360 with 1 Axes>"
      ]
     },
     "metadata": {
      "needs_background": "light"
     },
     "output_type": "display_data"
    }
   ],
   "source": [
    "from sklearn.metrics import confusion_matrix\n",
    "import matplotlib.pyplot as plt\n",
    "conf_matrix(y_test, y_predicted,'Bert case arabic check worthiness detection')"
   ]
  },
  {
   "cell_type": "code",
   "execution_count": 55,
   "id": "6d669d77",
   "metadata": {
    "execution": {
     "iopub.execute_input": "2022-04-05T17:01:00.491725Z",
     "iopub.status.busy": "2022-04-05T17:01:00.491108Z",
     "iopub.status.idle": "2022-04-05T17:01:00.493677Z",
     "shell.execute_reply": "2022-04-05T17:01:00.494179Z",
     "shell.execute_reply.started": "2022-04-05T16:39:27.101338Z"
    },
    "papermill": {
     "duration": 0.596187,
     "end_time": "2022-04-05T17:01:00.494338",
     "exception": false,
     "start_time": "2022-04-05T17:00:59.898151",
     "status": "completed"
    },
    "tags": []
   },
   "outputs": [
    {
     "name": "stdout",
     "output_type": "stream",
     "text": [
      "Accuracy :0.683140\n"
     ]
    }
   ],
   "source": [
    "from sklearn.metrics import accuracy_score\n",
    "accuracy= accuracy_score(y_test, y_predicted)\n",
    "print(\"Accuracy :%5f\" % (accuracy))"
   ]
  },
  {
   "cell_type": "code",
   "execution_count": 56,
   "id": "00ea4ecb",
   "metadata": {
    "execution": {
     "iopub.execute_input": "2022-04-05T17:01:01.689170Z",
     "iopub.status.busy": "2022-04-05T17:01:01.688442Z",
     "iopub.status.idle": "2022-04-05T17:01:01.692938Z",
     "shell.execute_reply": "2022-04-05T17:01:01.693435Z",
     "shell.execute_reply.started": "2022-04-05T16:38:56.031272Z"
    },
    "papermill": {
     "duration": 0.613589,
     "end_time": "2022-04-05T17:01:01.693579",
     "exception": false,
     "start_time": "2022-04-05T17:01:01.079990",
     "status": "completed"
    },
    "tags": []
   },
   "outputs": [
    {
     "name": "stdout",
     "output_type": "stream",
     "text": [
      "F1-score micro :0.683140\n"
     ]
    }
   ],
   "source": [
    "from sklearn.metrics import f1_score\n",
    "mic=f1_score(y_test,y_predicted, average='micro')\n",
    "print(\"F1-score micro :%5f\" % (mic))"
   ]
  },
  {
   "cell_type": "code",
   "execution_count": 57,
   "id": "93b37902",
   "metadata": {
    "execution": {
     "iopub.execute_input": "2022-04-05T17:01:02.870113Z",
     "iopub.status.busy": "2022-04-05T17:01:02.869305Z",
     "iopub.status.idle": "2022-04-05T17:01:02.874923Z",
     "shell.execute_reply": "2022-04-05T17:01:02.874501Z",
     "shell.execute_reply.started": "2022-04-05T16:38:58.802526Z"
    },
    "papermill": {
     "duration": 0.594712,
     "end_time": "2022-04-05T17:01:02.875038",
     "exception": false,
     "start_time": "2022-04-05T17:01:02.280326",
     "status": "completed"
    },
    "tags": []
   },
   "outputs": [
    {
     "name": "stdout",
     "output_type": "stream",
     "text": [
      "F1-score macro :0.665023\n"
     ]
    }
   ],
   "source": [
    "from sklearn.metrics import f1_score\n",
    "mac=f1_score(y_test,y_predicted, average='macro')\n",
    "print(\"F1-score macro :%5f\" % (mac))"
   ]
  },
  {
   "cell_type": "code",
   "execution_count": 58,
   "id": "2c06b50b",
   "metadata": {
    "execution": {
     "iopub.execute_input": "2022-04-05T17:01:04.058193Z",
     "iopub.status.busy": "2022-04-05T17:01:04.057376Z",
     "iopub.status.idle": "2022-04-05T17:01:04.062395Z",
     "shell.execute_reply": "2022-04-05T17:01:04.062833Z",
     "shell.execute_reply.started": "2022-04-05T16:39:00.892188Z"
    },
    "papermill": {
     "duration": 0.597067,
     "end_time": "2022-04-05T17:01:04.062966",
     "exception": false,
     "start_time": "2022-04-05T17:01:03.465899",
     "status": "completed"
    },
    "tags": []
   },
   "outputs": [
    {
     "name": "stdout",
     "output_type": "stream",
     "text": [
      "0.5575539568345323\n"
     ]
    }
   ],
   "source": [
    "from sklearn.metrics import recall_score\n",
    "rec=recall_score(y_test, y_predicted, average='binary')\n",
    "print(rec)"
   ]
  },
  {
   "cell_type": "code",
   "execution_count": 59,
   "id": "4c133fa0",
   "metadata": {
    "execution": {
     "iopub.execute_input": "2022-04-05T17:01:05.238993Z",
     "iopub.status.busy": "2022-04-05T17:01:05.238159Z",
     "iopub.status.idle": "2022-04-05T17:01:05.243517Z",
     "shell.execute_reply": "2022-04-05T17:01:05.243067Z",
     "shell.execute_reply.started": "2022-04-05T16:39:02.589756Z"
    },
    "papermill": {
     "duration": 0.595405,
     "end_time": "2022-04-05T17:01:05.243643",
     "exception": false,
     "start_time": "2022-04-05T17:01:04.648238",
     "status": "completed"
    },
    "tags": []
   },
   "outputs": [
    {
     "name": "stdout",
     "output_type": "stream",
     "text": [
      "0.62\n"
     ]
    }
   ],
   "source": [
    "from sklearn.metrics import precision_score\n",
    "prec=precision_score(y_test, y_predicted, average='binary')\n",
    "print(prec)"
   ]
  },
  {
   "cell_type": "code",
   "execution_count": 60,
   "id": "77cf17c1",
   "metadata": {
    "execution": {
     "iopub.execute_input": "2022-04-05T17:01:06.443492Z",
     "iopub.status.busy": "2022-04-05T17:01:06.442831Z",
     "iopub.status.idle": "2022-04-05T17:01:06.758183Z",
     "shell.execute_reply": "2022-04-05T17:01:06.758720Z",
     "shell.execute_reply.started": "2022-04-05T16:39:04.369726Z"
    },
    "papermill": {
     "duration": 0.925804,
     "end_time": "2022-04-05T17:01:06.758878",
     "exception": false,
     "start_time": "2022-04-05T17:01:05.833074",
     "status": "completed"
    },
    "tags": []
   },
   "outputs": [
    {
     "name": "stdout",
     "output_type": "stream",
     "text": [
      "dict_keys(['loss', 'accuracy', 'val_loss', 'val_accuracy', 'lr'])\n"
     ]
    },
    {
     "data": {
      "text/plain": [
       "<matplotlib.legend.Legend at 0x7f81ea51a350>"
      ]
     },
     "execution_count": 60,
     "metadata": {},
     "output_type": "execute_result"
    },
    {
     "data": {
      "image/png": "[encoded data removed]",
      "text/plain": [
       "<Figure size 720x432 with 2 Axes>"
      ]
     },
     "metadata": {
      "needs_background": "light"
     },
     "output_type": "display_data"
    }
   ],
   "source": [
    "history_dict = history_bert.history\n",
    "print(history_dict.keys())\n",
    "\n",
    "acc = history_dict['accuracy']\n",
    "val_acc = history_dict['val_accuracy']\n",
    "loss = history_dict['loss']\n",
    "val_loss = history_dict['val_loss']\n",
    "\n",
    "epochs = range(1, len(acc) + 1)\n",
    "fig = plt.figure(figsize=(10, 6))\n",
    "fig.tight_layout()\n",
    "\n",
    "plt.subplot(2, 1, 1)\n",
    "# r is for \"solid red line\"\n",
    "plt.plot(epochs, loss, 'r', label='Training loss')\n",
    "# b is for \"solid blue line\"\n",
    "plt.plot(epochs, val_loss, 'b', label='Validation loss')\n",
    "plt.title('Training and validation loss')\n",
    "# plt.xlabel('Epochs')\n",
    "plt.ylabel('Loss')\n",
    "plt.legend()\n",
    "\n",
    "plt.subplot(2, 1, 2)\n",
    "plt.plot(epochs, acc, 'r', label='Training acc')\n",
    "plt.plot(epochs, val_acc, 'b', label='Validation acc')\n",
    "plt.title('Training and validation accuracy')\n",
    "plt.xlabel('Epochs')\n",
    "plt.ylabel('Accuracy')\n",
    "plt.legend(loc='lower right')"
   ]
  },
  {
   "cell_type": "code",
   "execution_count": 61,
   "id": "3ec4bd66",
   "metadata": {
    "execution": {
     "iopub.execute_input": "2022-04-05T17:01:07.954474Z",
     "iopub.status.busy": "2022-04-05T17:01:07.953585Z",
     "iopub.status.idle": "2022-04-05T17:01:07.955835Z",
     "shell.execute_reply": "2022-04-05T17:01:07.955319Z",
     "shell.execute_reply.started": "2022-04-05T16:26:20.882652Z"
    },
    "papermill": {
     "duration": 0.604573,
     "end_time": "2022-04-05T17:01:07.955966",
     "exception": false,
     "start_time": "2022-04-05T17:01:07.351393",
     "status": "completed"
    },
    "tags": []
   },
   "outputs": [],
   "source": [
    "# Configuration\n",
    "lr=2e-5\n",
    "EPOCHS = 10\n",
    "BATCH_SIZE = 32\n",
    "MAX_LEN = 175"
   ]
  },
  {
   "cell_type": "code",
   "execution_count": 62,
   "id": "b927f573",
   "metadata": {
    "execution": {
     "iopub.execute_input": "2022-04-05T17:01:09.427014Z",
     "iopub.status.busy": "2022-04-05T17:01:09.425191Z",
     "iopub.status.idle": "2022-04-05T17:01:09.427662Z",
     "shell.execute_reply": "2022-04-05T17:01:09.428060Z",
     "shell.execute_reply.started": "2022-04-05T16:26:20.884380Z"
    },
    "papermill": {
     "duration": 0.806746,
     "end_time": "2022-04-05T17:01:09.428194",
     "exception": false,
     "start_time": "2022-04-05T17:01:08.621448",
     "status": "completed"
    },
    "tags": []
   },
   "outputs": [],
   "source": [
    "score = [{'MODEL': 'arabertv01', 'Accuracy': accuracy,'Precision':prec,'Recall':rec, 'f1-score micro':mic, 'f1-score macro':mac,'epochs':EPOCHS,'batch_size':BATCH_SIZE,'sequence length':MAX_LEN,'learning-rate':'2e-5','Preprocessing':1,'augmentation':0}]\n",
    "score_f =pd.DataFrame(score)"
   ]
  },
  {
   "cell_type": "code",
   "execution_count": 63,
   "id": "d05c45ed",
   "metadata": {
    "execution": {
     "iopub.execute_input": "2022-04-05T17:01:10.644206Z",
     "iopub.status.busy": "2022-04-05T17:01:10.643353Z",
     "iopub.status.idle": "2022-04-05T17:01:10.649037Z",
     "shell.execute_reply": "2022-04-05T17:01:10.649934Z",
     "shell.execute_reply.started": "2022-04-05T16:26:20.886076Z"
    },
    "papermill": {
     "duration": 0.631617,
     "end_time": "2022-04-05T17:01:10.650179",
     "exception": false,
     "start_time": "2022-04-05T17:01:10.018562",
     "status": "completed"
    },
    "tags": []
   },
   "outputs": [],
   "source": [
    "score_f.to_csv(\"model_boosted_results.csv\")"
   ]
  },
  {
   "cell_type": "code",
   "execution_count": null,
   "id": "a980afca",
   "metadata": {
    "papermill": {
     "duration": 0.692378,
     "end_time": "2022-04-05T17:01:12.294725",
     "exception": false,
     "start_time": "2022-04-05T17:01:11.602347",
     "status": "completed"
    },
    "tags": []
   },
   "outputs": [],
   "source": []
  },
  {
   "cell_type": "code",
   "execution_count": null,
   "id": "c86a7d89",
   "metadata": {
    "papermill": {
     "duration": 0.596434,
     "end_time": "2022-04-05T17:01:13.478803",
     "exception": false,
     "start_time": "2022-04-05T17:01:12.882369",
     "status": "completed"
    },
    "tags": []
   },
   "outputs": [],
   "source": []
  },
  {
   "cell_type": "code",
   "execution_count": null,
   "id": "ccbd9bc6",
   "metadata": {
    "papermill": {
     "duration": 0.585358,
     "end_time": "2022-04-05T17:01:14.650856",
     "exception": false,
     "start_time": "2022-04-05T17:01:14.065498",
     "status": "completed"
    },
    "tags": []
   },
   "outputs": [],
   "source": []
  },
  {
   "cell_type": "code",
   "execution_count": null,
   "id": "5b40145d",
   "metadata": {
    "papermill": {
     "duration": 0.630662,
     "end_time": "2022-04-05T17:01:15.869548",
     "exception": false,
     "start_time": "2022-04-05T17:01:15.238886",
     "status": "completed"
    },
    "tags": []
   },
   "outputs": [],
   "source": []
  },
  {
   "cell_type": "code",
   "execution_count": null,
   "id": "102c584e",
   "metadata": {
    "papermill": {
     "duration": 0.625034,
     "end_time": "2022-04-05T17:01:17.082924",
     "exception": false,
     "start_time": "2022-04-05T17:01:16.457890",
     "status": "completed"
    },
    "tags": []
   },
   "outputs": [],
   "source": []
  }
 ],
 "metadata": {
  "kernelspec": {
   "display_name": "Python 3",
   "language": "python",
   "name": "python3"
  },
  "language_info": {
   "codemirror_mode": {
    "name": "ipython",
    "version": 3
   },
   "file_extension": ".py",
   "mimetype": "text/x-python",
   "name": "python",
   "nbconvert_exporter": "python",
   "pygments_lexer": "ipython3",
   "version": "3.7.12"
  },
  "papermill": {
   "default_parameters": {},
   "duration": 1286.502962,
   "end_time": "2022-04-05T17:01:20.539051",
   "environment_variables": {},
   "exception": null,
   "input_path": "__notebook__.ipynb",
   "output_path": "__notebook__.ipynb",
   "parameters": {},
   "start_time": "2022-04-05T16:39:54.036089",
   "version": "2.3.3"
  },
  "widgets": {
   "application/vnd.jupyter.widget-state+json": {
    "state": {
     "03ad099758e74f8b9208b7acb73c7928": {
      "model_module": "@jupyter-widgets/controls",
      "model_module_version": "1.5.0",
      "model_name": "FloatProgressModel",
      "state": {
       "_dom_classes": [],
       "_model_module": "@jupyter-widgets/controls",
       "_model_module_version": "1.5.0",
       "_model_name": "FloatProgressModel",
       "_view_count": null,
       "_view_module": "@jupyter-widgets/controls",
       "_view_module_version": "1.5.0",
       "_view_name": "ProgressView",
       "bar_style": "success",
       "description": "",
       "description_tooltip": null,
       "layout": "IPY_MODEL_d8cc38f39ae04135b02652970a6cf55f",
       "max": 741884184.0,
       "min": 0.0,
       "orientation": "horizontal",
       "style": "IPY_MODEL_424fb1a6a3264a71bc477e4baad4dfd5",
       "value": 741884184.0
      }
     },
     "060c6913b21340588ace9f64c1af0fd6": {
      "model_module": "@jupyter-widgets/controls",
      "model_module_version": "1.5.0",
      "model_name": "DescriptionStyleModel",
      "state": {
       "_model_module": "@jupyter-widgets/controls",
       "_model_module_version": "1.5.0",
       "_model_name": "DescriptionStyleModel",
       "_view_count": null,
       "_view_module": "@jupyter-widgets/base",
       "_view_module_version": "1.2.0",
       "_view_name": "StyleView",
       "description_width": ""
      }
     },
     "0a7001012ae54f1f9c158207578ec2db": {
      "model_module": "@jupyter-widgets/controls",
      "model_module_version": "1.5.0",
      "model_name": "FloatProgressModel",
      "state": {
       "_dom_classes": [],
       "_model_module": "@jupyter-widgets/controls",
       "_model_module_version": "1.5.0",
       "_model_name": "FloatProgressModel",
       "_view_count": null,
       "_view_module": "@jupyter-widgets/controls",
       "_view_module_version": "1.5.0",
       "_view_name": "ProgressView",
       "bar_style": "success",
       "description": "",
       "description_tooltip": null,
       "layout": "IPY_MODEL_1ffcd032654e46f6b16a074669fbac58",
       "max": 491.0,
       "min": 0.0,
       "orientation": "horizontal",
       "style": "IPY_MODEL_4972224c229044bfa95ccfe0da2af0b2",
       "value": 491.0
      }
     },
     "0b43ce2a91324d0aa0e0bb8f5c7876d7": {
      "model_module": "@jupyter-widgets/base",
      "model_module_version": "1.2.0",
      "model_name": "LayoutModel",
      "state": {
       "_model_module": "@jupyter-widgets/base",
       "_model_module_version": "1.2.0",
       "_model_name": "LayoutModel",
       "_view_count": null,
       "_view_module": "@jupyter-widgets/base",
       "_view_module_version": "1.2.0",
       "_view_name": "LayoutView",
       "align_content": null,
       "align_items": null,
       "align_self": null,
       "border": null,
       "bottom": null,
       "display": null,
       "flex": null,
       "flex_flow": null,
       "grid_area": null,
       "grid_auto_columns": null,
       "grid_auto_flow": null,
       "grid_auto_rows": null,
       "grid_column": null,
       "grid_gap": null,
       "grid_row": null,
       "grid_template_areas": null,
       "grid_template_columns": null,
       "grid_template_rows": null,
       "height": null,
       "justify_content": null,
       "justify_items": null,
       "left": null,
       "margin": null,
       "max_height": null,
       "max_width": null,
       "min_height": null,
       "min_width": null,
       "object_fit": null,
       "object_position": null,
       "order": null,
       "overflow": null,
       "overflow_x": null,
       "overflow_y": null,
       "padding": null,
       "right": null,
       "top": null,
       "visibility": null,
       "width": null
      }
     },
     "0e51b121d0444ef6835a80beb3c99055": {
      "model_module": "@jupyter-widgets/base",
      "model_module_version": "1.2.0",
      "model_name": "LayoutModel",
      "state": {
       "_model_module": "@jupyter-widgets/base",
       "_model_module_version": "1.2.0",
       "_model_name": "LayoutModel",
       "_view_count": null,
       "_view_module": "@jupyter-widgets/base",
       "_view_module_version": "1.2.0",
       "_view_name": "LayoutView",
       "align_content": null,
       "align_items": null,
       "align_self": null,
       "border": null,
       "bottom": null,
       "display": null,
       "flex": null,
       "flex_flow": null,
       "grid_area": null,
       "grid_auto_columns": null,
       "grid_auto_flow": null,
       "grid_auto_rows": null,
       "grid_column": null,
       "grid_gap": null,
       "grid_row": null,
       "grid_template_areas": null,
       "grid_template_columns": null,
       "grid_template_rows": null,
       "height": null,
       "justify_content": null,
       "justify_items": null,
       "left": null,
       "margin": null,
       "max_height": null,
       "max_width": null,
       "min_height": null,
       "min_width": null,
       "object_fit": null,
       "object_position": null,
       "order": null,
       "overflow": null,
       "overflow_x": null,
       "overflow_y": null,
       "padding": null,
       "right": null,
       "top": null,
       "visibility": null,
       "width": null
      }
     },
     "1057e5c295d44b1b8723ce8a175dafe5": {
      "model_module": "@jupyter-widgets/base",
      "model_module_version": "1.2.0",
      "model_name": "LayoutModel",
      "state": {
       "_model_module": "@jupyter-widgets/base",
       "_model_module_version": "1.2.0",
       "_model_name": "LayoutModel",
       "_view_count": null,
       "_view_module": "@jupyter-widgets/base",
       "_view_module_version": "1.2.0",
       "_view_name": "LayoutView",
       "align_content": null,
       "align_items": null,
       "align_self": null,
       "border": null,
       "bottom": null,
       "display": null,
       "flex": null,
       "flex_flow": null,
       "grid_area": null,
       "grid_auto_columns": null,
       "grid_auto_flow": null,
       "grid_auto_rows": null,
       "grid_column": null,
       "grid_gap": null,
       "grid_row": null,
       "grid_template_areas": null,
       "grid_template_columns": null,
       "grid_template_rows": null,
       "height": null,
       "justify_content": null,
       "justify_items": null,
       "left": null,
       "margin": null,
       "max_height": null,
       "max_width": null,
       "min_height": null,
       "min_width": null,
       "object_fit": null,
       "object_position": null,
       "order": null,
       "overflow": null,
       "overflow_x": null,
       "overflow_y": null,
       "padding": null,
       "right": null,
       "top": null,
       "visibility": null,
       "width": null
      }
     },
     "148baa4dba3a4dc8ab18cc1762380844": {
      "model_module": "@jupyter-widgets/controls",
      "model_module_version": "1.5.0",
      "model_name": "HTMLModel",
      "state": {
       "_dom_classes": [],
       "_model_module": "@jupyter-widgets/controls",
       "_model_module_version": "1.5.0",
       "_model_name": "HTMLModel",
       "_view_count": null,
       "_view_module": "@jupyter-widgets/controls",
       "_view_module_version": "1.5.0",
       "_view_name": "HTMLView",
       "description": "",
       "description_tooltip": null,
       "layout": "IPY_MODEL_2737d19f7c604e0098ce584d91030ee1",
       "placeholder": "​",
       "style": "IPY_MODEL_1dff5945d88f4429b555dfe20ed25a9f",
       "value": "Downloading: 100%"
      }
     },
     "1494b0e15faf41d78b50107fa62d364b": {
      "model_module": "@jupyter-widgets/controls",
      "model_module_version": "1.5.0",
      "model_name": "ProgressStyleModel",
      "state": {
       "_model_module": "@jupyter-widgets/controls",
       "_model_module_version": "1.5.0",
       "_model_name": "ProgressStyleModel",
       "_view_count": null,
       "_view_module": "@jupyter-widgets/base",
       "_view_module_version": "1.2.0",
       "_view_name": "StyleView",
       "bar_color": null,
       "description_width": ""
      }
     },
     "167f705316e0427884744b04d1c679cc": {
      "model_module": "@jupyter-widgets/base",
      "model_module_version": "1.2.0",
      "model_name": "LayoutModel",
      "state": {
       "_model_module": "@jupyter-widgets/base",
       "_model_module_version": "1.2.0",
       "_model_name": "LayoutModel",
       "_view_count": null,
       "_view_module": "@jupyter-widgets/base",
       "_view_module_version": "1.2.0",
       "_view_name": "LayoutView",
       "align_content": null,
       "align_items": null,
       "align_self": null,
       "border": null,
       "bottom": null,
       "display": null,
       "flex": null,
       "flex_flow": null,
       "grid_area": null,
       "grid_auto_columns": null,
       "grid_auto_flow": null,
       "grid_auto_rows": null,
       "grid_column": null,
       "grid_gap": null,
       "grid_row": null,
       "grid_template_areas": null,
       "grid_template_columns": null,
       "grid_template_rows": null,
       "height": null,
       "justify_content": null,
       "justify_items": null,
       "left": null,
       "margin": null,
       "max_height": null,
       "max_width": null,
       "min_height": null,
       "min_width": null,
       "object_fit": null,
       "object_position": null,
       "order": null,
       "overflow": null,
       "overflow_x": null,
       "overflow_y": null,
       "padding": null,
       "right": null,
       "top": null,
       "visibility": null,
       "width": null
      }
     },
     "1707980f05ff485f93273bded515ae6a": {
      "model_module": "@jupyter-widgets/base",
      "model_module_version": "1.2.0",
      "model_name": "LayoutModel",
      "state": {
       "_model_module": "@jupyter-widgets/base",
       "_model_module_version": "1.2.0",
       "_model_name": "LayoutModel",
       "_view_count": null,
       "_view_module": "@jupyter-widgets/base",
       "_view_module_version": "1.2.0",
       "_view_name": "LayoutView",
       "align_content": null,
       "align_items": null,
       "align_self": null,
       "border": null,
       "bottom": null,
       "display": null,
       "flex": null,
       "flex_flow": null,
       "grid_area": null,
       "grid_auto_columns": null,
       "grid_auto_flow": null,
       "grid_auto_rows": null,
       "grid_column": null,
       "grid_gap": null,
       "grid_row": null,
       "grid_template_areas": null,
       "grid_template_columns": null,
       "grid_template_rows": null,
       "height": null,
       "justify_content": null,
       "justify_items": null,
       "left": null,
       "margin": null,
       "max_height": null,
       "max_width": null,
       "min_height": null,
       "min_width": null,
       "object_fit": null,
       "object_position": null,
       "order": null,
       "overflow": null,
       "overflow_x": null,
       "overflow_y": null,
       "padding": null,
       "right": null,
       "top": null,
       "visibility": null,
       "width": null
      }
     },
     "1a8985b63f6244b18968a080085de8ae": {
      "model_module": "@jupyter-widgets/controls",
      "model_module_version": "1.5.0",
      "model_name": "HTMLModel",
      "state": {
       "_dom_classes": [],
       "_model_module": "@jupyter-widgets/controls",
       "_model_module_version": "1.5.0",
       "_model_name": "HTMLModel",
       "_view_count": null,
       "_view_module": "@jupyter-widgets/controls",
       "_view_module_version": "1.5.0",
       "_view_name": "HTMLView",
       "description": "",
       "description_tooltip": null,
       "layout": "IPY_MODEL_ebecc9f204c343ca9c2d63edb85327cc",
       "placeholder": "​",
       "style": "IPY_MODEL_ebe134136dcd4174a1dccb9e6c404efd",
       "value": " 576/576 [00:00&lt;00:00, 23.0kB/s]"
      }
     },
     "1c24d11e9b9d4f64976a11f7cac420c7": {
      "model_module": "@jupyter-widgets/controls",
      "model_module_version": "1.5.0",
      "model_name": "HTMLModel",
      "state": {
       "_dom_classes": [],
       "_model_module": "@jupyter-widgets/controls",
       "_model_module_version": "1.5.0",
       "_model_name": "HTMLModel",
       "_view_count": null,
       "_view_module": "@jupyter-widgets/controls",
       "_view_module_version": "1.5.0",
       "_view_name": "HTMLView",
       "description": "",
       "description_tooltip": null,
       "layout": "IPY_MODEL_1707980f05ff485f93273bded515ae6a",
       "placeholder": "​",
       "style": "IPY_MODEL_8349f72ddb8f49ab85a74a3cdda15934",
       "value": "Downloading: 100%"
      }
     },
     "1dff5945d88f4429b555dfe20ed25a9f": {
      "model_module": "@jupyter-widgets/controls",
      "model_module_version": "1.5.0",
      "model_name": "DescriptionStyleModel",
      "state": {
       "_model_module": "@jupyter-widgets/controls",
       "_model_module_version": "1.5.0",
       "_model_name": "DescriptionStyleModel",
       "_view_count": null,
       "_view_module": "@jupyter-widgets/base",
       "_view_module_version": "1.2.0",
       "_view_name": "StyleView",
       "description_width": ""
      }
     },
     "1f4be9270d834914ab3ef9caa2d6bce8": {
      "model_module": "@jupyter-widgets/controls",
      "model_module_version": "1.5.0",
      "model_name": "HTMLModel",
      "state": {
       "_dom_classes": [],
       "_model_module": "@jupyter-widgets/controls",
       "_model_module_version": "1.5.0",
       "_model_name": "HTMLModel",
       "_view_count": null,
       "_view_module": "@jupyter-widgets/controls",
       "_view_module_version": "1.5.0",
       "_view_name": "HTMLView",
       "description": "",
       "description_tooltip": null,
       "layout": "IPY_MODEL_6621164c58c24101aac96038744eee31",
       "placeholder": "​",
       "style": "IPY_MODEL_4447b61aae394cae8a626380c1bd366a",
       "value": "Downloading: 100%"
      }
     },
     "1ffcd032654e46f6b16a074669fbac58": {
      "model_module": "@jupyter-widgets/base",
      "model_module_version": "1.2.0",
      "model_name": "LayoutModel",
      "state": {
       "_model_module": "@jupyter-widgets/base",
       "_model_module_version": "1.2.0",
       "_model_name": "LayoutModel",
       "_view_count": null,
       "_view_module": "@jupyter-widgets/base",
       "_view_module_version": "1.2.0",
       "_view_name": "LayoutView",
       "align_content": null,
       "align_items": null,
       "align_self": null,
       "border": null,
       "bottom": null,
       "display": null,
       "flex": null,
       "flex_flow": null,
       "grid_area": null,
       "grid_auto_columns": null,
       "grid_auto_flow": null,
       "grid_auto_rows": null,
       "grid_column": null,
       "grid_gap": null,
       "grid_row": null,
       "grid_template_areas": null,
       "grid_template_columns": null,
       "grid_template_rows": null,
       "height": null,
       "justify_content": null,
       "justify_items": null,
       "left": null,
       "margin": null,
       "max_height": null,
       "max_width": null,
       "min_height": null,
       "min_width": null,
       "object_fit": null,
       "object_position": null,
       "order": null,
       "overflow": null,
       "overflow_x": null,
       "overflow_y": null,
       "padding": null,
       "right": null,
       "top": null,
       "visibility": null,
       "width": null
      }
     },
     "22b4b953599a4b1d9272297bb397ad3e": {
      "model_module": "@jupyter-widgets/controls",
      "model_module_version": "1.5.0",
      "model_name": "HBoxModel",
      "state": {
       "_dom_classes": [],
       "_model_module": "@jupyter-widgets/controls",
       "_model_module_version": "1.5.0",
       "_model_name": "HBoxModel",
       "_view_count": null,
       "_view_module": "@jupyter-widgets/controls",
       "_view_module_version": "1.5.0",
       "_view_name": "HBoxView",
       "box_style": "",
       "children": [
        "IPY_MODEL_42566065aea74bbea6f462ae72c96930",
        "IPY_MODEL_2dbf297f0a424d42b06f4c6466ab0395",
        "IPY_MODEL_b78c9167803344bca9bc63fa9edd6540"
       ],
       "layout": "IPY_MODEL_cc2f040c4a7a47178e32a29093d33f3b"
      }
     },
     "25104bee92754c2ca6951489ab7a75c7": {
      "model_module": "@jupyter-widgets/base",
      "model_module_version": "1.2.0",
      "model_name": "LayoutModel",
      "state": {
       "_model_module": "@jupyter-widgets/base",
       "_model_module_version": "1.2.0",
       "_model_name": "LayoutModel",
       "_view_count": null,
       "_view_module": "@jupyter-widgets/base",
       "_view_module_version": "1.2.0",
       "_view_name": "LayoutView",
       "align_content": null,
       "align_items": null,
       "align_self": null,
       "border": null,
       "bottom": null,
       "display": null,
       "flex": null,
       "flex_flow": null,
       "grid_area": null,
       "grid_auto_columns": null,
       "grid_auto_flow": null,
       "grid_auto_rows": null,
       "grid_column": null,
       "grid_gap": null,
       "grid_row": null,
       "grid_template_areas": null,
       "grid_template_columns": null,
       "grid_template_rows": null,
       "height": null,
       "justify_content": null,
       "justify_items": null,
       "left": null,
       "margin": null,
       "max_height": null,
       "max_width": null,
       "min_height": null,
       "min_width": null,
       "object_fit": null,
       "object_position": null,
       "order": null,
       "overflow": null,
       "overflow_x": null,
       "overflow_y": null,
       "padding": null,
       "right": null,
       "top": null,
       "visibility": null,
       "width": null
      }
     },
     "2737d19f7c604e0098ce584d91030ee1": {
      "model_module": "@jupyter-widgets/base",
      "model_module_version": "1.2.0",
      "model_name": "LayoutModel",
      "state": {
       "_model_module": "@jupyter-widgets/base",
       "_model_module_version": "1.2.0",
       "_model_name": "LayoutModel",
       "_view_count": null,
       "_view_module": "@jupyter-widgets/base",
       "_view_module_version": "1.2.0",
       "_view_name": "LayoutView",
       "align_content": null,
       "align_items": null,
       "align_self": null,
       "border": null,
       "bottom": null,
       "display": null,
       "flex": null,
       "flex_flow": null,
       "grid_area": null,
       "grid_auto_columns": null,
       "grid_auto_flow": null,
       "grid_auto_rows": null,
       "grid_column": null,
       "grid_gap": null,
       "grid_row": null,
       "grid_template_areas": null,
       "grid_template_columns": null,
       "grid_template_rows": null,
       "height": null,
       "justify_content": null,
       "justify_items": null,
       "left": null,
       "margin": null,
       "max_height": null,
       "max_width": null,
       "min_height": null,
       "min_width": null,
       "object_fit": null,
       "object_position": null,
       "order": null,
       "overflow": null,
       "overflow_x": null,
       "overflow_y": null,
       "padding": null,
       "right": null,
       "top": null,
       "visibility": null,
       "width": null
      }
     },
     "2c5c7d563cad493e9c459262fbad6ce0": {
      "model_module": "@jupyter-widgets/base",
      "model_module_version": "1.2.0",
      "model_name": "LayoutModel",
      "state": {
       "_model_module": "@jupyter-widgets/base",
       "_model_module_version": "1.2.0",
       "_model_name": "LayoutModel",
       "_view_count": null,
       "_view_module": "@jupyter-widgets/base",
       "_view_module_version": "1.2.0",
       "_view_name": "LayoutView",
       "align_content": null,
       "align_items": null,
       "align_self": null,
       "border": null,
       "bottom": null,
       "display": null,
       "flex": null,
       "flex_flow": null,
       "grid_area": null,
       "grid_auto_columns": null,
       "grid_auto_flow": null,
       "grid_auto_rows": null,
       "grid_column": null,
       "grid_gap": null,
       "grid_row": null,
       "grid_template_areas": null,
       "grid_template_columns": null,
       "grid_template_rows": null,
       "height": null,
       "justify_content": null,
       "justify_items": null,
       "left": null,
       "margin": null,
       "max_height": null,
       "max_width": null,
       "min_height": null,
       "min_width": null,
       "object_fit": null,
       "object_position": null,
       "order": null,
       "overflow": null,
       "overflow_x": null,
       "overflow_y": null,
       "padding": null,
       "right": null,
       "top": null,
       "visibility": null,
       "width": null
      }
     },
     "2dbf297f0a424d42b06f4c6466ab0395": {
      "model_module": "@jupyter-widgets/controls",
      "model_module_version": "1.5.0",
      "model_name": "FloatProgressModel",
      "state": {
       "_dom_classes": [],
       "_model_module": "@jupyter-widgets/controls",
       "_model_module_version": "1.5.0",
       "_model_name": "FloatProgressModel",
       "_view_count": null,
       "_view_module": "@jupyter-widgets/controls",
       "_view_module_version": "1.5.0",
       "_view_name": "ProgressView",
       "bar_style": "success",
       "description": "",
       "description_tooltip": null,
       "layout": "IPY_MODEL_b622e3d01b3c484daecf6188d0cc768d",
       "max": 780034.0,
       "min": 0.0,
       "orientation": "horizontal",
       "style": "IPY_MODEL_e59680c26dcf401dbc1da4182bd25157",
       "value": 780034.0
      }
     },
     "2dbfbfd73fe746d8bcafb0324fe5e620": {
      "model_module": "@jupyter-widgets/base",
      "model_module_version": "1.2.0",
      "model_name": "LayoutModel",
      "state": {
       "_model_module": "@jupyter-widgets/base",
       "_model_module_version": "1.2.0",
       "_model_name": "LayoutModel",
       "_view_count": null,
       "_view_module": "@jupyter-widgets/base",
       "_view_module_version": "1.2.0",
       "_view_name": "LayoutView",
       "align_content": null,
       "align_items": null,
       "align_self": null,
       "border": null,
       "bottom": null,
       "display": null,
       "flex": null,
       "flex_flow": null,
       "grid_area": null,
       "grid_auto_columns": null,
       "grid_auto_flow": null,
       "grid_auto_rows": null,
       "grid_column": null,
       "grid_gap": null,
       "grid_row": null,
       "grid_template_areas": null,
       "grid_template_columns": null,
       "grid_template_rows": null,
       "height": null,
       "justify_content": null,
       "justify_items": null,
       "left": null,
       "margin": null,
       "max_height": null,
       "max_width": null,
       "min_height": null,
       "min_width": null,
       "object_fit": null,
       "object_position": null,
       "order": null,
       "overflow": null,
       "overflow_x": null,
       "overflow_y": null,
       "padding": null,
       "right": null,
       "top": null,
       "visibility": null,
       "width": null
      }
     },
     "2dc2b15f7f4240d896317b7fe9105611": {
      "model_module": "@jupyter-widgets/controls",
      "model_module_version": "1.5.0",
      "model_name": "DescriptionStyleModel",
      "state": {
       "_model_module": "@jupyter-widgets/controls",
       "_model_module_version": "1.5.0",
       "_model_name": "DescriptionStyleModel",
       "_view_count": null,
       "_view_module": "@jupyter-widgets/base",
       "_view_module_version": "1.2.0",
       "_view_name": "StyleView",
       "description_width": ""
      }
     },
     "2ebd62f9c3694c23a7555ea42d868c48": {
      "model_module": "@jupyter-widgets/controls",
      "model_module_version": "1.5.0",
      "model_name": "HTMLModel",
      "state": {
       "_dom_classes": [],
       "_model_module": "@jupyter-widgets/controls",
       "_model_module_version": "1.5.0",
       "_model_name": "HTMLModel",
       "_view_count": null,
       "_view_module": "@jupyter-widgets/controls",
       "_view_module_version": "1.5.0",
       "_view_name": "HTMLView",
       "description": "",
       "description_tooltip": null,
       "layout": "IPY_MODEL_9b68b22c180c4cbb84b0697fba010515",
       "placeholder": "​",
       "style": "IPY_MODEL_b978c9f92e9741cf8bd49b496af4d496",
       "value": "Downloading: 100%"
      }
     },
     "2febf5ea501745f7a0d2eb850e4f3943": {
      "model_module": "@jupyter-widgets/base",
      "model_module_version": "1.2.0",
      "model_name": "LayoutModel",
      "state": {
       "_model_module": "@jupyter-widgets/base",
       "_model_module_version": "1.2.0",
       "_model_name": "LayoutModel",
       "_view_count": null,
       "_view_module": "@jupyter-widgets/base",
       "_view_module_version": "1.2.0",
       "_view_name": "LayoutView",
       "align_content": null,
       "align_items": null,
       "align_self": null,
       "border": null,
       "bottom": null,
       "display": null,
       "flex": null,
       "flex_flow": null,
       "grid_area": null,
       "grid_auto_columns": null,
       "grid_auto_flow": null,
       "grid_auto_rows": null,
       "grid_column": null,
       "grid_gap": null,
       "grid_row": null,
       "grid_template_areas": null,
       "grid_template_columns": null,
       "grid_template_rows": null,
       "height": null,
       "justify_content": null,
       "justify_items": null,
       "left": null,
       "margin": null,
       "max_height": null,
       "max_width": null,
       "min_height": null,
       "min_width": null,
       "object_fit": null,
       "object_position": null,
       "order": null,
       "overflow": null,
       "overflow_x": null,
       "overflow_y": null,
       "padding": null,
       "right": null,
       "top": null,
       "visibility": null,
       "width": null
      }
     },
     "2ffa1c5edf6c45ba8cf961cc0e47e3d5": {
      "model_module": "@jupyter-widgets/controls",
      "model_module_version": "1.5.0",
      "model_name": "HBoxModel",
      "state": {
       "_dom_classes": [],
       "_model_module": "@jupyter-widgets/controls",
       "_model_module_version": "1.5.0",
       "_model_name": "HBoxModel",
       "_view_count": null,
       "_view_module": "@jupyter-widgets/controls",
       "_view_module_version": "1.5.0",
       "_view_name": "HBoxView",
       "box_style": "",
       "children": [
        "IPY_MODEL_823f64705a8b4d6191b536e92f5a32b5",
        "IPY_MODEL_0a7001012ae54f1f9c158207578ec2db",
        "IPY_MODEL_5f831e2a2f7c490cbe4fbdc0b4acaa2c"
       ],
       "layout": "IPY_MODEL_3efaffc58d1247f09c8f78ab8b30bec1"
      }
     },
     "300b5c007bff4b41b1a952a4c7b7b7ed": {
      "model_module": "@jupyter-widgets/controls",
      "model_module_version": "1.5.0",
      "model_name": "HBoxModel",
      "state": {
       "_dom_classes": [],
       "_model_module": "@jupyter-widgets/controls",
       "_model_module_version": "1.5.0",
       "_model_name": "HBoxModel",
       "_view_count": null,
       "_view_module": "@jupyter-widgets/controls",
       "_view_module_version": "1.5.0",
       "_view_name": "HBoxView",
       "box_style": "",
       "children": [
        "IPY_MODEL_931730bf5f1f4c7c83aa1c5d3d49d350",
        "IPY_MODEL_70c549fab9e845ad9330a0c90707a06b",
        "IPY_MODEL_447fb9422e6d49b3bcce118983dfef82"
       ],
       "layout": "IPY_MODEL_adb9fd1931e045f28883202b5e0e9d83"
      }
     },
     "344badbee80144ccb4f1df0884ac0929": {
      "model_module": "@jupyter-widgets/controls",
      "model_module_version": "1.5.0",
      "model_name": "DescriptionStyleModel",
      "state": {
       "_model_module": "@jupyter-widgets/controls",
       "_model_module_version": "1.5.0",
       "_model_name": "DescriptionStyleModel",
       "_view_count": null,
       "_view_module": "@jupyter-widgets/base",
       "_view_module_version": "1.2.0",
       "_view_name": "StyleView",
       "description_width": ""
      }
     },
     "3508446c3925460e959d0dcb6949db2c": {
      "model_module": "@jupyter-widgets/base",
      "model_module_version": "1.2.0",
      "model_name": "LayoutModel",
      "state": {
       "_model_module": "@jupyter-widgets/base",
       "_model_module_version": "1.2.0",
       "_model_name": "LayoutModel",
       "_view_count": null,
       "_view_module": "@jupyter-widgets/base",
       "_view_module_version": "1.2.0",
       "_view_name": "LayoutView",
       "align_content": null,
       "align_items": null,
       "align_self": null,
       "border": null,
       "bottom": null,
       "display": null,
       "flex": null,
       "flex_flow": null,
       "grid_area": null,
       "grid_auto_columns": null,
       "grid_auto_flow": null,
       "grid_auto_rows": null,
       "grid_column": null,
       "grid_gap": null,
       "grid_row": null,
       "grid_template_areas": null,
       "grid_template_columns": null,
       "grid_template_rows": null,
       "height": null,
       "justify_content": null,
       "justify_items": null,
       "left": null,
       "margin": null,
       "max_height": null,
       "max_width": null,
       "min_height": null,
       "min_width": null,
       "object_fit": null,
       "object_position": null,
       "order": null,
       "overflow": null,
       "overflow_x": null,
       "overflow_y": null,
       "padding": null,
       "right": null,
       "top": null,
       "visibility": null,
       "width": null
      }
     },
     "3570e24375ed4193832228baf042c5c8": {
      "model_module": "@jupyter-widgets/base",
      "model_module_version": "1.2.0",
      "model_name": "LayoutModel",
      "state": {
       "_model_module": "@jupyter-widgets/base",
       "_model_module_version": "1.2.0",
       "_model_name": "LayoutModel",
       "_view_count": null,
       "_view_module": "@jupyter-widgets/base",
       "_view_module_version": "1.2.0",
       "_view_name": "LayoutView",
       "align_content": null,
       "align_items": null,
       "align_self": null,
       "border": null,
       "bottom": null,
       "display": null,
       "flex": null,
       "flex_flow": null,
       "grid_area": null,
       "grid_auto_columns": null,
       "grid_auto_flow": null,
       "grid_auto_rows": null,
       "grid_column": null,
       "grid_gap": null,
       "grid_row": null,
       "grid_template_areas": null,
       "grid_template_columns": null,
       "grid_template_rows": null,
       "height": null,
       "justify_content": null,
       "justify_items": null,
       "left": null,
       "margin": null,
       "max_height": null,
       "max_width": null,
       "min_height": null,
       "min_width": null,
       "object_fit": null,
       "object_position": null,
       "order": null,
       "overflow": null,
       "overflow_x": null,
       "overflow_y": null,
       "padding": null,
       "right": null,
       "top": null,
       "visibility": null,
       "width": null
      }
     },
     "36703d96f1df4a60a8d2983e87f4a9bc": {
      "model_module": "@jupyter-widgets/base",
      "model_module_version": "1.2.0",
      "model_name": "LayoutModel",
      "state": {
       "_model_module": "@jupyter-widgets/base",
       "_model_module_version": "1.2.0",
       "_model_name": "LayoutModel",
       "_view_count": null,
       "_view_module": "@jupyter-widgets/base",
       "_view_module_version": "1.2.0",
       "_view_name": "LayoutView",
       "align_content": null,
       "align_items": null,
       "align_self": null,
       "border": null,
       "bottom": null,
       "display": null,
       "flex": null,
       "flex_flow": null,
       "grid_area": null,
       "grid_auto_columns": null,
       "grid_auto_flow": null,
       "grid_auto_rows": null,
       "grid_column": null,
       "grid_gap": null,
       "grid_row": null,
       "grid_template_areas": null,
       "grid_template_columns": null,
       "grid_template_rows": null,
       "height": null,
       "justify_content": null,
       "justify_items": null,
       "left": null,
       "margin": null,
       "max_height": null,
       "max_width": null,
       "min_height": null,
       "min_width": null,
       "object_fit": null,
       "object_position": null,
       "order": null,
       "overflow": null,
       "overflow_x": null,
       "overflow_y": null,
       "padding": null,
       "right": null,
       "top": null,
       "visibility": null,
       "width": null
      }
     },
     "378825bde77b47a791b0c4ab06568b0f": {
      "model_module": "@jupyter-widgets/controls",
      "model_module_version": "1.5.0",
      "model_name": "DescriptionStyleModel",
      "state": {
       "_model_module": "@jupyter-widgets/controls",
       "_model_module_version": "1.5.0",
       "_model_name": "DescriptionStyleModel",
       "_view_count": null,
       "_view_module": "@jupyter-widgets/base",
       "_view_module_version": "1.2.0",
       "_view_name": "StyleView",
       "description_width": ""
      }
     },
     "3bd9c22a35fa4e6bac951adf38664e5e": {
      "model_module": "@jupyter-widgets/base",
      "model_module_version": "1.2.0",
      "model_name": "LayoutModel",
      "state": {
       "_model_module": "@jupyter-widgets/base",
       "_model_module_version": "1.2.0",
       "_model_name": "LayoutModel",
       "_view_count": null,
       "_view_module": "@jupyter-widgets/base",
       "_view_module_version": "1.2.0",
       "_view_name": "LayoutView",
       "align_content": null,
       "align_items": null,
       "align_self": null,
       "border": null,
       "bottom": null,
       "display": null,
       "flex": null,
       "flex_flow": null,
       "grid_area": null,
       "grid_auto_columns": null,
       "grid_auto_flow": null,
       "grid_auto_rows": null,
       "grid_column": null,
       "grid_gap": null,
       "grid_row": null,
       "grid_template_areas": null,
       "grid_template_columns": null,
       "grid_template_rows": null,
       "height": null,
       "justify_content": null,
       "justify_items": null,
       "left": null,
       "margin": null,
       "max_height": null,
       "max_width": null,
       "min_height": null,
       "min_width": null,
       "object_fit": null,
       "object_position": null,
       "order": null,
       "overflow": null,
       "overflow_x": null,
       "overflow_y": null,
       "padding": null,
       "right": null,
       "top": null,
       "visibility": null,
       "width": null
      }
     },
     "3c0dc6b3047d4420affc4b3252a112f5": {
      "model_module": "@jupyter-widgets/controls",
      "model_module_version": "1.5.0",
      "model_name": "FloatProgressModel",
      "state": {
       "_dom_classes": [],
       "_model_module": "@jupyter-widgets/controls",
       "_model_module_version": "1.5.0",
       "_model_name": "FloatProgressModel",
       "_view_count": null,
       "_view_module": "@jupyter-widgets/controls",
       "_view_module_version": "1.5.0",
       "_view_name": "ProgressView",
       "bar_style": "success",
       "description": "",
       "description_tooltip": null,
       "layout": "IPY_MODEL_d7f471d1978541578cba9b567d9aa0a6",
       "max": 333770.0,
       "min": 0.0,
       "orientation": "horizontal",
       "style": "IPY_MODEL_1494b0e15faf41d78b50107fa62d364b",
       "value": 333770.0
      }
     },
     "3d6be2f7d77544d19fc240800c851d8f": {
      "model_module": "@jupyter-widgets/controls",
      "model_module_version": "1.5.0",
      "model_name": "ProgressStyleModel",
      "state": {
       "_model_module": "@jupyter-widgets/controls",
       "_model_module_version": "1.5.0",
       "_model_name": "ProgressStyleModel",
       "_view_count": null,
       "_view_module": "@jupyter-widgets/base",
       "_view_module_version": "1.2.0",
       "_view_name": "StyleView",
       "bar_color": null,
       "description_width": ""
      }
     },
     "3d966b66f00f4b4ab286316029219ac8": {
      "model_module": "@jupyter-widgets/controls",
      "model_module_version": "1.5.0",
      "model_name": "DescriptionStyleModel",
      "state": {
       "_model_module": "@jupyter-widgets/controls",
       "_model_module_version": "1.5.0",
       "_model_name": "DescriptionStyleModel",
       "_view_count": null,
       "_view_module": "@jupyter-widgets/base",
       "_view_module_version": "1.2.0",
       "_view_name": "StyleView",
       "description_width": ""
      }
     },
     "3efaffc58d1247f09c8f78ab8b30bec1": {
      "model_module": "@jupyter-widgets/base",
      "model_module_version": "1.2.0",
      "model_name": "LayoutModel",
      "state": {
       "_model_module": "@jupyter-widgets/base",
       "_model_module_version": "1.2.0",
       "_model_name": "LayoutModel",
       "_view_count": null,
       "_view_module": "@jupyter-widgets/base",
       "_view_module_version": "1.2.0",
       "_view_name": "LayoutView",
       "align_content": null,
       "align_items": null,
       "align_self": null,
       "border": null,
       "bottom": null,
       "display": null,
       "flex": null,
       "flex_flow": null,
       "grid_area": null,
       "grid_auto_columns": null,
       "grid_auto_flow": null,
       "grid_auto_rows": null,
       "grid_column": null,
       "grid_gap": null,
       "grid_row": null,
       "grid_template_areas": null,
       "grid_template_columns": null,
       "grid_template_rows": null,
       "height": null,
       "justify_content": null,
       "justify_items": null,
       "left": null,
       "margin": null,
       "max_height": null,
       "max_width": null,
       "min_height": null,
       "min_width": null,
       "object_fit": null,
       "object_position": null,
       "order": null,
       "overflow": null,
       "overflow_x": null,
       "overflow_y": null,
       "padding": null,
       "right": null,
       "top": null,
       "visibility": null,
       "width": null
      }
     },
     "424fb1a6a3264a71bc477e4baad4dfd5": {
      "model_module": "@jupyter-widgets/controls",
      "model_module_version": "1.5.0",
      "model_name": "ProgressStyleModel",
      "state": {
       "_model_module": "@jupyter-widgets/controls",
       "_model_module_version": "1.5.0",
       "_model_name": "ProgressStyleModel",
       "_view_count": null,
       "_view_module": "@jupyter-widgets/base",
       "_view_module_version": "1.2.0",
       "_view_name": "StyleView",
       "bar_color": null,
       "description_width": ""
      }
     },
     "42566065aea74bbea6f462ae72c96930": {
      "model_module": "@jupyter-widgets/controls",
      "model_module_version": "1.5.0",
      "model_name": "HTMLModel",
      "state": {
       "_dom_classes": [],
       "_model_module": "@jupyter-widgets/controls",
       "_model_module_version": "1.5.0",
       "_model_name": "HTMLModel",
       "_view_count": null,
       "_view_module": "@jupyter-widgets/controls",
       "_view_module_version": "1.5.0",
       "_view_name": "HTMLView",
       "description": "",
       "description_tooltip": null,
       "layout": "IPY_MODEL_25104bee92754c2ca6951489ab7a75c7",
       "placeholder": "​",
       "style": "IPY_MODEL_4ec884fcf52c4386934a0d078eb4a787",
       "value": "Downloading: 100%"
      }
     },
     "427f939954b04f60b9a3947980c42b4a": {
      "model_module": "@jupyter-widgets/base",
      "model_module_version": "1.2.0",
      "model_name": "LayoutModel",
      "state": {
       "_model_module": "@jupyter-widgets/base",
       "_model_module_version": "1.2.0",
       "_model_name": "LayoutModel",
       "_view_count": null,
       "_view_module": "@jupyter-widgets/base",
       "_view_module_version": "1.2.0",
       "_view_name": "LayoutView",
       "align_content": null,
       "align_items": null,
       "align_self": null,
       "border": null,
       "bottom": null,
       "display": null,
       "flex": null,
       "flex_flow": null,
       "grid_area": null,
       "grid_auto_columns": null,
       "grid_auto_flow": null,
       "grid_auto_rows": null,
       "grid_column": null,
       "grid_gap": null,
       "grid_row": null,
       "grid_template_areas": null,
       "grid_template_columns": null,
       "grid_template_rows": null,
       "height": null,
       "justify_content": null,
       "justify_items": null,
       "left": null,
       "margin": null,
       "max_height": null,
       "max_width": null,
       "min_height": null,
       "min_width": null,
       "object_fit": null,
       "object_position": null,
       "order": null,
       "overflow": null,
       "overflow_x": null,
       "overflow_y": null,
       "padding": null,
       "right": null,
       "top": null,
       "visibility": null,
       "width": null
      }
     },
     "4447b61aae394cae8a626380c1bd366a": {
      "model_module": "@jupyter-widgets/controls",
      "model_module_version": "1.5.0",
      "model_name": "DescriptionStyleModel",
      "state": {
       "_model_module": "@jupyter-widgets/controls",
       "_model_module_version": "1.5.0",
       "_model_name": "DescriptionStyleModel",
       "_view_count": null,
       "_view_module": "@jupyter-widgets/base",
       "_view_module_version": "1.2.0",
       "_view_name": "StyleView",
       "description_width": ""
      }
     },
     "447fb9422e6d49b3bcce118983dfef82": {
      "model_module": "@jupyter-widgets/controls",
      "model_module_version": "1.5.0",
      "model_name": "HTMLModel",
      "state": {
       "_dom_classes": [],
       "_model_module": "@jupyter-widgets/controls",
       "_model_module_version": "1.5.0",
       "_model_name": "HTMLModel",
       "_view_count": null,
       "_view_module": "@jupyter-widgets/controls",
       "_view_module_version": "1.5.0",
       "_view_name": "HTMLView",
       "description": "",
       "description_tooltip": null,
       "layout": "IPY_MODEL_1057e5c295d44b1b8723ce8a175dafe5",
       "placeholder": "​",
       "style": "IPY_MODEL_6ee7ba0c2302414fba72a87e74ef4dbd",
       "value": " 379/379 [00:00&lt;00:00, 15.4kB/s]"
      }
     },
     "463d3c31eafc4bf4b3330d9ab360d952": {
      "model_module": "@jupyter-widgets/controls",
      "model_module_version": "1.5.0",
      "model_name": "DescriptionStyleModel",
      "state": {
       "_model_module": "@jupyter-widgets/controls",
       "_model_module_version": "1.5.0",
       "_model_name": "DescriptionStyleModel",
       "_view_count": null,
       "_view_module": "@jupyter-widgets/base",
       "_view_module_version": "1.2.0",
       "_view_name": "StyleView",
       "description_width": ""
      }
     },
     "4972224c229044bfa95ccfe0da2af0b2": {
      "model_module": "@jupyter-widgets/controls",
      "model_module_version": "1.5.0",
      "model_name": "ProgressStyleModel",
      "state": {
       "_model_module": "@jupyter-widgets/controls",
       "_model_module_version": "1.5.0",
       "_model_name": "ProgressStyleModel",
       "_view_count": null,
       "_view_module": "@jupyter-widgets/base",
       "_view_module_version": "1.2.0",
       "_view_name": "StyleView",
       "bar_color": null,
       "description_width": ""
      }
     },
     "4d029c843af14c95a697d9121d75efdf": {
      "model_module": "@jupyter-widgets/controls",
      "model_module_version": "1.5.0",
      "model_name": "HTMLModel",
      "state": {
       "_dom_classes": [],
       "_model_module": "@jupyter-widgets/controls",
       "_model_module_version": "1.5.0",
       "_model_name": "HTMLModel",
       "_view_count": null,
       "_view_module": "@jupyter-widgets/controls",
       "_view_module_version": "1.5.0",
       "_view_name": "HTMLView",
       "description": "",
       "description_tooltip": null,
       "layout": "IPY_MODEL_aae8c3fb08984422ad8bb67ad72509b5",
       "placeholder": "​",
       "style": "IPY_MODEL_378825bde77b47a791b0c4ab06568b0f",
       "value": " 520M/520M [00:12&lt;00:00, 45.8MB/s]"
      }
     },
     "4ec884fcf52c4386934a0d078eb4a787": {
      "model_module": "@jupyter-widgets/controls",
      "model_module_version": "1.5.0",
      "model_name": "DescriptionStyleModel",
      "state": {
       "_model_module": "@jupyter-widgets/controls",
       "_model_module_version": "1.5.0",
       "_model_name": "DescriptionStyleModel",
       "_view_count": null,
       "_view_module": "@jupyter-widgets/base",
       "_view_module_version": "1.2.0",
       "_view_name": "StyleView",
       "description_width": ""
      }
     },
     "54b17b318b114dd79843a2abd511edd2": {
      "model_module": "@jupyter-widgets/base",
      "model_module_version": "1.2.0",
      "model_name": "LayoutModel",
      "state": {
       "_model_module": "@jupyter-widgets/base",
       "_model_module_version": "1.2.0",
       "_model_name": "LayoutModel",
       "_view_count": null,
       "_view_module": "@jupyter-widgets/base",
       "_view_module_version": "1.2.0",
       "_view_name": "LayoutView",
       "align_content": null,
       "align_items": null,
       "align_self": null,
       "border": null,
       "bottom": null,
       "display": null,
       "flex": null,
       "flex_flow": null,
       "grid_area": null,
       "grid_auto_columns": null,
       "grid_auto_flow": null,
       "grid_auto_rows": null,
       "grid_column": null,
       "grid_gap": null,
       "grid_row": null,
       "grid_template_areas": null,
       "grid_template_columns": null,
       "grid_template_rows": null,
       "height": null,
       "justify_content": null,
       "justify_items": null,
       "left": null,
       "margin": null,
       "max_height": null,
       "max_width": null,
       "min_height": null,
       "min_width": null,
       "object_fit": null,
       "object_position": null,
       "order": null,
       "overflow": null,
       "overflow_x": null,
       "overflow_y": null,
       "padding": null,
       "right": null,
       "top": null,
       "visibility": null,
       "width": null
      }
     },
     "54f88192893047eeb42160289c0202d3": {
      "model_module": "@jupyter-widgets/controls",
      "model_module_version": "1.5.0",
      "model_name": "HTMLModel",
      "state": {
       "_dom_classes": [],
       "_model_module": "@jupyter-widgets/controls",
       "_model_module_version": "1.5.0",
       "_model_name": "HTMLModel",
       "_view_count": null,
       "_view_module": "@jupyter-widgets/controls",
       "_view_module_version": "1.5.0",
       "_view_name": "HTMLView",
       "description": "",
       "description_tooltip": null,
       "layout": "IPY_MODEL_802db7f45cdb433a96fdf1dfdcf09299",
       "placeholder": "​",
       "style": "IPY_MODEL_8c9866e8483c49bc9677765189d1a2fd",
       "value": " 112/112 [00:00&lt;00:00, 4.14kB/s]"
      }
     },
     "5c3117e958c84c11890ca0be327e53b0": {
      "model_module": "@jupyter-widgets/controls",
      "model_module_version": "1.5.0",
      "model_name": "FloatProgressModel",
      "state": {
       "_dom_classes": [],
       "_model_module": "@jupyter-widgets/controls",
       "_model_module_version": "1.5.0",
       "_model_name": "FloatProgressModel",
       "_view_count": null,
       "_view_module": "@jupyter-widgets/controls",
       "_view_module_version": "1.5.0",
       "_view_name": "ProgressView",
       "bar_style": "success",
       "description": "",
       "description_tooltip": null,
       "layout": "IPY_MODEL_c346f1224cc2423783bdf92137e55eb3",
       "max": 62.0,
       "min": 0.0,
       "orientation": "horizontal",
       "style": "IPY_MODEL_85891636e7834790ba9e01de88533588",
       "value": 62.0
      }
     },
     "5df26906f11e4f628988963be25df26a": {
      "model_module": "@jupyter-widgets/controls",
      "model_module_version": "1.5.0",
      "model_name": "HTMLModel",
      "state": {
       "_dom_classes": [],
       "_model_module": "@jupyter-widgets/controls",
       "_model_module_version": "1.5.0",
       "_model_name": "HTMLModel",
       "_view_count": null,
       "_view_module": "@jupyter-widgets/controls",
       "_view_module_version": "1.5.0",
       "_view_name": "HTMLView",
       "description": "",
       "description_tooltip": null,
       "layout": "IPY_MODEL_3bd9c22a35fa4e6bac951adf38664e5e",
       "placeholder": "​",
       "style": "IPY_MODEL_9632024bfaec4d5e8a38e2b60d8571f0",
       "value": "Downloading: 100%"
      }
     },
     "5f831e2a2f7c490cbe4fbdc0b4acaa2c": {
      "model_module": "@jupyter-widgets/controls",
      "model_module_version": "1.5.0",
      "model_name": "HTMLModel",
      "state": {
       "_dom_classes": [],
       "_model_module": "@jupyter-widgets/controls",
       "_model_module_version": "1.5.0",
       "_model_name": "HTMLModel",
       "_view_count": null,
       "_view_module": "@jupyter-widgets/controls",
       "_view_module_version": "1.5.0",
       "_view_name": "HTMLView",
       "description": "",
       "description_tooltip": null,
       "layout": "IPY_MODEL_b6eae1c6d69d485ab7ebd0e02f8badc7",
       "placeholder": "​",
       "style": "IPY_MODEL_3d966b66f00f4b4ab286316029219ac8",
       "value": " 491/491 [00:00&lt;00:00, 19.7kB/s]"
      }
     },
     "610ac6c2bb264f809876240f71cf916b": {
      "model_module": "@jupyter-widgets/base",
      "model_module_version": "1.2.0",
      "model_name": "LayoutModel",
      "state": {
       "_model_module": "@jupyter-widgets/base",
       "_model_module_version": "1.2.0",
       "_model_name": "LayoutModel",
       "_view_count": null,
       "_view_module": "@jupyter-widgets/base",
       "_view_module_version": "1.2.0",
       "_view_name": "LayoutView",
       "align_content": null,
       "align_items": null,
       "align_self": null,
       "border": null,
       "bottom": null,
       "display": null,
       "flex": null,
       "flex_flow": null,
       "grid_area": null,
       "grid_auto_columns": null,
       "grid_auto_flow": null,
       "grid_auto_rows": null,
       "grid_column": null,
       "grid_gap": null,
       "grid_row": null,
       "grid_template_areas": null,
       "grid_template_columns": null,
       "grid_template_rows": null,
       "height": null,
       "justify_content": null,
       "justify_items": null,
       "left": null,
       "margin": null,
       "max_height": null,
       "max_width": null,
       "min_height": null,
       "min_width": null,
       "object_fit": null,
       "object_position": null,
       "order": null,
       "overflow": null,
       "overflow_x": null,
       "overflow_y": null,
       "padding": null,
       "right": null,
       "top": null,
       "visibility": null,
       "width": null
      }
     },
     "6621164c58c24101aac96038744eee31": {
      "model_module": "@jupyter-widgets/base",
      "model_module_version": "1.2.0",
      "model_name": "LayoutModel",
      "state": {
       "_model_module": "@jupyter-widgets/base",
       "_model_module_version": "1.2.0",
       "_model_name": "LayoutModel",
       "_view_count": null,
       "_view_module": "@jupyter-widgets/base",
       "_view_module_version": "1.2.0",
       "_view_name": "LayoutView",
       "align_content": null,
       "align_items": null,
       "align_self": null,
       "border": null,
       "bottom": null,
       "display": null,
       "flex": null,
       "flex_flow": null,
       "grid_area": null,
       "grid_auto_columns": null,
       "grid_auto_flow": null,
       "grid_auto_rows": null,
       "grid_column": null,
       "grid_gap": null,
       "grid_row": null,
       "grid_template_areas": null,
       "grid_template_columns": null,
       "grid_template_rows": null,
       "height": null,
       "justify_content": null,
       "justify_items": null,
       "left": null,
       "margin": null,
       "max_height": null,
       "max_width": null,
       "min_height": null,
       "min_width": null,
       "object_fit": null,
       "object_position": null,
       "order": null,
       "overflow": null,
       "overflow_x": null,
       "overflow_y": null,
       "padding": null,
       "right": null,
       "top": null,
       "visibility": null,
       "width": null
      }
     },
     "68991d24e2064b179db93eee0923b7f1": {
      "model_module": "@jupyter-widgets/controls",
      "model_module_version": "1.5.0",
      "model_name": "HBoxModel",
      "state": {
       "_dom_classes": [],
       "_model_module": "@jupyter-widgets/controls",
       "_model_module_version": "1.5.0",
       "_model_name": "HBoxModel",
       "_view_count": null,
       "_view_module": "@jupyter-widgets/controls",
       "_view_module_version": "1.5.0",
       "_view_name": "HBoxView",
       "box_style": "",
       "children": [
        "IPY_MODEL_1f4be9270d834914ab3ef9caa2d6bce8",
        "IPY_MODEL_924fbf21be5b495bb62bc5cdb2b7f655",
        "IPY_MODEL_4d029c843af14c95a697d9121d75efdf"
       ],
       "layout": "IPY_MODEL_a1cebe7be58f4eb4b3c1f19fbbc97f25"
      }
     },
     "6e135b9dafdc4d1699f6f454f8504751": {
      "model_module": "@jupyter-widgets/base",
      "model_module_version": "1.2.0",
      "model_name": "LayoutModel",
      "state": {
       "_model_module": "@jupyter-widgets/base",
       "_model_module_version": "1.2.0",
       "_model_name": "LayoutModel",
       "_view_count": null,
       "_view_module": "@jupyter-widgets/base",
       "_view_module_version": "1.2.0",
       "_view_name": "LayoutView",
       "align_content": null,
       "align_items": null,
       "align_self": null,
       "border": null,
       "bottom": null,
       "display": null,
       "flex": null,
       "flex_flow": null,
       "grid_area": null,
       "grid_auto_columns": null,
       "grid_auto_flow": null,
       "grid_auto_rows": null,
       "grid_column": null,
       "grid_gap": null,
       "grid_row": null,
       "grid_template_areas": null,
       "grid_template_columns": null,
       "grid_template_rows": null,
       "height": null,
       "justify_content": null,
       "justify_items": null,
       "left": null,
       "margin": null,
       "max_height": null,
       "max_width": null,
       "min_height": null,
       "min_width": null,
       "object_fit": null,
       "object_position": null,
       "order": null,
       "overflow": null,
       "overflow_x": null,
       "overflow_y": null,
       "padding": null,
       "right": null,
       "top": null,
       "visibility": null,
       "width": null
      }
     },
     "6ee7ba0c2302414fba72a87e74ef4dbd": {
      "model_module": "@jupyter-widgets/controls",
      "model_module_version": "1.5.0",
      "model_name": "DescriptionStyleModel",
      "state": {
       "_model_module": "@jupyter-widgets/controls",
       "_model_module_version": "1.5.0",
       "_model_name": "DescriptionStyleModel",
       "_view_count": null,
       "_view_module": "@jupyter-widgets/base",
       "_view_module_version": "1.2.0",
       "_view_name": "StyleView",
       "description_width": ""
      }
     },
     "70c549fab9e845ad9330a0c90707a06b": {
      "model_module": "@jupyter-widgets/controls",
      "model_module_version": "1.5.0",
      "model_name": "FloatProgressModel",
      "state": {
       "_dom_classes": [],
       "_model_module": "@jupyter-widgets/controls",
       "_model_module_version": "1.5.0",
       "_model_name": "FloatProgressModel",
       "_view_count": null,
       "_view_module": "@jupyter-widgets/controls",
       "_view_module_version": "1.5.0",
       "_view_name": "ProgressView",
       "bar_style": "success",
       "description": "",
       "description_tooltip": null,
       "layout": "IPY_MODEL_d8ab2ef620d5442f81e24af42c096955",
       "max": 379.0,
       "min": 0.0,
       "orientation": "horizontal",
       "style": "IPY_MODEL_ca44e6a653a4432bb80386ab83d4cd85",
       "value": 379.0
      }
     },
     "73c96c1a7f65414ea1a798b768613635": {
      "model_module": "@jupyter-widgets/controls",
      "model_module_version": "1.5.0",
      "model_name": "ProgressStyleModel",
      "state": {
       "_model_module": "@jupyter-widgets/controls",
       "_model_module_version": "1.5.0",
       "_model_name": "ProgressStyleModel",
       "_view_count": null,
       "_view_module": "@jupyter-widgets/base",
       "_view_module_version": "1.2.0",
       "_view_name": "StyleView",
       "bar_color": null,
       "description_width": ""
      }
     },
     "7972972151114219a674c7be89270fec": {
      "model_module": "@jupyter-widgets/controls",
      "model_module_version": "1.5.0",
      "model_name": "HTMLModel",
      "state": {
       "_dom_classes": [],
       "_model_module": "@jupyter-widgets/controls",
       "_model_module_version": "1.5.0",
       "_model_name": "HTMLModel",
       "_view_count": null,
       "_view_module": "@jupyter-widgets/controls",
       "_view_module_version": "1.5.0",
       "_view_name": "HTMLView",
       "description": "",
       "description_tooltip": null,
       "layout": "IPY_MODEL_2febf5ea501745f7a0d2eb850e4f3943",
       "placeholder": "​",
       "style": "IPY_MODEL_463d3c31eafc4bf4b3330d9ab360d952",
       "value": " 326k/326k [00:00&lt;00:00, 876kB/s]"
      }
     },
     "79a0a9e942f344bc83c9df3603257465": {
      "model_module": "@jupyter-widgets/controls",
      "model_module_version": "1.5.0",
      "model_name": "HTMLModel",
      "state": {
       "_dom_classes": [],
       "_model_module": "@jupyter-widgets/controls",
       "_model_module_version": "1.5.0",
       "_model_name": "HTMLModel",
       "_view_count": null,
       "_view_module": "@jupyter-widgets/controls",
       "_view_module_version": "1.5.0",
       "_view_name": "HTMLView",
       "description": "",
       "description_tooltip": null,
       "layout": "IPY_MODEL_8c986716d5424fffad2f2b6d8faef065",
       "placeholder": "​",
       "style": "IPY_MODEL_a28b040900e64a8193fd783e5b8ea400",
       "value": " 2.57M/2.57M [00:00&lt;00:00, 2.80MB/s]"
      }
     },
     "7c1f8224075c47ed9283776ba88a4260": {
      "model_module": "@jupyter-widgets/controls",
      "model_module_version": "1.5.0",
      "model_name": "HTMLModel",
      "state": {
       "_dom_classes": [],
       "_model_module": "@jupyter-widgets/controls",
       "_model_module_version": "1.5.0",
       "_model_name": "HTMLModel",
       "_view_count": null,
       "_view_module": "@jupyter-widgets/controls",
       "_view_module_version": "1.5.0",
       "_view_name": "HTMLView",
       "description": "",
       "description_tooltip": null,
       "layout": "IPY_MODEL_cddc0446306647c88369dabfa0df9f5e",
       "placeholder": "​",
       "style": "IPY_MODEL_d291be3180a74d4aa3a47bea2a19b4a9",
       "value": " 112/112 [00:00&lt;00:00, 4.28kB/s]"
      }
     },
     "802db7f45cdb433a96fdf1dfdcf09299": {
      "model_module": "@jupyter-widgets/base",
      "model_module_version": "1.2.0",
      "model_name": "LayoutModel",
      "state": {
       "_model_module": "@jupyter-widgets/base",
       "_model_module_version": "1.2.0",
       "_model_name": "LayoutModel",
       "_view_count": null,
       "_view_module": "@jupyter-widgets/base",
       "_view_module_version": "1.2.0",
       "_view_name": "LayoutView",
       "align_content": null,
       "align_items": null,
       "align_self": null,
       "border": null,
       "bottom": null,
       "display": null,
       "flex": null,
       "flex_flow": null,
       "grid_area": null,
       "grid_auto_columns": null,
       "grid_auto_flow": null,
       "grid_auto_rows": null,
       "grid_column": null,
       "grid_gap": null,
       "grid_row": null,
       "grid_template_areas": null,
       "grid_template_columns": null,
       "grid_template_rows": null,
       "height": null,
       "justify_content": null,
       "justify_items": null,
       "left": null,
       "margin": null,
       "max_height": null,
       "max_width": null,
       "min_height": null,
       "min_width": null,
       "object_fit": null,
       "object_position": null,
       "order": null,
       "overflow": null,
       "overflow_x": null,
       "overflow_y": null,
       "padding": null,
       "right": null,
       "top": null,
       "visibility": null,
       "width": null
      }
     },
     "823f64705a8b4d6191b536e92f5a32b5": {
      "model_module": "@jupyter-widgets/controls",
      "model_module_version": "1.5.0",
      "model_name": "HTMLModel",
      "state": {
       "_dom_classes": [],
       "_model_module": "@jupyter-widgets/controls",
       "_model_module_version": "1.5.0",
       "_model_name": "HTMLModel",
       "_view_count": null,
       "_view_module": "@jupyter-widgets/controls",
       "_view_module_version": "1.5.0",
       "_view_name": "HTMLView",
       "description": "",
       "description_tooltip": null,
       "layout": "IPY_MODEL_f3b2165ae3d2490b9592b238fb5d180f",
       "placeholder": "​",
       "style": "IPY_MODEL_060c6913b21340588ace9f64c1af0fd6",
       "value": "Downloading: 100%"
      }
     },
     "8269ecb3a5724566b4239eb8bb020aef": {
      "model_module": "@jupyter-widgets/base",
      "model_module_version": "1.2.0",
      "model_name": "LayoutModel",
      "state": {
       "_model_module": "@jupyter-widgets/base",
       "_model_module_version": "1.2.0",
       "_model_name": "LayoutModel",
       "_view_count": null,
       "_view_module": "@jupyter-widgets/base",
       "_view_module_version": "1.2.0",
       "_view_name": "LayoutView",
       "align_content": null,
       "align_items": null,
       "align_self": null,
       "border": null,
       "bottom": null,
       "display": null,
       "flex": null,
       "flex_flow": null,
       "grid_area": null,
       "grid_auto_columns": null,
       "grid_auto_flow": null,
       "grid_auto_rows": null,
       "grid_column": null,
       "grid_gap": null,
       "grid_row": null,
       "grid_template_areas": null,
       "grid_template_columns": null,
       "grid_template_rows": null,
       "height": null,
       "justify_content": null,
       "justify_items": null,
       "left": null,
       "margin": null,
       "max_height": null,
       "max_width": null,
       "min_height": null,
       "min_width": null,
       "object_fit": null,
       "object_position": null,
       "order": null,
       "overflow": null,
       "overflow_x": null,
       "overflow_y": null,
       "padding": null,
       "right": null,
       "top": null,
       "visibility": null,
       "width": null
      }
     },
     "8349f72ddb8f49ab85a74a3cdda15934": {
      "model_module": "@jupyter-widgets/controls",
      "model_module_version": "1.5.0",
      "model_name": "DescriptionStyleModel",
      "state": {
       "_model_module": "@jupyter-widgets/controls",
       "_model_module_version": "1.5.0",
       "_model_name": "DescriptionStyleModel",
       "_view_count": null,
       "_view_module": "@jupyter-widgets/base",
       "_view_module_version": "1.2.0",
       "_view_name": "StyleView",
       "description_width": ""
      }
     },
     "85891636e7834790ba9e01de88533588": {
      "model_module": "@jupyter-widgets/controls",
      "model_module_version": "1.5.0",
      "model_name": "ProgressStyleModel",
      "state": {
       "_model_module": "@jupyter-widgets/controls",
       "_model_module_version": "1.5.0",
       "_model_name": "ProgressStyleModel",
       "_view_count": null,
       "_view_module": "@jupyter-widgets/base",
       "_view_module_version": "1.2.0",
       "_view_name": "StyleView",
       "bar_color": null,
       "description_width": ""
      }
     },
     "882e0ae27eae414b9875b0fa92b2fc49": {
      "model_module": "@jupyter-widgets/controls",
      "model_module_version": "1.5.0",
      "model_name": "HBoxModel",
      "state": {
       "_dom_classes": [],
       "_model_module": "@jupyter-widgets/controls",
       "_model_module_version": "1.5.0",
       "_model_name": "HBoxModel",
       "_view_count": null,
       "_view_module": "@jupyter-widgets/controls",
       "_view_module_version": "1.5.0",
       "_view_name": "HBoxView",
       "box_style": "",
       "children": [
        "IPY_MODEL_1c24d11e9b9d4f64976a11f7cac420c7",
        "IPY_MODEL_ed03593468e04d9893c8fb6aef7c1dfb",
        "IPY_MODEL_79a0a9e942f344bc83c9df3603257465"
       ],
       "layout": "IPY_MODEL_db8de411ea3d4042b0f0a08bfee074d5"
      }
     },
     "8951b9b348e844adbbe9858d7d6306c6": {
      "model_module": "@jupyter-widgets/controls",
      "model_module_version": "1.5.0",
      "model_name": "DescriptionStyleModel",
      "state": {
       "_model_module": "@jupyter-widgets/controls",
       "_model_module_version": "1.5.0",
       "_model_name": "DescriptionStyleModel",
       "_view_count": null,
       "_view_module": "@jupyter-widgets/base",
       "_view_module_version": "1.2.0",
       "_view_name": "StyleView",
       "description_width": ""
      }
     },
     "8c9866e8483c49bc9677765189d1a2fd": {
      "model_module": "@jupyter-widgets/controls",
      "model_module_version": "1.5.0",
      "model_name": "DescriptionStyleModel",
      "state": {
       "_model_module": "@jupyter-widgets/controls",
       "_model_module_version": "1.5.0",
       "_model_name": "DescriptionStyleModel",
       "_view_count": null,
       "_view_module": "@jupyter-widgets/base",
       "_view_module_version": "1.2.0",
       "_view_name": "StyleView",
       "description_width": ""
      }
     },
     "8c986716d5424fffad2f2b6d8faef065": {
      "model_module": "@jupyter-widgets/base",
      "model_module_version": "1.2.0",
      "model_name": "LayoutModel",
      "state": {
       "_model_module": "@jupyter-widgets/base",
       "_model_module_version": "1.2.0",
       "_model_name": "LayoutModel",
       "_view_count": null,
       "_view_module": "@jupyter-widgets/base",
       "_view_module_version": "1.2.0",
       "_view_name": "LayoutView",
       "align_content": null,
       "align_items": null,
       "align_self": null,
       "border": null,
       "bottom": null,
       "display": null,
       "flex": null,
       "flex_flow": null,
       "grid_area": null,
       "grid_auto_columns": null,
       "grid_auto_flow": null,
       "grid_auto_rows": null,
       "grid_column": null,
       "grid_gap": null,
       "grid_row": null,
       "grid_template_areas": null,
       "grid_template_columns": null,
       "grid_template_rows": null,
       "height": null,
       "justify_content": null,
       "justify_items": null,
       "left": null,
       "margin": null,
       "max_height": null,
       "max_width": null,
       "min_height": null,
       "min_width": null,
       "object_fit": null,
       "object_position": null,
       "order": null,
       "overflow": null,
       "overflow_x": null,
       "overflow_y": null,
       "padding": null,
       "right": null,
       "top": null,
       "visibility": null,
       "width": null
      }
     },
     "8fadb8ea2e7849e6a2f7d12642dcde2c": {
      "model_module": "@jupyter-widgets/controls",
      "model_module_version": "1.5.0",
      "model_name": "HTMLModel",
      "state": {
       "_dom_classes": [],
       "_model_module": "@jupyter-widgets/controls",
       "_model_module_version": "1.5.0",
       "_model_name": "HTMLModel",
       "_view_count": null,
       "_view_module": "@jupyter-widgets/controls",
       "_view_module_version": "1.5.0",
       "_view_name": "HTMLView",
       "description": "",
       "description_tooltip": null,
       "layout": "IPY_MODEL_3508446c3925460e959d0dcb6949db2c",
       "placeholder": "​",
       "style": "IPY_MODEL_ae0daefaa4de4b5ba009579d07562f6c",
       "value": "Downloading: 100%"
      }
     },
     "90f51700ef0a4e70a093145dcabcfee5": {
      "model_module": "@jupyter-widgets/controls",
      "model_module_version": "1.5.0",
      "model_name": "FloatProgressModel",
      "state": {
       "_dom_classes": [],
       "_model_module": "@jupyter-widgets/controls",
       "_model_module_version": "1.5.0",
       "_model_name": "FloatProgressModel",
       "_view_count": null,
       "_view_module": "@jupyter-widgets/controls",
       "_view_module_version": "1.5.0",
       "_view_name": "ProgressView",
       "bar_style": "success",
       "description": "",
       "description_tooltip": null,
       "layout": "IPY_MODEL_fa37a32f9c194777badbf961c02e96fe",
       "max": 112.0,
       "min": 0.0,
       "orientation": "horizontal",
       "style": "IPY_MODEL_3d6be2f7d77544d19fc240800c851d8f",
       "value": 112.0
      }
     },
     "924fbf21be5b495bb62bc5cdb2b7f655": {
      "model_module": "@jupyter-widgets/controls",
      "model_module_version": "1.5.0",
      "model_name": "FloatProgressModel",
      "state": {
       "_dom_classes": [],
       "_model_module": "@jupyter-widgets/controls",
       "_model_module_version": "1.5.0",
       "_model_name": "FloatProgressModel",
       "_view_count": null,
       "_view_module": "@jupyter-widgets/controls",
       "_view_module_version": "1.5.0",
       "_view_name": "ProgressView",
       "bar_style": "success",
       "description": "",
       "description_tooltip": null,
       "layout": "IPY_MODEL_94d44b4efc214e83aaed31a0b3cfd44a",
       "max": 545136632.0,
       "min": 0.0,
       "orientation": "horizontal",
       "style": "IPY_MODEL_73c96c1a7f65414ea1a798b768613635",
       "value": 545136632.0
      }
     },
     "931730bf5f1f4c7c83aa1c5d3d49d350": {
      "model_module": "@jupyter-widgets/controls",
      "model_module_version": "1.5.0",
      "model_name": "HTMLModel",
      "state": {
       "_dom_classes": [],
       "_model_module": "@jupyter-widgets/controls",
       "_model_module_version": "1.5.0",
       "_model_name": "HTMLModel",
       "_view_count": null,
       "_view_module": "@jupyter-widgets/controls",
       "_view_module_version": "1.5.0",
       "_view_name": "HTMLView",
       "description": "",
       "description_tooltip": null,
       "layout": "IPY_MODEL_167f705316e0427884744b04d1c679cc",
       "placeholder": "​",
       "style": "IPY_MODEL_2dc2b15f7f4240d896317b7fe9105611",
       "value": "Downloading: 100%"
      }
     },
     "94d44b4efc214e83aaed31a0b3cfd44a": {
      "model_module": "@jupyter-widgets/base",
      "model_module_version": "1.2.0",
      "model_name": "LayoutModel",
      "state": {
       "_model_module": "@jupyter-widgets/base",
       "_model_module_version": "1.2.0",
       "_model_name": "LayoutModel",
       "_view_count": null,
       "_view_module": "@jupyter-widgets/base",
       "_view_module_version": "1.2.0",
       "_view_name": "LayoutView",
       "align_content": null,
       "align_items": null,
       "align_self": null,
       "border": null,
       "bottom": null,
       "display": null,
       "flex": null,
       "flex_flow": null,
       "grid_area": null,
       "grid_auto_columns": null,
       "grid_auto_flow": null,
       "grid_auto_rows": null,
       "grid_column": null,
       "grid_gap": null,
       "grid_row": null,
       "grid_template_areas": null,
       "grid_template_columns": null,
       "grid_template_rows": null,
       "height": null,
       "justify_content": null,
       "justify_items": null,
       "left": null,
       "margin": null,
       "max_height": null,
       "max_width": null,
       "min_height": null,
       "min_width": null,
       "object_fit": null,
       "object_position": null,
       "order": null,
       "overflow": null,
       "overflow_x": null,
       "overflow_y": null,
       "padding": null,
       "right": null,
       "top": null,
       "visibility": null,
       "width": null
      }
     },
     "9632024bfaec4d5e8a38e2b60d8571f0": {
      "model_module": "@jupyter-widgets/controls",
      "model_module_version": "1.5.0",
      "model_name": "DescriptionStyleModel",
      "state": {
       "_model_module": "@jupyter-widgets/controls",
       "_model_module_version": "1.5.0",
       "_model_name": "DescriptionStyleModel",
       "_view_count": null,
       "_view_module": "@jupyter-widgets/base",
       "_view_module_version": "1.2.0",
       "_view_name": "StyleView",
       "description_width": ""
      }
     },
     "9b68b22c180c4cbb84b0697fba010515": {
      "model_module": "@jupyter-widgets/base",
      "model_module_version": "1.2.0",
      "model_name": "LayoutModel",
      "state": {
       "_model_module": "@jupyter-widgets/base",
       "_model_module_version": "1.2.0",
       "_model_name": "LayoutModel",
       "_view_count": null,
       "_view_module": "@jupyter-widgets/base",
       "_view_module_version": "1.2.0",
       "_view_name": "LayoutView",
       "align_content": null,
       "align_items": null,
       "align_self": null,
       "border": null,
       "bottom": null,
       "display": null,
       "flex": null,
       "flex_flow": null,
       "grid_area": null,
       "grid_auto_columns": null,
       "grid_auto_flow": null,
       "grid_auto_rows": null,
       "grid_column": null,
       "grid_gap": null,
       "grid_row": null,
       "grid_template_areas": null,
       "grid_template_columns": null,
       "grid_template_rows": null,
       "height": null,
       "justify_content": null,
       "justify_items": null,
       "left": null,
       "margin": null,
       "max_height": null,
       "max_width": null,
       "min_height": null,
       "min_width": null,
       "object_fit": null,
       "object_position": null,
       "order": null,
       "overflow": null,
       "overflow_x": null,
       "overflow_y": null,
       "padding": null,
       "right": null,
       "top": null,
       "visibility": null,
       "width": null
      }
     },
     "9e53b2644b1c42d8930481ceb773623e": {
      "model_module": "@jupyter-widgets/controls",
      "model_module_version": "1.5.0",
      "model_name": "HBoxModel",
      "state": {
       "_dom_classes": [],
       "_model_module": "@jupyter-widgets/controls",
       "_model_module_version": "1.5.0",
       "_model_name": "HBoxModel",
       "_view_count": null,
       "_view_module": "@jupyter-widgets/controls",
       "_view_module_version": "1.5.0",
       "_view_name": "HBoxView",
       "box_style": "",
       "children": [
        "IPY_MODEL_f02646779fb74ad0a56767d8951ea9f5",
        "IPY_MODEL_dcc5efb9555c4631b73698f93adb7f83",
        "IPY_MODEL_1a8985b63f6244b18968a080085de8ae"
       ],
       "layout": "IPY_MODEL_6e135b9dafdc4d1699f6f454f8504751"
      }
     },
     "a1cebe7be58f4eb4b3c1f19fbbc97f25": {
      "model_module": "@jupyter-widgets/base",
      "model_module_version": "1.2.0",
      "model_name": "LayoutModel",
      "state": {
       "_model_module": "@jupyter-widgets/base",
       "_model_module_version": "1.2.0",
       "_model_name": "LayoutModel",
       "_view_count": null,
       "_view_module": "@jupyter-widgets/base",
       "_view_module_version": "1.2.0",
       "_view_name": "LayoutView",
       "align_content": null,
       "align_items": null,
       "align_self": null,
       "border": null,
       "bottom": null,
       "display": null,
       "flex": null,
       "flex_flow": null,
       "grid_area": null,
       "grid_auto_columns": null,
       "grid_auto_flow": null,
       "grid_auto_rows": null,
       "grid_column": null,
       "grid_gap": null,
       "grid_row": null,
       "grid_template_areas": null,
       "grid_template_columns": null,
       "grid_template_rows": null,
       "height": null,
       "justify_content": null,
       "justify_items": null,
       "left": null,
       "margin": null,
       "max_height": null,
       "max_width": null,
       "min_height": null,
       "min_width": null,
       "object_fit": null,
       "object_position": null,
       "order": null,
       "overflow": null,
       "overflow_x": null,
       "overflow_y": null,
       "padding": null,
       "right": null,
       "top": null,
       "visibility": null,
       "width": null
      }
     },
     "a28b040900e64a8193fd783e5b8ea400": {
      "model_module": "@jupyter-widgets/controls",
      "model_module_version": "1.5.0",
      "model_name": "DescriptionStyleModel",
      "state": {
       "_model_module": "@jupyter-widgets/controls",
       "_model_module_version": "1.5.0",
       "_model_name": "DescriptionStyleModel",
       "_view_count": null,
       "_view_module": "@jupyter-widgets/base",
       "_view_module_version": "1.2.0",
       "_view_name": "StyleView",
       "description_width": ""
      }
     },
     "a39076d11f3843c89e6231a4df26f48d": {
      "model_module": "@jupyter-widgets/controls",
      "model_module_version": "1.5.0",
      "model_name": "ProgressStyleModel",
      "state": {
       "_model_module": "@jupyter-widgets/controls",
       "_model_module_version": "1.5.0",
       "_model_name": "ProgressStyleModel",
       "_view_count": null,
       "_view_module": "@jupyter-widgets/base",
       "_view_module_version": "1.2.0",
       "_view_name": "StyleView",
       "bar_color": null,
       "description_width": ""
      }
     },
     "a3b0b49ee472469c89c4f80c25779f0b": {
      "model_module": "@jupyter-widgets/controls",
      "model_module_version": "1.5.0",
      "model_name": "ProgressStyleModel",
      "state": {
       "_model_module": "@jupyter-widgets/controls",
       "_model_module_version": "1.5.0",
       "_model_name": "ProgressStyleModel",
       "_view_count": null,
       "_view_module": "@jupyter-widgets/base",
       "_view_module_version": "1.2.0",
       "_view_name": "StyleView",
       "bar_color": null,
       "description_width": ""
      }
     },
     "aae8c3fb08984422ad8bb67ad72509b5": {
      "model_module": "@jupyter-widgets/base",
      "model_module_version": "1.2.0",
      "model_name": "LayoutModel",
      "state": {
       "_model_module": "@jupyter-widgets/base",
       "_model_module_version": "1.2.0",
       "_model_name": "LayoutModel",
       "_view_count": null,
       "_view_module": "@jupyter-widgets/base",
       "_view_module_version": "1.2.0",
       "_view_name": "LayoutView",
       "align_content": null,
       "align_items": null,
       "align_self": null,
       "border": null,
       "bottom": null,
       "display": null,
       "flex": null,
       "flex_flow": null,
       "grid_area": null,
       "grid_auto_columns": null,
       "grid_auto_flow": null,
       "grid_auto_rows": null,
       "grid_column": null,
       "grid_gap": null,
       "grid_row": null,
       "grid_template_areas": null,
       "grid_template_columns": null,
       "grid_template_rows": null,
       "height": null,
       "justify_content": null,
       "justify_items": null,
       "left": null,
       "margin": null,
       "max_height": null,
       "max_width": null,
       "min_height": null,
       "min_width": null,
       "object_fit": null,
       "object_position": null,
       "order": null,
       "overflow": null,
       "overflow_x": null,
       "overflow_y": null,
       "padding": null,
       "right": null,
       "top": null,
       "visibility": null,
       "width": null
      }
     },
     "adb9fd1931e045f28883202b5e0e9d83": {
      "model_module": "@jupyter-widgets/base",
      "model_module_version": "1.2.0",
      "model_name": "LayoutModel",
      "state": {
       "_model_module": "@jupyter-widgets/base",
       "_model_module_version": "1.2.0",
       "_model_name": "LayoutModel",
       "_view_count": null,
       "_view_module": "@jupyter-widgets/base",
       "_view_module_version": "1.2.0",
       "_view_name": "LayoutView",
       "align_content": null,
       "align_items": null,
       "align_self": null,
       "border": null,
       "bottom": null,
       "display": null,
       "flex": null,
       "flex_flow": null,
       "grid_area": null,
       "grid_auto_columns": null,
       "grid_auto_flow": null,
       "grid_auto_rows": null,
       "grid_column": null,
       "grid_gap": null,
       "grid_row": null,
       "grid_template_areas": null,
       "grid_template_columns": null,
       "grid_template_rows": null,
       "height": null,
       "justify_content": null,
       "justify_items": null,
       "left": null,
       "margin": null,
       "max_height": null,
       "max_width": null,
       "min_height": null,
       "min_width": null,
       "object_fit": null,
       "object_position": null,
       "order": null,
       "overflow": null,
       "overflow_x": null,
       "overflow_y": null,
       "padding": null,
       "right": null,
       "top": null,
       "visibility": null,
       "width": null
      }
     },
     "ae0daefaa4de4b5ba009579d07562f6c": {
      "model_module": "@jupyter-widgets/controls",
      "model_module_version": "1.5.0",
      "model_name": "DescriptionStyleModel",
      "state": {
       "_model_module": "@jupyter-widgets/controls",
       "_model_module_version": "1.5.0",
       "_model_name": "DescriptionStyleModel",
       "_view_count": null,
       "_view_module": "@jupyter-widgets/base",
       "_view_module_version": "1.2.0",
       "_view_name": "StyleView",
       "description_width": ""
      }
     },
     "af9e6432edd348399760640f3144114d": {
      "model_module": "@jupyter-widgets/controls",
      "model_module_version": "1.5.0",
      "model_name": "HBoxModel",
      "state": {
       "_dom_classes": [],
       "_model_module": "@jupyter-widgets/controls",
       "_model_module_version": "1.5.0",
       "_model_name": "HBoxModel",
       "_view_count": null,
       "_view_module": "@jupyter-widgets/controls",
       "_view_module_version": "1.5.0",
       "_view_name": "HBoxView",
       "box_style": "",
       "children": [
        "IPY_MODEL_8fadb8ea2e7849e6a2f7d12642dcde2c",
        "IPY_MODEL_3c0dc6b3047d4420affc4b3252a112f5",
        "IPY_MODEL_7972972151114219a674c7be89270fec"
       ],
       "layout": "IPY_MODEL_8269ecb3a5724566b4239eb8bb020aef"
      }
     },
     "b622e3d01b3c484daecf6188d0cc768d": {
      "model_module": "@jupyter-widgets/base",
      "model_module_version": "1.2.0",
      "model_name": "LayoutModel",
      "state": {
       "_model_module": "@jupyter-widgets/base",
       "_model_module_version": "1.2.0",
       "_model_name": "LayoutModel",
       "_view_count": null,
       "_view_module": "@jupyter-widgets/base",
       "_view_module_version": "1.2.0",
       "_view_name": "LayoutView",
       "align_content": null,
       "align_items": null,
       "align_self": null,
       "border": null,
       "bottom": null,
       "display": null,
       "flex": null,
       "flex_flow": null,
       "grid_area": null,
       "grid_auto_columns": null,
       "grid_auto_flow": null,
       "grid_auto_rows": null,
       "grid_column": null,
       "grid_gap": null,
       "grid_row": null,
       "grid_template_areas": null,
       "grid_template_columns": null,
       "grid_template_rows": null,
       "height": null,
       "justify_content": null,
       "justify_items": null,
       "left": null,
       "margin": null,
       "max_height": null,
       "max_width": null,
       "min_height": null,
       "min_width": null,
       "object_fit": null,
       "object_position": null,
       "order": null,
       "overflow": null,
       "overflow_x": null,
       "overflow_y": null,
       "padding": null,
       "right": null,
       "top": null,
       "visibility": null,
       "width": null
      }
     },
     "b6eae1c6d69d485ab7ebd0e02f8badc7": {
      "model_module": "@jupyter-widgets/base",
      "model_module_version": "1.2.0",
      "model_name": "LayoutModel",
      "state": {
       "_model_module": "@jupyter-widgets/base",
       "_model_module_version": "1.2.0",
       "_model_name": "LayoutModel",
       "_view_count": null,
       "_view_module": "@jupyter-widgets/base",
       "_view_module_version": "1.2.0",
       "_view_name": "LayoutView",
       "align_content": null,
       "align_items": null,
       "align_self": null,
       "border": null,
       "bottom": null,
       "display": null,
       "flex": null,
       "flex_flow": null,
       "grid_area": null,
       "grid_auto_columns": null,
       "grid_auto_flow": null,
       "grid_auto_rows": null,
       "grid_column": null,
       "grid_gap": null,
       "grid_row": null,
       "grid_template_areas": null,
       "grid_template_columns": null,
       "grid_template_rows": null,
       "height": null,
       "justify_content": null,
       "justify_items": null,
       "left": null,
       "margin": null,
       "max_height": null,
       "max_width": null,
       "min_height": null,
       "min_width": null,
       "object_fit": null,
       "object_position": null,
       "order": null,
       "overflow": null,
       "overflow_x": null,
       "overflow_y": null,
       "padding": null,
       "right": null,
       "top": null,
       "visibility": null,
       "width": null
      }
     },
     "b78c9167803344bca9bc63fa9edd6540": {
      "model_module": "@jupyter-widgets/controls",
      "model_module_version": "1.5.0",
      "model_name": "HTMLModel",
      "state": {
       "_dom_classes": [],
       "_model_module": "@jupyter-widgets/controls",
       "_model_module_version": "1.5.0",
       "_model_name": "HTMLModel",
       "_view_count": null,
       "_view_module": "@jupyter-widgets/controls",
       "_view_module_version": "1.5.0",
       "_view_name": "HTMLView",
       "description": "",
       "description_tooltip": null,
       "layout": "IPY_MODEL_fc96397baf1744cfa1237173044e84ab",
       "placeholder": "​",
       "style": "IPY_MODEL_cf48661b63d1408fb3b5536d1b501b53",
       "value": " 762k/762k [00:00&lt;00:00, 828kB/s]"
      }
     },
     "b7cb863b7c024452951c159e9424f193": {
      "model_module": "@jupyter-widgets/controls",
      "model_module_version": "1.5.0",
      "model_name": "HTMLModel",
      "state": {
       "_dom_classes": [],
       "_model_module": "@jupyter-widgets/controls",
       "_model_module_version": "1.5.0",
       "_model_name": "HTMLModel",
       "_view_count": null,
       "_view_module": "@jupyter-widgets/controls",
       "_view_module_version": "1.5.0",
       "_view_name": "HTMLView",
       "description": "",
       "description_tooltip": null,
       "layout": "IPY_MODEL_f06cccec52774673a30f6bb6b6f49ea7",
       "placeholder": "​",
       "style": "IPY_MODEL_f1e43b5daeac46f1997b4330e581a86d",
       "value": "Downloading: 100%"
      }
     },
     "b978c9f92e9741cf8bd49b496af4d496": {
      "model_module": "@jupyter-widgets/controls",
      "model_module_version": "1.5.0",
      "model_name": "DescriptionStyleModel",
      "state": {
       "_model_module": "@jupyter-widgets/controls",
       "_model_module_version": "1.5.0",
       "_model_name": "DescriptionStyleModel",
       "_view_count": null,
       "_view_module": "@jupyter-widgets/base",
       "_view_module_version": "1.2.0",
       "_view_name": "StyleView",
       "description_width": ""
      }
     },
     "bffcadaa3576403f80f5444a62daac39": {
      "model_module": "@jupyter-widgets/base",
      "model_module_version": "1.2.0",
      "model_name": "LayoutModel",
      "state": {
       "_model_module": "@jupyter-widgets/base",
       "_model_module_version": "1.2.0",
       "_model_name": "LayoutModel",
       "_view_count": null,
       "_view_module": "@jupyter-widgets/base",
       "_view_module_version": "1.2.0",
       "_view_name": "LayoutView",
       "align_content": null,
       "align_items": null,
       "align_self": null,
       "border": null,
       "bottom": null,
       "display": null,
       "flex": null,
       "flex_flow": null,
       "grid_area": null,
       "grid_auto_columns": null,
       "grid_auto_flow": null,
       "grid_auto_rows": null,
       "grid_column": null,
       "grid_gap": null,
       "grid_row": null,
       "grid_template_areas": null,
       "grid_template_columns": null,
       "grid_template_rows": null,
       "height": null,
       "justify_content": null,
       "justify_items": null,
       "left": null,
       "margin": null,
       "max_height": null,
       "max_width": null,
       "min_height": null,
       "min_width": null,
       "object_fit": null,
       "object_position": null,
       "order": null,
       "overflow": null,
       "overflow_x": null,
       "overflow_y": null,
       "padding": null,
       "right": null,
       "top": null,
       "visibility": null,
       "width": null
      }
     },
     "c346f1224cc2423783bdf92137e55eb3": {
      "model_module": "@jupyter-widgets/base",
      "model_module_version": "1.2.0",
      "model_name": "LayoutModel",
      "state": {
       "_model_module": "@jupyter-widgets/base",
       "_model_module_version": "1.2.0",
       "_model_name": "LayoutModel",
       "_view_count": null,
       "_view_module": "@jupyter-widgets/base",
       "_view_module_version": "1.2.0",
       "_view_name": "LayoutView",
       "align_content": null,
       "align_items": null,
       "align_self": null,
       "border": null,
       "bottom": null,
       "display": null,
       "flex": null,
       "flex_flow": null,
       "grid_area": null,
       "grid_auto_columns": null,
       "grid_auto_flow": null,
       "grid_auto_rows": null,
       "grid_column": null,
       "grid_gap": null,
       "grid_row": null,
       "grid_template_areas": null,
       "grid_template_columns": null,
       "grid_template_rows": null,
       "height": null,
       "justify_content": null,
       "justify_items": null,
       "left": null,
       "margin": null,
       "max_height": null,
       "max_width": null,
       "min_height": null,
       "min_width": null,
       "object_fit": null,
       "object_position": null,
       "order": null,
       "overflow": null,
       "overflow_x": null,
       "overflow_y": null,
       "padding": null,
       "right": null,
       "top": null,
       "visibility": null,
       "width": null
      }
     },
     "c6d77e30d4d0477fb7bccf4ec0d854d1": {
      "model_module": "@jupyter-widgets/controls",
      "model_module_version": "1.5.0",
      "model_name": "ProgressStyleModel",
      "state": {
       "_model_module": "@jupyter-widgets/controls",
       "_model_module_version": "1.5.0",
       "_model_name": "ProgressStyleModel",
       "_view_count": null,
       "_view_module": "@jupyter-widgets/base",
       "_view_module_version": "1.2.0",
       "_view_name": "StyleView",
       "bar_color": null,
       "description_width": ""
      }
     },
     "ca44e6a653a4432bb80386ab83d4cd85": {
      "model_module": "@jupyter-widgets/controls",
      "model_module_version": "1.5.0",
      "model_name": "ProgressStyleModel",
      "state": {
       "_model_module": "@jupyter-widgets/controls",
       "_model_module_version": "1.5.0",
       "_model_name": "ProgressStyleModel",
       "_view_count": null,
       "_view_module": "@jupyter-widgets/base",
       "_view_module_version": "1.2.0",
       "_view_name": "StyleView",
       "bar_color": null,
       "description_width": ""
      }
     },
     "cc2f040c4a7a47178e32a29093d33f3b": {
      "model_module": "@jupyter-widgets/base",
      "model_module_version": "1.2.0",
      "model_name": "LayoutModel",
      "state": {
       "_model_module": "@jupyter-widgets/base",
       "_model_module_version": "1.2.0",
       "_model_name": "LayoutModel",
       "_view_count": null,
       "_view_module": "@jupyter-widgets/base",
       "_view_module_version": "1.2.0",
       "_view_name": "LayoutView",
       "align_content": null,
       "align_items": null,
       "align_self": null,
       "border": null,
       "bottom": null,
       "display": null,
       "flex": null,
       "flex_flow": null,
       "grid_area": null,
       "grid_auto_columns": null,
       "grid_auto_flow": null,
       "grid_auto_rows": null,
       "grid_column": null,
       "grid_gap": null,
       "grid_row": null,
       "grid_template_areas": null,
       "grid_template_columns": null,
       "grid_template_rows": null,
       "height": null,
       "justify_content": null,
       "justify_items": null,
       "left": null,
       "margin": null,
       "max_height": null,
       "max_width": null,
       "min_height": null,
       "min_width": null,
       "object_fit": null,
       "object_position": null,
       "order": null,
       "overflow": null,
       "overflow_x": null,
       "overflow_y": null,
       "padding": null,
       "right": null,
       "top": null,
       "visibility": null,
       "width": null
      }
     },
     "ccc3b94c42de43c79f9242181f07f2d4": {
      "model_module": "@jupyter-widgets/controls",
      "model_module_version": "1.5.0",
      "model_name": "HBoxModel",
      "state": {
       "_dom_classes": [],
       "_model_module": "@jupyter-widgets/controls",
       "_model_module_version": "1.5.0",
       "_model_name": "HBoxModel",
       "_view_count": null,
       "_view_module": "@jupyter-widgets/controls",
       "_view_module_version": "1.5.0",
       "_view_name": "HBoxView",
       "box_style": "",
       "children": [
        "IPY_MODEL_5df26906f11e4f628988963be25df26a",
        "IPY_MODEL_ecea0a85a6ed4e4ba91652bbebac3c49",
        "IPY_MODEL_7c1f8224075c47ed9283776ba88a4260"
       ],
       "layout": "IPY_MODEL_36703d96f1df4a60a8d2983e87f4a9bc"
      }
     },
     "cddc0446306647c88369dabfa0df9f5e": {
      "model_module": "@jupyter-widgets/base",
      "model_module_version": "1.2.0",
      "model_name": "LayoutModel",
      "state": {
       "_model_module": "@jupyter-widgets/base",
       "_model_module_version": "1.2.0",
       "_model_name": "LayoutModel",
       "_view_count": null,
       "_view_module": "@jupyter-widgets/base",
       "_view_module_version": "1.2.0",
       "_view_name": "LayoutView",
       "align_content": null,
       "align_items": null,
       "align_self": null,
       "border": null,
       "bottom": null,
       "display": null,
       "flex": null,
       "flex_flow": null,
       "grid_area": null,
       "grid_auto_columns": null,
       "grid_auto_flow": null,
       "grid_auto_rows": null,
       "grid_column": null,
       "grid_gap": null,
       "grid_row": null,
       "grid_template_areas": null,
       "grid_template_columns": null,
       "grid_template_rows": null,
       "height": null,
       "justify_content": null,
       "justify_items": null,
       "left": null,
       "margin": null,
       "max_height": null,
       "max_width": null,
       "min_height": null,
       "min_width": null,
       "object_fit": null,
       "object_position": null,
       "order": null,
       "overflow": null,
       "overflow_x": null,
       "overflow_y": null,
       "padding": null,
       "right": null,
       "top": null,
       "visibility": null,
       "width": null
      }
     },
     "cf48661b63d1408fb3b5536d1b501b53": {
      "model_module": "@jupyter-widgets/controls",
      "model_module_version": "1.5.0",
      "model_name": "DescriptionStyleModel",
      "state": {
       "_model_module": "@jupyter-widgets/controls",
       "_model_module_version": "1.5.0",
       "_model_name": "DescriptionStyleModel",
       "_view_count": null,
       "_view_module": "@jupyter-widgets/base",
       "_view_module_version": "1.2.0",
       "_view_name": "StyleView",
       "description_width": ""
      }
     },
     "d03d17e861e346e1abe8ff2754bd0553": {
      "model_module": "@jupyter-widgets/controls",
      "model_module_version": "1.5.0",
      "model_name": "DescriptionStyleModel",
      "state": {
       "_model_module": "@jupyter-widgets/controls",
       "_model_module_version": "1.5.0",
       "_model_name": "DescriptionStyleModel",
       "_view_count": null,
       "_view_module": "@jupyter-widgets/base",
       "_view_module_version": "1.2.0",
       "_view_name": "StyleView",
       "description_width": ""
      }
     },
     "d291be3180a74d4aa3a47bea2a19b4a9": {
      "model_module": "@jupyter-widgets/controls",
      "model_module_version": "1.5.0",
      "model_name": "DescriptionStyleModel",
      "state": {
       "_model_module": "@jupyter-widgets/controls",
       "_model_module_version": "1.5.0",
       "_model_name": "DescriptionStyleModel",
       "_view_count": null,
       "_view_module": "@jupyter-widgets/base",
       "_view_module_version": "1.2.0",
       "_view_name": "StyleView",
       "description_width": ""
      }
     },
     "d7f471d1978541578cba9b567d9aa0a6": {
      "model_module": "@jupyter-widgets/base",
      "model_module_version": "1.2.0",
      "model_name": "LayoutModel",
      "state": {
       "_model_module": "@jupyter-widgets/base",
       "_model_module_version": "1.2.0",
       "_model_name": "LayoutModel",
       "_view_count": null,
       "_view_module": "@jupyter-widgets/base",
       "_view_module_version": "1.2.0",
       "_view_name": "LayoutView",
       "align_content": null,
       "align_items": null,
       "align_self": null,
       "border": null,
       "bottom": null,
       "display": null,
       "flex": null,
       "flex_flow": null,
       "grid_area": null,
       "grid_auto_columns": null,
       "grid_auto_flow": null,
       "grid_auto_rows": null,
       "grid_column": null,
       "grid_gap": null,
       "grid_row": null,
       "grid_template_areas": null,
       "grid_template_columns": null,
       "grid_template_rows": null,
       "height": null,
       "justify_content": null,
       "justify_items": null,
       "left": null,
       "margin": null,
       "max_height": null,
       "max_width": null,
       "min_height": null,
       "min_width": null,
       "object_fit": null,
       "object_position": null,
       "order": null,
       "overflow": null,
       "overflow_x": null,
       "overflow_y": null,
       "padding": null,
       "right": null,
       "top": null,
       "visibility": null,
       "width": null
      }
     },
     "d8ab2ef620d5442f81e24af42c096955": {
      "model_module": "@jupyter-widgets/base",
      "model_module_version": "1.2.0",
      "model_name": "LayoutModel",
      "state": {
       "_model_module": "@jupyter-widgets/base",
       "_model_module_version": "1.2.0",
       "_model_name": "LayoutModel",
       "_view_count": null,
       "_view_module": "@jupyter-widgets/base",
       "_view_module_version": "1.2.0",
       "_view_name": "LayoutView",
       "align_content": null,
       "align_items": null,
       "align_self": null,
       "border": null,
       "bottom": null,
       "display": null,
       "flex": null,
       "flex_flow": null,
       "grid_area": null,
       "grid_auto_columns": null,
       "grid_auto_flow": null,
       "grid_auto_rows": null,
       "grid_column": null,
       "grid_gap": null,
       "grid_row": null,
       "grid_template_areas": null,
       "grid_template_columns": null,
       "grid_template_rows": null,
       "height": null,
       "justify_content": null,
       "justify_items": null,
       "left": null,
       "margin": null,
       "max_height": null,
       "max_width": null,
       "min_height": null,
       "min_width": null,
       "object_fit": null,
       "object_position": null,
       "order": null,
       "overflow": null,
       "overflow_x": null,
       "overflow_y": null,
       "padding": null,
       "right": null,
       "top": null,
       "visibility": null,
       "width": null
      }
     },
     "d8cc38f39ae04135b02652970a6cf55f": {
      "model_module": "@jupyter-widgets/base",
      "model_module_version": "1.2.0",
      "model_name": "LayoutModel",
      "state": {
       "_model_module": "@jupyter-widgets/base",
       "_model_module_version": "1.2.0",
       "_model_name": "LayoutModel",
       "_view_count": null,
       "_view_module": "@jupyter-widgets/base",
       "_view_module_version": "1.2.0",
       "_view_name": "LayoutView",
       "align_content": null,
       "align_items": null,
       "align_self": null,
       "border": null,
       "bottom": null,
       "display": null,
       "flex": null,
       "flex_flow": null,
       "grid_area": null,
       "grid_auto_columns": null,
       "grid_auto_flow": null,
       "grid_auto_rows": null,
       "grid_column": null,
       "grid_gap": null,
       "grid_row": null,
       "grid_template_areas": null,
       "grid_template_columns": null,
       "grid_template_rows": null,
       "height": null,
       "justify_content": null,
       "justify_items": null,
       "left": null,
       "margin": null,
       "max_height": null,
       "max_width": null,
       "min_height": null,
       "min_width": null,
       "object_fit": null,
       "object_position": null,
       "order": null,
       "overflow": null,
       "overflow_x": null,
       "overflow_y": null,
       "padding": null,
       "right": null,
       "top": null,
       "visibility": null,
       "width": null
      }
     },
     "db8de411ea3d4042b0f0a08bfee074d5": {
      "model_module": "@jupyter-widgets/base",
      "model_module_version": "1.2.0",
      "model_name": "LayoutModel",
      "state": {
       "_model_module": "@jupyter-widgets/base",
       "_model_module_version": "1.2.0",
       "_model_name": "LayoutModel",
       "_view_count": null,
       "_view_module": "@jupyter-widgets/base",
       "_view_module_version": "1.2.0",
       "_view_name": "LayoutView",
       "align_content": null,
       "align_items": null,
       "align_self": null,
       "border": null,
       "bottom": null,
       "display": null,
       "flex": null,
       "flex_flow": null,
       "grid_area": null,
       "grid_auto_columns": null,
       "grid_auto_flow": null,
       "grid_auto_rows": null,
       "grid_column": null,
       "grid_gap": null,
       "grid_row": null,
       "grid_template_areas": null,
       "grid_template_columns": null,
       "grid_template_rows": null,
       "height": null,
       "justify_content": null,
       "justify_items": null,
       "left": null,
       "margin": null,
       "max_height": null,
       "max_width": null,
       "min_height": null,
       "min_width": null,
       "object_fit": null,
       "object_position": null,
       "order": null,
       "overflow": null,
       "overflow_x": null,
       "overflow_y": null,
       "padding": null,
       "right": null,
       "top": null,
       "visibility": null,
       "width": null
      }
     },
     "dcc5efb9555c4631b73698f93adb7f83": {
      "model_module": "@jupyter-widgets/controls",
      "model_module_version": "1.5.0",
      "model_name": "FloatProgressModel",
      "state": {
       "_dom_classes": [],
       "_model_module": "@jupyter-widgets/controls",
       "_model_module_version": "1.5.0",
       "_model_name": "FloatProgressModel",
       "_view_count": null,
       "_view_module": "@jupyter-widgets/controls",
       "_view_module_version": "1.5.0",
       "_view_name": "ProgressView",
       "bar_style": "success",
       "description": "",
       "description_tooltip": null,
       "layout": "IPY_MODEL_2c5c7d563cad493e9c459262fbad6ce0",
       "max": 576.0,
       "min": 0.0,
       "orientation": "horizontal",
       "style": "IPY_MODEL_a39076d11f3843c89e6231a4df26f48d",
       "value": 576.0
      }
     },
     "de8e63262ffd49b4b92864090a8fe0cc": {
      "model_module": "@jupyter-widgets/controls",
      "model_module_version": "1.5.0",
      "model_name": "HTMLModel",
      "state": {
       "_dom_classes": [],
       "_model_module": "@jupyter-widgets/controls",
       "_model_module_version": "1.5.0",
       "_model_name": "HTMLModel",
       "_view_count": null,
       "_view_module": "@jupyter-widgets/controls",
       "_view_module_version": "1.5.0",
       "_view_name": "HTMLView",
       "description": "",
       "description_tooltip": null,
       "layout": "IPY_MODEL_0e51b121d0444ef6835a80beb3c99055",
       "placeholder": "​",
       "style": "IPY_MODEL_d03d17e861e346e1abe8ff2754bd0553",
       "value": " 62.0/62.0 [00:00&lt;00:00, 1.46kB/s]"
      }
     },
     "e01756dd84164ae685c075db09dd4041": {
      "model_module": "@jupyter-widgets/controls",
      "model_module_version": "1.5.0",
      "model_name": "HBoxModel",
      "state": {
       "_dom_classes": [],
       "_model_module": "@jupyter-widgets/controls",
       "_model_module_version": "1.5.0",
       "_model_name": "HBoxModel",
       "_view_count": null,
       "_view_module": "@jupyter-widgets/controls",
       "_view_module_version": "1.5.0",
       "_view_name": "HBoxView",
       "box_style": "",
       "children": [
        "IPY_MODEL_b7cb863b7c024452951c159e9424f193",
        "IPY_MODEL_90f51700ef0a4e70a093145dcabcfee5",
        "IPY_MODEL_54f88192893047eeb42160289c0202d3"
       ],
       "layout": "IPY_MODEL_bffcadaa3576403f80f5444a62daac39"
      }
     },
     "e0cade9b4dae4163be04f1b0af9644bd": {
      "model_module": "@jupyter-widgets/controls",
      "model_module_version": "1.5.0",
      "model_name": "HTMLModel",
      "state": {
       "_dom_classes": [],
       "_model_module": "@jupyter-widgets/controls",
       "_model_module_version": "1.5.0",
       "_model_name": "HTMLModel",
       "_view_count": null,
       "_view_module": "@jupyter-widgets/controls",
       "_view_module_version": "1.5.0",
       "_view_name": "HTMLView",
       "description": "",
       "description_tooltip": null,
       "layout": "IPY_MODEL_427f939954b04f60b9a3947980c42b4a",
       "placeholder": "​",
       "style": "IPY_MODEL_344badbee80144ccb4f1df0884ac0929",
       "value": " 708M/708M [00:16&lt;00:00, 33.0MB/s]"
      }
     },
     "e2e6138aa8944fc6895a1f37051171a1": {
      "model_module": "@jupyter-widgets/controls",
      "model_module_version": "1.5.0",
      "model_name": "HBoxModel",
      "state": {
       "_dom_classes": [],
       "_model_module": "@jupyter-widgets/controls",
       "_model_module_version": "1.5.0",
       "_model_name": "HBoxModel",
       "_view_count": null,
       "_view_module": "@jupyter-widgets/controls",
       "_view_module_version": "1.5.0",
       "_view_name": "HBoxView",
       "box_style": "",
       "children": [
        "IPY_MODEL_2ebd62f9c3694c23a7555ea42d868c48",
        "IPY_MODEL_03ad099758e74f8b9208b7acb73c7928",
        "IPY_MODEL_e0cade9b4dae4163be04f1b0af9644bd"
       ],
       "layout": "IPY_MODEL_2dbfbfd73fe746d8bcafb0324fe5e620"
      }
     },
     "e59680c26dcf401dbc1da4182bd25157": {
      "model_module": "@jupyter-widgets/controls",
      "model_module_version": "1.5.0",
      "model_name": "ProgressStyleModel",
      "state": {
       "_model_module": "@jupyter-widgets/controls",
       "_model_module_version": "1.5.0",
       "_model_name": "ProgressStyleModel",
       "_view_count": null,
       "_view_module": "@jupyter-widgets/base",
       "_view_module_version": "1.2.0",
       "_view_name": "StyleView",
       "bar_color": null,
       "description_width": ""
      }
     },
     "ebe134136dcd4174a1dccb9e6c404efd": {
      "model_module": "@jupyter-widgets/controls",
      "model_module_version": "1.5.0",
      "model_name": "DescriptionStyleModel",
      "state": {
       "_model_module": "@jupyter-widgets/controls",
       "_model_module_version": "1.5.0",
       "_model_name": "DescriptionStyleModel",
       "_view_count": null,
       "_view_module": "@jupyter-widgets/base",
       "_view_module_version": "1.2.0",
       "_view_name": "StyleView",
       "description_width": ""
      }
     },
     "ebecc9f204c343ca9c2d63edb85327cc": {
      "model_module": "@jupyter-widgets/base",
      "model_module_version": "1.2.0",
      "model_name": "LayoutModel",
      "state": {
       "_model_module": "@jupyter-widgets/base",
       "_model_module_version": "1.2.0",
       "_model_name": "LayoutModel",
       "_view_count": null,
       "_view_module": "@jupyter-widgets/base",
       "_view_module_version": "1.2.0",
       "_view_name": "LayoutView",
       "align_content": null,
       "align_items": null,
       "align_self": null,
       "border": null,
       "bottom": null,
       "display": null,
       "flex": null,
       "flex_flow": null,
       "grid_area": null,
       "grid_auto_columns": null,
       "grid_auto_flow": null,
       "grid_auto_rows": null,
       "grid_column": null,
       "grid_gap": null,
       "grid_row": null,
       "grid_template_areas": null,
       "grid_template_columns": null,
       "grid_template_rows": null,
       "height": null,
       "justify_content": null,
       "justify_items": null,
       "left": null,
       "margin": null,
       "max_height": null,
       "max_width": null,
       "min_height": null,
       "min_width": null,
       "object_fit": null,
       "object_position": null,
       "order": null,
       "overflow": null,
       "overflow_x": null,
       "overflow_y": null,
       "padding": null,
       "right": null,
       "top": null,
       "visibility": null,
       "width": null
      }
     },
     "ecea0a85a6ed4e4ba91652bbebac3c49": {
      "model_module": "@jupyter-widgets/controls",
      "model_module_version": "1.5.0",
      "model_name": "FloatProgressModel",
      "state": {
       "_dom_classes": [],
       "_model_module": "@jupyter-widgets/controls",
       "_model_module_version": "1.5.0",
       "_model_name": "FloatProgressModel",
       "_view_count": null,
       "_view_module": "@jupyter-widgets/controls",
       "_view_module_version": "1.5.0",
       "_view_name": "ProgressView",
       "bar_style": "success",
       "description": "",
       "description_tooltip": null,
       "layout": "IPY_MODEL_0b43ce2a91324d0aa0e0bb8f5c7876d7",
       "max": 112.0,
       "min": 0.0,
       "orientation": "horizontal",
       "style": "IPY_MODEL_a3b0b49ee472469c89c4f80c25779f0b",
       "value": 112.0
      }
     },
     "ed03593468e04d9893c8fb6aef7c1dfb": {
      "model_module": "@jupyter-widgets/controls",
      "model_module_version": "1.5.0",
      "model_name": "FloatProgressModel",
      "state": {
       "_dom_classes": [],
       "_model_module": "@jupyter-widgets/controls",
       "_model_module_version": "1.5.0",
       "_model_name": "FloatProgressModel",
       "_view_count": null,
       "_view_module": "@jupyter-widgets/controls",
       "_view_module_version": "1.5.0",
       "_view_name": "ProgressView",
       "bar_style": "success",
       "description": "",
       "description_tooltip": null,
       "layout": "IPY_MODEL_610ac6c2bb264f809876240f71cf916b",
       "max": 2697421.0,
       "min": 0.0,
       "orientation": "horizontal",
       "style": "IPY_MODEL_c6d77e30d4d0477fb7bccf4ec0d854d1",
       "value": 2697421.0
      }
     },
     "f02646779fb74ad0a56767d8951ea9f5": {
      "model_module": "@jupyter-widgets/controls",
      "model_module_version": "1.5.0",
      "model_name": "HTMLModel",
      "state": {
       "_dom_classes": [],
       "_model_module": "@jupyter-widgets/controls",
       "_model_module_version": "1.5.0",
       "_model_name": "HTMLModel",
       "_view_count": null,
       "_view_module": "@jupyter-widgets/controls",
       "_view_module_version": "1.5.0",
       "_view_name": "HTMLView",
       "description": "",
       "description_tooltip": null,
       "layout": "IPY_MODEL_3570e24375ed4193832228baf042c5c8",
       "placeholder": "​",
       "style": "IPY_MODEL_8951b9b348e844adbbe9858d7d6306c6",
       "value": "Downloading: 100%"
      }
     },
     "f06cccec52774673a30f6bb6b6f49ea7": {
      "model_module": "@jupyter-widgets/base",
      "model_module_version": "1.2.0",
      "model_name": "LayoutModel",
      "state": {
       "_model_module": "@jupyter-widgets/base",
       "_model_module_version": "1.2.0",
       "_model_name": "LayoutModel",
       "_view_count": null,
       "_view_module": "@jupyter-widgets/base",
       "_view_module_version": "1.2.0",
       "_view_name": "LayoutView",
       "align_content": null,
       "align_items": null,
       "align_self": null,
       "border": null,
       "bottom": null,
       "display": null,
       "flex": null,
       "flex_flow": null,
       "grid_area": null,
       "grid_auto_columns": null,
       "grid_auto_flow": null,
       "grid_auto_rows": null,
       "grid_column": null,
       "grid_gap": null,
       "grid_row": null,
       "grid_template_areas": null,
       "grid_template_columns": null,
       "grid_template_rows": null,
       "height": null,
       "justify_content": null,
       "justify_items": null,
       "left": null,
       "margin": null,
       "max_height": null,
       "max_width": null,
       "min_height": null,
       "min_width": null,
       "object_fit": null,
       "object_position": null,
       "order": null,
       "overflow": null,
       "overflow_x": null,
       "overflow_y": null,
       "padding": null,
       "right": null,
       "top": null,
       "visibility": null,
       "width": null
      }
     },
     "f1e43b5daeac46f1997b4330e581a86d": {
      "model_module": "@jupyter-widgets/controls",
      "model_module_version": "1.5.0",
      "model_name": "DescriptionStyleModel",
      "state": {
       "_model_module": "@jupyter-widgets/controls",
       "_model_module_version": "1.5.0",
       "_model_name": "DescriptionStyleModel",
       "_view_count": null,
       "_view_module": "@jupyter-widgets/base",
       "_view_module_version": "1.2.0",
       "_view_name": "StyleView",
       "description_width": ""
      }
     },
     "f3b2165ae3d2490b9592b238fb5d180f": {
      "model_module": "@jupyter-widgets/base",
      "model_module_version": "1.2.0",
      "model_name": "LayoutModel",
      "state": {
       "_model_module": "@jupyter-widgets/base",
       "_model_module_version": "1.2.0",
       "_model_name": "LayoutModel",
       "_view_count": null,
       "_view_module": "@jupyter-widgets/base",
       "_view_module_version": "1.2.0",
       "_view_name": "LayoutView",
       "align_content": null,
       "align_items": null,
       "align_self": null,
       "border": null,
       "bottom": null,
       "display": null,
       "flex": null,
       "flex_flow": null,
       "grid_area": null,
       "grid_auto_columns": null,
       "grid_auto_flow": null,
       "grid_auto_rows": null,
       "grid_column": null,
       "grid_gap": null,
       "grid_row": null,
       "grid_template_areas": null,
       "grid_template_columns": null,
       "grid_template_rows": null,
       "height": null,
       "justify_content": null,
       "justify_items": null,
       "left": null,
       "margin": null,
       "max_height": null,
       "max_width": null,
       "min_height": null,
       "min_width": null,
       "object_fit": null,
       "object_position": null,
       "order": null,
       "overflow": null,
       "overflow_x": null,
       "overflow_y": null,
       "padding": null,
       "right": null,
       "top": null,
       "visibility": null,
       "width": null
      }
     },
     "f3c6f545234144ca9f1fac3e36cc2901": {
      "model_module": "@jupyter-widgets/controls",
      "model_module_version": "1.5.0",
      "model_name": "HBoxModel",
      "state": {
       "_dom_classes": [],
       "_model_module": "@jupyter-widgets/controls",
       "_model_module_version": "1.5.0",
       "_model_name": "HBoxModel",
       "_view_count": null,
       "_view_module": "@jupyter-widgets/controls",
       "_view_module_version": "1.5.0",
       "_view_name": "HBoxView",
       "box_style": "",
       "children": [
        "IPY_MODEL_148baa4dba3a4dc8ab18cc1762380844",
        "IPY_MODEL_5c3117e958c84c11890ca0be327e53b0",
        "IPY_MODEL_de8e63262ffd49b4b92864090a8fe0cc"
       ],
       "layout": "IPY_MODEL_54b17b318b114dd79843a2abd511edd2"
      }
     },
     "fa37a32f9c194777badbf961c02e96fe": {
      "model_module": "@jupyter-widgets/base",
      "model_module_version": "1.2.0",
      "model_name": "LayoutModel",
      "state": {
       "_model_module": "@jupyter-widgets/base",
       "_model_module_version": "1.2.0",
       "_model_name": "LayoutModel",
       "_view_count": null,
       "_view_module": "@jupyter-widgets/base",
       "_view_module_version": "1.2.0",
       "_view_name": "LayoutView",
       "align_content": null,
       "align_items": null,
       "align_self": null,
       "border": null,
       "bottom": null,
       "display": null,
       "flex": null,
       "flex_flow": null,
       "grid_area": null,
       "grid_auto_columns": null,
       "grid_auto_flow": null,
       "grid_auto_rows": null,
       "grid_column": null,
       "grid_gap": null,
       "grid_row": null,
       "grid_template_areas": null,
       "grid_template_columns": null,
       "grid_template_rows": null,
       "height": null,
       "justify_content": null,
       "justify_items": null,
       "left": null,
       "margin": null,
       "max_height": null,
       "max_width": null,
       "min_height": null,
       "min_width": null,
       "object_fit": null,
       "object_position": null,
       "order": null,
       "overflow": null,
       "overflow_x": null,
       "overflow_y": null,
       "padding": null,
       "right": null,
       "top": null,
       "visibility": null,
       "width": null
      }
     },
     "fc96397baf1744cfa1237173044e84ab": {
      "model_module": "@jupyter-widgets/base",
      "model_module_version": "1.2.0",
      "model_name": "LayoutModel",
      "state": {
       "_model_module": "@jupyter-widgets/base",
       "_model_module_version": "1.2.0",
       "_model_name": "LayoutModel",
       "_view_count": null,
       "_view_module": "@jupyter-widgets/base",
       "_view_module_version": "1.2.0",
       "_view_name": "LayoutView",
       "align_content": null,
       "align_items": null,
       "align_self": null,
       "border": null,
       "bottom": null,
       "display": null,
       "flex": null,
       "flex_flow": null,
       "grid_area": null,
       "grid_auto_columns": null,
       "grid_auto_flow": null,
       "grid_auto_rows": null,
       "grid_column": null,
       "grid_gap": null,
       "grid_row": null,
       "grid_template_areas": null,
       "grid_template_columns": null,
       "grid_template_rows": null,
       "height": null,
       "justify_content": null,
       "justify_items": null,
       "left": null,
       "margin": null,
       "max_height": null,
       "max_width": null,
       "min_height": null,
       "min_width": null,
       "object_fit": null,
       "object_position": null,
       "order": null,
       "overflow": null,
       "overflow_x": null,
       "overflow_y": null,
       "padding": null,
       "right": null,
       "top": null,
       "visibility": null,
       "width": null
      }
     }
    },
    "version_major": 2,
    "version_minor": 0
   }
  }
 },
 "nbformat": 4,
 "nbformat_minor": 5
}
