{
 "cells": [
  {
   "cell_type": "code",
   "execution_count": 1,
   "id": "c2aaf545",
   "metadata": {
    "_cell_guid": "b1076dfc-b9ad-4769-8c92-a6c4dae69d19",
    "_uuid": "8f2839f25d086af736a60e9eeb907d3b93b6e0e5",
    "execution": {
     "iopub.execute_input": "2022-04-08T13:36:12.143585Z",
     "iopub.status.busy": "2022-04-08T13:36:12.142132Z",
     "iopub.status.idle": "2022-04-08T13:36:16.502521Z",
     "shell.execute_reply": "2022-04-08T13:36:16.501786Z",
     "shell.execute_reply.started": "2022-04-08T13:18:17.575027Z"
    },
    "papermill": {
     "duration": 4.457056,
     "end_time": "2022-04-08T13:36:16.502725",
     "exception": false,
     "start_time": "2022-04-08T13:36:12.045669",
     "status": "completed"
    },
    "tags": []
   },
   "outputs": [
    {
     "name": "stdout",
     "output_type": "stream",
     "text": [
      "/kaggle/input/harmful-speech/CT22_arabic_1C_harmful_dev.tsv\n",
      "/kaggle/input/harmful-speech/CT22_arabic_1C_harmful_dev_test.tsv\n",
      "/kaggle/input/harmful-speech/CT22_arabic_1C_harmful_train.tsv\n"
     ]
    }
   ],
   "source": [
    "# This Python 3 environment comes with many helpful analytics libraries installed\n",
    "# It is defined by the kaggle/python Docker image: https://github.com/kaggle/docker-python\n",
    "# For example, here's several helpful packages to load\n",
    "\n",
    "import numpy as np # linear algebra\n",
    "import pandas as pd # data processing, CSV file I/O (e.g. pd.read_csv)\n",
    "import tensorflow as tf\n",
    "# Input data files are available in the read-only \"../input/\" directory\n",
    "# For example, running this (by clicking run or pressing Shift+Enter) will list all files under the input directory\n",
    "\n",
    "import os\n",
    "for dirname, _, filenames in os.walk('/kaggle/input'):\n",
    "    for filename in filenames:\n",
    "        print(os.path.join(dirname, filename))\n",
    "\n",
    "# You can write up to 20GB to the current directory (/kaggle/working/) that gets preserved as output when you create a version using \"Save & Run All\" \n",
    "# You can also write temporary files to /kaggle/temp/, but they won't be saved outside of the current session"
   ]
  },
  {
   "cell_type": "code",
   "execution_count": 2,
   "id": "bd2f5c5e",
   "metadata": {
    "execution": {
     "iopub.execute_input": "2022-04-08T13:36:16.606306Z",
     "iopub.status.busy": "2022-04-08T13:36:16.605664Z",
     "iopub.status.idle": "2022-04-08T13:36:16.681695Z",
     "shell.execute_reply": "2022-04-08T13:36:16.680812Z",
     "shell.execute_reply.started": "2022-04-08T13:18:23.019803Z"
    },
    "papermill": {
     "duration": 0.129376,
     "end_time": "2022-04-08T13:36:16.681833",
     "exception": false,
     "start_time": "2022-04-08T13:36:16.552457",
     "status": "completed"
    },
    "tags": []
   },
   "outputs": [],
   "source": [
    "train=pd.read_csv('../input/harmful-speech/CT22_arabic_1C_harmful_train.tsv',sep='\\t')\n",
    "test=pd.read_csv('../input/harmful-speech/CT22_arabic_1C_harmful_dev_test.tsv',sep='\\t')\n",
    "dev=pd.read_csv('../input/harmful-speech/CT22_arabic_1C_harmful_dev.tsv',sep='\\t')"
   ]
  },
  {
   "cell_type": "code",
   "execution_count": 3,
   "id": "b88b28ef",
   "metadata": {
    "execution": {
     "iopub.execute_input": "2022-04-08T13:36:16.786576Z",
     "iopub.status.busy": "2022-04-08T13:36:16.785764Z",
     "iopub.status.idle": "2022-04-08T13:36:16.788866Z",
     "shell.execute_reply": "2022-04-08T13:36:16.789422Z",
     "shell.execute_reply.started": "2022-04-08T13:18:23.149794Z"
    },
    "papermill": {
     "duration": 0.058654,
     "end_time": "2022-04-08T13:36:16.789617",
     "exception": false,
     "start_time": "2022-04-08T13:36:16.730963",
     "status": "completed"
    },
    "tags": []
   },
   "outputs": [
    {
     "name": "stdout",
     "output_type": "stream",
     "text": [
      "3624 994 336\n"
     ]
    }
   ],
   "source": [
    "print(len(train),len(test),len(dev))"
   ]
  },
  {
   "cell_type": "code",
   "execution_count": 4,
   "id": "ce980d6b",
   "metadata": {
    "execution": {
     "iopub.execute_input": "2022-04-08T13:36:16.897437Z",
     "iopub.status.busy": "2022-04-08T13:36:16.894383Z",
     "iopub.status.idle": "2022-04-08T13:36:16.909744Z",
     "shell.execute_reply": "2022-04-08T13:36:16.910147Z",
     "shell.execute_reply.started": "2022-04-08T13:18:23.158731Z"
    },
    "papermill": {
     "duration": 0.070273,
     "end_time": "2022-04-08T13:36:16.910279",
     "exception": false,
     "start_time": "2022-04-08T13:36:16.840006",
     "status": "completed"
    },
    "tags": []
   },
   "outputs": [
    {
     "data": {
      "text/html": [
       "<div>\n",
       "<style scoped>\n",
       "    .dataframe tbody tr th:only-of-type {\n",
       "        vertical-align: middle;\n",
       "    }\n",
       "\n",
       "    .dataframe tbody tr th {\n",
       "        vertical-align: top;\n",
       "    }\n",
       "\n",
       "    .dataframe thead th {\n",
       "        text-align: right;\n",
       "    }\n",
       "</style>\n",
       "<table border=\"1\" class=\"dataframe\">\n",
       "  <thead>\n",
       "    <tr style=\"text-align: right;\">\n",
       "      <th></th>\n",
       "      <th>topic</th>\n",
       "      <th>tweet_id</th>\n",
       "      <th>tweet_url</th>\n",
       "      <th>tweet_text</th>\n",
       "      <th>class_label</th>\n",
       "    </tr>\n",
       "  </thead>\n",
       "  <tbody>\n",
       "    <tr>\n",
       "      <th>0</th>\n",
       "      <td>COVID-19</td>\n",
       "      <td>1366750293535444997</td>\n",
       "      <td>http://twitter.com/user/status/136675029353544...</td>\n",
       "      <td>الصحة: من تلقى لقاح كورونا وتجاوز بعد استكمال ...</td>\n",
       "      <td>0</td>\n",
       "    </tr>\n",
       "    <tr>\n",
       "      <th>1</th>\n",
       "      <td>COVID-19</td>\n",
       "      <td>1296280796131721217</td>\n",
       "      <td>http://twitter.com/user/status/129628079613172...</td>\n",
       "      <td>تصريح صادم من «الصحة العالمية»: لا يوجد لقاح ل...</td>\n",
       "      <td>1</td>\n",
       "    </tr>\n",
       "    <tr>\n",
       "      <th>2</th>\n",
       "      <td>COVID-19</td>\n",
       "      <td>1293111922326409216</td>\n",
       "      <td>http://twitter.com/user/status/129311192232640...</td>\n",
       "      <td>🔴بوتين يعلن عن تسجيل أول #لقاح ضد #فيروس_كورون...</td>\n",
       "      <td>0</td>\n",
       "    </tr>\n",
       "    <tr>\n",
       "      <th>3</th>\n",
       "      <td>COVID-19</td>\n",
       "      <td>1290288058617589761</td>\n",
       "      <td>http://twitter.com/user/status/129028805861758...</td>\n",
       "      <td>#روسيا تعد بتوفير ملايين الجرعات من لقاح #كورو...</td>\n",
       "      <td>0</td>\n",
       "    </tr>\n",
       "    <tr>\n",
       "      <th>4</th>\n",
       "      <td>COVID-19</td>\n",
       "      <td>1367487744323301386</td>\n",
       "      <td>http://twitter.com/user/status/136748774432330...</td>\n",
       "      <td>@SaudiMOH والدتي مصابه بتليف جزئي في الرئه وسك...</td>\n",
       "      <td>0</td>\n",
       "    </tr>\n",
       "  </tbody>\n",
       "</table>\n",
       "</div>"
      ],
      "text/plain": [
       "      topic             tweet_id  \\\n",
       "0  COVID-19  1366750293535444997   \n",
       "1  COVID-19  1296280796131721217   \n",
       "2  COVID-19  1293111922326409216   \n",
       "3  COVID-19  1290288058617589761   \n",
       "4  COVID-19  1367487744323301386   \n",
       "\n",
       "                                           tweet_url  \\\n",
       "0  http://twitter.com/user/status/136675029353544...   \n",
       "1  http://twitter.com/user/status/129628079613172...   \n",
       "2  http://twitter.com/user/status/129311192232640...   \n",
       "3  http://twitter.com/user/status/129028805861758...   \n",
       "4  http://twitter.com/user/status/136748774432330...   \n",
       "\n",
       "                                          tweet_text  class_label  \n",
       "0  الصحة: من تلقى لقاح كورونا وتجاوز بعد استكمال ...            0  \n",
       "1  تصريح صادم من «الصحة العالمية»: لا يوجد لقاح ل...            1  \n",
       "2  🔴بوتين يعلن عن تسجيل أول #لقاح ضد #فيروس_كورون...            0  \n",
       "3  #روسيا تعد بتوفير ملايين الجرعات من لقاح #كورو...            0  \n",
       "4  @SaudiMOH والدتي مصابه بتليف جزئي في الرئه وسك...            0  "
      ]
     },
     "execution_count": 4,
     "metadata": {},
     "output_type": "execute_result"
    }
   ],
   "source": [
    "dev.head()"
   ]
  },
  {
   "cell_type": "code",
   "execution_count": 5,
   "id": "8c0bc058",
   "metadata": {
    "execution": {
     "iopub.execute_input": "2022-04-08T13:36:17.020199Z",
     "iopub.status.busy": "2022-04-08T13:36:17.012390Z",
     "iopub.status.idle": "2022-04-08T13:36:17.023734Z",
     "shell.execute_reply": "2022-04-08T13:36:17.022785Z",
     "shell.execute_reply.started": "2022-04-08T13:18:23.187302Z"
    },
    "papermill": {
     "duration": 0.063974,
     "end_time": "2022-04-08T13:36:17.023852",
     "exception": false,
     "start_time": "2022-04-08T13:36:16.959878",
     "status": "completed"
    },
    "tags": []
   },
   "outputs": [
    {
     "data": {
      "text/html": [
       "<div>\n",
       "<style scoped>\n",
       "    .dataframe tbody tr th:only-of-type {\n",
       "        vertical-align: middle;\n",
       "    }\n",
       "\n",
       "    .dataframe tbody tr th {\n",
       "        vertical-align: top;\n",
       "    }\n",
       "\n",
       "    .dataframe thead th {\n",
       "        text-align: right;\n",
       "    }\n",
       "</style>\n",
       "<table border=\"1\" class=\"dataframe\">\n",
       "  <thead>\n",
       "    <tr style=\"text-align: right;\">\n",
       "      <th></th>\n",
       "      <th>topic</th>\n",
       "      <th>tweet_id</th>\n",
       "      <th>tweet_url</th>\n",
       "      <th>tweet_text</th>\n",
       "      <th>class_label</th>\n",
       "    </tr>\n",
       "  </thead>\n",
       "  <tbody>\n",
       "    <tr>\n",
       "      <th>0</th>\n",
       "      <td>COVID-19</td>\n",
       "      <td>1.367532e+18</td>\n",
       "      <td>http://twitter.com/user/status/136753224626623...</td>\n",
       "      <td>دخلت اسجل لقاح بمستشفى الجامعه وبيومين صار كل ...</td>\n",
       "      <td>0</td>\n",
       "    </tr>\n",
       "    <tr>\n",
       "      <th>1</th>\n",
       "      <td>COVID-19</td>\n",
       "      <td>1.297940e+18</td>\n",
       "      <td>http://twitter.com/user/status/129794009092531...</td>\n",
       "      <td>تعرّف على أول دولة ستحصل على اللقاح الروسي ضد ...</td>\n",
       "      <td>0</td>\n",
       "    </tr>\n",
       "    <tr>\n",
       "      <th>2</th>\n",
       "      <td>COVID-19</td>\n",
       "      <td>1.294701e+18</td>\n",
       "      <td>http://twitter.com/user/status/129470128763696...</td>\n",
       "      <td>البروفيسورة سارة جيلبرت قائدة فريق العمل في لق...</td>\n",
       "      <td>0</td>\n",
       "    </tr>\n",
       "    <tr>\n",
       "      <th>3</th>\n",
       "      <td>COVID-19</td>\n",
       "      <td>1.295658e+18</td>\n",
       "      <td>http://twitter.com/user/status/129565789215520...</td>\n",
       "      <td>#الصين :اللقاح المضاد ل #فيروس_كورونا سيكون مت...</td>\n",
       "      <td>0</td>\n",
       "    </tr>\n",
       "    <tr>\n",
       "      <th>4</th>\n",
       "      <td>COVID-19</td>\n",
       "      <td>1.293537e+18</td>\n",
       "      <td>http://twitter.com/user/status/129353728218048...</td>\n",
       "      <td>وزير الصحة الروسى: تطعيم الأطباء بلقاح #كورونا...</td>\n",
       "      <td>0</td>\n",
       "    </tr>\n",
       "  </tbody>\n",
       "</table>\n",
       "</div>"
      ],
      "text/plain": [
       "      topic      tweet_id                                          tweet_url  \\\n",
       "0  COVID-19  1.367532e+18  http://twitter.com/user/status/136753224626623...   \n",
       "1  COVID-19  1.297940e+18  http://twitter.com/user/status/129794009092531...   \n",
       "2  COVID-19  1.294701e+18  http://twitter.com/user/status/129470128763696...   \n",
       "3  COVID-19  1.295658e+18  http://twitter.com/user/status/129565789215520...   \n",
       "4  COVID-19  1.293537e+18  http://twitter.com/user/status/129353728218048...   \n",
       "\n",
       "                                          tweet_text  class_label  \n",
       "0  دخلت اسجل لقاح بمستشفى الجامعه وبيومين صار كل ...            0  \n",
       "1  تعرّف على أول دولة ستحصل على اللقاح الروسي ضد ...            0  \n",
       "2  البروفيسورة سارة جيلبرت قائدة فريق العمل في لق...            0  \n",
       "3  #الصين :اللقاح المضاد ل #فيروس_كورونا سيكون مت...            0  \n",
       "4  وزير الصحة الروسى: تطعيم الأطباء بلقاح #كورونا...            0  "
      ]
     },
     "execution_count": 5,
     "metadata": {},
     "output_type": "execute_result"
    }
   ],
   "source": [
    "test.head()"
   ]
  },
  {
   "cell_type": "code",
   "execution_count": 6,
   "id": "7cc61382",
   "metadata": {
    "execution": {
     "iopub.execute_input": "2022-04-08T13:36:17.135635Z",
     "iopub.status.busy": "2022-04-08T13:36:17.134801Z",
     "iopub.status.idle": "2022-04-08T13:36:17.137673Z",
     "shell.execute_reply": "2022-04-08T13:36:17.138164Z",
     "shell.execute_reply.started": "2022-04-08T13:18:23.201817Z"
    },
    "papermill": {
     "duration": 0.063687,
     "end_time": "2022-04-08T13:36:17.138290",
     "exception": false,
     "start_time": "2022-04-08T13:36:17.074603",
     "status": "completed"
    },
    "tags": []
   },
   "outputs": [
    {
     "data": {
      "text/html": [
       "<div>\n",
       "<style scoped>\n",
       "    .dataframe tbody tr th:only-of-type {\n",
       "        vertical-align: middle;\n",
       "    }\n",
       "\n",
       "    .dataframe tbody tr th {\n",
       "        vertical-align: top;\n",
       "    }\n",
       "\n",
       "    .dataframe thead th {\n",
       "        text-align: right;\n",
       "    }\n",
       "</style>\n",
       "<table border=\"1\" class=\"dataframe\">\n",
       "  <thead>\n",
       "    <tr style=\"text-align: right;\">\n",
       "      <th></th>\n",
       "      <th>topic</th>\n",
       "      <th>tweet_id</th>\n",
       "      <th>tweet_url</th>\n",
       "      <th>tweet_text</th>\n",
       "      <th>class_label</th>\n",
       "    </tr>\n",
       "  </thead>\n",
       "  <tbody>\n",
       "    <tr>\n",
       "      <th>0</th>\n",
       "      <td>COVID-19</td>\n",
       "      <td>1.297845e+18</td>\n",
       "      <td>http://twitter.com/user/status/129784491603128...</td>\n",
       "      <td>الحكومة البرازيلية @jairbolsonaro توقع اتفاقية...</td>\n",
       "      <td>0</td>\n",
       "    </tr>\n",
       "    <tr>\n",
       "      <th>1</th>\n",
       "      <td>COVID-19</td>\n",
       "      <td>1.241050e+18</td>\n",
       "      <td>http://twitter.com/user/status/124105023091052...</td>\n",
       "      <td>غضب شعبي في قطر لتباطؤ الحكومة ضد فيروس كورونا...</td>\n",
       "      <td>1</td>\n",
       "    </tr>\n",
       "    <tr>\n",
       "      <th>2</th>\n",
       "      <td>COVID-19</td>\n",
       "      <td>1.366702e+18</td>\n",
       "      <td>http://twitter.com/user/status/136670236419181...</td>\n",
       "      <td>https://t.co/nmy4E7GBBu تبلغ سعة مستشفى الأمير...</td>\n",
       "      <td>0</td>\n",
       "    </tr>\n",
       "    <tr>\n",
       "      <th>3</th>\n",
       "      <td>COVID-19</td>\n",
       "      <td>1.293905e+18</td>\n",
       "      <td>http://twitter.com/user/status/129390484305719...</td>\n",
       "      <td>الكيميتريل اللي بيترش لقاح فيروس كورونا وحـ,,ـ...</td>\n",
       "      <td>1</td>\n",
       "    </tr>\n",
       "    <tr>\n",
       "      <th>4</th>\n",
       "      <td>COVID-19</td>\n",
       "      <td>1.293258e+18</td>\n",
       "      <td>http://twitter.com/user/status/129325812550884...</td>\n",
       "      <td>قال روسيا اعلنت عن لقاح مشان فيروس كورونا 🤔 حد...</td>\n",
       "      <td>1</td>\n",
       "    </tr>\n",
       "  </tbody>\n",
       "</table>\n",
       "</div>"
      ],
      "text/plain": [
       "      topic      tweet_id                                          tweet_url  \\\n",
       "0  COVID-19  1.297845e+18  http://twitter.com/user/status/129784491603128...   \n",
       "1  COVID-19  1.241050e+18  http://twitter.com/user/status/124105023091052...   \n",
       "2  COVID-19  1.366702e+18  http://twitter.com/user/status/136670236419181...   \n",
       "3  COVID-19  1.293905e+18  http://twitter.com/user/status/129390484305719...   \n",
       "4  COVID-19  1.293258e+18  http://twitter.com/user/status/129325812550884...   \n",
       "\n",
       "                                          tweet_text  class_label  \n",
       "0  الحكومة البرازيلية @jairbolsonaro توقع اتفاقية...            0  \n",
       "1  غضب شعبي في قطر لتباطؤ الحكومة ضد فيروس كورونا...            1  \n",
       "2  https://t.co/nmy4E7GBBu تبلغ سعة مستشفى الأمير...            0  \n",
       "3  الكيميتريل اللي بيترش لقاح فيروس كورونا وحـ,,ـ...            1  \n",
       "4  قال روسيا اعلنت عن لقاح مشان فيروس كورونا 🤔 حد...            1  "
      ]
     },
     "execution_count": 6,
     "metadata": {},
     "output_type": "execute_result"
    }
   ],
   "source": [
    "train.head()"
   ]
  },
  {
   "cell_type": "code",
   "execution_count": 7,
   "id": "e7adefeb",
   "metadata": {
    "execution": {
     "iopub.execute_input": "2022-04-08T13:36:17.256886Z",
     "iopub.status.busy": "2022-04-08T13:36:17.256027Z",
     "iopub.status.idle": "2022-04-08T13:36:17.257792Z",
     "shell.execute_reply": "2022-04-08T13:36:17.258244Z",
     "shell.execute_reply.started": "2022-04-08T13:18:23.217014Z"
    },
    "papermill": {
     "duration": 0.067843,
     "end_time": "2022-04-08T13:36:17.258382",
     "exception": false,
     "start_time": "2022-04-08T13:36:17.190539",
     "status": "completed"
    },
    "tags": []
   },
   "outputs": [],
   "source": [
    "train.drop(['tweet_url'],axis=1,inplace=True)\n",
    "test.drop(['tweet_url'],axis=1,inplace=True)\n",
    "dev.drop(['tweet_url'],axis=1,inplace=True)"
   ]
  },
  {
   "cell_type": "code",
   "execution_count": 8,
   "id": "bff2ae08",
   "metadata": {
    "execution": {
     "iopub.execute_input": "2022-04-08T13:36:17.366877Z",
     "iopub.status.busy": "2022-04-08T13:36:17.366077Z",
     "iopub.status.idle": "2022-04-08T13:36:17.373248Z",
     "shell.execute_reply": "2022-04-08T13:36:17.373644Z",
     "shell.execute_reply.started": "2022-04-08T13:18:23.236139Z"
    },
    "papermill": {
     "duration": 0.064027,
     "end_time": "2022-04-08T13:36:17.373786",
     "exception": false,
     "start_time": "2022-04-08T13:36:17.309759",
     "status": "completed"
    },
    "tags": []
   },
   "outputs": [
    {
     "data": {
      "text/html": [
       "<div>\n",
       "<style scoped>\n",
       "    .dataframe tbody tr th:only-of-type {\n",
       "        vertical-align: middle;\n",
       "    }\n",
       "\n",
       "    .dataframe tbody tr th {\n",
       "        vertical-align: top;\n",
       "    }\n",
       "\n",
       "    .dataframe thead th {\n",
       "        text-align: right;\n",
       "    }\n",
       "</style>\n",
       "<table border=\"1\" class=\"dataframe\">\n",
       "  <thead>\n",
       "    <tr style=\"text-align: right;\">\n",
       "      <th></th>\n",
       "      <th>topic</th>\n",
       "      <th>tweet_id</th>\n",
       "      <th>tweet_text</th>\n",
       "      <th>class_label</th>\n",
       "    </tr>\n",
       "  </thead>\n",
       "  <tbody>\n",
       "  </tbody>\n",
       "</table>\n",
       "</div>"
      ],
      "text/plain": [
       "Empty DataFrame\n",
       "Columns: [topic, tweet_id, tweet_text, class_label]\n",
       "Index: []"
      ]
     },
     "execution_count": 8,
     "metadata": {},
     "output_type": "execute_result"
    }
   ],
   "source": [
    "train[train.isnull().any(axis=1)].head()"
   ]
  },
  {
   "cell_type": "code",
   "execution_count": 9,
   "id": "78c0d58c",
   "metadata": {
    "execution": {
     "iopub.execute_input": "2022-04-08T13:36:17.485481Z",
     "iopub.status.busy": "2022-04-08T13:36:17.479478Z",
     "iopub.status.idle": "2022-04-08T13:36:17.488520Z",
     "shell.execute_reply": "2022-04-08T13:36:17.488128Z",
     "shell.execute_reply.started": "2022-04-08T13:18:23.252435Z"
    },
    "papermill": {
     "duration": 0.063476,
     "end_time": "2022-04-08T13:36:17.488661",
     "exception": false,
     "start_time": "2022-04-08T13:36:17.425185",
     "status": "completed"
    },
    "tags": []
   },
   "outputs": [
    {
     "data": {
      "text/html": [
       "<div>\n",
       "<style scoped>\n",
       "    .dataframe tbody tr th:only-of-type {\n",
       "        vertical-align: middle;\n",
       "    }\n",
       "\n",
       "    .dataframe tbody tr th {\n",
       "        vertical-align: top;\n",
       "    }\n",
       "\n",
       "    .dataframe thead th {\n",
       "        text-align: right;\n",
       "    }\n",
       "</style>\n",
       "<table border=\"1\" class=\"dataframe\">\n",
       "  <thead>\n",
       "    <tr style=\"text-align: right;\">\n",
       "      <th></th>\n",
       "      <th>topic</th>\n",
       "      <th>tweet_id</th>\n",
       "      <th>tweet_text</th>\n",
       "      <th>class_label</th>\n",
       "    </tr>\n",
       "  </thead>\n",
       "  <tbody>\n",
       "  </tbody>\n",
       "</table>\n",
       "</div>"
      ],
      "text/plain": [
       "Empty DataFrame\n",
       "Columns: [topic, tweet_id, tweet_text, class_label]\n",
       "Index: []"
      ]
     },
     "execution_count": 9,
     "metadata": {},
     "output_type": "execute_result"
    }
   ],
   "source": [
    "test[test.isnull().any(axis=1)].head()"
   ]
  },
  {
   "cell_type": "code",
   "execution_count": 10,
   "id": "8695e893",
   "metadata": {
    "execution": {
     "iopub.execute_input": "2022-04-08T13:36:17.601175Z",
     "iopub.status.busy": "2022-04-08T13:36:17.597443Z",
     "iopub.status.idle": "2022-04-08T13:36:17.603874Z",
     "shell.execute_reply": "2022-04-08T13:36:17.604320Z",
     "shell.execute_reply.started": "2022-04-08T13:18:23.268420Z"
    },
    "papermill": {
     "duration": 0.064239,
     "end_time": "2022-04-08T13:36:17.604449",
     "exception": false,
     "start_time": "2022-04-08T13:36:17.540210",
     "status": "completed"
    },
    "tags": []
   },
   "outputs": [
    {
     "data": {
      "text/html": [
       "<div>\n",
       "<style scoped>\n",
       "    .dataframe tbody tr th:only-of-type {\n",
       "        vertical-align: middle;\n",
       "    }\n",
       "\n",
       "    .dataframe tbody tr th {\n",
       "        vertical-align: top;\n",
       "    }\n",
       "\n",
       "    .dataframe thead th {\n",
       "        text-align: right;\n",
       "    }\n",
       "</style>\n",
       "<table border=\"1\" class=\"dataframe\">\n",
       "  <thead>\n",
       "    <tr style=\"text-align: right;\">\n",
       "      <th></th>\n",
       "      <th>topic</th>\n",
       "      <th>tweet_id</th>\n",
       "      <th>tweet_text</th>\n",
       "      <th>class_label</th>\n",
       "    </tr>\n",
       "  </thead>\n",
       "  <tbody>\n",
       "  </tbody>\n",
       "</table>\n",
       "</div>"
      ],
      "text/plain": [
       "Empty DataFrame\n",
       "Columns: [topic, tweet_id, tweet_text, class_label]\n",
       "Index: []"
      ]
     },
     "execution_count": 10,
     "metadata": {},
     "output_type": "execute_result"
    }
   ],
   "source": [
    "dev[dev.isnull().any(axis=1)].head()"
   ]
  },
  {
   "cell_type": "code",
   "execution_count": 11,
   "id": "6e21752c",
   "metadata": {
    "execution": {
     "iopub.execute_input": "2022-04-08T13:36:17.713896Z",
     "iopub.status.busy": "2022-04-08T13:36:17.713236Z",
     "iopub.status.idle": "2022-04-08T13:36:18.438514Z",
     "shell.execute_reply": "2022-04-08T13:36:18.439448Z",
     "shell.execute_reply.started": "2022-04-08T13:18:23.287228Z"
    },
    "papermill": {
     "duration": 0.78257,
     "end_time": "2022-04-08T13:36:18.439621",
     "exception": false,
     "start_time": "2022-04-08T13:36:17.657051",
     "status": "completed"
    },
    "tags": []
   },
   "outputs": [
    {
     "data": {
      "text/plain": [
       "<AxesSubplot:xlabel='class_label', ylabel='count'>"
      ]
     },
     "execution_count": 11,
     "metadata": {},
     "output_type": "execute_result"
    },
    {
     "data": {
      "image/png": "[encoded data removed]",
      "text/plain": [
       "<Figure size 432x288 with 1 Axes>"
      ]
     },
     "metadata": {
      "needs_background": "light"
     },
     "output_type": "display_data"
    }
   ],
   "source": [
    "import seaborn as sns\n",
    "sns.countplot(x='class_label', data=train)"
   ]
  },
  {
   "cell_type": "code",
   "execution_count": 12,
   "id": "f4a7c756",
   "metadata": {
    "execution": {
     "iopub.execute_input": "2022-04-08T13:36:18.552740Z",
     "iopub.status.busy": "2022-04-08T13:36:18.552104Z",
     "iopub.status.idle": "2022-04-08T13:36:18.555044Z",
     "shell.execute_reply": "2022-04-08T13:36:18.555448Z",
     "shell.execute_reply.started": "2022-04-08T13:18:24.220326Z"
    },
    "papermill": {
     "duration": 0.062388,
     "end_time": "2022-04-08T13:36:18.555612",
     "exception": false,
     "start_time": "2022-04-08T13:36:18.493224",
     "status": "completed"
    },
    "tags": []
   },
   "outputs": [
    {
     "name": "stdout",
     "output_type": "stream",
     "text": [
      "Bill Gates التقني الذي تحول إلى فاعل خير في مجال اللقاحات .. ما بين رأي من يراه أحد أكثر الشخصيات مصداقية لقيام مؤسسته باستثمارات ضخمة في اللقاحات والعلاجات والاختبارات وبين رأي من اتهمه بالتخطيط لحقن الرقائق الدقيقة في متلقي اللقاح 🤔 https://t.co/kLsA9Rjxoq\n",
      "________________________\n",
      "1\n"
     ]
    }
   ],
   "source": [
    "i=5\n",
    "print(train['tweet_text'][i]) \n",
    "print('________________________')\n",
    "print(train['class_label'][i])"
   ]
  },
  {
   "cell_type": "code",
   "execution_count": 13,
   "id": "0a3fa973",
   "metadata": {
    "execution": {
     "iopub.execute_input": "2022-04-08T13:36:18.669491Z",
     "iopub.status.busy": "2022-04-08T13:36:18.667910Z",
     "iopub.status.idle": "2022-04-08T13:36:18.671772Z",
     "shell.execute_reply": "2022-04-08T13:36:18.671333Z",
     "shell.execute_reply.started": "2022-04-08T13:18:24.228891Z"
    },
    "papermill": {
     "duration": 0.062848,
     "end_time": "2022-04-08T13:36:18.671881",
     "exception": false,
     "start_time": "2022-04-08T13:36:18.609033",
     "status": "completed"
    },
    "tags": []
   },
   "outputs": [
    {
     "name": "stdout",
     "output_type": "stream",
     "text": [
      "متحدث #الصحة: لا يمكن لمن أخذ اللقاح مخالطة المصابين فهذا الأمر خطير وقد يعرضه للمخاطر https://t.co/x0zIsDCZiJ #وزارة_الصحة #فيروس_كورونا #لقاح_كورونا https://t.co/7QfwEMtUaH\n",
      "________________________\n",
      "1\n"
     ]
    }
   ],
   "source": [
    "i=157\n",
    "print(train['tweet_text'][i]) \n",
    "print('________________________')\n",
    "print(train['class_label'][i])"
   ]
  },
  {
   "cell_type": "code",
   "execution_count": 14,
   "id": "f54d9016",
   "metadata": {
    "execution": {
     "iopub.execute_input": "2022-04-08T13:36:18.784746Z",
     "iopub.status.busy": "2022-04-08T13:36:18.784157Z",
     "iopub.status.idle": "2022-04-08T13:36:18.787912Z",
     "shell.execute_reply": "2022-04-08T13:36:18.788426Z",
     "shell.execute_reply.started": "2022-04-08T13:18:24.240507Z"
    },
    "papermill": {
     "duration": 0.063401,
     "end_time": "2022-04-08T13:36:18.788620",
     "exception": false,
     "start_time": "2022-04-08T13:36:18.725219",
     "status": "completed"
    },
    "tags": []
   },
   "outputs": [
    {
     "name": "stdout",
     "output_type": "stream",
     "text": [
      "الحكومة البرازيلية @jairbolsonaro توقع اتفاقية مع استرازينيكا @AstraZeneca لنقل التكنلوجيا و تصنيع تطعيم 💉AZD1222 (تطعيم أوكسفورد) الاتفاقية ضمنت للبرازيل حق تصنيع💉100مليون جرعة، و مستقبل صناعة دوائية 🗓متوقع بداية تصنيع التطعيم في ديسمبر2020 https://t.co/uIzOQY3782 (277) https://t.co/9zgjx1vUDe\n",
      "________________________\n",
      "0\n"
     ]
    }
   ],
   "source": [
    "i=0\n",
    "print(train['tweet_text'][i]) \n",
    "print('________________________')\n",
    "print(train['class_label'][i])"
   ]
  },
  {
   "cell_type": "code",
   "execution_count": 15,
   "id": "2b9572cd",
   "metadata": {
    "execution": {
     "iopub.execute_input": "2022-04-08T13:36:18.903002Z",
     "iopub.status.busy": "2022-04-08T13:36:18.902357Z",
     "iopub.status.idle": "2022-04-08T13:36:18.905267Z",
     "shell.execute_reply": "2022-04-08T13:36:18.905684Z",
     "shell.execute_reply.started": "2022-04-08T13:18:24.250276Z"
    },
    "papermill": {
     "duration": 0.062379,
     "end_time": "2022-04-08T13:36:18.905811",
     "exception": false,
     "start_time": "2022-04-08T13:36:18.843432",
     "status": "completed"
    },
    "tags": []
   },
   "outputs": [
    {
     "name": "stdout",
     "output_type": "stream",
     "text": [
      "النتائج المبكرة من الدراسة تشير إلى أن الأفراد المصابين بعدوى كوفيد ١٩ سابقة يولدون استجابة مناعية أقوى للجرعة الأولى من لقاح فايزر مقارنة بالأفراد غير المصابين سابقًا https://t.co/w4Uotg7Af3\n",
      "________________________\n",
      "0\n"
     ]
    }
   ],
   "source": [
    "i=70\n",
    "print(train['tweet_text'][i]) \n",
    "print('________________________')\n",
    "print(train['class_label'][i])"
   ]
  },
  {
   "cell_type": "markdown",
   "id": "d50111c4",
   "metadata": {
    "papermill": {
     "duration": 0.054912,
     "end_time": "2022-04-08T13:36:19.014979",
     "exception": false,
     "start_time": "2022-04-08T13:36:18.960067",
     "status": "completed"
    },
    "tags": []
   },
   "source": [
    "Data preprocessing"
   ]
  },
  {
   "cell_type": "code",
   "execution_count": 16,
   "id": "2ee59b1f",
   "metadata": {
    "execution": {
     "iopub.execute_input": "2022-04-08T13:36:19.130419Z",
     "iopub.status.busy": "2022-04-08T13:36:19.129915Z",
     "iopub.status.idle": "2022-04-08T13:36:45.005177Z",
     "shell.execute_reply": "2022-04-08T13:36:45.004625Z",
     "shell.execute_reply.started": "2022-04-08T13:18:24.263679Z"
    },
    "papermill": {
     "duration": 25.935301,
     "end_time": "2022-04-08T13:36:45.005323",
     "exception": false,
     "start_time": "2022-04-08T13:36:19.070022",
     "status": "completed"
    },
    "tags": []
   },
   "outputs": [
    {
     "name": "stdout",
     "output_type": "stream",
     "text": [
      "Requirement already satisfied: pyarabic in /opt/conda/lib/python3.7/site-packages (0.6.14)\r\n",
      "Requirement already satisfied: six>=1.14.0 in /opt/conda/lib/python3.7/site-packages (from pyarabic) (1.16.0)\r\n",
      "\u001b[33mWARNING: Running pip as the 'root' user can result in broken permissions and conflicting behaviour with the system package manager. It is recommended to use a virtual environment instead: https://pip.pypa.io/warnings/venv\u001b[0m\r\n",
      "Collecting farasapy\r\n",
      "  Downloading farasapy-0.0.14-py3-none-any.whl (11 kB)\r\n",
      "Requirement already satisfied: tqdm in /opt/conda/lib/python3.7/site-packages (from farasapy) (4.62.3)\r\n",
      "Requirement already satisfied: requests in /opt/conda/lib/python3.7/site-packages (from farasapy) (2.26.0)\r\n",
      "Requirement already satisfied: idna<4,>=2.5 in /opt/conda/lib/python3.7/site-packages (from requests->farasapy) (3.1)\r\n",
      "Requirement already satisfied: urllib3<1.27,>=1.21.1 in /opt/conda/lib/python3.7/site-packages (from requests->farasapy) (1.26.7)\r\n",
      "Requirement already satisfied: certifi>=2017.4.17 in /opt/conda/lib/python3.7/site-packages (from requests->farasapy) (2021.10.8)\r\n",
      "Requirement already satisfied: charset-normalizer~=2.0.0 in /opt/conda/lib/python3.7/site-packages (from requests->farasapy) (2.0.9)\r\n",
      "Installing collected packages: farasapy\r\n",
      "Successfully installed farasapy-0.0.14\r\n",
      "\u001b[33mWARNING: Running pip as the 'root' user can result in broken permissions and conflicting behaviour with the system package manager. It is recommended to use a virtual environment instead: https://pip.pypa.io/warnings/venv\u001b[0m\r\n",
      "Collecting tashaphyne\r\n",
      "  Downloading Tashaphyne-0.3.6-py3-none-any.whl (251 kB)\r\n",
      "     |████████████████████████████████| 251 kB 787 kB/s            \r\n",
      "\u001b[?25hRequirement already satisfied: pyarabic in /opt/conda/lib/python3.7/site-packages (from tashaphyne) (0.6.14)\r\n",
      "Requirement already satisfied: six>=1.14.0 in /opt/conda/lib/python3.7/site-packages (from pyarabic->tashaphyne) (1.16.0)\r\n",
      "Installing collected packages: tashaphyne\r\n",
      "Successfully installed tashaphyne-0.3.6\r\n",
      "\u001b[33mWARNING: Running pip as the 'root' user can result in broken permissions and conflicting behaviour with the system package manager. It is recommended to use a virtual environment instead: https://pip.pypa.io/warnings/venv\u001b[0m\r\n"
     ]
    }
   ],
   "source": [
    "!pip install pyarabic\n",
    "!pip install farasapy\n",
    "!pip install tashaphyne"
   ]
  },
  {
   "cell_type": "code",
   "execution_count": 17,
   "id": "2e0cc4ec",
   "metadata": {
    "execution": {
     "iopub.execute_input": "2022-04-08T13:36:45.132893Z",
     "iopub.status.busy": "2022-04-08T13:36:45.132119Z",
     "iopub.status.idle": "2022-04-08T13:36:45.826325Z",
     "shell.execute_reply": "2022-04-08T13:36:45.825772Z",
     "shell.execute_reply.started": "2022-04-08T13:18:54.311597Z"
    },
    "papermill": {
     "duration": 0.759349,
     "end_time": "2022-04-08T13:36:45.826448",
     "exception": false,
     "start_time": "2022-04-08T13:36:45.067099",
     "status": "completed"
    },
    "tags": []
   },
   "outputs": [],
   "source": [
    "from nltk.corpus import stopwords\n",
    "from textblob import TextBlob\n",
    "import re\n",
    "from tashaphyne.stemming import ArabicLightStemmer\n",
    "from nltk.stem.isri import ISRIStemmer\n",
    "import tashaphyne.arabic_const as arabconst \n",
    "import pyarabic.araby as araby"
   ]
  },
  {
   "cell_type": "code",
   "execution_count": 18,
   "id": "83f2e5a2",
   "metadata": {
    "execution": {
     "iopub.execute_input": "2022-04-08T13:36:45.968884Z",
     "iopub.status.busy": "2022-04-08T13:36:45.953432Z",
     "iopub.status.idle": "2022-04-08T13:36:45.978984Z",
     "shell.execute_reply": "2022-04-08T13:36:45.978511Z",
     "shell.execute_reply.started": "2022-04-08T13:18:55.228123Z"
    },
    "papermill": {
     "duration": 0.093089,
     "end_time": "2022-04-08T13:36:45.979106",
     "exception": false,
     "start_time": "2022-04-08T13:36:45.886017",
     "status": "completed"
    },
    "tags": []
   },
   "outputs": [],
   "source": [
    "stops = set(stopwords.words(\"arabic\"))\n",
    "stop_word_comp = {\"،\",\"آض\",\"آمينَ\",\"آه\",\"آهاً\",\"آي\",\"أ\",\"أب\",\"أجل\",\"أجمع\",\"أخ\",\"أخذ\",\"أصبح\",\"أضحى\",\"أقبل\",\"أقل\",\"أكثر\",\"ألا\",\"أم\",\"أما\",\"أمامك\",\"أمامكَ\",\"أمسى\",\"أمّا\",\"أن\",\"أنا\",\"أنت\",\"أنتم\",\"أنتما\",\"أنتن\",\"أنتِ\",\"أنشأ\",\"أنّى\",\"أو\",\"أوشك\",\"أولئك\",\"أولئكم\",\"أولاء\",\"أولالك\",\"أوّهْ\",\"أي\",\"أيا\",\"أين\",\"أينما\",\"أيّ\",\"أَنَّ\",\"أََيُّ\",\"أُفٍّ\",\"إذ\",\"إذا\",\"إذاً\",\"إذما\",\"إذن\",\"إلى\",\"إليكم\",\"إليكما\",\"إليكنّ\",\"إليكَ\",\"إلَيْكَ\",\"إلّا\",\"إمّا\",\"إن\",\"إنّما\",\"إي\",\"إياك\",\"إياكم\",\"إياكما\",\"إياكن\",\"إيانا\",\"إياه\",\"إياها\",\"إياهم\",\"إياهما\",\"إياهن\",\"إياي\",\"إيهٍ\",\"إِنَّ\",\"ا\",\"ابتدأ\",\"اثر\",\"اجل\",\"احد\",\"اخرى\",\"اخلولق\",\"اذا\",\"اربعة\",\"ارتدّ\",\"استحال\",\"اطار\",\"اعادة\",\"اعلنت\",\"اف\",\"اكثر\",\"اكد\",\"الألاء\",\"الألى\",\"الا\",\"الاخيرة\",\"الان\",\"الاول\",\"الاولى\",\"التى\",\"التي\",\"الثاني\",\"الثانية\",\"الذاتي\",\"الذى\",\"الذي\",\"الذين\",\"السابق\",\"الف\",\"اللائي\",\"اللاتي\",\"اللتان\",\"اللتيا\",\"اللتين\",\"اللذان\",\"اللذين\",\"اللواتي\",\"الماضي\",\"المقبل\",\"الوقت\",\"الى\",\"اليوم\",\"اما\",\"امام\",\"امس\",\"ان\",\"انبرى\",\"انقلب\",\"انه\",\"انها\",\"او\",\"اول\",\"اي\",\"ايار\",\"ايام\",\"ايضا\",\"ب\",\"بات\",\"باسم\",\"بان\",\"بخٍ\",\"برس\",\"بسبب\",\"بسّ\",\"بشكل\",\"بضع\",\"بطآن\",\"بعد\",\"بعض\",\"بك\",\"بكم\",\"بكما\",\"بكن\",\"بل\",\"بلى\",\"بما\",\"بماذا\",\"بمن\",\"بن\",\"بنا\",\"به\",\"بها\",\"بي\",\"بيد\",\"بين\",\"بَسْ\",\"بَلْهَ\",\"بِئْسَ\",\"تانِ\",\"تانِك\",\"تبدّل\",\"تجاه\",\"تحوّل\",\"تلقاء\",\"تلك\",\"تلكم\",\"تلكما\",\"تم\",\"تينك\",\"تَيْنِ\",\"تِه\",\"تِي\",\"ثلاثة\",\"ثم\",\"ثمّ\",\"ثمّة\",\"ثُمَّ\",\"جعل\",\"جلل\",\"جميع\",\"جير\",\"حار\",\"حاشا\",\"حاليا\",\"حاي\",\"حتى\",\"حرى\",\"حسب\",\"حم\",\"حوالى\",\"حول\",\"حيث\",\"حيثما\",\"حين\",\"حيَّ\",\"حَبَّذَا\",\"حَتَّى\",\"حَذارِ\",\"خلا\",\"خلال\",\"دون\",\"دونك\",\"ذا\",\"ذات\",\"ذاك\",\"ذانك\",\"ذانِ\",\"ذلك\",\"ذلكم\",\"ذلكما\",\"ذلكن\",\"ذو\",\"ذوا\",\"ذواتا\",\"ذواتي\",\"ذيت\",\"ذينك\",\"ذَيْنِ\",\"ذِه\",\"ذِي\",\"راح\",\"رجع\",\"رويدك\",\"ريث\",\"رُبَّ\",\"زيارة\",\"سبحان\",\"سرعان\",\"سنة\",\"سنوات\",\"سوف\",\"سوى\",\"سَاءَ\",\"سَاءَمَا\",\"شبه\",\"شخصا\",\"شرع\",\"شَتَّانَ\",\"صار\",\"صباح\",\"صفر\",\"صهٍ\",\"صهْ\",\"ضد\",\"ضمن\",\"طاق\",\"طالما\",\"طفق\",\"طَق\",\"ظلّ\",\"عاد\",\"عام\",\"عاما\",\"عامة\",\"عدا\",\"عدة\",\"عدد\",\"عدم\",\"عسى\",\"عشر\",\"عشرة\",\"علق\",\"على\",\"عليك\",\"عليه\",\"عليها\",\"علًّ\",\"عن\",\"عند\",\"عندما\",\"عوض\",\"عين\",\"عَدَسْ\",\"عَمَّا\",\"غدا\",\"غير\",\"ـ\",\"ف\",\"فان\",\"فلان\",\"فو\",\"فى\",\"في\",\"فيم\",\"فيما\",\"فيه\",\"فيها\",\"قال\",\"قام\",\"قبل\",\"قد\",\"قطّ\",\"قلما\",\"قوة\",\"كأنّما\",\"كأين\",\"كأيّ\",\"كأيّن\",\"كاد\",\"كان\",\"كانت\",\"كذا\",\"كذلك\",\"كرب\",\"كل\",\"كلا\",\"كلاهما\",\"كلتا\",\"كلم\",\"كليكما\",\"كليهما\",\"كلّما\",\"كلَّا\",\"كم\",\"كما\",\"كي\",\"كيت\",\"كيف\",\"كيفما\",\"كَأَنَّ\",\"كِخ\",\"لئن\",\"لا\",\"لات\",\"لاسيما\",\"لدن\",\"لدى\",\"لعمر\",\"لقاء\",\"لك\",\"لكم\",\"لكما\",\"لكن\",\"لكنَّما\",\"لكي\",\"لكيلا\",\"للامم\",\"لم\",\"لما\",\"لمّا\",\"لن\",\"لنا\",\"له\",\"لها\",\"لو\",\"لوكالة\",\"لولا\",\"لوما\",\"لي\",\"لَسْتَ\",\"لَسْتُ\",\"لَسْتُم\",\"لَسْتُمَا\",\"لَسْتُنَّ\",\"لَسْتِ\",\"لَسْنَ\",\"لَعَلَّ\",\"لَكِنَّ\",\"لَيْتَ\",\"لَيْسَ\",\"لَيْسَا\",\"لَيْسَتَا\",\"لَيْسَتْ\",\"لَيْسُوا\",\"لَِسْنَا\",\"ما\",\"ماانفك\",\"مابرح\",\"مادام\",\"ماذا\",\"مازال\",\"مافتئ\",\"مايو\",\"متى\",\"مثل\",\"مذ\",\"مساء\",\"مع\",\"معاذ\",\"مقابل\",\"مكانكم\",\"مكانكما\",\"مكانكنّ\",\"مكانَك\",\"مليار\",\"مليون\",\"مما\",\"ممن\",\"من\",\"منذ\",\"منها\",\"مه\",\"مهما\",\"مَنْ\",\"مِن\",\"نحن\",\"نحو\",\"نعم\",\"نفس\",\"نفسه\",\"نهاية\",\"نَخْ\",\"نِعِمّا\",\"نِعْمَ\",\"ها\",\"هاؤم\",\"هاكَ\",\"هاهنا\",\"هبّ\",\"هذا\",\"هذه\",\"هكذا\",\"هل\",\"هلمَّ\",\"هلّا\",\"هم\",\"هما\",\"هن\",\"هنا\",\"هناك\",\"هنالك\",\"هو\",\"هي\",\"هيا\",\"هيت\",\"هيّا\",\"هَؤلاء\",\"هَاتانِ\",\"هَاتَيْنِ\",\"هَاتِه\",\"هَاتِي\",\"هَجْ\",\"هَذا\",\"هَذانِ\",\"هَذَيْنِ\",\"هَذِه\",\"هَذِي\",\"هَيْهَاتَ\",\"و\",\"و6\",\"وا\",\"واحد\",\"واضاف\",\"واضافت\",\"واكد\",\"وان\",\"واهاً\",\"واوضح\",\"وراءَك\",\"وفي\",\"وقال\",\"وقالت\",\"وقد\",\"وقف\",\"وكان\",\"وكانت\",\"ولا\",\"ولم\",\"ومن\",\"مَن\",\"وهو\",\"وهي\",\"ويكأنّ\",\"وَيْ\",\"وُشْكَانََ\",\"يكون\",\"يمكن\",\"يوم\",\"ّأيّان\"}\n",
    "ArListem = ArabicLightStemmer()\n"
   ]
  },
  {
   "cell_type": "code",
   "execution_count": 19,
   "id": "d5ca4f4b",
   "metadata": {
    "execution": {
     "iopub.execute_input": "2022-04-08T13:36:46.102804Z",
     "iopub.status.busy": "2022-04-08T13:36:46.102040Z",
     "iopub.status.idle": "2022-04-08T13:36:46.104039Z",
     "shell.execute_reply": "2022-04-08T13:36:46.104410Z",
     "shell.execute_reply.started": "2022-04-08T13:18:55.267671Z"
    },
    "papermill": {
     "duration": 0.065702,
     "end_time": "2022-04-08T13:36:46.104608",
     "exception": false,
     "start_time": "2022-04-08T13:36:46.038906",
     "status": "completed"
    },
    "tags": []
   },
   "outputs": [],
   "source": [
    "def stem(text):\n",
    "    zen = TextBlob(text)\n",
    "    words = zen.words\n",
    "    cleaned = list()\n",
    "    for w in words:\n",
    "        ArListem.light_stem(w)\n",
    "        cleaned.append(ArListem.get_root())\n",
    "    return \" \".join(cleaned)\n"
   ]
  },
  {
   "cell_type": "code",
   "execution_count": 20,
   "id": "2fcddb09",
   "metadata": {
    "execution": {
     "iopub.execute_input": "2022-04-08T13:36:46.231872Z",
     "iopub.status.busy": "2022-04-08T13:36:46.230976Z",
     "iopub.status.idle": "2022-04-08T13:36:46.232667Z",
     "shell.execute_reply": "2022-04-08T13:36:46.233158Z",
     "shell.execute_reply.started": "2022-04-08T13:18:55.275456Z"
    },
    "papermill": {
     "duration": 0.069159,
     "end_time": "2022-04-08T13:36:46.233286",
     "exception": false,
     "start_time": "2022-04-08T13:36:46.164127",
     "status": "completed"
    },
    "tags": []
   },
   "outputs": [],
   "source": [
    "def normalizeArabic(text):\n",
    "    text = re.sub(\"[إأٱآا]\", \"ا\", text)\n",
    "    text = re.sub(\"ى\", \"ي\", text)\n",
    "    text = re.sub(\"ؤ\", \"ء\", text)\n",
    "    text = re.sub(\"ئ\", \"ء\", text)\n",
    "    text = re.sub(\"ة\", \"ه\", text)\n",
    "    noise = re.compile(\"\"\" ّ    | # Tashdid\n",
    "                             َ    | # Fatha\n",
    "                             ً    | # Tanwin Fath\n",
    "                             ُ    | # Damma\n",
    "                             ٌ    | # Tanwin Damm\n",
    "                             ِ    | # Kasra\n",
    "                             ٍ    | # Tanwin Kasr\n",
    "                             ْ    | # Sukun\n",
    "                             ـ     # Tatwil/Kashida\n",
    "                         \"\"\", re.VERBOSE)\n",
    "    text = re.sub(noise, '', text)\n",
    "    text = re.sub(r'(.)\\1+', r\"\\1\\1\", text) # Remove longation\n",
    "    return araby.strip_tashkeel(text)"
   ]
  },
  {
   "cell_type": "code",
   "execution_count": 21,
   "id": "88337652",
   "metadata": {
    "execution": {
     "iopub.execute_input": "2022-04-08T13:36:46.404151Z",
     "iopub.status.busy": "2022-04-08T13:36:46.403506Z",
     "iopub.status.idle": "2022-04-08T13:36:46.405213Z",
     "shell.execute_reply": "2022-04-08T13:36:46.404718Z",
     "shell.execute_reply.started": "2022-04-08T13:18:55.290388Z"
    },
    "papermill": {
     "duration": 0.1123,
     "end_time": "2022-04-08T13:36:46.405337",
     "exception": false,
     "start_time": "2022-04-08T13:36:46.293037",
     "status": "completed"
    },
    "tags": []
   },
   "outputs": [],
   "source": [
    "def remove_stop_words(text):\n",
    "    zen = TextBlob(text)\n",
    "    words = zen.words\n",
    "    return \" \".join([w for w in words if not w in stops and not w in stop_word_comp and len(w) >= 2])"
   ]
  },
  {
   "cell_type": "code",
   "execution_count": 22,
   "id": "644535ae",
   "metadata": {
    "execution": {
     "iopub.execute_input": "2022-04-08T13:36:46.631587Z",
     "iopub.status.busy": "2022-04-08T13:36:46.630731Z",
     "iopub.status.idle": "2022-04-08T13:36:46.632964Z",
     "shell.execute_reply": "2022-04-08T13:36:46.632312Z",
     "shell.execute_reply.started": "2022-04-08T13:18:55.308672Z"
    },
    "papermill": {
     "duration": 0.113128,
     "end_time": "2022-04-08T13:36:46.633116",
     "exception": false,
     "start_time": "2022-04-08T13:36:46.519988",
     "status": "completed"
    },
    "tags": []
   },
   "outputs": [],
   "source": [
    "def remove_alphas(text):\n",
    "    # Removes any link in the text\n",
    "      text = re.sub('_', ' ', text)\n",
    "      text = re.sub('،', '', text)\n",
    "      text = re.sub('[A-Za-z0-9]','',text)\n",
    "      return text"
   ]
  },
  {
   "cell_type": "code",
   "execution_count": 23,
   "id": "14eb9e63",
   "metadata": {
    "execution": {
     "iopub.execute_input": "2022-04-08T13:36:46.836317Z",
     "iopub.status.busy": "2022-04-08T13:36:46.835449Z",
     "iopub.status.idle": "2022-04-08T13:36:46.839762Z",
     "shell.execute_reply": "2022-04-08T13:36:46.837027Z",
     "shell.execute_reply.started": "2022-04-08T13:18:55.321624Z"
    },
    "papermill": {
     "duration": 0.109408,
     "end_time": "2022-04-08T13:36:46.840007",
     "exception": false,
     "start_time": "2022-04-08T13:36:46.730599",
     "status": "completed"
    },
    "tags": []
   },
   "outputs": [
    {
     "name": "stdout",
     "output_type": "stream",
     "text": [
      "قال روسيا اعلنت عن لقاح مشان فيروس كورونا 🤔 حدا بيصدق المجرم بوتين !!؟؟\n",
      "غضب شعبي في قطر لتباطؤ الحكومة ضد فيروس كورونا    #حكومه_قطر_تنشر_كورونا https://t.co/B3Bxg7i4zR\n"
     ]
    }
   ],
   "source": [
    "test3=train['tweet_text'][4]\n",
    "test4=train['tweet_text'][1]\n",
    "print(test3)\n",
    "print(test4)"
   ]
  },
  {
   "cell_type": "code",
   "execution_count": 24,
   "id": "85fe6c5c",
   "metadata": {
    "execution": {
     "iopub.execute_input": "2022-04-08T13:36:46.996637Z",
     "iopub.status.busy": "2022-04-08T13:36:46.995054Z",
     "iopub.status.idle": "2022-04-08T13:36:46.997204Z",
     "shell.execute_reply": "2022-04-08T13:36:46.997619Z",
     "shell.execute_reply.started": "2022-04-08T13:18:55.335498Z"
    },
    "papermill": {
     "duration": 0.07287,
     "end_time": "2022-04-08T13:36:46.997758",
     "exception": false,
     "start_time": "2022-04-08T13:36:46.924888",
     "status": "completed"
    },
    "tags": []
   },
   "outputs": [],
   "source": [
    "data=pd.concat([train,dev,test])"
   ]
  },
  {
   "cell_type": "code",
   "execution_count": 25,
   "id": "4b00b4d9",
   "metadata": {
    "execution": {
     "iopub.execute_input": "2022-04-08T13:36:47.122399Z",
     "iopub.status.busy": "2022-04-08T13:36:47.121618Z",
     "iopub.status.idle": "2022-04-08T13:36:47.124153Z",
     "shell.execute_reply": "2022-04-08T13:36:47.123716Z",
     "shell.execute_reply.started": "2022-04-08T13:18:55.353244Z"
    },
    "papermill": {
     "duration": 0.066017,
     "end_time": "2022-04-08T13:36:47.124262",
     "exception": false,
     "start_time": "2022-04-08T13:36:47.058245",
     "status": "completed"
    },
    "tags": []
   },
   "outputs": [],
   "source": [
    "def remove_URL(text):\n",
    "    \"\"\"\n",
    "        Remove URLs from a sample string\n",
    "    \"\"\"\n",
    "    return re.sub(r\"https?://\\S+|www\\.\\S+\", \"\", text)"
   ]
  },
  {
   "cell_type": "code",
   "execution_count": 26,
   "id": "1c4078e7",
   "metadata": {
    "execution": {
     "iopub.execute_input": "2022-04-08T13:36:47.250342Z",
     "iopub.status.busy": "2022-04-08T13:36:47.248791Z",
     "iopub.status.idle": "2022-04-08T13:36:47.250925Z",
     "shell.execute_reply": "2022-04-08T13:36:47.251329Z",
     "shell.execute_reply.started": "2022-04-08T13:18:55.365119Z"
    },
    "papermill": {
     "duration": 0.067114,
     "end_time": "2022-04-08T13:36:47.251460",
     "exception": false,
     "start_time": "2022-04-08T13:36:47.184346",
     "status": "completed"
    },
    "tags": []
   },
   "outputs": [],
   "source": [
    "def remove_html(text):\n",
    "    \"\"\"\n",
    "        Remove the html in sample text\n",
    "    \"\"\"\n",
    "    html = re.compile(r\"<.*?>|&([a-z0-9]+|#[0-9]{1,6}|#x[0-9a-f]{1,6});\")\n",
    "    return re.sub(html, \"\", text)"
   ]
  },
  {
   "cell_type": "code",
   "execution_count": 27,
   "id": "0da50f4f",
   "metadata": {
    "execution": {
     "iopub.execute_input": "2022-04-08T13:36:47.377671Z",
     "iopub.status.busy": "2022-04-08T13:36:47.376799Z",
     "iopub.status.idle": "2022-04-08T13:36:47.378565Z",
     "shell.execute_reply": "2022-04-08T13:36:47.379000Z",
     "shell.execute_reply.started": "2022-04-08T13:18:55.380491Z"
    },
    "papermill": {
     "duration": 0.067892,
     "end_time": "2022-04-08T13:36:47.379137",
     "exception": false,
     "start_time": "2022-04-08T13:36:47.311245",
     "status": "completed"
    },
    "tags": []
   },
   "outputs": [],
   "source": [
    "def remove_special_characters(text):\n",
    "    \"\"\"\n",
    "        Remove special special characters, including symbols, emojis, and other graphic characters\n",
    "    \"\"\"\n",
    "    emoji_pattern = re.compile(\n",
    "        '['\n",
    "        u'\\U0001F600-\\U0001F64F'  # emoticons\n",
    "        u'\\U0001F300-\\U0001F5FF'  # symbols & pictographs\n",
    "        u'\\U0001F680-\\U0001F6FF'  # transport & map symbols\n",
    "        u'\\U0001F1E0-\\U0001F1FF'  # flags (iOS)\n",
    "        u'\\U00002702-\\U000027B0'\n",
    "        u'\\U000024C2-\\U0001F251'\n",
    "        ']+',\n",
    "        flags=re.UNICODE)\n",
    "    return emoji_pattern.sub(r'', text)"
   ]
  },
  {
   "cell_type": "code",
   "execution_count": 28,
   "id": "892766a7",
   "metadata": {
    "execution": {
     "iopub.execute_input": "2022-04-08T13:36:47.504313Z",
     "iopub.status.busy": "2022-04-08T13:36:47.502639Z",
     "iopub.status.idle": "2022-04-08T13:36:47.505016Z",
     "shell.execute_reply": "2022-04-08T13:36:47.505484Z",
     "shell.execute_reply.started": "2022-04-08T13:18:55.390081Z"
    },
    "papermill": {
     "duration": 0.066568,
     "end_time": "2022-04-08T13:36:47.505655",
     "exception": false,
     "start_time": "2022-04-08T13:36:47.439087",
     "status": "completed"
    },
    "tags": []
   },
   "outputs": [],
   "source": [
    "#data['tweet_text'] = data['tweet_text'].apply(lambda x:remove_alphas(x))\n",
    "#data['tweet_text'] = data['tweet_text'].apply(lambda x:remove_URL(x))\n",
    "#data['tweet_text'] = data['tweet_text'].apply(lambda x:remove_html(x))\n",
    "#data['tweet_text'] = data['tweet_text'].apply(lambda x:remove_special_characters(x))\n",
    "#data['tweet_text'] = data['tweet_text'].apply(lambda x:remove_stop_words(x))\n",
    "#data['tweet_text'] = data['tweet_text'].apply(lambda x:normalizeArabic(x))\n",
    "#data['tweet_text'] = data['tweet_text'].apply(lambda x:stem(x))"
   ]
  },
  {
   "cell_type": "code",
   "execution_count": 29,
   "id": "11c1438a",
   "metadata": {
    "execution": {
     "iopub.execute_input": "2022-04-08T13:36:47.630907Z",
     "iopub.status.busy": "2022-04-08T13:36:47.630329Z",
     "iopub.status.idle": "2022-04-08T13:36:47.633456Z",
     "shell.execute_reply": "2022-04-08T13:36:47.633039Z",
     "shell.execute_reply.started": "2022-04-08T13:18:55.406820Z"
    },
    "papermill": {
     "duration": 0.068259,
     "end_time": "2022-04-08T13:36:47.633591",
     "exception": false,
     "start_time": "2022-04-08T13:36:47.565332",
     "status": "completed"
    },
    "tags": []
   },
   "outputs": [],
   "source": [
    "from sklearn.model_selection import train_test_split\n",
    "X = data.tweet_text.values\n",
    "y = data.class_label.values"
   ]
  },
  {
   "cell_type": "code",
   "execution_count": 30,
   "id": "2865922d",
   "metadata": {
    "execution": {
     "iopub.execute_input": "2022-04-08T13:36:47.759401Z",
     "iopub.status.busy": "2022-04-08T13:36:47.757815Z",
     "iopub.status.idle": "2022-04-08T13:36:47.760053Z",
     "shell.execute_reply": "2022-04-08T13:36:47.760439Z",
     "shell.execute_reply.started": "2022-04-08T13:18:55.418136Z"
    },
    "papermill": {
     "duration": 0.067158,
     "end_time": "2022-04-08T13:36:47.760599",
     "exception": false,
     "start_time": "2022-04-08T13:36:47.693441",
     "status": "completed"
    },
    "tags": []
   },
   "outputs": [],
   "source": [
    "#X_train, X_test, y_train, y_test = train_test_split(X,y, test_size=0.15,shuffle=True, random_state=42)\n",
    "#X_train, X_val, y_train, y_val = train_test_split(X_train,y_train, test_size=0.15,shuffle=True, random_state=42)"
   ]
  },
  {
   "cell_type": "code",
   "execution_count": 31,
   "id": "4c01ad6e",
   "metadata": {
    "execution": {
     "iopub.execute_input": "2022-04-08T13:36:47.883111Z",
     "iopub.status.busy": "2022-04-08T13:36:47.882293Z",
     "iopub.status.idle": "2022-04-08T13:36:47.887946Z",
     "shell.execute_reply": "2022-04-08T13:36:47.887474Z",
     "shell.execute_reply.started": "2022-04-08T13:18:55.428933Z"
    },
    "papermill": {
     "duration": 0.067943,
     "end_time": "2022-04-08T13:36:47.888058",
     "exception": false,
     "start_time": "2022-04-08T13:36:47.820115",
     "status": "completed"
    },
    "tags": []
   },
   "outputs": [],
   "source": [
    "X_train = train.tweet_text.values\n",
    "y_train = train.class_label.values\n",
    "\n",
    "X_test = test.tweet_text.values\n",
    "y_test=test.class_label.values\n",
    "\n",
    "X_val=dev.tweet_text.values\n",
    "y_val=dev.class_label.values"
   ]
  },
  {
   "cell_type": "code",
   "execution_count": 32,
   "id": "0019545e",
   "metadata": {
    "execution": {
     "iopub.execute_input": "2022-04-08T13:36:48.012796Z",
     "iopub.status.busy": "2022-04-08T13:36:48.012148Z",
     "iopub.status.idle": "2022-04-08T13:36:50.549058Z",
     "shell.execute_reply": "2022-04-08T13:36:50.548198Z",
     "shell.execute_reply.started": "2022-04-08T13:18:55.440184Z"
    },
    "papermill": {
     "duration": 2.60138,
     "end_time": "2022-04-08T13:36:50.549193",
     "exception": false,
     "start_time": "2022-04-08T13:36:47.947813",
     "status": "completed"
    },
    "tags": []
   },
   "outputs": [],
   "source": [
    "#transformers\n",
    "from transformers import BertTokenizerFast\n",
    "from transformers import TFBertModel"
   ]
  },
  {
   "cell_type": "code",
   "execution_count": 33,
   "id": "a4d984ea",
   "metadata": {
    "execution": {
     "iopub.execute_input": "2022-04-08T13:36:50.686348Z",
     "iopub.status.busy": "2022-04-08T13:36:50.685451Z",
     "iopub.status.idle": "2022-04-08T13:36:56.393057Z",
     "shell.execute_reply": "2022-04-08T13:36:56.392528Z",
     "shell.execute_reply.started": "2022-04-08T13:18:58.233428Z"
    },
    "papermill": {
     "duration": 5.781735,
     "end_time": "2022-04-08T13:36:56.393190",
     "exception": false,
     "start_time": "2022-04-08T13:36:50.611455",
     "status": "completed"
    },
    "tags": []
   },
   "outputs": [
    {
     "data": {
      "application/vnd.jupyter.widget-view+json": {
       "model_id": "7539aae6a0e645f081a74fb9c4369f65",
       "version_major": 2,
       "version_minor": 0
      },
      "text/plain": [
       "Downloading:   0%|          | 0.00/762k [00:00<?, ?B/s]"
      ]
     },
     "metadata": {},
     "output_type": "display_data"
    },
    {
     "data": {
      "application/vnd.jupyter.widget-view+json": {
       "model_id": "557c5b8bde3a4008b5d194f411513a9e",
       "version_major": 2,
       "version_minor": 0
      },
      "text/plain": [
       "Downloading:   0%|          | 0.00/2.57M [00:00<?, ?B/s]"
      ]
     },
     "metadata": {},
     "output_type": "display_data"
    },
    {
     "data": {
      "application/vnd.jupyter.widget-view+json": {
       "model_id": "5af947f91cb54c41a4c0cdf29a059031",
       "version_major": 2,
       "version_minor": 0
      },
      "text/plain": [
       "Downloading:   0%|          | 0.00/112 [00:00<?, ?B/s]"
      ]
     },
     "metadata": {},
     "output_type": "display_data"
    },
    {
     "data": {
      "application/vnd.jupyter.widget-view+json": {
       "model_id": "2928ae05df15486391dedb3938a6d7e5",
       "version_major": 2,
       "version_minor": 0
      },
      "text/plain": [
       "Downloading:   0%|          | 0.00/379 [00:00<?, ?B/s]"
      ]
     },
     "metadata": {},
     "output_type": "display_data"
    },
    {
     "data": {
      "application/vnd.jupyter.widget-view+json": {
       "model_id": "ce5819c0a3964de585ede7b68ca51b98",
       "version_major": 2,
       "version_minor": 0
      },
      "text/plain": [
       "Downloading:   0%|          | 0.00/576 [00:00<?, ?B/s]"
      ]
     },
     "metadata": {},
     "output_type": "display_data"
    }
   ],
   "source": [
    "tokenizer = BertTokenizerFast.from_pretrained('aubmindlab/bert-base-arabertv01')\n"
   ]
  },
  {
   "cell_type": "code",
   "execution_count": 34,
   "id": "0960baed",
   "metadata": {
    "execution": {
     "iopub.execute_input": "2022-04-08T13:36:56.522138Z",
     "iopub.status.busy": "2022-04-08T13:36:56.521296Z",
     "iopub.status.idle": "2022-04-08T13:36:57.339343Z",
     "shell.execute_reply": "2022-04-08T13:36:57.336998Z",
     "shell.execute_reply.started": "2022-04-08T13:19:03.690797Z"
    },
    "papermill": {
     "duration": 0.884331,
     "end_time": "2022-04-08T13:36:57.339523",
     "exception": false,
     "start_time": "2022-04-08T13:36:56.455192",
     "status": "completed"
    },
    "tags": []
   },
   "outputs": [],
   "source": [
    "token_lens_test = []\n",
    "\n",
    "for txt in train['tweet_text'].values:\n",
    "    tokens = tokenizer.encode(txt, max_length=512, truncation=True)\n",
    "    token_lens_test.append(len(tokens))\n",
    "    \n",
    "max_len=np.max(token_lens_test)"
   ]
  },
  {
   "cell_type": "code",
   "execution_count": 35,
   "id": "282844a1",
   "metadata": {
    "execution": {
     "iopub.execute_input": "2022-04-08T13:36:57.566392Z",
     "iopub.status.busy": "2022-04-08T13:36:57.564613Z",
     "iopub.status.idle": "2022-04-08T13:36:57.567209Z",
     "shell.execute_reply": "2022-04-08T13:36:57.567845Z",
     "shell.execute_reply.started": "2022-04-08T13:19:05.263031Z"
    },
    "papermill": {
     "duration": 0.108144,
     "end_time": "2022-04-08T13:36:57.568025",
     "exception": false,
     "start_time": "2022-04-08T13:36:57.459881",
     "status": "completed"
    },
    "tags": []
   },
   "outputs": [],
   "source": [
    "MAX_LEN=150\n"
   ]
  },
  {
   "cell_type": "code",
   "execution_count": 36,
   "id": "d48295ee",
   "metadata": {
    "execution": {
     "iopub.execute_input": "2022-04-08T13:36:57.778627Z",
     "iopub.status.busy": "2022-04-08T13:36:57.777829Z",
     "iopub.status.idle": "2022-04-08T13:36:57.782598Z",
     "shell.execute_reply": "2022-04-08T13:36:57.781979Z",
     "shell.execute_reply.started": "2022-04-08T13:19:05.264976Z"
    },
    "papermill": {
     "duration": 0.11437,
     "end_time": "2022-04-08T13:36:57.782757",
     "exception": false,
     "start_time": "2022-04-08T13:36:57.668387",
     "status": "completed"
    },
    "tags": []
   },
   "outputs": [],
   "source": [
    "def tokenize(data,max_len=MAX_LEN) :\n",
    "    input_ids = []\n",
    "    attention_masks = []\n",
    "    for i in range(len(data)):\n",
    "        encoded = tokenizer.encode_plus(\n",
    "            data[i],\n",
    "            add_special_tokens=True,\n",
    "            max_length=MAX_LEN,\n",
    "            padding='max_length',\n",
    "            pad_to_max_length = True,\n",
    "            return_attention_mask=True,\n",
    "            truncation=True\n",
    "        )\n",
    "        input_ids.append(encoded['input_ids'])\n",
    "        attention_masks.append(encoded['attention_mask'])\n",
    "    return np.array(input_ids),np.array(attention_masks)"
   ]
  },
  {
   "cell_type": "code",
   "execution_count": 37,
   "id": "419cdff9",
   "metadata": {
    "execution": {
     "iopub.execute_input": "2022-04-08T13:36:57.952250Z",
     "iopub.status.busy": "2022-04-08T13:36:57.951405Z",
     "iopub.status.idle": "2022-04-08T13:36:59.405971Z",
     "shell.execute_reply": "2022-04-08T13:36:59.405428Z",
     "shell.execute_reply.started": "2022-04-08T13:19:05.266230Z"
    },
    "papermill": {
     "duration": 1.523747,
     "end_time": "2022-04-08T13:36:59.406110",
     "exception": false,
     "start_time": "2022-04-08T13:36:57.882363",
     "status": "completed"
    },
    "tags": []
   },
   "outputs": [],
   "source": [
    "train_input_ids, train_attention_masks = tokenize(X_train, MAX_LEN)\n",
    "val_input_ids, val_attention_masks = tokenize(X_val, MAX_LEN)\n",
    "test_input_ids, test_attention_masks = tokenize(X_test, MAX_LEN)"
   ]
  },
  {
   "cell_type": "code",
   "execution_count": 38,
   "id": "ffb4d677",
   "metadata": {
    "execution": {
     "iopub.execute_input": "2022-04-08T13:36:59.537506Z",
     "iopub.status.busy": "2022-04-08T13:36:59.536975Z",
     "iopub.status.idle": "2022-04-08T13:37:25.821116Z",
     "shell.execute_reply": "2022-04-08T13:37:25.821766Z",
     "shell.execute_reply.started": "2022-04-08T13:19:05.267572Z"
    },
    "papermill": {
     "duration": 26.354149,
     "end_time": "2022-04-08T13:37:25.821961",
     "exception": false,
     "start_time": "2022-04-08T13:36:59.467812",
     "status": "completed"
    },
    "tags": []
   },
   "outputs": [
    {
     "data": {
      "application/vnd.jupyter.widget-view+json": {
       "model_id": "1125f142f9064e319d0b544091e22508",
       "version_major": 2,
       "version_minor": 0
      },
      "text/plain": [
       "Downloading:   0%|          | 0.00/708M [00:00<?, ?B/s]"
      ]
     },
     "metadata": {},
     "output_type": "display_data"
    },
    {
     "name": "stderr",
     "output_type": "stream",
     "text": [
      "2022-04-08 13:37:18.788096: I tensorflow/stream_executor/cuda/cuda_gpu_executor.cc:937] successful NUMA node read from SysFS had negative value (-1), but there must be at least one NUMA node, so returning NUMA node zero\n",
      "2022-04-08 13:37:18.789762: I tensorflow/stream_executor/cuda/cuda_gpu_executor.cc:937] successful NUMA node read from SysFS had negative value (-1), but there must be at least one NUMA node, so returning NUMA node zero\n",
      "2022-04-08 13:37:18.790771: I tensorflow/stream_executor/cuda/cuda_gpu_executor.cc:937] successful NUMA node read from SysFS had negative value (-1), but there must be at least one NUMA node, so returning NUMA node zero\n",
      "2022-04-08 13:37:18.792983: I tensorflow/core/platform/cpu_feature_guard.cc:142] This TensorFlow binary is optimized with oneAPI Deep Neural Network Library (oneDNN) to use the following CPU instructions in performance-critical operations:  AVX2 AVX512F FMA\n",
      "To enable them in other operations, rebuild TensorFlow with the appropriate compiler flags.\n",
      "2022-04-08 13:37:18.794232: I tensorflow/stream_executor/cuda/cuda_gpu_executor.cc:937] successful NUMA node read from SysFS had negative value (-1), but there must be at least one NUMA node, so returning NUMA node zero\n",
      "2022-04-08 13:37:18.795250: I tensorflow/stream_executor/cuda/cuda_gpu_executor.cc:937] successful NUMA node read from SysFS had negative value (-1), but there must be at least one NUMA node, so returning NUMA node zero\n",
      "2022-04-08 13:37:18.796224: I tensorflow/stream_executor/cuda/cuda_gpu_executor.cc:937] successful NUMA node read from SysFS had negative value (-1), but there must be at least one NUMA node, so returning NUMA node zero\n",
      "2022-04-08 13:37:23.534589: I tensorflow/stream_executor/cuda/cuda_gpu_executor.cc:937] successful NUMA node read from SysFS had negative value (-1), but there must be at least one NUMA node, so returning NUMA node zero\n",
      "2022-04-08 13:37:23.535341: I tensorflow/stream_executor/cuda/cuda_gpu_executor.cc:937] successful NUMA node read from SysFS had negative value (-1), but there must be at least one NUMA node, so returning NUMA node zero\n",
      "2022-04-08 13:37:23.536021: I tensorflow/stream_executor/cuda/cuda_gpu_executor.cc:937] successful NUMA node read from SysFS had negative value (-1), but there must be at least one NUMA node, so returning NUMA node zero\n",
      "2022-04-08 13:37:23.536600: I tensorflow/core/common_runtime/gpu/gpu_device.cc:1510] Created device /job:localhost/replica:0/task:0/device:GPU:0 with 14959 MB memory:  -> device: 0, name: Tesla P100-PCIE-16GB, pci bus id: 0000:00:04.0, compute capability: 6.0\n",
      "Some layers from the model checkpoint at aubmindlab/bert-base-arabertv01 were not used when initializing TFBertModel: ['nsp___cls', 'mlm___cls']\n",
      "- This IS expected if you are initializing TFBertModel from the checkpoint of a model trained on another task or with another architecture (e.g. initializing a BertForSequenceClassification model from a BertForPreTraining model).\n",
      "- This IS NOT expected if you are initializing TFBertModel from the checkpoint of a model that you expect to be exactly identical (initializing a BertForSequenceClassification model from a BertForSequenceClassification model).\n",
      "All the layers of TFBertModel were initialized from the model checkpoint at aubmindlab/bert-base-arabertv01.\n",
      "If your task is similar to the task the model of the checkpoint was trained on, you can already use TFBertModel for predictions without further training.\n"
     ]
    }
   ],
   "source": [
    "bert_model = TFBertModel.from_pretrained('aubmindlab/bert-base-arabertv01')\n"
   ]
  },
  {
   "cell_type": "code",
   "execution_count": 39,
   "id": "217ea2e7",
   "metadata": {
    "execution": {
     "iopub.execute_input": "2022-04-08T13:37:25.957896Z",
     "iopub.status.busy": "2022-04-08T13:37:25.957222Z",
     "iopub.status.idle": "2022-04-08T13:37:25.959832Z",
     "shell.execute_reply": "2022-04-08T13:37:25.959382Z",
     "shell.execute_reply.started": "2022-04-08T13:19:05.269287Z"
    },
    "papermill": {
     "duration": 0.073369,
     "end_time": "2022-04-08T13:37:25.959945",
     "exception": false,
     "start_time": "2022-04-08T13:37:25.886576",
     "status": "completed"
    },
    "tags": []
   },
   "outputs": [],
   "source": [
    "def create_model(bert_model,learning,max_len=MAX_LEN):\n",
    "    \n",
    "    ##params###\n",
    "    opt = tf.keras.optimizers.Adam(learning_rate=learning)\n",
    "    loss = 'binary_crossentropy'\n",
    "    input_ids = tf.keras.Input(shape=(max_len,),dtype='int32')\n",
    "    attention_masks = tf.keras.Input(shape=(max_len,),dtype='int32')\n",
    "    embeddings = bert_model([input_ids,attention_masks])[1]\n",
    "    x=tf.keras.layers.Dense(10, activation=\"relu\")(embeddings)\n",
    "    x=tf.keras.layers.Dropout(0.1)(embeddings)\n",
    "    output = tf.keras.layers.Dense(1, activation=\"sigmoid\")(x)\n",
    "    model = tf.keras.models.Model(inputs = [input_ids,attention_masks], outputs = output)\n",
    "    model.compile(opt, loss=loss, metrics=['accuracy'])\n",
    "    \n",
    "    \n",
    "    return model"
   ]
  },
  {
   "cell_type": "code",
   "execution_count": 40,
   "id": "41445f5f",
   "metadata": {
    "execution": {
     "iopub.execute_input": "2022-04-08T13:37:26.093238Z",
     "iopub.status.busy": "2022-04-08T13:37:26.092430Z",
     "iopub.status.idle": "2022-04-08T13:37:32.462766Z",
     "shell.execute_reply": "2022-04-08T13:37:32.463149Z",
     "shell.execute_reply.started": "2022-04-08T13:19:05.271236Z"
    },
    "papermill": {
     "duration": 6.439652,
     "end_time": "2022-04-08T13:37:32.463298",
     "exception": false,
     "start_time": "2022-04-08T13:37:26.023646",
     "status": "completed"
    },
    "tags": []
   },
   "outputs": [
    {
     "name": "stdout",
     "output_type": "stream",
     "text": [
      "Model: \"model\"\n",
      "__________________________________________________________________________________________________\n",
      "Layer (type)                    Output Shape         Param #     Connected to                     \n",
      "==================================================================================================\n",
      "input_1 (InputLayer)            [(None, 150)]        0                                            \n",
      "__________________________________________________________________________________________________\n",
      "input_2 (InputLayer)            [(None, 150)]        0                                            \n",
      "__________________________________________________________________________________________________\n",
      "tf_bert_model (TFBertModel)     TFBaseModelOutputWit 135193344   input_1[0][0]                    \n",
      "                                                                 input_2[0][0]                    \n",
      "__________________________________________________________________________________________________\n",
      "dropout_37 (Dropout)            (None, 768)          0           tf_bert_model[0][1]              \n",
      "__________________________________________________________________________________________________\n",
      "dense_1 (Dense)                 (None, 1)            769         dropout_37[0][0]                 \n",
      "==================================================================================================\n",
      "Total params: 135,194,113\n",
      "Trainable params: 135,194,113\n",
      "Non-trainable params: 0\n",
      "__________________________________________________________________________________________________\n"
     ]
    }
   ],
   "source": [
    "model = create_model(bert_model,2e-5,MAX_LEN)\n",
    "model.summary()"
   ]
  },
  {
   "cell_type": "code",
   "execution_count": 41,
   "id": "64540d2b",
   "metadata": {
    "execution": {
     "iopub.execute_input": "2022-04-08T13:37:32.596610Z",
     "iopub.status.busy": "2022-04-08T13:37:32.595984Z",
     "iopub.status.idle": "2022-04-08T13:37:33.216533Z",
     "shell.execute_reply": "2022-04-08T13:37:33.217058Z",
     "shell.execute_reply.started": "2022-04-08T13:19:05.272971Z"
    },
    "papermill": {
     "duration": 0.689759,
     "end_time": "2022-04-08T13:37:33.217214",
     "exception": false,
     "start_time": "2022-04-08T13:37:32.527455",
     "status": "completed"
    },
    "tags": []
   },
   "outputs": [
    {
     "name": "stderr",
     "output_type": "stream",
     "text": [
      "2022-04-08 13:37:32.598703: I tensorflow/core/profiler/lib/profiler_session.cc:131] Profiler session initializing.\n",
      "2022-04-08 13:37:32.598741: I tensorflow/core/profiler/lib/profiler_session.cc:146] Profiler session started.\n",
      "2022-04-08 13:37:32.600572: I tensorflow/core/profiler/internal/gpu/cupti_tracer.cc:1614] Profiler found 1 GPUs\n",
      "2022-04-08 13:37:33.073498: I tensorflow/core/profiler/lib/profiler_session.cc:164] Profiler session tear down.\n",
      "2022-04-08 13:37:33.073732: I tensorflow/core/profiler/internal/gpu/cupti_tracer.cc:1748] CUPTI activity buffer flushed\n"
     ]
    }
   ],
   "source": [
    "from tensorflow.keras.callbacks import ReduceLROnPlateau, TensorBoard\n",
    "\n",
    "tensorboard = TensorBoard(log_dir = 'logs')\n",
    "reduce_lr = ReduceLROnPlateau(monitor = 'val_accuracy', mode='auto',verbose=1)"
   ]
  },
  {
   "cell_type": "code",
   "execution_count": 42,
   "id": "45438de9",
   "metadata": {
    "execution": {
     "iopub.execute_input": "2022-04-08T13:37:33.353109Z",
     "iopub.status.busy": "2022-04-08T13:37:33.352360Z",
     "iopub.status.idle": "2022-04-08T13:49:19.094594Z",
     "shell.execute_reply": "2022-04-08T13:49:19.094077Z",
     "shell.execute_reply.started": "2022-04-08T13:19:05.274240Z"
    },
    "papermill": {
     "duration": 705.81243,
     "end_time": "2022-04-08T13:49:19.094745",
     "exception": false,
     "start_time": "2022-04-08T13:37:33.282315",
     "status": "completed"
    },
    "tags": []
   },
   "outputs": [
    {
     "name": "stderr",
     "output_type": "stream",
     "text": [
      "2022-04-08 13:37:33.431887: I tensorflow/compiler/mlir/mlir_graph_optimization_pass.cc:185] None of the MLIR Optimization Passes are enabled (registered 2)\n"
     ]
    },
    {
     "name": "stdout",
     "output_type": "stream",
     "text": [
      "Epoch 1/10\n",
      "  1/114 [..............................] - ETA: 27:07 - loss: 0.9004 - accuracy: 0.3125"
     ]
    },
    {
     "name": "stderr",
     "output_type": "stream",
     "text": [
      "2022-04-08 13:37:48.287146: I tensorflow/core/profiler/lib/profiler_session.cc:131] Profiler session initializing.\n",
      "2022-04-08 13:37:48.287204: I tensorflow/core/profiler/lib/profiler_session.cc:146] Profiler session started.\n"
     ]
    },
    {
     "name": "stdout",
     "output_type": "stream",
     "text": [
      "  2/114 [..............................] - ETA: 2:31 - loss: 0.7034 - accuracy: 0.5469 "
     ]
    },
    {
     "name": "stderr",
     "output_type": "stream",
     "text": [
      "2022-04-08 13:37:49.233052: I tensorflow/core/profiler/lib/profiler_session.cc:66] Profiler session collecting data.\n",
      "2022-04-08 13:37:49.235967: I tensorflow/core/profiler/internal/gpu/cupti_tracer.cc:1748] CUPTI activity buffer flushed\n",
      "2022-04-08 13:37:49.406275: I tensorflow/core/profiler/internal/gpu/cupti_collector.cc:673]  GpuTracer has collected 2858 callback api events and 2855 activity events. \n",
      "2022-04-08 13:37:49.483201: I tensorflow/core/profiler/lib/profiler_session.cc:164] Profiler session tear down.\n"
     ]
    },
    {
     "name": "stdout",
     "output_type": "stream",
     "text": [
      "114/114 [==============================] - 87s 639ms/step - loss: 0.3517 - accuracy: 0.8419 - val_loss: 0.2916 - val_accuracy: 0.8690\n",
      "Epoch 2/10\n",
      "114/114 [==============================] - 68s 601ms/step - loss: 0.2064 - accuracy: 0.9131 - val_loss: 0.2638 - val_accuracy: 0.8810\n",
      "Epoch 3/10\n",
      "114/114 [==============================] - 69s 604ms/step - loss: 0.1076 - accuracy: 0.9603 - val_loss: 0.3415 - val_accuracy: 0.8869\n",
      "Epoch 4/10\n",
      "114/114 [==============================] - 69s 604ms/step - loss: 0.0649 - accuracy: 0.9782 - val_loss: 0.3649 - val_accuracy: 0.8839\n",
      "Epoch 5/10\n",
      "114/114 [==============================] - 69s 604ms/step - loss: 0.0320 - accuracy: 0.9923 - val_loss: 0.4574 - val_accuracy: 0.8839\n",
      "Epoch 6/10\n",
      "114/114 [==============================] - 69s 604ms/step - loss: 0.0292 - accuracy: 0.9898 - val_loss: 0.4861 - val_accuracy: 0.8720\n",
      "Epoch 7/10\n",
      "114/114 [==============================] - 69s 605ms/step - loss: 0.0278 - accuracy: 0.9895 - val_loss: 0.4453 - val_accuracy: 0.8839\n",
      "Epoch 8/10\n",
      "114/114 [==============================] - 69s 603ms/step - loss: 0.0187 - accuracy: 0.9939 - val_loss: 0.4541 - val_accuracy: 0.8899\n",
      "Epoch 9/10\n",
      "114/114 [==============================] - 69s 602ms/step - loss: 0.0225 - accuracy: 0.9920 - val_loss: 0.4741 - val_accuracy: 0.8839\n",
      "Epoch 10/10\n",
      "114/114 [==============================] - 69s 604ms/step - loss: 0.0217 - accuracy: 0.9928 - val_loss: 0.4866 - val_accuracy: 0.8869\n"
     ]
    }
   ],
   "source": [
    "history_bert = model.fit([train_input_ids,train_attention_masks], y_train, validation_data=([val_input_ids,val_attention_masks], y_val), epochs=10, batch_size=32,callbacks=[tensorboard,reduce_lr])"
   ]
  },
  {
   "cell_type": "code",
   "execution_count": 43,
   "id": "2aec7242",
   "metadata": {
    "execution": {
     "iopub.execute_input": "2022-04-08T13:49:19.935381Z",
     "iopub.status.busy": "2022-04-08T13:49:19.934493Z",
     "iopub.status.idle": "2022-04-08T13:49:28.682215Z",
     "shell.execute_reply": "2022-04-08T13:49:28.682697Z",
     "shell.execute_reply.started": "2022-04-08T13:19:05.275769Z"
    },
    "papermill": {
     "duration": 9.170117,
     "end_time": "2022-04-08T13:49:28.682861",
     "exception": false,
     "start_time": "2022-04-08T13:49:19.512744",
     "status": "completed"
    },
    "tags": []
   },
   "outputs": [],
   "source": [
    "result_bert = model.predict([test_input_ids,test_attention_masks])\n"
   ]
  },
  {
   "cell_type": "code",
   "execution_count": 44,
   "id": "a9635795",
   "metadata": {
    "execution": {
     "iopub.execute_input": "2022-04-08T13:49:29.899986Z",
     "iopub.status.busy": "2022-04-08T13:49:29.898589Z",
     "iopub.status.idle": "2022-04-08T13:49:29.900696Z",
     "shell.execute_reply": "2022-04-08T13:49:29.899277Z",
     "shell.execute_reply.started": "2022-04-08T13:19:05.276912Z"
    },
    "papermill": {
     "duration": 0.704243,
     "end_time": "2022-04-08T13:49:29.900850",
     "exception": false,
     "start_time": "2022-04-08T13:49:29.196607",
     "status": "completed"
    },
    "tags": []
   },
   "outputs": [],
   "source": [
    "y_predicted = np.where(result_bert> 0.5, 1, 0)"
   ]
  },
  {
   "cell_type": "code",
   "execution_count": 45,
   "id": "498c3a2f",
   "metadata": {
    "execution": {
     "iopub.execute_input": "2022-04-08T13:49:30.884431Z",
     "iopub.status.busy": "2022-04-08T13:49:30.883524Z",
     "iopub.status.idle": "2022-04-08T13:49:30.886149Z",
     "shell.execute_reply": "2022-04-08T13:49:30.885714Z",
     "shell.execute_reply.started": "2022-04-08T13:19:05.279453Z"
    },
    "papermill": {
     "duration": 0.43266,
     "end_time": "2022-04-08T13:49:30.886269",
     "exception": false,
     "start_time": "2022-04-08T13:49:30.453609",
     "status": "completed"
    },
    "tags": []
   },
   "outputs": [],
   "source": [
    "def conf_matrix(y, y_pred, title):\n",
    "    fig, ax =plt.subplots(figsize=(5,5))\n",
    "    labels=['Negative', 'Positive']\n",
    "    ax=sns.heatmap(confusion_matrix(y, y_pred), annot=True, cmap=\"Blues\", fmt='g', cbar=False, annot_kws={\"size\":25})\n",
    "    plt.title(title, fontsize=20)\n",
    "    ax.xaxis.set_ticklabels(labels, fontsize=17) \n",
    "    ax.yaxis.set_ticklabels(labels, fontsize=17)\n",
    "    ax.set_ylabel('Test', fontsize=20)\n",
    "    ax.set_xlabel('Predicted', fontsize=20)\n",
    "    plt.show()\n"
   ]
  },
  {
   "cell_type": "code",
   "execution_count": 46,
   "id": "12c25358",
   "metadata": {
    "execution": {
     "iopub.execute_input": "2022-04-08T13:49:31.756786Z",
     "iopub.status.busy": "2022-04-08T13:49:31.755760Z",
     "iopub.status.idle": "2022-04-08T13:49:31.887711Z",
     "shell.execute_reply": "2022-04-08T13:49:31.888148Z",
     "shell.execute_reply.started": "2022-04-08T13:19:05.281115Z"
    },
    "papermill": {
     "duration": 0.571405,
     "end_time": "2022-04-08T13:49:31.888294",
     "exception": false,
     "start_time": "2022-04-08T13:49:31.316889",
     "status": "completed"
    },
    "tags": []
   },
   "outputs": [
    {
     "data": {
      "image/png": "[encoded data removed]",
      "text/plain": [
       "<Figure size 360x360 with 1 Axes>"
      ]
     },
     "metadata": {
      "needs_background": "light"
     },
     "output_type": "display_data"
    }
   ],
   "source": [
    "from sklearn.metrics import confusion_matrix\n",
    "import matplotlib.pyplot as plt\n",
    "conf_matrix(y_test, y_predicted,'Bert case arabic harmful detection')"
   ]
  },
  {
   "cell_type": "code",
   "execution_count": 47,
   "id": "b3b047d6",
   "metadata": {
    "execution": {
     "iopub.execute_input": "2022-04-08T13:49:32.749732Z",
     "iopub.status.busy": "2022-04-08T13:49:32.748997Z",
     "iopub.status.idle": "2022-04-08T13:49:32.751742Z",
     "shell.execute_reply": "2022-04-08T13:49:32.752160Z",
     "shell.execute_reply.started": "2022-04-08T13:19:05.283179Z"
    },
    "papermill": {
     "duration": 0.431284,
     "end_time": "2022-04-08T13:49:32.752290",
     "exception": false,
     "start_time": "2022-04-08T13:49:32.321006",
     "status": "completed"
    },
    "tags": []
   },
   "outputs": [
    {
     "name": "stdout",
     "output_type": "stream",
     "text": [
      "Accuracy :0.894366\n"
     ]
    }
   ],
   "source": [
    "from sklearn.metrics import accuracy_score\n",
    "accuracy= accuracy_score(y_test, y_predicted)\n",
    "print(\"Accuracy :%5f\" % (accuracy))"
   ]
  },
  {
   "cell_type": "code",
   "execution_count": 48,
   "id": "cc3d37d9",
   "metadata": {
    "execution": {
     "iopub.execute_input": "2022-04-08T13:49:33.649451Z",
     "iopub.status.busy": "2022-04-08T13:49:33.648596Z",
     "iopub.status.idle": "2022-04-08T13:49:33.654956Z",
     "shell.execute_reply": "2022-04-08T13:49:33.655494Z",
     "shell.execute_reply.started": "2022-04-08T13:19:05.284881Z"
    },
    "papermill": {
     "duration": 0.432041,
     "end_time": "2022-04-08T13:49:33.655690",
     "exception": false,
     "start_time": "2022-04-08T13:49:33.223649",
     "status": "completed"
    },
    "tags": []
   },
   "outputs": [
    {
     "name": "stdout",
     "output_type": "stream",
     "text": [
      "F1-score micro :0.894366\n"
     ]
    }
   ],
   "source": [
    "from sklearn.metrics import f1_score\n",
    "mic=f1_score(y_test,y_predicted, average='micro')\n",
    "print(\"F1-score micro :%5f\" % (mic))"
   ]
  },
  {
   "cell_type": "code",
   "execution_count": 49,
   "id": "99c98753",
   "metadata": {
    "execution": {
     "iopub.execute_input": "2022-04-08T13:49:34.508115Z",
     "iopub.status.busy": "2022-04-08T13:49:34.506788Z",
     "iopub.status.idle": "2022-04-08T13:49:34.513182Z",
     "shell.execute_reply": "2022-04-08T13:49:34.513808Z",
     "shell.execute_reply.started": "2022-04-08T13:19:05.286439Z"
    },
    "papermill": {
     "duration": 0.435321,
     "end_time": "2022-04-08T13:49:34.514119",
     "exception": false,
     "start_time": "2022-04-08T13:49:34.078798",
     "status": "completed"
    },
    "tags": []
   },
   "outputs": [
    {
     "name": "stdout",
     "output_type": "stream",
     "text": [
      "F1-score macro :0.827452\n"
     ]
    }
   ],
   "source": [
    "from sklearn.metrics import f1_score\n",
    "mac=f1_score(y_test,y_predicted, average='macro')\n",
    "print(\"F1-score macro :%5f\" % (mac))"
   ]
  },
  {
   "cell_type": "code",
   "execution_count": 50,
   "id": "cf18e1cf",
   "metadata": {
    "execution": {
     "iopub.execute_input": "2022-04-08T13:49:35.368819Z",
     "iopub.status.busy": "2022-04-08T13:49:35.367958Z",
     "iopub.status.idle": "2022-04-08T13:49:35.372347Z",
     "shell.execute_reply": "2022-04-08T13:49:35.372890Z",
     "shell.execute_reply.started": "2022-04-08T13:19:05.288737Z"
    },
    "papermill": {
     "duration": 0.43439,
     "end_time": "2022-04-08T13:49:35.373033",
     "exception": false,
     "start_time": "2022-04-08T13:49:34.938643",
     "status": "completed"
    },
    "tags": []
   },
   "outputs": [
    {
     "name": "stdout",
     "output_type": "stream",
     "text": [
      "0.7142857142857143\n"
     ]
    }
   ],
   "source": [
    "from sklearn.metrics import recall_score\n",
    "rec=recall_score(y_test, y_predicted, average='binary')\n",
    "print(rec)"
   ]
  },
  {
   "cell_type": "code",
   "execution_count": 51,
   "id": "2e7938bb",
   "metadata": {
    "execution": {
     "iopub.execute_input": "2022-04-08T13:49:36.230550Z",
     "iopub.status.busy": "2022-04-08T13:49:36.229671Z",
     "iopub.status.idle": "2022-04-08T13:49:36.234252Z",
     "shell.execute_reply": "2022-04-08T13:49:36.234811Z",
     "shell.execute_reply.started": "2022-04-08T13:19:05.289884Z"
    },
    "papermill": {
     "duration": 0.437203,
     "end_time": "2022-04-08T13:49:36.234949",
     "exception": false,
     "start_time": "2022-04-08T13:49:35.797746",
     "status": "completed"
    },
    "tags": []
   },
   "outputs": [
    {
     "name": "stdout",
     "output_type": "stream",
     "text": [
      "0.7258064516129032\n"
     ]
    }
   ],
   "source": [
    "from sklearn.metrics import precision_score\n",
    "prec=precision_score(y_test, y_predicted, average='binary')\n",
    "print(prec)"
   ]
  },
  {
   "cell_type": "code",
   "execution_count": 52,
   "id": "87b161ff",
   "metadata": {
    "execution": {
     "iopub.execute_input": "2022-04-08T13:49:37.359066Z",
     "iopub.status.busy": "2022-04-08T13:49:37.358064Z",
     "iopub.status.idle": "2022-04-08T13:49:37.714532Z",
     "shell.execute_reply": "2022-04-08T13:49:37.714986Z",
     "shell.execute_reply.started": "2022-04-08T13:19:05.291863Z"
    },
    "papermill": {
     "duration": 0.79595,
     "end_time": "2022-04-08T13:49:37.715133",
     "exception": false,
     "start_time": "2022-04-08T13:49:36.919183",
     "status": "completed"
    },
    "tags": []
   },
   "outputs": [
    {
     "name": "stdout",
     "output_type": "stream",
     "text": [
      "dict_keys(['loss', 'accuracy', 'val_loss', 'val_accuracy', 'lr'])\n"
     ]
    },
    {
     "data": {
      "text/plain": [
       "<matplotlib.legend.Legend at 0x7f8a28426a10>"
      ]
     },
     "execution_count": 52,
     "metadata": {},
     "output_type": "execute_result"
    },
    {
     "data": {
      "image/png": "[encoded data removed]",
      "text/plain": [
       "<Figure size 720x432 with 2 Axes>"
      ]
     },
     "metadata": {
      "needs_background": "light"
     },
     "output_type": "display_data"
    }
   ],
   "source": [
    "history_dict = history_bert.history\n",
    "print(history_dict.keys())\n",
    "\n",
    "acc = history_dict['accuracy']\n",
    "val_acc = history_dict['val_accuracy']\n",
    "loss = history_dict['loss']\n",
    "val_loss = history_dict['val_loss']\n",
    "\n",
    "epochs = range(1, len(acc) + 1)\n",
    "fig = plt.figure(figsize=(10, 6))\n",
    "fig.tight_layout()\n",
    "\n",
    "plt.subplot(2, 1, 1)\n",
    "# r is for \"solid red line\"\n",
    "plt.plot(epochs, loss, 'r', label='Training loss')\n",
    "# b is for \"solid blue line\"\n",
    "plt.plot(epochs, val_loss, 'b', label='Validation loss')\n",
    "plt.title('Training and validation loss')\n",
    "# plt.xlabel('Epochs')\n",
    "plt.ylabel('Loss')\n",
    "plt.legend()\n",
    "\n",
    "plt.subplot(2, 1, 2)\n",
    "plt.plot(epochs, acc, 'r', label='Training acc')\n",
    "plt.plot(epochs, val_acc, 'b', label='Validation acc')\n",
    "plt.title('Training and validation accuracy')\n",
    "plt.xlabel('Epochs')\n",
    "plt.ylabel('Accuracy')\n",
    "plt.legend(loc='lower right')"
   ]
  },
  {
   "cell_type": "code",
   "execution_count": 53,
   "id": "491e0596",
   "metadata": {
    "execution": {
     "iopub.execute_input": "2022-04-08T13:49:38.579155Z",
     "iopub.status.busy": "2022-04-08T13:49:38.578326Z",
     "iopub.status.idle": "2022-04-08T13:49:38.580140Z",
     "shell.execute_reply": "2022-04-08T13:49:38.580559Z",
     "shell.execute_reply.started": "2022-04-08T13:19:05.293070Z"
    },
    "papermill": {
     "duration": 0.435667,
     "end_time": "2022-04-08T13:49:38.580695",
     "exception": false,
     "start_time": "2022-04-08T13:49:38.145028",
     "status": "completed"
    },
    "tags": []
   },
   "outputs": [],
   "source": [
    "# Configuration\n",
    "lr=2e-5\n",
    "EPOCHS = 10\n",
    "BATCH_SIZE = 32\n",
    "MAX_LEN = 150"
   ]
  },
  {
   "cell_type": "code",
   "execution_count": 54,
   "id": "76d87e26",
   "metadata": {
    "execution": {
     "iopub.execute_input": "2022-04-08T13:49:39.452710Z",
     "iopub.status.busy": "2022-04-08T13:49:39.451863Z",
     "iopub.status.idle": "2022-04-08T13:49:39.453618Z",
     "shell.execute_reply": "2022-04-08T13:49:39.454049Z",
     "shell.execute_reply.started": "2022-04-08T13:19:05.294617Z"
    },
    "papermill": {
     "duration": 0.437058,
     "end_time": "2022-04-08T13:49:39.454177",
     "exception": false,
     "start_time": "2022-04-08T13:49:39.017119",
     "status": "completed"
    },
    "tags": []
   },
   "outputs": [],
   "source": [
    "score = [{'MODEL': 'Bert-base-arabic', 'Accuracy': accuracy,'Precision':prec,'Recall':rec, 'f1-score micro':mic, 'f1-score macro':mac,'epochs':EPOCHS,'batch_size':BATCH_SIZE,'sequence length':MAX_LEN,'learning-rate':'2e-5','Preprocessing':0,'augmentation':0}]\n",
    "score_f =pd.DataFrame(score)"
   ]
  },
  {
   "cell_type": "code",
   "execution_count": 55,
   "id": "76112589",
   "metadata": {
    "execution": {
     "iopub.execute_input": "2022-04-08T13:49:40.320940Z",
     "iopub.status.busy": "2022-04-08T13:49:40.320181Z",
     "iopub.status.idle": "2022-04-08T13:49:40.326292Z",
     "shell.execute_reply": "2022-04-08T13:49:40.325836Z",
     "shell.execute_reply.started": "2022-04-08T13:19:05.295798Z"
    },
    "papermill": {
     "duration": 0.445922,
     "end_time": "2022-04-08T13:49:40.326409",
     "exception": false,
     "start_time": "2022-04-08T13:49:39.880487",
     "status": "completed"
    },
    "tags": []
   },
   "outputs": [],
   "source": [
    "score_f.to_csv(\"model_boosted_results.csv\")"
   ]
  },
  {
   "cell_type": "code",
   "execution_count": null,
   "id": "2c988f59",
   "metadata": {
    "papermill": {
     "duration": 0.422998,
     "end_time": "2022-04-08T13:49:41.181102",
     "exception": false,
     "start_time": "2022-04-08T13:49:40.758104",
     "status": "completed"
    },
    "tags": []
   },
   "outputs": [],
   "source": []
  },
  {
   "cell_type": "code",
   "execution_count": null,
   "id": "13dfa3b7",
   "metadata": {
    "papermill": {
     "duration": 0.425701,
     "end_time": "2022-04-08T13:49:42.042878",
     "exception": false,
     "start_time": "2022-04-08T13:49:41.617177",
     "status": "completed"
    },
    "tags": []
   },
   "outputs": [],
   "source": []
  },
  {
   "cell_type": "code",
   "execution_count": null,
   "id": "0ab05c9f",
   "metadata": {
    "papermill": {
     "duration": 0.469042,
     "end_time": "2022-04-08T13:49:42.956691",
     "exception": false,
     "start_time": "2022-04-08T13:49:42.487649",
     "status": "completed"
    },
    "tags": []
   },
   "outputs": [],
   "source": []
  },
  {
   "cell_type": "code",
   "execution_count": null,
   "id": "5f0c636a",
   "metadata": {
    "papermill": {
     "duration": 0.424301,
     "end_time": "2022-04-08T13:49:43.823720",
     "exception": false,
     "start_time": "2022-04-08T13:49:43.399419",
     "status": "completed"
    },
    "tags": []
   },
   "outputs": [],
   "source": []
  },
  {
   "cell_type": "code",
   "execution_count": null,
   "id": "dda95159",
   "metadata": {
    "papermill": {
     "duration": 0.424213,
     "end_time": "2022-04-08T13:49:44.673300",
     "exception": false,
     "start_time": "2022-04-08T13:49:44.249087",
     "status": "completed"
    },
    "tags": []
   },
   "outputs": [],
   "source": []
  }
 ],
 "metadata": {
  "kernelspec": {
   "display_name": "Python 3",
   "language": "python",
   "name": "python3"
  },
  "language_info": {
   "codemirror_mode": {
    "name": "ipython",
    "version": 3
   },
   "file_extension": ".py",
   "mimetype": "text/x-python",
   "name": "python",
   "nbconvert_exporter": "python",
   "pygments_lexer": "ipython3",
   "version": "3.7.12"
  },
  "papermill": {
   "default_parameters": {},
   "duration": 825.035502,
   "end_time": "2022-04-08T13:49:48.796116",
   "environment_variables": {},
   "exception": null,
   "input_path": "__notebook__.ipynb",
   "output_path": "__notebook__.ipynb",
   "parameters": {},
   "start_time": "2022-04-08T13:36:03.760614",
   "version": "2.3.3"
  },
  "widgets": {
   "application/vnd.jupyter.widget-state+json": {
    "state": {
     "03c2c41429f849e99570085bf28de846": {
      "model_module": "@jupyter-widgets/base",
      "model_module_version": "1.2.0",
      "model_name": "LayoutModel",
      "state": {
       "_model_module": "@jupyter-widgets/base",
       "_model_module_version": "1.2.0",
       "_model_name": "LayoutModel",
       "_view_count": null,
       "_view_module": "@jupyter-widgets/base",
       "_view_module_version": "1.2.0",
       "_view_name": "LayoutView",
       "align_content": null,
       "align_items": null,
       "align_self": null,
       "border": null,
       "bottom": null,
       "display": null,
       "flex": null,
       "flex_flow": null,
       "grid_area": null,
       "grid_auto_columns": null,
       "grid_auto_flow": null,
       "grid_auto_rows": null,
       "grid_column": null,
       "grid_gap": null,
       "grid_row": null,
       "grid_template_areas": null,
       "grid_template_columns": null,
       "grid_template_rows": null,
       "height": null,
       "justify_content": null,
       "justify_items": null,
       "left": null,
       "margin": null,
       "max_height": null,
       "max_width": null,
       "min_height": null,
       "min_width": null,
       "object_fit": null,
       "object_position": null,
       "order": null,
       "overflow": null,
       "overflow_x": null,
       "overflow_y": null,
       "padding": null,
       "right": null,
       "top": null,
       "visibility": null,
       "width": null
      }
     },
     "054e8e775bba45dbbd18a11917cc97c0": {
      "model_module": "@jupyter-widgets/base",
      "model_module_version": "1.2.0",
      "model_name": "LayoutModel",
      "state": {
       "_model_module": "@jupyter-widgets/base",
       "_model_module_version": "1.2.0",
       "_model_name": "LayoutModel",
       "_view_count": null,
       "_view_module": "@jupyter-widgets/base",
       "_view_module_version": "1.2.0",
       "_view_name": "LayoutView",
       "align_content": null,
       "align_items": null,
       "align_self": null,
       "border": null,
       "bottom": null,
       "display": null,
       "flex": null,
       "flex_flow": null,
       "grid_area": null,
       "grid_auto_columns": null,
       "grid_auto_flow": null,
       "grid_auto_rows": null,
       "grid_column": null,
       "grid_gap": null,
       "grid_row": null,
       "grid_template_areas": null,
       "grid_template_columns": null,
       "grid_template_rows": null,
       "height": null,
       "justify_content": null,
       "justify_items": null,
       "left": null,
       "margin": null,
       "max_height": null,
       "max_width": null,
       "min_height": null,
       "min_width": null,
       "object_fit": null,
       "object_position": null,
       "order": null,
       "overflow": null,
       "overflow_x": null,
       "overflow_y": null,
       "padding": null,
       "right": null,
       "top": null,
       "visibility": null,
       "width": null
      }
     },
     "05c88f77094048b08fbc0f6d399f7b25": {
      "model_module": "@jupyter-widgets/base",
      "model_module_version": "1.2.0",
      "model_name": "LayoutModel",
      "state": {
       "_model_module": "@jupyter-widgets/base",
       "_model_module_version": "1.2.0",
       "_model_name": "LayoutModel",
       "_view_count": null,
       "_view_module": "@jupyter-widgets/base",
       "_view_module_version": "1.2.0",
       "_view_name": "LayoutView",
       "align_content": null,
       "align_items": null,
       "align_self": null,
       "border": null,
       "bottom": null,
       "display": null,
       "flex": null,
       "flex_flow": null,
       "grid_area": null,
       "grid_auto_columns": null,
       "grid_auto_flow": null,
       "grid_auto_rows": null,
       "grid_column": null,
       "grid_gap": null,
       "grid_row": null,
       "grid_template_areas": null,
       "grid_template_columns": null,
       "grid_template_rows": null,
       "height": null,
       "justify_content": null,
       "justify_items": null,
       "left": null,
       "margin": null,
       "max_height": null,
       "max_width": null,
       "min_height": null,
       "min_width": null,
       "object_fit": null,
       "object_position": null,
       "order": null,
       "overflow": null,
       "overflow_x": null,
       "overflow_y": null,
       "padding": null,
       "right": null,
       "top": null,
       "visibility": null,
       "width": null
      }
     },
     "08bb626c6e8c4322a3ebceae872ad82e": {
      "model_module": "@jupyter-widgets/base",
      "model_module_version": "1.2.0",
      "model_name": "LayoutModel",
      "state": {
       "_model_module": "@jupyter-widgets/base",
       "_model_module_version": "1.2.0",
       "_model_name": "LayoutModel",
       "_view_count": null,
       "_view_module": "@jupyter-widgets/base",
       "_view_module_version": "1.2.0",
       "_view_name": "LayoutView",
       "align_content": null,
       "align_items": null,
       "align_self": null,
       "border": null,
       "bottom": null,
       "display": null,
       "flex": null,
       "flex_flow": null,
       "grid_area": null,
       "grid_auto_columns": null,
       "grid_auto_flow": null,
       "grid_auto_rows": null,
       "grid_column": null,
       "grid_gap": null,
       "grid_row": null,
       "grid_template_areas": null,
       "grid_template_columns": null,
       "grid_template_rows": null,
       "height": null,
       "justify_content": null,
       "justify_items": null,
       "left": null,
       "margin": null,
       "max_height": null,
       "max_width": null,
       "min_height": null,
       "min_width": null,
       "object_fit": null,
       "object_position": null,
       "order": null,
       "overflow": null,
       "overflow_x": null,
       "overflow_y": null,
       "padding": null,
       "right": null,
       "top": null,
       "visibility": null,
       "width": null
      }
     },
     "095eb85cd9c543d68a71581cdaefdd62": {
      "model_module": "@jupyter-widgets/base",
      "model_module_version": "1.2.0",
      "model_name": "LayoutModel",
      "state": {
       "_model_module": "@jupyter-widgets/base",
       "_model_module_version": "1.2.0",
       "_model_name": "LayoutModel",
       "_view_count": null,
       "_view_module": "@jupyter-widgets/base",
       "_view_module_version": "1.2.0",
       "_view_name": "LayoutView",
       "align_content": null,
       "align_items": null,
       "align_self": null,
       "border": null,
       "bottom": null,
       "display": null,
       "flex": null,
       "flex_flow": null,
       "grid_area": null,
       "grid_auto_columns": null,
       "grid_auto_flow": null,
       "grid_auto_rows": null,
       "grid_column": null,
       "grid_gap": null,
       "grid_row": null,
       "grid_template_areas": null,
       "grid_template_columns": null,
       "grid_template_rows": null,
       "height": null,
       "justify_content": null,
       "justify_items": null,
       "left": null,
       "margin": null,
       "max_height": null,
       "max_width": null,
       "min_height": null,
       "min_width": null,
       "object_fit": null,
       "object_position": null,
       "order": null,
       "overflow": null,
       "overflow_x": null,
       "overflow_y": null,
       "padding": null,
       "right": null,
       "top": null,
       "visibility": null,
       "width": null
      }
     },
     "0b73176ff4ee4a85a8a2febb9c5ce5e4": {
      "model_module": "@jupyter-widgets/controls",
      "model_module_version": "1.5.0",
      "model_name": "FloatProgressModel",
      "state": {
       "_dom_classes": [],
       "_model_module": "@jupyter-widgets/controls",
       "_model_module_version": "1.5.0",
       "_model_name": "FloatProgressModel",
       "_view_count": null,
       "_view_module": "@jupyter-widgets/controls",
       "_view_module_version": "1.5.0",
       "_view_name": "ProgressView",
       "bar_style": "success",
       "description": "",
       "description_tooltip": null,
       "layout": "IPY_MODEL_095eb85cd9c543d68a71581cdaefdd62",
       "max": 741884184,
       "min": 0,
       "orientation": "horizontal",
       "style": "IPY_MODEL_91947fcbe29c40a4b8a2623f30a8606c",
       "value": 741884184
      }
     },
     "1125f142f9064e319d0b544091e22508": {
      "model_module": "@jupyter-widgets/controls",
      "model_module_version": "1.5.0",
      "model_name": "HBoxModel",
      "state": {
       "_dom_classes": [],
       "_model_module": "@jupyter-widgets/controls",
       "_model_module_version": "1.5.0",
       "_model_name": "HBoxModel",
       "_view_count": null,
       "_view_module": "@jupyter-widgets/controls",
       "_view_module_version": "1.5.0",
       "_view_name": "HBoxView",
       "box_style": "",
       "children": [
        "IPY_MODEL_84681bcd190d4e068a134e707390c0b7",
        "IPY_MODEL_0b73176ff4ee4a85a8a2febb9c5ce5e4",
        "IPY_MODEL_64dd60168f2244608e3c2ce055b2f2fa"
       ],
       "layout": "IPY_MODEL_b0de31ee2b1d4b73ac5e21f0df098e65"
      }
     },
     "1f1b4d03ad2b4d818b43a1fd38910886": {
      "model_module": "@jupyter-widgets/controls",
      "model_module_version": "1.5.0",
      "model_name": "HTMLModel",
      "state": {
       "_dom_classes": [],
       "_model_module": "@jupyter-widgets/controls",
       "_model_module_version": "1.5.0",
       "_model_name": "HTMLModel",
       "_view_count": null,
       "_view_module": "@jupyter-widgets/controls",
       "_view_module_version": "1.5.0",
       "_view_name": "HTMLView",
       "description": "",
       "description_tooltip": null,
       "layout": "IPY_MODEL_399915d3a3b843af941767fd8f2d697d",
       "placeholder": "​",
       "style": "IPY_MODEL_52617715fb544520aef691e94c41308d",
       "value": "Downloading: 100%"
      }
     },
     "270151b0365248688fa90e06794e936b": {
      "model_module": "@jupyter-widgets/controls",
      "model_module_version": "1.5.0",
      "model_name": "ProgressStyleModel",
      "state": {
       "_model_module": "@jupyter-widgets/controls",
       "_model_module_version": "1.5.0",
       "_model_name": "ProgressStyleModel",
       "_view_count": null,
       "_view_module": "@jupyter-widgets/base",
       "_view_module_version": "1.2.0",
       "_view_name": "StyleView",
       "bar_color": null,
       "description_width": ""
      }
     },
     "2928ae05df15486391dedb3938a6d7e5": {
      "model_module": "@jupyter-widgets/controls",
      "model_module_version": "1.5.0",
      "model_name": "HBoxModel",
      "state": {
       "_dom_classes": [],
       "_model_module": "@jupyter-widgets/controls",
       "_model_module_version": "1.5.0",
       "_model_name": "HBoxModel",
       "_view_count": null,
       "_view_module": "@jupyter-widgets/controls",
       "_view_module_version": "1.5.0",
       "_view_name": "HBoxView",
       "box_style": "",
       "children": [
        "IPY_MODEL_eed7c73d30d34e6f9b6fce8ca681249d",
        "IPY_MODEL_7af027c9d5f14cf6a24d53a778388a49",
        "IPY_MODEL_6edf8d6bbded4959b78bbbd36303fcc6"
       ],
       "layout": "IPY_MODEL_6bbc956f539448be89745374774746a7"
      }
     },
     "2fcb2ec58c23435f96b36c554619d709": {
      "model_module": "@jupyter-widgets/controls",
      "model_module_version": "1.5.0",
      "model_name": "DescriptionStyleModel",
      "state": {
       "_model_module": "@jupyter-widgets/controls",
       "_model_module_version": "1.5.0",
       "_model_name": "DescriptionStyleModel",
       "_view_count": null,
       "_view_module": "@jupyter-widgets/base",
       "_view_module_version": "1.2.0",
       "_view_name": "StyleView",
       "description_width": ""
      }
     },
     "3433815177ef4625826a1cf7d6209ab0": {
      "model_module": "@jupyter-widgets/controls",
      "model_module_version": "1.5.0",
      "model_name": "DescriptionStyleModel",
      "state": {
       "_model_module": "@jupyter-widgets/controls",
       "_model_module_version": "1.5.0",
       "_model_name": "DescriptionStyleModel",
       "_view_count": null,
       "_view_module": "@jupyter-widgets/base",
       "_view_module_version": "1.2.0",
       "_view_name": "StyleView",
       "description_width": ""
      }
     },
     "38022449378c492084e852ed780d9daa": {
      "model_module": "@jupyter-widgets/base",
      "model_module_version": "1.2.0",
      "model_name": "LayoutModel",
      "state": {
       "_model_module": "@jupyter-widgets/base",
       "_model_module_version": "1.2.0",
       "_model_name": "LayoutModel",
       "_view_count": null,
       "_view_module": "@jupyter-widgets/base",
       "_view_module_version": "1.2.0",
       "_view_name": "LayoutView",
       "align_content": null,
       "align_items": null,
       "align_self": null,
       "border": null,
       "bottom": null,
       "display": null,
       "flex": null,
       "flex_flow": null,
       "grid_area": null,
       "grid_auto_columns": null,
       "grid_auto_flow": null,
       "grid_auto_rows": null,
       "grid_column": null,
       "grid_gap": null,
       "grid_row": null,
       "grid_template_areas": null,
       "grid_template_columns": null,
       "grid_template_rows": null,
       "height": null,
       "justify_content": null,
       "justify_items": null,
       "left": null,
       "margin": null,
       "max_height": null,
       "max_width": null,
       "min_height": null,
       "min_width": null,
       "object_fit": null,
       "object_position": null,
       "order": null,
       "overflow": null,
       "overflow_x": null,
       "overflow_y": null,
       "padding": null,
       "right": null,
       "top": null,
       "visibility": null,
       "width": null
      }
     },
     "399915d3a3b843af941767fd8f2d697d": {
      "model_module": "@jupyter-widgets/base",
      "model_module_version": "1.2.0",
      "model_name": "LayoutModel",
      "state": {
       "_model_module": "@jupyter-widgets/base",
       "_model_module_version": "1.2.0",
       "_model_name": "LayoutModel",
       "_view_count": null,
       "_view_module": "@jupyter-widgets/base",
       "_view_module_version": "1.2.0",
       "_view_name": "LayoutView",
       "align_content": null,
       "align_items": null,
       "align_self": null,
       "border": null,
       "bottom": null,
       "display": null,
       "flex": null,
       "flex_flow": null,
       "grid_area": null,
       "grid_auto_columns": null,
       "grid_auto_flow": null,
       "grid_auto_rows": null,
       "grid_column": null,
       "grid_gap": null,
       "grid_row": null,
       "grid_template_areas": null,
       "grid_template_columns": null,
       "grid_template_rows": null,
       "height": null,
       "justify_content": null,
       "justify_items": null,
       "left": null,
       "margin": null,
       "max_height": null,
       "max_width": null,
       "min_height": null,
       "min_width": null,
       "object_fit": null,
       "object_position": null,
       "order": null,
       "overflow": null,
       "overflow_x": null,
       "overflow_y": null,
       "padding": null,
       "right": null,
       "top": null,
       "visibility": null,
       "width": null
      }
     },
     "3c20d26e5f31493ebaa0d928509ab843": {
      "model_module": "@jupyter-widgets/controls",
      "model_module_version": "1.5.0",
      "model_name": "ProgressStyleModel",
      "state": {
       "_model_module": "@jupyter-widgets/controls",
       "_model_module_version": "1.5.0",
       "_model_name": "ProgressStyleModel",
       "_view_count": null,
       "_view_module": "@jupyter-widgets/base",
       "_view_module_version": "1.2.0",
       "_view_name": "StyleView",
       "bar_color": null,
       "description_width": ""
      }
     },
     "3e1c6a14ffb14dc5b228afdae5d731ff": {
      "model_module": "@jupyter-widgets/base",
      "model_module_version": "1.2.0",
      "model_name": "LayoutModel",
      "state": {
       "_model_module": "@jupyter-widgets/base",
       "_model_module_version": "1.2.0",
       "_model_name": "LayoutModel",
       "_view_count": null,
       "_view_module": "@jupyter-widgets/base",
       "_view_module_version": "1.2.0",
       "_view_name": "LayoutView",
       "align_content": null,
       "align_items": null,
       "align_self": null,
       "border": null,
       "bottom": null,
       "display": null,
       "flex": null,
       "flex_flow": null,
       "grid_area": null,
       "grid_auto_columns": null,
       "grid_auto_flow": null,
       "grid_auto_rows": null,
       "grid_column": null,
       "grid_gap": null,
       "grid_row": null,
       "grid_template_areas": null,
       "grid_template_columns": null,
       "grid_template_rows": null,
       "height": null,
       "justify_content": null,
       "justify_items": null,
       "left": null,
       "margin": null,
       "max_height": null,
       "max_width": null,
       "min_height": null,
       "min_width": null,
       "object_fit": null,
       "object_position": null,
       "order": null,
       "overflow": null,
       "overflow_x": null,
       "overflow_y": null,
       "padding": null,
       "right": null,
       "top": null,
       "visibility": null,
       "width": null
      }
     },
     "3f84979c67624fa8a53191dbd8ab441c": {
      "model_module": "@jupyter-widgets/base",
      "model_module_version": "1.2.0",
      "model_name": "LayoutModel",
      "state": {
       "_model_module": "@jupyter-widgets/base",
       "_model_module_version": "1.2.0",
       "_model_name": "LayoutModel",
       "_view_count": null,
       "_view_module": "@jupyter-widgets/base",
       "_view_module_version": "1.2.0",
       "_view_name": "LayoutView",
       "align_content": null,
       "align_items": null,
       "align_self": null,
       "border": null,
       "bottom": null,
       "display": null,
       "flex": null,
       "flex_flow": null,
       "grid_area": null,
       "grid_auto_columns": null,
       "grid_auto_flow": null,
       "grid_auto_rows": null,
       "grid_column": null,
       "grid_gap": null,
       "grid_row": null,
       "grid_template_areas": null,
       "grid_template_columns": null,
       "grid_template_rows": null,
       "height": null,
       "justify_content": null,
       "justify_items": null,
       "left": null,
       "margin": null,
       "max_height": null,
       "max_width": null,
       "min_height": null,
       "min_width": null,
       "object_fit": null,
       "object_position": null,
       "order": null,
       "overflow": null,
       "overflow_x": null,
       "overflow_y": null,
       "padding": null,
       "right": null,
       "top": null,
       "visibility": null,
       "width": null
      }
     },
     "47a64b7484f246e992a56846a7b9c670": {
      "model_module": "@jupyter-widgets/controls",
      "model_module_version": "1.5.0",
      "model_name": "DescriptionStyleModel",
      "state": {
       "_model_module": "@jupyter-widgets/controls",
       "_model_module_version": "1.5.0",
       "_model_name": "DescriptionStyleModel",
       "_view_count": null,
       "_view_module": "@jupyter-widgets/base",
       "_view_module_version": "1.2.0",
       "_view_name": "StyleView",
       "description_width": ""
      }
     },
     "52617715fb544520aef691e94c41308d": {
      "model_module": "@jupyter-widgets/controls",
      "model_module_version": "1.5.0",
      "model_name": "DescriptionStyleModel",
      "state": {
       "_model_module": "@jupyter-widgets/controls",
       "_model_module_version": "1.5.0",
       "_model_name": "DescriptionStyleModel",
       "_view_count": null,
       "_view_module": "@jupyter-widgets/base",
       "_view_module_version": "1.2.0",
       "_view_name": "StyleView",
       "description_width": ""
      }
     },
     "53c45710cda544edb857fd9f01a6c87e": {
      "model_module": "@jupyter-widgets/controls",
      "model_module_version": "1.5.0",
      "model_name": "HTMLModel",
      "state": {
       "_dom_classes": [],
       "_model_module": "@jupyter-widgets/controls",
       "_model_module_version": "1.5.0",
       "_model_name": "HTMLModel",
       "_view_count": null,
       "_view_module": "@jupyter-widgets/controls",
       "_view_module_version": "1.5.0",
       "_view_name": "HTMLView",
       "description": "",
       "description_tooltip": null,
       "layout": "IPY_MODEL_3f84979c67624fa8a53191dbd8ab441c",
       "placeholder": "​",
       "style": "IPY_MODEL_47a64b7484f246e992a56846a7b9c670",
       "value": "Downloading: 100%"
      }
     },
     "54fa4bca637d468bb13966739a92d817": {
      "model_module": "@jupyter-widgets/base",
      "model_module_version": "1.2.0",
      "model_name": "LayoutModel",
      "state": {
       "_model_module": "@jupyter-widgets/base",
       "_model_module_version": "1.2.0",
       "_model_name": "LayoutModel",
       "_view_count": null,
       "_view_module": "@jupyter-widgets/base",
       "_view_module_version": "1.2.0",
       "_view_name": "LayoutView",
       "align_content": null,
       "align_items": null,
       "align_self": null,
       "border": null,
       "bottom": null,
       "display": null,
       "flex": null,
       "flex_flow": null,
       "grid_area": null,
       "grid_auto_columns": null,
       "grid_auto_flow": null,
       "grid_auto_rows": null,
       "grid_column": null,
       "grid_gap": null,
       "grid_row": null,
       "grid_template_areas": null,
       "grid_template_columns": null,
       "grid_template_rows": null,
       "height": null,
       "justify_content": null,
       "justify_items": null,
       "left": null,
       "margin": null,
       "max_height": null,
       "max_width": null,
       "min_height": null,
       "min_width": null,
       "object_fit": null,
       "object_position": null,
       "order": null,
       "overflow": null,
       "overflow_x": null,
       "overflow_y": null,
       "padding": null,
       "right": null,
       "top": null,
       "visibility": null,
       "width": null
      }
     },
     "557c5b8bde3a4008b5d194f411513a9e": {
      "model_module": "@jupyter-widgets/controls",
      "model_module_version": "1.5.0",
      "model_name": "HBoxModel",
      "state": {
       "_dom_classes": [],
       "_model_module": "@jupyter-widgets/controls",
       "_model_module_version": "1.5.0",
       "_model_name": "HBoxModel",
       "_view_count": null,
       "_view_module": "@jupyter-widgets/controls",
       "_view_module_version": "1.5.0",
       "_view_name": "HBoxView",
       "box_style": "",
       "children": [
        "IPY_MODEL_53c45710cda544edb857fd9f01a6c87e",
        "IPY_MODEL_e73456768d0f45b19b4cda5f6b11de76",
        "IPY_MODEL_6c701bcc14294a509079b1397c19b253"
       ],
       "layout": "IPY_MODEL_38022449378c492084e852ed780d9daa"
      }
     },
     "5796e0c550d94e779bf3e6683e5454eb": {
      "model_module": "@jupyter-widgets/controls",
      "model_module_version": "1.5.0",
      "model_name": "DescriptionStyleModel",
      "state": {
       "_model_module": "@jupyter-widgets/controls",
       "_model_module_version": "1.5.0",
       "_model_name": "DescriptionStyleModel",
       "_view_count": null,
       "_view_module": "@jupyter-widgets/base",
       "_view_module_version": "1.2.0",
       "_view_name": "StyleView",
       "description_width": ""
      }
     },
     "59e8921050ab43eca8fa20554867ea86": {
      "model_module": "@jupyter-widgets/base",
      "model_module_version": "1.2.0",
      "model_name": "LayoutModel",
      "state": {
       "_model_module": "@jupyter-widgets/base",
       "_model_module_version": "1.2.0",
       "_model_name": "LayoutModel",
       "_view_count": null,
       "_view_module": "@jupyter-widgets/base",
       "_view_module_version": "1.2.0",
       "_view_name": "LayoutView",
       "align_content": null,
       "align_items": null,
       "align_self": null,
       "border": null,
       "bottom": null,
       "display": null,
       "flex": null,
       "flex_flow": null,
       "grid_area": null,
       "grid_auto_columns": null,
       "grid_auto_flow": null,
       "grid_auto_rows": null,
       "grid_column": null,
       "grid_gap": null,
       "grid_row": null,
       "grid_template_areas": null,
       "grid_template_columns": null,
       "grid_template_rows": null,
       "height": null,
       "justify_content": null,
       "justify_items": null,
       "left": null,
       "margin": null,
       "max_height": null,
       "max_width": null,
       "min_height": null,
       "min_width": null,
       "object_fit": null,
       "object_position": null,
       "order": null,
       "overflow": null,
       "overflow_x": null,
       "overflow_y": null,
       "padding": null,
       "right": null,
       "top": null,
       "visibility": null,
       "width": null
      }
     },
     "5af947f91cb54c41a4c0cdf29a059031": {
      "model_module": "@jupyter-widgets/controls",
      "model_module_version": "1.5.0",
      "model_name": "HBoxModel",
      "state": {
       "_dom_classes": [],
       "_model_module": "@jupyter-widgets/controls",
       "_model_module_version": "1.5.0",
       "_model_name": "HBoxModel",
       "_view_count": null,
       "_view_module": "@jupyter-widgets/controls",
       "_view_module_version": "1.5.0",
       "_view_name": "HBoxView",
       "box_style": "",
       "children": [
        "IPY_MODEL_91187544cacf46ac80e9bdb7bc932a42",
        "IPY_MODEL_679161c4a3ab4ae1abd58e2a97359471",
        "IPY_MODEL_f0bebf816ffc475db2e8c096547a0f68"
       ],
       "layout": "IPY_MODEL_08bb626c6e8c4322a3ebceae872ad82e"
      }
     },
     "5c4f97d607ff4f05bb75f392ffd1b970": {
      "model_module": "@jupyter-widgets/base",
      "model_module_version": "1.2.0",
      "model_name": "LayoutModel",
      "state": {
       "_model_module": "@jupyter-widgets/base",
       "_model_module_version": "1.2.0",
       "_model_name": "LayoutModel",
       "_view_count": null,
       "_view_module": "@jupyter-widgets/base",
       "_view_module_version": "1.2.0",
       "_view_name": "LayoutView",
       "align_content": null,
       "align_items": null,
       "align_self": null,
       "border": null,
       "bottom": null,
       "display": null,
       "flex": null,
       "flex_flow": null,
       "grid_area": null,
       "grid_auto_columns": null,
       "grid_auto_flow": null,
       "grid_auto_rows": null,
       "grid_column": null,
       "grid_gap": null,
       "grid_row": null,
       "grid_template_areas": null,
       "grid_template_columns": null,
       "grid_template_rows": null,
       "height": null,
       "justify_content": null,
       "justify_items": null,
       "left": null,
       "margin": null,
       "max_height": null,
       "max_width": null,
       "min_height": null,
       "min_width": null,
       "object_fit": null,
       "object_position": null,
       "order": null,
       "overflow": null,
       "overflow_x": null,
       "overflow_y": null,
       "padding": null,
       "right": null,
       "top": null,
       "visibility": null,
       "width": null
      }
     },
     "5e1e693008034c318630e4f6aa8427df": {
      "model_module": "@jupyter-widgets/base",
      "model_module_version": "1.2.0",
      "model_name": "LayoutModel",
      "state": {
       "_model_module": "@jupyter-widgets/base",
       "_model_module_version": "1.2.0",
       "_model_name": "LayoutModel",
       "_view_count": null,
       "_view_module": "@jupyter-widgets/base",
       "_view_module_version": "1.2.0",
       "_view_name": "LayoutView",
       "align_content": null,
       "align_items": null,
       "align_self": null,
       "border": null,
       "bottom": null,
       "display": null,
       "flex": null,
       "flex_flow": null,
       "grid_area": null,
       "grid_auto_columns": null,
       "grid_auto_flow": null,
       "grid_auto_rows": null,
       "grid_column": null,
       "grid_gap": null,
       "grid_row": null,
       "grid_template_areas": null,
       "grid_template_columns": null,
       "grid_template_rows": null,
       "height": null,
       "justify_content": null,
       "justify_items": null,
       "left": null,
       "margin": null,
       "max_height": null,
       "max_width": null,
       "min_height": null,
       "min_width": null,
       "object_fit": null,
       "object_position": null,
       "order": null,
       "overflow": null,
       "overflow_x": null,
       "overflow_y": null,
       "padding": null,
       "right": null,
       "top": null,
       "visibility": null,
       "width": null
      }
     },
     "62f431f5f05041449f2e97d8faaab662": {
      "model_module": "@jupyter-widgets/base",
      "model_module_version": "1.2.0",
      "model_name": "LayoutModel",
      "state": {
       "_model_module": "@jupyter-widgets/base",
       "_model_module_version": "1.2.0",
       "_model_name": "LayoutModel",
       "_view_count": null,
       "_view_module": "@jupyter-widgets/base",
       "_view_module_version": "1.2.0",
       "_view_name": "LayoutView",
       "align_content": null,
       "align_items": null,
       "align_self": null,
       "border": null,
       "bottom": null,
       "display": null,
       "flex": null,
       "flex_flow": null,
       "grid_area": null,
       "grid_auto_columns": null,
       "grid_auto_flow": null,
       "grid_auto_rows": null,
       "grid_column": null,
       "grid_gap": null,
       "grid_row": null,
       "grid_template_areas": null,
       "grid_template_columns": null,
       "grid_template_rows": null,
       "height": null,
       "justify_content": null,
       "justify_items": null,
       "left": null,
       "margin": null,
       "max_height": null,
       "max_width": null,
       "min_height": null,
       "min_width": null,
       "object_fit": null,
       "object_position": null,
       "order": null,
       "overflow": null,
       "overflow_x": null,
       "overflow_y": null,
       "padding": null,
       "right": null,
       "top": null,
       "visibility": null,
       "width": null
      }
     },
     "639afd0321cf4f099b38319332a2b4ca": {
      "model_module": "@jupyter-widgets/controls",
      "model_module_version": "1.5.0",
      "model_name": "DescriptionStyleModel",
      "state": {
       "_model_module": "@jupyter-widgets/controls",
       "_model_module_version": "1.5.0",
       "_model_name": "DescriptionStyleModel",
       "_view_count": null,
       "_view_module": "@jupyter-widgets/base",
       "_view_module_version": "1.2.0",
       "_view_name": "StyleView",
       "description_width": ""
      }
     },
     "64dd60168f2244608e3c2ce055b2f2fa": {
      "model_module": "@jupyter-widgets/controls",
      "model_module_version": "1.5.0",
      "model_name": "HTMLModel",
      "state": {
       "_dom_classes": [],
       "_model_module": "@jupyter-widgets/controls",
       "_model_module_version": "1.5.0",
       "_model_name": "HTMLModel",
       "_view_count": null,
       "_view_module": "@jupyter-widgets/controls",
       "_view_module_version": "1.5.0",
       "_view_name": "HTMLView",
       "description": "",
       "description_tooltip": null,
       "layout": "IPY_MODEL_eabbc47566e84477a57d40b332e6c464",
       "placeholder": "​",
       "style": "IPY_MODEL_71e7124b95494c18bbb92a91d5c4b015",
       "value": " 708M/708M [00:17&lt;00:00, 31.0MB/s]"
      }
     },
     "679161c4a3ab4ae1abd58e2a97359471": {
      "model_module": "@jupyter-widgets/controls",
      "model_module_version": "1.5.0",
      "model_name": "FloatProgressModel",
      "state": {
       "_dom_classes": [],
       "_model_module": "@jupyter-widgets/controls",
       "_model_module_version": "1.5.0",
       "_model_name": "FloatProgressModel",
       "_view_count": null,
       "_view_module": "@jupyter-widgets/controls",
       "_view_module_version": "1.5.0",
       "_view_name": "ProgressView",
       "bar_style": "success",
       "description": "",
       "description_tooltip": null,
       "layout": "IPY_MODEL_5c4f97d607ff4f05bb75f392ffd1b970",
       "max": 112,
       "min": 0,
       "orientation": "horizontal",
       "style": "IPY_MODEL_86925092b0554871b4bff05438bed9aa",
       "value": 112
      }
     },
     "6bbc956f539448be89745374774746a7": {
      "model_module": "@jupyter-widgets/base",
      "model_module_version": "1.2.0",
      "model_name": "LayoutModel",
      "state": {
       "_model_module": "@jupyter-widgets/base",
       "_model_module_version": "1.2.0",
       "_model_name": "LayoutModel",
       "_view_count": null,
       "_view_module": "@jupyter-widgets/base",
       "_view_module_version": "1.2.0",
       "_view_name": "LayoutView",
       "align_content": null,
       "align_items": null,
       "align_self": null,
       "border": null,
       "bottom": null,
       "display": null,
       "flex": null,
       "flex_flow": null,
       "grid_area": null,
       "grid_auto_columns": null,
       "grid_auto_flow": null,
       "grid_auto_rows": null,
       "grid_column": null,
       "grid_gap": null,
       "grid_row": null,
       "grid_template_areas": null,
       "grid_template_columns": null,
       "grid_template_rows": null,
       "height": null,
       "justify_content": null,
       "justify_items": null,
       "left": null,
       "margin": null,
       "max_height": null,
       "max_width": null,
       "min_height": null,
       "min_width": null,
       "object_fit": null,
       "object_position": null,
       "order": null,
       "overflow": null,
       "overflow_x": null,
       "overflow_y": null,
       "padding": null,
       "right": null,
       "top": null,
       "visibility": null,
       "width": null
      }
     },
     "6c701bcc14294a509079b1397c19b253": {
      "model_module": "@jupyter-widgets/controls",
      "model_module_version": "1.5.0",
      "model_name": "HTMLModel",
      "state": {
       "_dom_classes": [],
       "_model_module": "@jupyter-widgets/controls",
       "_model_module_version": "1.5.0",
       "_model_name": "HTMLModel",
       "_view_count": null,
       "_view_module": "@jupyter-widgets/controls",
       "_view_module_version": "1.5.0",
       "_view_name": "HTMLView",
       "description": "",
       "description_tooltip": null,
       "layout": "IPY_MODEL_e057960d3fb845068ae4c9a0ff6d2105",
       "placeholder": "​",
       "style": "IPY_MODEL_2fcb2ec58c23435f96b36c554619d709",
       "value": " 2.57M/2.57M [00:00&lt;00:00, 2.71MB/s]"
      }
     },
     "6edf8d6bbded4959b78bbbd36303fcc6": {
      "model_module": "@jupyter-widgets/controls",
      "model_module_version": "1.5.0",
      "model_name": "HTMLModel",
      "state": {
       "_dom_classes": [],
       "_model_module": "@jupyter-widgets/controls",
       "_model_module_version": "1.5.0",
       "_model_name": "HTMLModel",
       "_view_count": null,
       "_view_module": "@jupyter-widgets/controls",
       "_view_module_version": "1.5.0",
       "_view_name": "HTMLView",
       "description": "",
       "description_tooltip": null,
       "layout": "IPY_MODEL_62f431f5f05041449f2e97d8faaab662",
       "placeholder": "​",
       "style": "IPY_MODEL_a39a9cbbfaaa4dcfaf04f1d6e1b3a796",
       "value": " 379/379 [00:00&lt;00:00, 14.4kB/s]"
      }
     },
     "71e7124b95494c18bbb92a91d5c4b015": {
      "model_module": "@jupyter-widgets/controls",
      "model_module_version": "1.5.0",
      "model_name": "DescriptionStyleModel",
      "state": {
       "_model_module": "@jupyter-widgets/controls",
       "_model_module_version": "1.5.0",
       "_model_name": "DescriptionStyleModel",
       "_view_count": null,
       "_view_module": "@jupyter-widgets/base",
       "_view_module_version": "1.2.0",
       "_view_name": "StyleView",
       "description_width": ""
      }
     },
     "72bdc27910bd46a5a039cf947cf6c949": {
      "model_module": "@jupyter-widgets/controls",
      "model_module_version": "1.5.0",
      "model_name": "HTMLModel",
      "state": {
       "_dom_classes": [],
       "_model_module": "@jupyter-widgets/controls",
       "_model_module_version": "1.5.0",
       "_model_name": "HTMLModel",
       "_view_count": null,
       "_view_module": "@jupyter-widgets/controls",
       "_view_module_version": "1.5.0",
       "_view_name": "HTMLView",
       "description": "",
       "description_tooltip": null,
       "layout": "IPY_MODEL_81d6f731df074af88139b319c43ba30d",
       "placeholder": "​",
       "style": "IPY_MODEL_a76d9b30f70f42ffb1a9f9cb6377e910",
       "value": " 762k/762k [00:00&lt;00:00, 2.45MB/s]"
      }
     },
     "74480a09400e42ce85557e5a762e0de6": {
      "model_module": "@jupyter-widgets/controls",
      "model_module_version": "1.5.0",
      "model_name": "HTMLModel",
      "state": {
       "_dom_classes": [],
       "_model_module": "@jupyter-widgets/controls",
       "_model_module_version": "1.5.0",
       "_model_name": "HTMLModel",
       "_view_count": null,
       "_view_module": "@jupyter-widgets/controls",
       "_view_module_version": "1.5.0",
       "_view_name": "HTMLView",
       "description": "",
       "description_tooltip": null,
       "layout": "IPY_MODEL_83642de3e0ff4faabcc954a1d8c2c2d6",
       "placeholder": "​",
       "style": "IPY_MODEL_b64fbe9713054e5eb12ca730c7be89e9",
       "value": "Downloading: 100%"
      }
     },
     "7539aae6a0e645f081a74fb9c4369f65": {
      "model_module": "@jupyter-widgets/controls",
      "model_module_version": "1.5.0",
      "model_name": "HBoxModel",
      "state": {
       "_dom_classes": [],
       "_model_module": "@jupyter-widgets/controls",
       "_model_module_version": "1.5.0",
       "_model_name": "HBoxModel",
       "_view_count": null,
       "_view_module": "@jupyter-widgets/controls",
       "_view_module_version": "1.5.0",
       "_view_name": "HBoxView",
       "box_style": "",
       "children": [
        "IPY_MODEL_1f1b4d03ad2b4d818b43a1fd38910886",
        "IPY_MODEL_b6b8553f82e5472bae59ea7e159f37b6",
        "IPY_MODEL_72bdc27910bd46a5a039cf947cf6c949"
       ],
       "layout": "IPY_MODEL_54fa4bca637d468bb13966739a92d817"
      }
     },
     "7578e6b0986f4c5f8f2ac8afa7206ef4": {
      "model_module": "@jupyter-widgets/controls",
      "model_module_version": "1.5.0",
      "model_name": "HTMLModel",
      "state": {
       "_dom_classes": [],
       "_model_module": "@jupyter-widgets/controls",
       "_model_module_version": "1.5.0",
       "_model_name": "HTMLModel",
       "_view_count": null,
       "_view_module": "@jupyter-widgets/controls",
       "_view_module_version": "1.5.0",
       "_view_name": "HTMLView",
       "description": "",
       "description_tooltip": null,
       "layout": "IPY_MODEL_ed2fc57bc0b94855acc8b03a416cd645",
       "placeholder": "​",
       "style": "IPY_MODEL_639afd0321cf4f099b38319332a2b4ca",
       "value": " 576/576 [00:00&lt;00:00, 22.5kB/s]"
      }
     },
     "7af027c9d5f14cf6a24d53a778388a49": {
      "model_module": "@jupyter-widgets/controls",
      "model_module_version": "1.5.0",
      "model_name": "FloatProgressModel",
      "state": {
       "_dom_classes": [],
       "_model_module": "@jupyter-widgets/controls",
       "_model_module_version": "1.5.0",
       "_model_name": "FloatProgressModel",
       "_view_count": null,
       "_view_module": "@jupyter-widgets/controls",
       "_view_module_version": "1.5.0",
       "_view_name": "ProgressView",
       "bar_style": "success",
       "description": "",
       "description_tooltip": null,
       "layout": "IPY_MODEL_054e8e775bba45dbbd18a11917cc97c0",
       "max": 379,
       "min": 0,
       "orientation": "horizontal",
       "style": "IPY_MODEL_3c20d26e5f31493ebaa0d928509ab843",
       "value": 379
      }
     },
     "7b1b94350ed44419ae39b781100520a9": {
      "model_module": "@jupyter-widgets/base",
      "model_module_version": "1.2.0",
      "model_name": "LayoutModel",
      "state": {
       "_model_module": "@jupyter-widgets/base",
       "_model_module_version": "1.2.0",
       "_model_name": "LayoutModel",
       "_view_count": null,
       "_view_module": "@jupyter-widgets/base",
       "_view_module_version": "1.2.0",
       "_view_name": "LayoutView",
       "align_content": null,
       "align_items": null,
       "align_self": null,
       "border": null,
       "bottom": null,
       "display": null,
       "flex": null,
       "flex_flow": null,
       "grid_area": null,
       "grid_auto_columns": null,
       "grid_auto_flow": null,
       "grid_auto_rows": null,
       "grid_column": null,
       "grid_gap": null,
       "grid_row": null,
       "grid_template_areas": null,
       "grid_template_columns": null,
       "grid_template_rows": null,
       "height": null,
       "justify_content": null,
       "justify_items": null,
       "left": null,
       "margin": null,
       "max_height": null,
       "max_width": null,
       "min_height": null,
       "min_width": null,
       "object_fit": null,
       "object_position": null,
       "order": null,
       "overflow": null,
       "overflow_x": null,
       "overflow_y": null,
       "padding": null,
       "right": null,
       "top": null,
       "visibility": null,
       "width": null
      }
     },
     "7d782a467c69407c8d6fac1692e14487": {
      "model_module": "@jupyter-widgets/controls",
      "model_module_version": "1.5.0",
      "model_name": "ProgressStyleModel",
      "state": {
       "_model_module": "@jupyter-widgets/controls",
       "_model_module_version": "1.5.0",
       "_model_name": "ProgressStyleModel",
       "_view_count": null,
       "_view_module": "@jupyter-widgets/base",
       "_view_module_version": "1.2.0",
       "_view_name": "StyleView",
       "bar_color": null,
       "description_width": ""
      }
     },
     "81d6f731df074af88139b319c43ba30d": {
      "model_module": "@jupyter-widgets/base",
      "model_module_version": "1.2.0",
      "model_name": "LayoutModel",
      "state": {
       "_model_module": "@jupyter-widgets/base",
       "_model_module_version": "1.2.0",
       "_model_name": "LayoutModel",
       "_view_count": null,
       "_view_module": "@jupyter-widgets/base",
       "_view_module_version": "1.2.0",
       "_view_name": "LayoutView",
       "align_content": null,
       "align_items": null,
       "align_self": null,
       "border": null,
       "bottom": null,
       "display": null,
       "flex": null,
       "flex_flow": null,
       "grid_area": null,
       "grid_auto_columns": null,
       "grid_auto_flow": null,
       "grid_auto_rows": null,
       "grid_column": null,
       "grid_gap": null,
       "grid_row": null,
       "grid_template_areas": null,
       "grid_template_columns": null,
       "grid_template_rows": null,
       "height": null,
       "justify_content": null,
       "justify_items": null,
       "left": null,
       "margin": null,
       "max_height": null,
       "max_width": null,
       "min_height": null,
       "min_width": null,
       "object_fit": null,
       "object_position": null,
       "order": null,
       "overflow": null,
       "overflow_x": null,
       "overflow_y": null,
       "padding": null,
       "right": null,
       "top": null,
       "visibility": null,
       "width": null
      }
     },
     "83642de3e0ff4faabcc954a1d8c2c2d6": {
      "model_module": "@jupyter-widgets/base",
      "model_module_version": "1.2.0",
      "model_name": "LayoutModel",
      "state": {
       "_model_module": "@jupyter-widgets/base",
       "_model_module_version": "1.2.0",
       "_model_name": "LayoutModel",
       "_view_count": null,
       "_view_module": "@jupyter-widgets/base",
       "_view_module_version": "1.2.0",
       "_view_name": "LayoutView",
       "align_content": null,
       "align_items": null,
       "align_self": null,
       "border": null,
       "bottom": null,
       "display": null,
       "flex": null,
       "flex_flow": null,
       "grid_area": null,
       "grid_auto_columns": null,
       "grid_auto_flow": null,
       "grid_auto_rows": null,
       "grid_column": null,
       "grid_gap": null,
       "grid_row": null,
       "grid_template_areas": null,
       "grid_template_columns": null,
       "grid_template_rows": null,
       "height": null,
       "justify_content": null,
       "justify_items": null,
       "left": null,
       "margin": null,
       "max_height": null,
       "max_width": null,
       "min_height": null,
       "min_width": null,
       "object_fit": null,
       "object_position": null,
       "order": null,
       "overflow": null,
       "overflow_x": null,
       "overflow_y": null,
       "padding": null,
       "right": null,
       "top": null,
       "visibility": null,
       "width": null
      }
     },
     "84681bcd190d4e068a134e707390c0b7": {
      "model_module": "@jupyter-widgets/controls",
      "model_module_version": "1.5.0",
      "model_name": "HTMLModel",
      "state": {
       "_dom_classes": [],
       "_model_module": "@jupyter-widgets/controls",
       "_model_module_version": "1.5.0",
       "_model_name": "HTMLModel",
       "_view_count": null,
       "_view_module": "@jupyter-widgets/controls",
       "_view_module_version": "1.5.0",
       "_view_name": "HTMLView",
       "description": "",
       "description_tooltip": null,
       "layout": "IPY_MODEL_5e1e693008034c318630e4f6aa8427df",
       "placeholder": "​",
       "style": "IPY_MODEL_cce9110b98cf499982f1d0e9d367cb7a",
       "value": "Downloading: 100%"
      }
     },
     "86925092b0554871b4bff05438bed9aa": {
      "model_module": "@jupyter-widgets/controls",
      "model_module_version": "1.5.0",
      "model_name": "ProgressStyleModel",
      "state": {
       "_model_module": "@jupyter-widgets/controls",
       "_model_module_version": "1.5.0",
       "_model_name": "ProgressStyleModel",
       "_view_count": null,
       "_view_module": "@jupyter-widgets/base",
       "_view_module_version": "1.2.0",
       "_view_name": "StyleView",
       "bar_color": null,
       "description_width": ""
      }
     },
     "91187544cacf46ac80e9bdb7bc932a42": {
      "model_module": "@jupyter-widgets/controls",
      "model_module_version": "1.5.0",
      "model_name": "HTMLModel",
      "state": {
       "_dom_classes": [],
       "_model_module": "@jupyter-widgets/controls",
       "_model_module_version": "1.5.0",
       "_model_name": "HTMLModel",
       "_view_count": null,
       "_view_module": "@jupyter-widgets/controls",
       "_view_module_version": "1.5.0",
       "_view_name": "HTMLView",
       "description": "",
       "description_tooltip": null,
       "layout": "IPY_MODEL_59e8921050ab43eca8fa20554867ea86",
       "placeholder": "​",
       "style": "IPY_MODEL_af02fc2d935849058720402888740143",
       "value": "Downloading: 100%"
      }
     },
     "91947fcbe29c40a4b8a2623f30a8606c": {
      "model_module": "@jupyter-widgets/controls",
      "model_module_version": "1.5.0",
      "model_name": "ProgressStyleModel",
      "state": {
       "_model_module": "@jupyter-widgets/controls",
       "_model_module_version": "1.5.0",
       "_model_name": "ProgressStyleModel",
       "_view_count": null,
       "_view_module": "@jupyter-widgets/base",
       "_view_module_version": "1.2.0",
       "_view_name": "StyleView",
       "bar_color": null,
       "description_width": ""
      }
     },
     "a39a9cbbfaaa4dcfaf04f1d6e1b3a796": {
      "model_module": "@jupyter-widgets/controls",
      "model_module_version": "1.5.0",
      "model_name": "DescriptionStyleModel",
      "state": {
       "_model_module": "@jupyter-widgets/controls",
       "_model_module_version": "1.5.0",
       "_model_name": "DescriptionStyleModel",
       "_view_count": null,
       "_view_module": "@jupyter-widgets/base",
       "_view_module_version": "1.2.0",
       "_view_name": "StyleView",
       "description_width": ""
      }
     },
     "a694c38f6bd444798e587a686dd96698": {
      "model_module": "@jupyter-widgets/base",
      "model_module_version": "1.2.0",
      "model_name": "LayoutModel",
      "state": {
       "_model_module": "@jupyter-widgets/base",
       "_model_module_version": "1.2.0",
       "_model_name": "LayoutModel",
       "_view_count": null,
       "_view_module": "@jupyter-widgets/base",
       "_view_module_version": "1.2.0",
       "_view_name": "LayoutView",
       "align_content": null,
       "align_items": null,
       "align_self": null,
       "border": null,
       "bottom": null,
       "display": null,
       "flex": null,
       "flex_flow": null,
       "grid_area": null,
       "grid_auto_columns": null,
       "grid_auto_flow": null,
       "grid_auto_rows": null,
       "grid_column": null,
       "grid_gap": null,
       "grid_row": null,
       "grid_template_areas": null,
       "grid_template_columns": null,
       "grid_template_rows": null,
       "height": null,
       "justify_content": null,
       "justify_items": null,
       "left": null,
       "margin": null,
       "max_height": null,
       "max_width": null,
       "min_height": null,
       "min_width": null,
       "object_fit": null,
       "object_position": null,
       "order": null,
       "overflow": null,
       "overflow_x": null,
       "overflow_y": null,
       "padding": null,
       "right": null,
       "top": null,
       "visibility": null,
       "width": null
      }
     },
     "a76d9b30f70f42ffb1a9f9cb6377e910": {
      "model_module": "@jupyter-widgets/controls",
      "model_module_version": "1.5.0",
      "model_name": "DescriptionStyleModel",
      "state": {
       "_model_module": "@jupyter-widgets/controls",
       "_model_module_version": "1.5.0",
       "_model_name": "DescriptionStyleModel",
       "_view_count": null,
       "_view_module": "@jupyter-widgets/base",
       "_view_module_version": "1.2.0",
       "_view_name": "StyleView",
       "description_width": ""
      }
     },
     "af02fc2d935849058720402888740143": {
      "model_module": "@jupyter-widgets/controls",
      "model_module_version": "1.5.0",
      "model_name": "DescriptionStyleModel",
      "state": {
       "_model_module": "@jupyter-widgets/controls",
       "_model_module_version": "1.5.0",
       "_model_name": "DescriptionStyleModel",
       "_view_count": null,
       "_view_module": "@jupyter-widgets/base",
       "_view_module_version": "1.2.0",
       "_view_name": "StyleView",
       "description_width": ""
      }
     },
     "b0de31ee2b1d4b73ac5e21f0df098e65": {
      "model_module": "@jupyter-widgets/base",
      "model_module_version": "1.2.0",
      "model_name": "LayoutModel",
      "state": {
       "_model_module": "@jupyter-widgets/base",
       "_model_module_version": "1.2.0",
       "_model_name": "LayoutModel",
       "_view_count": null,
       "_view_module": "@jupyter-widgets/base",
       "_view_module_version": "1.2.0",
       "_view_name": "LayoutView",
       "align_content": null,
       "align_items": null,
       "align_self": null,
       "border": null,
       "bottom": null,
       "display": null,
       "flex": null,
       "flex_flow": null,
       "grid_area": null,
       "grid_auto_columns": null,
       "grid_auto_flow": null,
       "grid_auto_rows": null,
       "grid_column": null,
       "grid_gap": null,
       "grid_row": null,
       "grid_template_areas": null,
       "grid_template_columns": null,
       "grid_template_rows": null,
       "height": null,
       "justify_content": null,
       "justify_items": null,
       "left": null,
       "margin": null,
       "max_height": null,
       "max_width": null,
       "min_height": null,
       "min_width": null,
       "object_fit": null,
       "object_position": null,
       "order": null,
       "overflow": null,
       "overflow_x": null,
       "overflow_y": null,
       "padding": null,
       "right": null,
       "top": null,
       "visibility": null,
       "width": null
      }
     },
     "b22f8381306242d69c376092af99daf3": {
      "model_module": "@jupyter-widgets/base",
      "model_module_version": "1.2.0",
      "model_name": "LayoutModel",
      "state": {
       "_model_module": "@jupyter-widgets/base",
       "_model_module_version": "1.2.0",
       "_model_name": "LayoutModel",
       "_view_count": null,
       "_view_module": "@jupyter-widgets/base",
       "_view_module_version": "1.2.0",
       "_view_name": "LayoutView",
       "align_content": null,
       "align_items": null,
       "align_self": null,
       "border": null,
       "bottom": null,
       "display": null,
       "flex": null,
       "flex_flow": null,
       "grid_area": null,
       "grid_auto_columns": null,
       "grid_auto_flow": null,
       "grid_auto_rows": null,
       "grid_column": null,
       "grid_gap": null,
       "grid_row": null,
       "grid_template_areas": null,
       "grid_template_columns": null,
       "grid_template_rows": null,
       "height": null,
       "justify_content": null,
       "justify_items": null,
       "left": null,
       "margin": null,
       "max_height": null,
       "max_width": null,
       "min_height": null,
       "min_width": null,
       "object_fit": null,
       "object_position": null,
       "order": null,
       "overflow": null,
       "overflow_x": null,
       "overflow_y": null,
       "padding": null,
       "right": null,
       "top": null,
       "visibility": null,
       "width": null
      }
     },
     "b64fbe9713054e5eb12ca730c7be89e9": {
      "model_module": "@jupyter-widgets/controls",
      "model_module_version": "1.5.0",
      "model_name": "DescriptionStyleModel",
      "state": {
       "_model_module": "@jupyter-widgets/controls",
       "_model_module_version": "1.5.0",
       "_model_name": "DescriptionStyleModel",
       "_view_count": null,
       "_view_module": "@jupyter-widgets/base",
       "_view_module_version": "1.2.0",
       "_view_name": "StyleView",
       "description_width": ""
      }
     },
     "b6b8553f82e5472bae59ea7e159f37b6": {
      "model_module": "@jupyter-widgets/controls",
      "model_module_version": "1.5.0",
      "model_name": "FloatProgressModel",
      "state": {
       "_dom_classes": [],
       "_model_module": "@jupyter-widgets/controls",
       "_model_module_version": "1.5.0",
       "_model_name": "FloatProgressModel",
       "_view_count": null,
       "_view_module": "@jupyter-widgets/controls",
       "_view_module_version": "1.5.0",
       "_view_name": "ProgressView",
       "bar_style": "success",
       "description": "",
       "description_tooltip": null,
       "layout": "IPY_MODEL_03c2c41429f849e99570085bf28de846",
       "max": 780034,
       "min": 0,
       "orientation": "horizontal",
       "style": "IPY_MODEL_270151b0365248688fa90e06794e936b",
       "value": 780034
      }
     },
     "cce9110b98cf499982f1d0e9d367cb7a": {
      "model_module": "@jupyter-widgets/controls",
      "model_module_version": "1.5.0",
      "model_name": "DescriptionStyleModel",
      "state": {
       "_model_module": "@jupyter-widgets/controls",
       "_model_module_version": "1.5.0",
       "_model_name": "DescriptionStyleModel",
       "_view_count": null,
       "_view_module": "@jupyter-widgets/base",
       "_view_module_version": "1.2.0",
       "_view_name": "StyleView",
       "description_width": ""
      }
     },
     "ce5819c0a3964de585ede7b68ca51b98": {
      "model_module": "@jupyter-widgets/controls",
      "model_module_version": "1.5.0",
      "model_name": "HBoxModel",
      "state": {
       "_dom_classes": [],
       "_model_module": "@jupyter-widgets/controls",
       "_model_module_version": "1.5.0",
       "_model_name": "HBoxModel",
       "_view_count": null,
       "_view_module": "@jupyter-widgets/controls",
       "_view_module_version": "1.5.0",
       "_view_name": "HBoxView",
       "box_style": "",
       "children": [
        "IPY_MODEL_74480a09400e42ce85557e5a762e0de6",
        "IPY_MODEL_f58ede6acf324bce9d23469513717276",
        "IPY_MODEL_7578e6b0986f4c5f8f2ac8afa7206ef4"
       ],
       "layout": "IPY_MODEL_7b1b94350ed44419ae39b781100520a9"
      }
     },
     "dc273c3f33f1466584a915d22c38a17b": {
      "model_module": "@jupyter-widgets/controls",
      "model_module_version": "1.5.0",
      "model_name": "ProgressStyleModel",
      "state": {
       "_model_module": "@jupyter-widgets/controls",
       "_model_module_version": "1.5.0",
       "_model_name": "ProgressStyleModel",
       "_view_count": null,
       "_view_module": "@jupyter-widgets/base",
       "_view_module_version": "1.2.0",
       "_view_name": "StyleView",
       "bar_color": null,
       "description_width": ""
      }
     },
     "e057960d3fb845068ae4c9a0ff6d2105": {
      "model_module": "@jupyter-widgets/base",
      "model_module_version": "1.2.0",
      "model_name": "LayoutModel",
      "state": {
       "_model_module": "@jupyter-widgets/base",
       "_model_module_version": "1.2.0",
       "_model_name": "LayoutModel",
       "_view_count": null,
       "_view_module": "@jupyter-widgets/base",
       "_view_module_version": "1.2.0",
       "_view_name": "LayoutView",
       "align_content": null,
       "align_items": null,
       "align_self": null,
       "border": null,
       "bottom": null,
       "display": null,
       "flex": null,
       "flex_flow": null,
       "grid_area": null,
       "grid_auto_columns": null,
       "grid_auto_flow": null,
       "grid_auto_rows": null,
       "grid_column": null,
       "grid_gap": null,
       "grid_row": null,
       "grid_template_areas": null,
       "grid_template_columns": null,
       "grid_template_rows": null,
       "height": null,
       "justify_content": null,
       "justify_items": null,
       "left": null,
       "margin": null,
       "max_height": null,
       "max_width": null,
       "min_height": null,
       "min_width": null,
       "object_fit": null,
       "object_position": null,
       "order": null,
       "overflow": null,
       "overflow_x": null,
       "overflow_y": null,
       "padding": null,
       "right": null,
       "top": null,
       "visibility": null,
       "width": null
      }
     },
     "e73456768d0f45b19b4cda5f6b11de76": {
      "model_module": "@jupyter-widgets/controls",
      "model_module_version": "1.5.0",
      "model_name": "FloatProgressModel",
      "state": {
       "_dom_classes": [],
       "_model_module": "@jupyter-widgets/controls",
       "_model_module_version": "1.5.0",
       "_model_name": "FloatProgressModel",
       "_view_count": null,
       "_view_module": "@jupyter-widgets/controls",
       "_view_module_version": "1.5.0",
       "_view_name": "ProgressView",
       "bar_style": "success",
       "description": "",
       "description_tooltip": null,
       "layout": "IPY_MODEL_3e1c6a14ffb14dc5b228afdae5d731ff",
       "max": 2697421,
       "min": 0,
       "orientation": "horizontal",
       "style": "IPY_MODEL_dc273c3f33f1466584a915d22c38a17b",
       "value": 2697421
      }
     },
     "eabbc47566e84477a57d40b332e6c464": {
      "model_module": "@jupyter-widgets/base",
      "model_module_version": "1.2.0",
      "model_name": "LayoutModel",
      "state": {
       "_model_module": "@jupyter-widgets/base",
       "_model_module_version": "1.2.0",
       "_model_name": "LayoutModel",
       "_view_count": null,
       "_view_module": "@jupyter-widgets/base",
       "_view_module_version": "1.2.0",
       "_view_name": "LayoutView",
       "align_content": null,
       "align_items": null,
       "align_self": null,
       "border": null,
       "bottom": null,
       "display": null,
       "flex": null,
       "flex_flow": null,
       "grid_area": null,
       "grid_auto_columns": null,
       "grid_auto_flow": null,
       "grid_auto_rows": null,
       "grid_column": null,
       "grid_gap": null,
       "grid_row": null,
       "grid_template_areas": null,
       "grid_template_columns": null,
       "grid_template_rows": null,
       "height": null,
       "justify_content": null,
       "justify_items": null,
       "left": null,
       "margin": null,
       "max_height": null,
       "max_width": null,
       "min_height": null,
       "min_width": null,
       "object_fit": null,
       "object_position": null,
       "order": null,
       "overflow": null,
       "overflow_x": null,
       "overflow_y": null,
       "padding": null,
       "right": null,
       "top": null,
       "visibility": null,
       "width": null
      }
     },
     "ed2fc57bc0b94855acc8b03a416cd645": {
      "model_module": "@jupyter-widgets/base",
      "model_module_version": "1.2.0",
      "model_name": "LayoutModel",
      "state": {
       "_model_module": "@jupyter-widgets/base",
       "_model_module_version": "1.2.0",
       "_model_name": "LayoutModel",
       "_view_count": null,
       "_view_module": "@jupyter-widgets/base",
       "_view_module_version": "1.2.0",
       "_view_name": "LayoutView",
       "align_content": null,
       "align_items": null,
       "align_self": null,
       "border": null,
       "bottom": null,
       "display": null,
       "flex": null,
       "flex_flow": null,
       "grid_area": null,
       "grid_auto_columns": null,
       "grid_auto_flow": null,
       "grid_auto_rows": null,
       "grid_column": null,
       "grid_gap": null,
       "grid_row": null,
       "grid_template_areas": null,
       "grid_template_columns": null,
       "grid_template_rows": null,
       "height": null,
       "justify_content": null,
       "justify_items": null,
       "left": null,
       "margin": null,
       "max_height": null,
       "max_width": null,
       "min_height": null,
       "min_width": null,
       "object_fit": null,
       "object_position": null,
       "order": null,
       "overflow": null,
       "overflow_x": null,
       "overflow_y": null,
       "padding": null,
       "right": null,
       "top": null,
       "visibility": null,
       "width": null
      }
     },
     "eed7c73d30d34e6f9b6fce8ca681249d": {
      "model_module": "@jupyter-widgets/controls",
      "model_module_version": "1.5.0",
      "model_name": "HTMLModel",
      "state": {
       "_dom_classes": [],
       "_model_module": "@jupyter-widgets/controls",
       "_model_module_version": "1.5.0",
       "_model_name": "HTMLModel",
       "_view_count": null,
       "_view_module": "@jupyter-widgets/controls",
       "_view_module_version": "1.5.0",
       "_view_name": "HTMLView",
       "description": "",
       "description_tooltip": null,
       "layout": "IPY_MODEL_b22f8381306242d69c376092af99daf3",
       "placeholder": "​",
       "style": "IPY_MODEL_5796e0c550d94e779bf3e6683e5454eb",
       "value": "Downloading: 100%"
      }
     },
     "f0bebf816ffc475db2e8c096547a0f68": {
      "model_module": "@jupyter-widgets/controls",
      "model_module_version": "1.5.0",
      "model_name": "HTMLModel",
      "state": {
       "_dom_classes": [],
       "_model_module": "@jupyter-widgets/controls",
       "_model_module_version": "1.5.0",
       "_model_name": "HTMLModel",
       "_view_count": null,
       "_view_module": "@jupyter-widgets/controls",
       "_view_module_version": "1.5.0",
       "_view_name": "HTMLView",
       "description": "",
       "description_tooltip": null,
       "layout": "IPY_MODEL_05c88f77094048b08fbc0f6d399f7b25",
       "placeholder": "​",
       "style": "IPY_MODEL_3433815177ef4625826a1cf7d6209ab0",
       "value": " 112/112 [00:00&lt;00:00, 4.57kB/s]"
      }
     },
     "f58ede6acf324bce9d23469513717276": {
      "model_module": "@jupyter-widgets/controls",
      "model_module_version": "1.5.0",
      "model_name": "FloatProgressModel",
      "state": {
       "_dom_classes": [],
       "_model_module": "@jupyter-widgets/controls",
       "_model_module_version": "1.5.0",
       "_model_name": "FloatProgressModel",
       "_view_count": null,
       "_view_module": "@jupyter-widgets/controls",
       "_view_module_version": "1.5.0",
       "_view_name": "ProgressView",
       "bar_style": "success",
       "description": "",
       "description_tooltip": null,
       "layout": "IPY_MODEL_a694c38f6bd444798e587a686dd96698",
       "max": 576,
       "min": 0,
       "orientation": "horizontal",
       "style": "IPY_MODEL_7d782a467c69407c8d6fac1692e14487",
       "value": 576
      }
     }
    },
    "version_major": 2,
    "version_minor": 0
   }
  }
 },
 "nbformat": 4,
 "nbformat_minor": 5
}
