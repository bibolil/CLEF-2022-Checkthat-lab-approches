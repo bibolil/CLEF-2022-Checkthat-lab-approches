{
 "cells": [
  {
   "cell_type": "code",
   "execution_count": 1,
   "id": "59ba78d0",
   "metadata": {
    "editable": false,
    "execution": {
     "iopub.execute_input": "2022-04-24T22:25:17.607316Z",
     "iopub.status.busy": "2022-04-24T22:25:17.606779Z",
     "iopub.status.idle": "2022-04-24T22:25:17.648000Z",
     "shell.execute_reply": "2022-04-24T22:25:17.645887Z"
    },
    "papermill": {
     "duration": 0.083611,
     "end_time": "2022-04-24T22:25:17.651573",
     "exception": false,
     "start_time": "2022-04-24T22:25:17.567962",
     "status": "completed"
    },
    "tags": []
   },
   "outputs": [
    {
     "name": "stdout",
     "output_type": "stream",
     "text": [
      "/kaggle/input/fakenewsnet/PolitiFactNews.txt\n",
      "/kaggle/input/fakenewsnet/PolitiFactUser.txt\n",
      "/kaggle/input/fakenewsnet/BuzzFeedNews.txt\n",
      "/kaggle/input/fakenewsnet/PolitiFact_real_news_content.csv\n",
      "/kaggle/input/fakenewsnet/PolitiFact_fake_news_content.csv\n",
      "/kaggle/input/fakenewsnet/BuzzFeed_real_news_content.csv\n",
      "/kaggle/input/fakenewsnet/BuzzFeedUserFeature.mat\n",
      "/kaggle/input/fakenewsnet/BuzzFeedNewsUser.txt\n",
      "/kaggle/input/fakenewsnet/BuzzFeedUser.txt\n",
      "/kaggle/input/fakenewsnet/PolitiFactUserUser.txt\n",
      "/kaggle/input/fakenewsnet/BuzzFeedUserUser.txt\n",
      "/kaggle/input/fakenewsnet/BuzzFeed_fake_news_content.csv\n",
      "/kaggle/input/fakenewsnet/PolitiFactUserFeature.mat\n",
      "/kaggle/input/fakenewsnet/PolitiFactNewsUser.txt\n",
      "/kaggle/input/onion-notonion-datasets/politifact__clean.csv\n",
      "/kaggle/input/onion-notonion-datasets/politifact_original.csv\n",
      "/kaggle/input/onion-notonion-datasets/emergent_phase2_clean_2018_7_2.csv\n",
      "/kaggle/input/onion-notonion-datasets/not_onion.csv\n",
      "/kaggle/input/onion-notonion-datasets/snopes_phase2_clean_2018_7_3.csv\n",
      "/kaggle/input/onion-notonion-datasets/True.csv\n",
      "/kaggle/input/onion-notonion-datasets/the_onion.csv\n",
      "/kaggle/input/onion-notonion-datasets/Fake.csv\n",
      "/kaggle/input/english-fake-news/task3_engslish_training.csv\n"
     ]
    }
   ],
   "source": [
    "# This Python 3 environment comes with many helpful analytics libraries installed\n",
    "# It is defined by the kaggle/python Docker image: https://github.com/kaggle/docker-python\n",
    "# For example, here's several helpful packages to load\n",
    "\n",
    "import numpy as np # linear algebra\n",
    "import pandas as pd # data processing, CSV file I/O (e.g. pd.read_csv)\n",
    "\n",
    "# Input data files are available in the read-only \"../input/\" directory\n",
    "# For example, running this (by clicking run or pressing Shift+Enter) will list all files under the input directory\n",
    "\n",
    "import os\n",
    "for dirname, _, filenames in os.walk('/kaggle/input'):\n",
    "    for filename in filenames:\n",
    "        print(os.path.join(dirname, filename))\n",
    "\n",
    "# You can write up to 20GB to the current directory (/kaggle/working/) that gets preserved as output when you create a version using \"Save & Run All\" \n",
    "# You can also write temporary files to /kaggle/temp/, but they won't be saved outside of the current session"
   ]
  },
  {
   "cell_type": "code",
   "execution_count": 2,
   "id": "fcb8bde6",
   "metadata": {
    "editable": false,
    "execution": {
     "iopub.execute_input": "2022-04-24T22:25:17.726322Z",
     "iopub.status.busy": "2022-04-24T22:25:17.726018Z",
     "iopub.status.idle": "2022-04-24T22:25:25.792844Z",
     "shell.execute_reply": "2022-04-24T22:25:25.791758Z"
    },
    "papermill": {
     "duration": 8.107366,
     "end_time": "2022-04-24T22:25:25.795662",
     "exception": false,
     "start_time": "2022-04-24T22:25:17.688296",
     "status": "completed"
    },
    "tags": []
   },
   "outputs": [],
   "source": [
    "import matplotlib.pyplot as plt\n",
    "\n",
    "from tensorflow.keras.layers import Embedding\n",
    "from tensorflow.keras.preprocessing.sequence import pad_sequences\n",
    "from tensorflow.keras.models import Sequential\n",
    "from tensorflow.keras.preprocessing.text import one_hot\n",
    "from tensorflow.keras.layers import LSTM\n",
    "from tensorflow.keras.layers import Dense\n",
    "from tensorflow.keras.layers import Input,GlobalMaxPool1D,Dropout\n",
    "from keras.utils.vis_utils import plot_model\n",
    "from tensorflow.keras.layers import Input,GlobalMaxPool1D,Dropout,concatenate\n",
    "from tensorflow.keras.models import Model\n",
    "from keras.preprocessing.text import Tokenizer\n",
    "from keras.preprocessing.sequence import pad_sequences\n",
    "\n",
    "import nltk\n",
    "import re\n",
    "from nltk.corpus import stopwords #corpus is collection of text\n",
    "from nltk.stem.porter import PorterStemmer\n",
    "\n",
    "from sklearn.model_selection import train_test_split\n",
    "from sklearn.metrics import confusion_matrix, f1_score, roc_auc_score"
   ]
  },
  {
   "cell_type": "code",
   "execution_count": 3,
   "id": "83db4231",
   "metadata": {
    "execution": {
     "iopub.execute_input": "2022-04-24T22:25:25.874351Z",
     "iopub.status.busy": "2022-04-24T22:25:25.874042Z",
     "iopub.status.idle": "2022-04-24T22:25:26.041983Z",
     "shell.execute_reply": "2022-04-24T22:25:26.041022Z"
    },
    "papermill": {
     "duration": 0.209795,
     "end_time": "2022-04-24T22:25:26.044586",
     "exception": false,
     "start_time": "2022-04-24T22:25:25.834791",
     "status": "completed"
    },
    "tags": []
   },
   "outputs": [],
   "source": [
    "data=pd.read_csv('../input/english-fake-news/task3_engslish_training.csv')"
   ]
  },
  {
   "cell_type": "code",
   "execution_count": 4,
   "id": "54e744d5",
   "metadata": {
    "execution": {
     "iopub.execute_input": "2022-04-24T22:25:26.121681Z",
     "iopub.status.busy": "2022-04-24T22:25:26.121402Z",
     "iopub.status.idle": "2022-04-24T22:25:26.143320Z",
     "shell.execute_reply": "2022-04-24T22:25:26.142170Z"
    },
    "papermill": {
     "duration": 0.064422,
     "end_time": "2022-04-24T22:25:26.146550",
     "exception": false,
     "start_time": "2022-04-24T22:25:26.082128",
     "status": "completed"
    },
    "tags": []
   },
   "outputs": [
    {
     "data": {
      "text/html": [
       "<div>\n",
       "<style scoped>\n",
       "    .dataframe tbody tr th:only-of-type {\n",
       "        vertical-align: middle;\n",
       "    }\n",
       "\n",
       "    .dataframe tbody tr th {\n",
       "        vertical-align: top;\n",
       "    }\n",
       "\n",
       "    .dataframe thead th {\n",
       "        text-align: right;\n",
       "    }\n",
       "</style>\n",
       "<table border=\"1\" class=\"dataframe\">\n",
       "  <thead>\n",
       "    <tr style=\"text-align: right;\">\n",
       "      <th></th>\n",
       "      <th>public_id</th>\n",
       "      <th>text</th>\n",
       "      <th>title</th>\n",
       "      <th>our rating</th>\n",
       "    </tr>\n",
       "  </thead>\n",
       "  <tbody>\n",
       "    <tr>\n",
       "      <th>0</th>\n",
       "      <td>1145ea7c</td>\n",
       "      <td>U.S. military officials worked to ensure Presi...</td>\n",
       "      <td>The Texas State Senate – Senator Paul Bettenco...</td>\n",
       "      <td>TRUE</td>\n",
       "    </tr>\n",
       "    <tr>\n",
       "      <th>1</th>\n",
       "      <td>2d06d27c</td>\n",
       "      <td>A 2,500-strong border and coastguard corps cou...</td>\n",
       "      <td>EU army to protect borders</td>\n",
       "      <td>false</td>\n",
       "    </tr>\n",
       "    <tr>\n",
       "      <th>2</th>\n",
       "      <td>65d9521c</td>\n",
       "      <td>The federal government has asked school admini...</td>\n",
       "      <td>Emmett Till’s Memorial Sign Shot Up again 35 d...</td>\n",
       "      <td>false</td>\n",
       "    </tr>\n",
       "    <tr>\n",
       "      <th>3</th>\n",
       "      <td>e122d505</td>\n",
       "      <td>Extremely hot days, when temperatures soar to ...</td>\n",
       "      <td>95-Degree Days: How Extreme Heat Could Spread ...</td>\n",
       "      <td>true</td>\n",
       "    </tr>\n",
       "    <tr>\n",
       "      <th>4</th>\n",
       "      <td>ad091373</td>\n",
       "      <td>Rep.Thierry, Shawn Gov. Abbott Grants Sen. Kol...</td>\n",
       "      <td>Texas House of Representatives</td>\n",
       "      <td>partially false</td>\n",
       "    </tr>\n",
       "  </tbody>\n",
       "</table>\n",
       "</div>"
      ],
      "text/plain": [
       "  public_id                                               text  \\\n",
       "0  1145ea7c  U.S. military officials worked to ensure Presi...   \n",
       "1  2d06d27c  A 2,500-strong border and coastguard corps cou...   \n",
       "2  65d9521c  The federal government has asked school admini...   \n",
       "3  e122d505  Extremely hot days, when temperatures soar to ...   \n",
       "4  ad091373  Rep.Thierry, Shawn Gov. Abbott Grants Sen. Kol...   \n",
       "\n",
       "                                               title       our rating  \n",
       "0  The Texas State Senate – Senator Paul Bettenco...             TRUE  \n",
       "1                         EU army to protect borders            false  \n",
       "2  Emmett Till’s Memorial Sign Shot Up again 35 d...            false  \n",
       "3  95-Degree Days: How Extreme Heat Could Spread ...             true  \n",
       "4                     Texas House of Representatives  partially false  "
      ]
     },
     "execution_count": 4,
     "metadata": {},
     "output_type": "execute_result"
    }
   ],
   "source": [
    "data.head()"
   ]
  },
  {
   "cell_type": "code",
   "execution_count": 5,
   "id": "95f32c40",
   "metadata": {
    "execution": {
     "iopub.execute_input": "2022-04-24T22:25:26.224433Z",
     "iopub.status.busy": "2022-04-24T22:25:26.223929Z",
     "iopub.status.idle": "2022-04-24T22:25:26.229738Z",
     "shell.execute_reply": "2022-04-24T22:25:26.228474Z"
    },
    "papermill": {
     "duration": 0.04889,
     "end_time": "2022-04-24T22:25:26.232605",
     "exception": false,
     "start_time": "2022-04-24T22:25:26.183715",
     "status": "completed"
    },
    "tags": []
   },
   "outputs": [],
   "source": [
    "def lower(text):\n",
    "    lowercase_text = [word.lower() for word in text.split()]\n",
    "    text=\" \".join(lowercase_text)\n",
    "    return text"
   ]
  },
  {
   "cell_type": "code",
   "execution_count": 6,
   "id": "e6f0a923",
   "metadata": {
    "execution": {
     "iopub.execute_input": "2022-04-24T22:25:26.309404Z",
     "iopub.status.busy": "2022-04-24T22:25:26.309106Z",
     "iopub.status.idle": "2022-04-24T22:25:26.514379Z",
     "shell.execute_reply": "2022-04-24T22:25:26.513359Z"
    },
    "papermill": {
     "duration": 0.246848,
     "end_time": "2022-04-24T22:25:26.517211",
     "exception": false,
     "start_time": "2022-04-24T22:25:26.270363",
     "status": "completed"
    },
    "tags": []
   },
   "outputs": [],
   "source": [
    "data['text'] = data['text'].apply(lambda x:lower(x))\n",
    "#data['title'] = data['title'].apply(lambda x:lower(x))"
   ]
  },
  {
   "cell_type": "code",
   "execution_count": 7,
   "id": "ef89ffd2",
   "metadata": {
    "execution": {
     "iopub.execute_input": "2022-04-24T22:25:26.595523Z",
     "iopub.status.busy": "2022-04-24T22:25:26.595279Z",
     "iopub.status.idle": "2022-04-24T22:25:26.691159Z",
     "shell.execute_reply": "2022-04-24T22:25:26.690255Z"
    },
    "papermill": {
     "duration": 0.137891,
     "end_time": "2022-04-24T22:25:26.693936",
     "exception": false,
     "start_time": "2022-04-24T22:25:26.556045",
     "status": "completed"
    },
    "tags": []
   },
   "outputs": [],
   "source": [
    "for i in range(len(data)):\n",
    "    if data['our rating'][i] in ['TRUE','FALSE']:        \n",
    "        data['our rating'][i]=data['our rating'][i].lower()"
   ]
  },
  {
   "cell_type": "code",
   "execution_count": 8,
   "id": "7420f80d",
   "metadata": {
    "execution": {
     "iopub.execute_input": "2022-04-24T22:25:26.769956Z",
     "iopub.status.busy": "2022-04-24T22:25:26.769692Z",
     "iopub.status.idle": "2022-04-24T22:25:26.774870Z",
     "shell.execute_reply": "2022-04-24T22:25:26.773859Z"
    },
    "papermill": {
     "duration": 0.046143,
     "end_time": "2022-04-24T22:25:26.777806",
     "exception": false,
     "start_time": "2022-04-24T22:25:26.731663",
     "status": "completed"
    },
    "tags": []
   },
   "outputs": [
    {
     "name": "stdout",
     "output_type": "stream",
     "text": [
      "1264\n"
     ]
    }
   ],
   "source": [
    "print(len(data))"
   ]
  },
  {
   "cell_type": "code",
   "execution_count": 9,
   "id": "ffe570c1",
   "metadata": {
    "execution": {
     "iopub.execute_input": "2022-04-24T22:25:26.855643Z",
     "iopub.status.busy": "2022-04-24T22:25:26.853880Z",
     "iopub.status.idle": "2022-04-24T22:25:27.281992Z",
     "shell.execute_reply": "2022-04-24T22:25:27.281026Z"
    },
    "papermill": {
     "duration": 0.46934,
     "end_time": "2022-04-24T22:25:27.284320",
     "exception": false,
     "start_time": "2022-04-24T22:25:26.814980",
     "status": "completed"
    },
    "tags": []
   },
   "outputs": [
    {
     "data": {
      "text/plain": [
       "<AxesSubplot:xlabel='our rating', ylabel='count'>"
      ]
     },
     "execution_count": 9,
     "metadata": {},
     "output_type": "execute_result"
    },
    {
     "data": {
      "image/png": "[encoded data removed]",
      "text/plain": [
       "<Figure size 432x288 with 1 Axes>"
      ]
     },
     "metadata": {
      "needs_background": "light"
     },
     "output_type": "display_data"
    }
   ],
   "source": [
    "import seaborn as sns\n",
    "sns.countplot(x='our rating', data=data)"
   ]
  },
  {
   "cell_type": "code",
   "execution_count": 10,
   "id": "ec3c8f1c",
   "metadata": {
    "execution": {
     "iopub.execute_input": "2022-04-24T22:25:27.365062Z",
     "iopub.status.busy": "2022-04-24T22:25:27.364356Z",
     "iopub.status.idle": "2022-04-24T22:25:27.384296Z",
     "shell.execute_reply": "2022-04-24T22:25:27.383267Z"
    },
    "papermill": {
     "duration": 0.063076,
     "end_time": "2022-04-24T22:25:27.386818",
     "exception": false,
     "start_time": "2022-04-24T22:25:27.323742",
     "status": "completed"
    },
    "tags": []
   },
   "outputs": [
    {
     "name": "stdout",
     "output_type": "stream",
     "text": [
      "<class 'pandas.core.frame.DataFrame'>\n",
      "RangeIndex: 1264 entries, 0 to 1263\n",
      "Data columns (total 4 columns):\n",
      " #   Column      Non-Null Count  Dtype \n",
      "---  ------      --------------  ----- \n",
      " 0   public_id   1264 non-null   object\n",
      " 1   text        1264 non-null   object\n",
      " 2   title       1241 non-null   object\n",
      " 3   our rating  1264 non-null   object\n",
      "dtypes: object(4)\n",
      "memory usage: 39.6+ KB\n"
     ]
    }
   ],
   "source": [
    "data.info()"
   ]
  },
  {
   "cell_type": "code",
   "execution_count": 11,
   "id": "c8e08d9f",
   "metadata": {
    "execution": {
     "iopub.execute_input": "2022-04-24T22:25:27.466510Z",
     "iopub.status.busy": "2022-04-24T22:25:27.465846Z",
     "iopub.status.idle": "2022-04-24T22:25:27.479125Z",
     "shell.execute_reply": "2022-04-24T22:25:27.478154Z"
    },
    "papermill": {
     "duration": 0.054869,
     "end_time": "2022-04-24T22:25:27.481452",
     "exception": false,
     "start_time": "2022-04-24T22:25:27.426583",
     "status": "completed"
    },
    "tags": []
   },
   "outputs": [
    {
     "data": {
      "text/plain": [
       "public_id      0\n",
       "text           0\n",
       "title         23\n",
       "our rating     0\n",
       "dtype: int64"
      ]
     },
     "execution_count": 11,
     "metadata": {},
     "output_type": "execute_result"
    }
   ],
   "source": [
    "data.isnull().sum()"
   ]
  },
  {
   "cell_type": "code",
   "execution_count": 12,
   "id": "2176a9fb",
   "metadata": {
    "execution": {
     "iopub.execute_input": "2022-04-24T22:25:27.562393Z",
     "iopub.status.busy": "2022-04-24T22:25:27.562004Z",
     "iopub.status.idle": "2022-04-24T22:25:27.567404Z",
     "shell.execute_reply": "2022-04-24T22:25:27.566406Z"
    },
    "papermill": {
     "duration": 0.049426,
     "end_time": "2022-04-24T22:25:27.569941",
     "exception": false,
     "start_time": "2022-04-24T22:25:27.520515",
     "status": "completed"
    },
    "tags": []
   },
   "outputs": [],
   "source": [
    "def replace_title(txt):\n",
    "    if(txt==''):\n",
    "        txt.replace('', data['text'])\n",
    "    "
   ]
  },
  {
   "cell_type": "code",
   "execution_count": 13,
   "id": "8a7e83ea",
   "metadata": {
    "execution": {
     "iopub.execute_input": "2022-04-24T22:25:27.652405Z",
     "iopub.status.busy": "2022-04-24T22:25:27.651531Z",
     "iopub.status.idle": "2022-04-24T22:25:27.671330Z",
     "shell.execute_reply": "2022-04-24T22:25:27.670462Z"
    },
    "papermill": {
     "duration": 0.063119,
     "end_time": "2022-04-24T22:25:27.673610",
     "exception": false,
     "start_time": "2022-04-24T22:25:27.610491",
     "status": "completed"
    },
    "tags": []
   },
   "outputs": [],
   "source": [
    "data['title']=data['title'].fillna('')\n",
    "for i in range(len(data)):\n",
    "    if data['title'][i]=='':\n",
    "        data['title'][i]=data['text'][i]"
   ]
  },
  {
   "cell_type": "code",
   "execution_count": 14,
   "id": "52401d18",
   "metadata": {
    "execution": {
     "iopub.execute_input": "2022-04-24T22:25:27.754421Z",
     "iopub.status.busy": "2022-04-24T22:25:27.754153Z",
     "iopub.status.idle": "2022-04-24T22:25:27.764013Z",
     "shell.execute_reply": "2022-04-24T22:25:27.763010Z"
    },
    "papermill": {
     "duration": 0.052681,
     "end_time": "2022-04-24T22:25:27.766254",
     "exception": false,
     "start_time": "2022-04-24T22:25:27.713573",
     "status": "completed"
    },
    "tags": []
   },
   "outputs": [
    {
     "name": "stdout",
     "output_type": "stream",
     "text": [
      "      false  other  partially false  true\n",
      "1259      1      0                0     0\n",
      "1260      0      0                1     0\n",
      "1261      1      0                0     0\n",
      "1262      0      0                0     1\n",
      "1263      1      0                0     0\n"
     ]
    }
   ],
   "source": [
    "y = pd.get_dummies(data['our rating'])\n",
    "print(y.tail())"
   ]
  },
  {
   "cell_type": "code",
   "execution_count": 15,
   "id": "0e3f90ad",
   "metadata": {
    "execution": {
     "iopub.execute_input": "2022-04-24T22:25:27.845816Z",
     "iopub.status.busy": "2022-04-24T22:25:27.845513Z",
     "iopub.status.idle": "2022-04-24T22:25:27.850954Z",
     "shell.execute_reply": "2022-04-24T22:25:27.850018Z"
    },
    "papermill": {
     "duration": 0.048269,
     "end_time": "2022-04-24T22:25:27.853459",
     "exception": false,
     "start_time": "2022-04-24T22:25:27.805190",
     "status": "completed"
    },
    "tags": []
   },
   "outputs": [],
   "source": [
    "data=pd.concat([data,y],axis=1)"
   ]
  },
  {
   "cell_type": "code",
   "execution_count": 16,
   "id": "4d428860",
   "metadata": {
    "execution": {
     "iopub.execute_input": "2022-04-24T22:25:27.933576Z",
     "iopub.status.busy": "2022-04-24T22:25:27.933339Z",
     "iopub.status.idle": "2022-04-24T22:25:27.944809Z",
     "shell.execute_reply": "2022-04-24T22:25:27.942183Z"
    },
    "papermill": {
     "duration": 0.056707,
     "end_time": "2022-04-24T22:25:27.950239",
     "exception": false,
     "start_time": "2022-04-24T22:25:27.893532",
     "status": "completed"
    },
    "tags": []
   },
   "outputs": [],
   "source": [
    "list_classes = [\"true\", \"false\", \"other\", \"partially false\"]"
   ]
  },
  {
   "cell_type": "code",
   "execution_count": 17,
   "id": "978942b9",
   "metadata": {
    "execution": {
     "iopub.execute_input": "2022-04-24T22:25:28.142063Z",
     "iopub.status.busy": "2022-04-24T22:25:28.141545Z",
     "iopub.status.idle": "2022-04-24T22:25:28.156117Z",
     "shell.execute_reply": "2022-04-24T22:25:28.154844Z"
    },
    "papermill": {
     "duration": 0.097942,
     "end_time": "2022-04-24T22:25:28.158539",
     "exception": false,
     "start_time": "2022-04-24T22:25:28.060597",
     "status": "completed"
    },
    "tags": []
   },
   "outputs": [],
   "source": [
    "# get label\n",
    "X=data.drop(['our rating',\"true\", \"false\", \"other\", \"partially false\"],axis=1)\n",
    "y=data[list_classes].values"
   ]
  },
  {
   "cell_type": "code",
   "execution_count": 18,
   "id": "c8e38927",
   "metadata": {
    "execution": {
     "iopub.execute_input": "2022-04-24T22:25:28.308681Z",
     "iopub.status.busy": "2022-04-24T22:25:28.308309Z",
     "iopub.status.idle": "2022-04-24T22:25:28.343062Z",
     "shell.execute_reply": "2022-04-24T22:25:28.342085Z"
    },
    "papermill": {
     "duration": 0.112362,
     "end_time": "2022-04-24T22:25:28.345707",
     "exception": false,
     "start_time": "2022-04-24T22:25:28.233345",
     "status": "completed"
    },
    "tags": []
   },
   "outputs": [],
   "source": [
    "from sklearn.model_selection import train_test_split\n",
    "X_train, X_test, y_train, y_test = train_test_split(X,y, test_size=0.2,shuffle=True, random_state=42,stratify=y)"
   ]
  },
  {
   "cell_type": "code",
   "execution_count": 19,
   "id": "bbd116dd",
   "metadata": {
    "execution": {
     "iopub.execute_input": "2022-04-24T22:25:28.487548Z",
     "iopub.status.busy": "2022-04-24T22:25:28.486946Z",
     "iopub.status.idle": "2022-04-24T22:25:28.493540Z",
     "shell.execute_reply": "2022-04-24T22:25:28.492555Z"
    },
    "papermill": {
     "duration": 0.079634,
     "end_time": "2022-04-24T22:25:28.496361",
     "exception": false,
     "start_time": "2022-04-24T22:25:28.416727",
     "status": "completed"
    },
    "tags": []
   },
   "outputs": [],
   "source": [
    "X_train_text=X_train['text'].values\n",
    "X_train_title=X_train['title'].values"
   ]
  },
  {
   "cell_type": "code",
   "execution_count": 20,
   "id": "77271dbe",
   "metadata": {
    "execution": {
     "iopub.execute_input": "2022-04-24T22:25:28.636662Z",
     "iopub.status.busy": "2022-04-24T22:25:28.636073Z",
     "iopub.status.idle": "2022-04-24T22:25:28.643621Z",
     "shell.execute_reply": "2022-04-24T22:25:28.642485Z"
    },
    "papermill": {
     "duration": 0.083511,
     "end_time": "2022-04-24T22:25:28.648407",
     "exception": false,
     "start_time": "2022-04-24T22:25:28.564896",
     "status": "completed"
    },
    "tags": []
   },
   "outputs": [],
   "source": [
    "X_test_text=X_test['text'].values\n",
    "X_test_title=X_test['title'].values"
   ]
  },
  {
   "cell_type": "code",
   "execution_count": 21,
   "id": "20b81bc1",
   "metadata": {
    "execution": {
     "iopub.execute_input": "2022-04-24T22:25:28.736012Z",
     "iopub.status.busy": "2022-04-24T22:25:28.735764Z",
     "iopub.status.idle": "2022-04-24T22:25:31.015747Z",
     "shell.execute_reply": "2022-04-24T22:25:31.014806Z"
    },
    "papermill": {
     "duration": 2.323322,
     "end_time": "2022-04-24T22:25:31.018727",
     "exception": false,
     "start_time": "2022-04-24T22:25:28.695405",
     "status": "completed"
    },
    "tags": []
   },
   "outputs": [],
   "source": [
    "#transformers\n",
    "from transformers import BertTokenizerFast\n",
    "from transformers import TFBertModel,TFAutoModel\n",
    "from transformers import RobertaTokenizerFast\n",
    "from transformers import TFRobertaModel"
   ]
  },
  {
   "cell_type": "code",
   "execution_count": 22,
   "id": "e8e1b147",
   "metadata": {
    "execution": {
     "iopub.execute_input": "2022-04-24T22:25:31.100268Z",
     "iopub.status.busy": "2022-04-24T22:25:31.100001Z",
     "iopub.status.idle": "2022-04-24T22:25:36.895827Z",
     "shell.execute_reply": "2022-04-24T22:25:36.894727Z"
    },
    "papermill": {
     "duration": 5.838988,
     "end_time": "2022-04-24T22:25:36.898345",
     "exception": false,
     "start_time": "2022-04-24T22:25:31.059357",
     "status": "completed"
    },
    "tags": []
   },
   "outputs": [
    {
     "data": {
      "application/vnd.jupyter.widget-view+json": {
       "model_id": "6f73c0414e3540cf837acf728154afac",
       "version_major": 2,
       "version_minor": 0
      },
      "text/plain": [
       "Downloading:   0%|          | 0.00/28.0 [00:00<?, ?B/s]"
      ]
     },
     "metadata": {},
     "output_type": "display_data"
    },
    {
     "data": {
      "application/vnd.jupyter.widget-view+json": {
       "model_id": "f34b11d1cf2a46708b3fff762b16b85b",
       "version_major": 2,
       "version_minor": 0
      },
      "text/plain": [
       "Downloading:   0%|          | 0.00/226k [00:00<?, ?B/s]"
      ]
     },
     "metadata": {},
     "output_type": "display_data"
    },
    {
     "data": {
      "application/vnd.jupyter.widget-view+json": {
       "model_id": "8087b88b7587476aab1468d705c95492",
       "version_major": 2,
       "version_minor": 0
      },
      "text/plain": [
       "Downloading:   0%|          | 0.00/455k [00:00<?, ?B/s]"
      ]
     },
     "metadata": {},
     "output_type": "display_data"
    },
    {
     "data": {
      "application/vnd.jupyter.widget-view+json": {
       "model_id": "3d44f226bec348c7a6a1c9524b4725bd",
       "version_major": 2,
       "version_minor": 0
      },
      "text/plain": [
       "Downloading:   0%|          | 0.00/570 [00:00<?, ?B/s]"
      ]
     },
     "metadata": {},
     "output_type": "display_data"
    }
   ],
   "source": [
    "tokenizer =BertTokenizerFast.from_pretrained('bert-base-uncased')"
   ]
  },
  {
   "cell_type": "code",
   "execution_count": 23,
   "id": "68257caa",
   "metadata": {
    "execution": {
     "iopub.execute_input": "2022-04-24T22:25:36.985851Z",
     "iopub.status.busy": "2022-04-24T22:25:36.984858Z",
     "iopub.status.idle": "2022-04-24T22:25:36.990149Z",
     "shell.execute_reply": "2022-04-24T22:25:36.989149Z"
    },
    "papermill": {
     "duration": 0.051685,
     "end_time": "2022-04-24T22:25:36.992463",
     "exception": false,
     "start_time": "2022-04-24T22:25:36.940778",
     "status": "completed"
    },
    "tags": []
   },
   "outputs": [],
   "source": [
    "MAX_LEN=128"
   ]
  },
  {
   "cell_type": "code",
   "execution_count": 24,
   "id": "4826862e",
   "metadata": {
    "execution": {
     "iopub.execute_input": "2022-04-24T22:25:37.079300Z",
     "iopub.status.busy": "2022-04-24T22:25:37.079055Z",
     "iopub.status.idle": "2022-04-24T22:25:37.085651Z",
     "shell.execute_reply": "2022-04-24T22:25:37.084670Z"
    },
    "papermill": {
     "duration": 0.052542,
     "end_time": "2022-04-24T22:25:37.088030",
     "exception": false,
     "start_time": "2022-04-24T22:25:37.035488",
     "status": "completed"
    },
    "tags": []
   },
   "outputs": [],
   "source": [
    "def tokenize(data,max_len=MAX_LEN) :\n",
    "    input_ids = []\n",
    "    attention_masks = []\n",
    "    for i in range(len(data)):\n",
    "        encoded = tokenizer.encode_plus(\n",
    "            data[i],\n",
    "            add_special_tokens=True,\n",
    "            max_length=MAX_LEN,\n",
    "            padding='max_length',\n",
    "            pad_to_max_length = True,\n",
    "            return_attention_mask=True,\n",
    "            truncation=True\n",
    "        )\n",
    "        input_ids.append(encoded['input_ids'])\n",
    "        attention_masks.append(encoded['attention_mask'])\n",
    "    return np.array(input_ids),np.array(attention_masks)"
   ]
  },
  {
   "cell_type": "code",
   "execution_count": 25,
   "id": "5af0ea52",
   "metadata": {
    "execution": {
     "iopub.execute_input": "2022-04-24T22:25:37.177322Z",
     "iopub.status.busy": "2022-04-24T22:25:37.176585Z",
     "iopub.status.idle": "2022-04-24T22:25:42.572935Z",
     "shell.execute_reply": "2022-04-24T22:25:42.571955Z"
    },
    "papermill": {
     "duration": 5.443915,
     "end_time": "2022-04-24T22:25:42.575748",
     "exception": false,
     "start_time": "2022-04-24T22:25:37.131833",
     "status": "completed"
    },
    "tags": []
   },
   "outputs": [],
   "source": [
    "title_input_ids, title_attention_masks = tokenize(X_train_title, MAX_LEN)\n",
    "text_input_ids, text_attention_masks = tokenize(X_train_text, MAX_LEN)\n",
    "title_input_test, title_attention_test = tokenize(X_test_title, MAX_LEN)\n",
    "text_input_test, text_attention_test = tokenize(X_test_text, MAX_LEN)"
   ]
  },
  {
   "cell_type": "code",
   "execution_count": 26,
   "id": "5314f44a",
   "metadata": {
    "execution": {
     "iopub.execute_input": "2022-04-24T22:25:42.664922Z",
     "iopub.status.busy": "2022-04-24T22:25:42.664643Z",
     "iopub.status.idle": "2022-04-24T22:26:14.638203Z",
     "shell.execute_reply": "2022-04-24T22:26:14.637174Z"
    },
    "papermill": {
     "duration": 32.065636,
     "end_time": "2022-04-24T22:26:14.686640",
     "exception": false,
     "start_time": "2022-04-24T22:25:42.621004",
     "status": "completed"
    },
    "tags": []
   },
   "outputs": [
    {
     "data": {
      "application/vnd.jupyter.widget-view+json": {
       "model_id": "c2fe2d44d3ea492b95ca4e352f017d4c",
       "version_major": 2,
       "version_minor": 0
      },
      "text/plain": [
       "Downloading:   0%|          | 0.00/511M [00:00<?, ?B/s]"
      ]
     },
     "metadata": {},
     "output_type": "display_data"
    },
    {
     "name": "stderr",
     "output_type": "stream",
     "text": [
      "2022-04-24 22:26:03.722918: I tensorflow/stream_executor/cuda/cuda_gpu_executor.cc:937] successful NUMA node read from SysFS had negative value (-1), but there must be at least one NUMA node, so returning NUMA node zero\n",
      "2022-04-24 22:26:03.724540: I tensorflow/stream_executor/cuda/cuda_gpu_executor.cc:937] successful NUMA node read from SysFS had negative value (-1), but there must be at least one NUMA node, so returning NUMA node zero\n",
      "2022-04-24 22:26:03.725571: I tensorflow/stream_executor/cuda/cuda_gpu_executor.cc:937] successful NUMA node read from SysFS had negative value (-1), but there must be at least one NUMA node, so returning NUMA node zero\n",
      "2022-04-24 22:26:03.726875: I tensorflow/core/platform/cpu_feature_guard.cc:142] This TensorFlow binary is optimized with oneAPI Deep Neural Network Library (oneDNN) to use the following CPU instructions in performance-critical operations:  AVX2 FMA\n",
      "To enable them in other operations, rebuild TensorFlow with the appropriate compiler flags.\n",
      "2022-04-24 22:26:03.727243: I tensorflow/stream_executor/cuda/cuda_gpu_executor.cc:937] successful NUMA node read from SysFS had negative value (-1), but there must be at least one NUMA node, so returning NUMA node zero\n",
      "2022-04-24 22:26:03.728381: I tensorflow/stream_executor/cuda/cuda_gpu_executor.cc:937] successful NUMA node read from SysFS had negative value (-1), but there must be at least one NUMA node, so returning NUMA node zero\n",
      "2022-04-24 22:26:03.729402: I tensorflow/stream_executor/cuda/cuda_gpu_executor.cc:937] successful NUMA node read from SysFS had negative value (-1), but there must be at least one NUMA node, so returning NUMA node zero\n",
      "2022-04-24 22:26:09.713250: I tensorflow/stream_executor/cuda/cuda_gpu_executor.cc:937] successful NUMA node read from SysFS had negative value (-1), but there must be at least one NUMA node, so returning NUMA node zero\n",
      "2022-04-24 22:26:09.714518: I tensorflow/stream_executor/cuda/cuda_gpu_executor.cc:937] successful NUMA node read from SysFS had negative value (-1), but there must be at least one NUMA node, so returning NUMA node zero\n",
      "2022-04-24 22:26:09.715677: I tensorflow/stream_executor/cuda/cuda_gpu_executor.cc:937] successful NUMA node read from SysFS had negative value (-1), but there must be at least one NUMA node, so returning NUMA node zero\n",
      "2022-04-24 22:26:09.717520: I tensorflow/core/common_runtime/gpu/gpu_device.cc:1510] Created device /job:localhost/replica:0/task:0/device:GPU:0 with 14969 MB memory:  -> device: 0, name: Tesla P100-PCIE-16GB, pci bus id: 0000:00:04.0, compute capability: 6.0\n",
      "Some layers from the model checkpoint at bert-base-uncased were not used when initializing TFBertModel: ['nsp___cls', 'mlm___cls']\n",
      "- This IS expected if you are initializing TFBertModel from the checkpoint of a model trained on another task or with another architecture (e.g. initializing a BertForSequenceClassification model from a BertForPreTraining model).\n",
      "- This IS NOT expected if you are initializing TFBertModel from the checkpoint of a model that you expect to be exactly identical (initializing a BertForSequenceClassification model from a BertForSequenceClassification model).\n",
      "All the layers of TFBertModel were initialized from the model checkpoint at bert-base-uncased.\n",
      "If your task is similar to the task the model of the checkpoint was trained on, you can already use TFBertModel for predictions without further training.\n",
      "Some layers from the model checkpoint at bert-base-uncased were not used when initializing TFBertModel: ['nsp___cls', 'mlm___cls']\n",
      "- This IS expected if you are initializing TFBertModel from the checkpoint of a model trained on another task or with another architecture (e.g. initializing a BertForSequenceClassification model from a BertForPreTraining model).\n",
      "- This IS NOT expected if you are initializing TFBertModel from the checkpoint of a model that you expect to be exactly identical (initializing a BertForSequenceClassification model from a BertForSequenceClassification model).\n",
      "All the layers of TFBertModel were initialized from the model checkpoint at bert-base-uncased.\n",
      "If your task is similar to the task the model of the checkpoint was trained on, you can already use TFBertModel for predictions without further training.\n"
     ]
    }
   ],
   "source": [
    "roberta_model = TFBertModel.from_pretrained('bert-base-uncased')\n",
    "roberta_model2 = TFBertModel.from_pretrained('bert-base-uncased')"
   ]
  },
  {
   "cell_type": "code",
   "execution_count": 27,
   "id": "1f112628",
   "metadata": {
    "execution": {
     "iopub.execute_input": "2022-04-24T22:26:14.779034Z",
     "iopub.status.busy": "2022-04-24T22:26:14.778739Z",
     "iopub.status.idle": "2022-04-24T22:26:14.783859Z",
     "shell.execute_reply": "2022-04-24T22:26:14.782771Z"
    },
    "papermill": {
     "duration": 0.053999,
     "end_time": "2022-04-24T22:26:14.786162",
     "exception": false,
     "start_time": "2022-04-24T22:26:14.732163",
     "status": "completed"
    },
    "tags": []
   },
   "outputs": [],
   "source": [
    "import tensorflow as tf"
   ]
  },
  {
   "cell_type": "code",
   "execution_count": 28,
   "id": "a2b3a17a",
   "metadata": {
    "execution": {
     "iopub.execute_input": "2022-04-24T22:26:14.877271Z",
     "iopub.status.busy": "2022-04-24T22:26:14.876972Z",
     "iopub.status.idle": "2022-04-24T22:26:14.889252Z",
     "shell.execute_reply": "2022-04-24T22:26:14.888078Z"
    },
    "papermill": {
     "duration": 0.061247,
     "end_time": "2022-04-24T22:26:14.891783",
     "exception": false,
     "start_time": "2022-04-24T22:26:14.830536",
     "status": "completed"
    },
    "tags": []
   },
   "outputs": [],
   "source": [
    "def create_model(bert_model,bert_model2,learning, max_len=MAX_LEN):\n",
    "    \n",
    "    opt = tf.keras.optimizers.Adam(learning_rate=learning)\n",
    "    input_title = tf.keras.Input(shape=(max_len,),dtype='int32')\n",
    "    attention_title = tf.keras.Input(shape=(max_len,),dtype='int32')\n",
    "    input_text=tf.keras.Input(shape=(max_len,),dtype='int32')\n",
    "    attention_text=tf.keras.Input(shape=(max_len,),dtype='int32')\n",
    "    \n",
    "    output1 = bert_model([input_title,attention_title])[0]\n",
    "    output1 = tf.keras.layers.GlobalMaxPooling1D()(output1)\n",
    "    output1 = tf.keras.layers.Dropout(0.1)(output1)\n",
    "\n",
    "    \n",
    "    \n",
    "    output2=bert_model2([input_text,attention_text])[0]\n",
    "    output2=tf.keras.layers.Bidirectional(tf.keras.layers.GRU(128, return_sequences=True, dropout=0.3))(output2)\n",
    "    #output2=tf.keras.layers.Bidirectional(tf.keras.layers.GRU(128, return_sequences=True, dropout=0.3))(output2)\n",
    "    output2 = tf.keras.layers.GlobalMaxPooling1D()(output2)\n",
    "    output2 = tf.keras.layers.Dropout(0.1)(output2)\n",
    "\n",
    "    ensembled= concatenate([output1,output2],axis=-1) \n",
    "    \n",
    "    output = tf.keras.layers.Dense(4, activation='softmax')(ensembled)\n",
    "    model = tf.keras.models.Model(inputs = ([input_title,attention_title],[input_text,attention_text]),outputs = output)\n",
    "    model.compile(opt,loss='binary_crossentropy',metrics=['accuracy'])\n",
    "    return model"
   ]
  },
  {
   "cell_type": "code",
   "execution_count": 29,
   "id": "442b1b03",
   "metadata": {
    "execution": {
     "iopub.execute_input": "2022-04-24T22:26:14.996469Z",
     "iopub.status.busy": "2022-04-24T22:26:14.996178Z",
     "iopub.status.idle": "2022-04-24T22:26:26.016980Z",
     "shell.execute_reply": "2022-04-24T22:26:26.015548Z"
    },
    "papermill": {
     "duration": 11.076121,
     "end_time": "2022-04-24T22:26:26.019246",
     "exception": false,
     "start_time": "2022-04-24T22:26:14.943125",
     "status": "completed"
    },
    "tags": []
   },
   "outputs": [
    {
     "name": "stdout",
     "output_type": "stream",
     "text": [
      "Model: \"model\"\n",
      "__________________________________________________________________________________________________\n",
      "Layer (type)                    Output Shape         Param #     Connected to                     \n",
      "==================================================================================================\n",
      "input_3 (InputLayer)            [(None, 128)]        0                                            \n",
      "__________________________________________________________________________________________________\n",
      "input_4 (InputLayer)            [(None, 128)]        0                                            \n",
      "__________________________________________________________________________________________________\n",
      "input_1 (InputLayer)            [(None, 128)]        0                                            \n",
      "__________________________________________________________________________________________________\n",
      "input_2 (InputLayer)            [(None, 128)]        0                                            \n",
      "__________________________________________________________________________________________________\n",
      "tf_bert_model_1 (TFBertModel)   TFBaseModelOutputWit 109482240   input_3[0][0]                    \n",
      "                                                                 input_4[0][0]                    \n",
      "__________________________________________________________________________________________________\n",
      "tf_bert_model (TFBertModel)     TFBaseModelOutputWit 109482240   input_1[0][0]                    \n",
      "                                                                 input_2[0][0]                    \n",
      "__________________________________________________________________________________________________\n",
      "bidirectional (Bidirectional)   (None, 128, 256)     689664      tf_bert_model_1[0][0]            \n",
      "__________________________________________________________________________________________________\n",
      "global_max_pooling1d (GlobalMax (None, 768)          0           tf_bert_model[0][0]              \n",
      "__________________________________________________________________________________________________\n",
      "global_max_pooling1d_1 (GlobalM (None, 256)          0           bidirectional[0][0]              \n",
      "__________________________________________________________________________________________________\n",
      "dropout_74 (Dropout)            (None, 768)          0           global_max_pooling1d[0][0]       \n",
      "__________________________________________________________________________________________________\n",
      "dropout_75 (Dropout)            (None, 256)          0           global_max_pooling1d_1[0][0]     \n",
      "__________________________________________________________________________________________________\n",
      "concatenate (Concatenate)       (None, 1024)         0           dropout_74[0][0]                 \n",
      "                                                                 dropout_75[0][0]                 \n",
      "__________________________________________________________________________________________________\n",
      "dense (Dense)                   (None, 4)            4100        concatenate[0][0]                \n",
      "==================================================================================================\n",
      "Total params: 219,658,244\n",
      "Trainable params: 219,658,244\n",
      "Non-trainable params: 0\n",
      "__________________________________________________________________________________________________\n"
     ]
    }
   ],
   "source": [
    "model = create_model(roberta_model,roberta_model2,2e-5,MAX_LEN)\n",
    "model.summary()"
   ]
  },
  {
   "cell_type": "code",
   "execution_count": 30,
   "id": "de662911",
   "metadata": {
    "execution": {
     "iopub.execute_input": "2022-04-24T22:26:26.112687Z",
     "iopub.status.busy": "2022-04-24T22:26:26.112411Z",
     "iopub.status.idle": "2022-04-24T22:32:28.709338Z",
     "shell.execute_reply": "2022-04-24T22:32:28.708176Z"
    },
    "papermill": {
     "duration": 362.647346,
     "end_time": "2022-04-24T22:32:28.712369",
     "exception": false,
     "start_time": "2022-04-24T22:26:26.065023",
     "status": "completed"
    },
    "tags": []
   },
   "outputs": [
    {
     "name": "stderr",
     "output_type": "stream",
     "text": [
      "2022-04-24 22:26:26.189814: I tensorflow/compiler/mlir/mlir_graph_optimization_pass.cc:185] None of the MLIR Optimization Passes are enabled (registered 2)\n"
     ]
    },
    {
     "name": "stdout",
     "output_type": "stream",
     "text": [
      "Epoch 1/10\n"
     ]
    },
    {
     "name": "stderr",
     "output_type": "stream",
     "text": [
      "2022-04-24 22:27:08.673677: I tensorflow/stream_executor/cuda/cuda_dnn.cc:369] Loaded cuDNN version 8005\n"
     ]
    },
    {
     "name": "stdout",
     "output_type": "stream",
     "text": [
      "27/27 [==============================] - 77s 1s/step - loss: 0.5717 - accuracy: 0.4059 - val_loss: 0.5138 - val_accuracy: 0.4680\n",
      "Epoch 2/10\n",
      "27/27 [==============================] - 27s 989ms/step - loss: 0.4834 - accuracy: 0.5087 - val_loss: 0.4843 - val_accuracy: 0.5025\n",
      "Epoch 3/10\n",
      "27/27 [==============================] - 27s 988ms/step - loss: 0.4355 - accuracy: 0.5978 - val_loss: 0.4637 - val_accuracy: 0.5517\n",
      "Epoch 4/10\n",
      "27/27 [==============================] - 27s 988ms/step - loss: 0.3691 - accuracy: 0.6819 - val_loss: 0.4562 - val_accuracy: 0.5714\n",
      "Epoch 5/10\n",
      "27/27 [==============================] - 27s 991ms/step - loss: 0.2986 - accuracy: 0.7686 - val_loss: 0.4675 - val_accuracy: 0.5419\n",
      "Epoch 6/10\n",
      "27/27 [==============================] - 27s 988ms/step - loss: 0.2350 - accuracy: 0.8663 - val_loss: 0.4710 - val_accuracy: 0.5616\n",
      "Epoch 7/10\n",
      "27/27 [==============================] - 27s 991ms/step - loss: 0.1646 - accuracy: 0.9183 - val_loss: 0.5070 - val_accuracy: 0.5517\n",
      "Epoch 8/10\n",
      "27/27 [==============================] - 27s 986ms/step - loss: 0.1080 - accuracy: 0.9703 - val_loss: 0.5480 - val_accuracy: 0.5468\n",
      "Epoch 9/10\n",
      "27/27 [==============================] - 27s 986ms/step - loss: 0.0706 - accuracy: 0.9790 - val_loss: 0.5638 - val_accuracy: 0.5665\n",
      "Epoch 10/10\n",
      "27/27 [==============================] - 27s 992ms/step - loss: 0.0414 - accuracy: 0.9950 - val_loss: 0.5878 - val_accuracy: 0.5616\n"
     ]
    }
   ],
   "source": [
    "history = model.fit([[title_input_ids,title_attention_masks],[text_input_ids,text_attention_masks]], y_train, validation_split=0.2, epochs=10, batch_size=30)"
   ]
  },
  {
   "cell_type": "code",
   "execution_count": 31,
   "id": "dcf6c634",
   "metadata": {
    "execution": {
     "iopub.execute_input": "2022-04-24T22:32:29.041973Z",
     "iopub.status.busy": "2022-04-24T22:32:29.041683Z",
     "iopub.status.idle": "2022-04-24T22:32:41.829408Z",
     "shell.execute_reply": "2022-04-24T22:32:41.828231Z"
    },
    "papermill": {
     "duration": 12.953954,
     "end_time": "2022-04-24T22:32:41.832279",
     "exception": false,
     "start_time": "2022-04-24T22:32:28.878325",
     "status": "completed"
    },
    "tags": []
   },
   "outputs": [],
   "source": [
    "y_preds=model.predict([[title_input_test,title_attention_test],[text_input_test,text_attention_test]])"
   ]
  },
  {
   "cell_type": "code",
   "execution_count": 32,
   "id": "760195af",
   "metadata": {
    "execution": {
     "iopub.execute_input": "2022-04-24T22:32:42.171382Z",
     "iopub.status.busy": "2022-04-24T22:32:42.171055Z",
     "iopub.status.idle": "2022-04-24T22:32:42.176154Z",
     "shell.execute_reply": "2022-04-24T22:32:42.175166Z"
    },
    "papermill": {
     "duration": 0.178173,
     "end_time": "2022-04-24T22:32:42.178372",
     "exception": false,
     "start_time": "2022-04-24T22:32:42.000199",
     "status": "completed"
    },
    "tags": []
   },
   "outputs": [],
   "source": [
    "y_preds=np.argmax(y_preds,axis=1)\n",
    "y_true=np.argmax(y_test,axis=1)"
   ]
  },
  {
   "cell_type": "code",
   "execution_count": 33,
   "id": "0a8215c9",
   "metadata": {
    "execution": {
     "iopub.execute_input": "2022-04-24T22:32:42.517402Z",
     "iopub.status.busy": "2022-04-24T22:32:42.517012Z",
     "iopub.status.idle": "2022-04-24T22:32:42.528414Z",
     "shell.execute_reply": "2022-04-24T22:32:42.526970Z"
    },
    "papermill": {
     "duration": 0.185033,
     "end_time": "2022-04-24T22:32:42.531232",
     "exception": false,
     "start_time": "2022-04-24T22:32:42.346199",
     "status": "completed"
    },
    "tags": []
   },
   "outputs": [
    {
     "name": "stdout",
     "output_type": "stream",
     "text": [
      "F1-score  :0.608851\n"
     ]
    }
   ],
   "source": [
    "from sklearn.metrics import f1_score\n",
    "f1=f1_score(y_true,y_preds, average='weighted')\n",
    "print(\"F1-score  :%5f\" % (f1))"
   ]
  }
 ],
 "metadata": {
  "kernelspec": {
   "display_name": "Python 3",
   "language": "python",
   "name": "python3"
  },
  "language_info": {
   "codemirror_mode": {
    "name": "ipython",
    "version": 3
   },
   "file_extension": ".py",
   "mimetype": "text/x-python",
   "name": "python",
   "nbconvert_exporter": "python",
   "pygments_lexer": "ipython3",
   "version": "3.7.12"
  },
  "papermill": {
   "default_parameters": {},
   "duration": 459.008501,
   "end_time": "2022-04-24T22:32:46.129855",
   "environment_variables": {},
   "exception": null,
   "input_path": "__notebook__.ipynb",
   "output_path": "__notebook__.ipynb",
   "parameters": {},
   "start_time": "2022-04-24T22:25:07.121354",
   "version": "2.3.4"
  },
  "widgets": {
   "application/vnd.jupyter.widget-state+json": {
    "state": {
     "005e3ac1f9f448afa1763340cca3918a": {
      "model_module": "@jupyter-widgets/controls",
      "model_module_version": "1.5.0",
      "model_name": "HTMLModel",
      "state": {
       "_dom_classes": [],
       "_model_module": "@jupyter-widgets/controls",
       "_model_module_version": "1.5.0",
       "_model_name": "HTMLModel",
       "_view_count": null,
       "_view_module": "@jupyter-widgets/controls",
       "_view_module_version": "1.5.0",
       "_view_name": "HTMLView",
       "description": "",
       "description_tooltip": null,
       "layout": "IPY_MODEL_ea3a061ceeb14175ad1b262ffa63eb20",
       "placeholder": "​",
       "style": "IPY_MODEL_1a2c347f290f410ab78451dd56370b0e",
       "value": " 511M/511M [00:19&lt;00:00, 24.3MB/s]"
      }
     },
     "0d93231ad97746d2b25c34d8818cca81": {
      "model_module": "@jupyter-widgets/base",
      "model_module_version": "1.2.0",
      "model_name": "LayoutModel",
      "state": {
       "_model_module": "@jupyter-widgets/base",
       "_model_module_version": "1.2.0",
       "_model_name": "LayoutModel",
       "_view_count": null,
       "_view_module": "@jupyter-widgets/base",
       "_view_module_version": "1.2.0",
       "_view_name": "LayoutView",
       "align_content": null,
       "align_items": null,
       "align_self": null,
       "border": null,
       "bottom": null,
       "display": null,
       "flex": null,
       "flex_flow": null,
       "grid_area": null,
       "grid_auto_columns": null,
       "grid_auto_flow": null,
       "grid_auto_rows": null,
       "grid_column": null,
       "grid_gap": null,
       "grid_row": null,
       "grid_template_areas": null,
       "grid_template_columns": null,
       "grid_template_rows": null,
       "height": null,
       "justify_content": null,
       "justify_items": null,
       "left": null,
       "margin": null,
       "max_height": null,
       "max_width": null,
       "min_height": null,
       "min_width": null,
       "object_fit": null,
       "object_position": null,
       "order": null,
       "overflow": null,
       "overflow_x": null,
       "overflow_y": null,
       "padding": null,
       "right": null,
       "top": null,
       "visibility": null,
       "width": null
      }
     },
     "0f00712a12ec4c4c9053728e043d349b": {
      "model_module": "@jupyter-widgets/base",
      "model_module_version": "1.2.0",
      "model_name": "LayoutModel",
      "state": {
       "_model_module": "@jupyter-widgets/base",
       "_model_module_version": "1.2.0",
       "_model_name": "LayoutModel",
       "_view_count": null,
       "_view_module": "@jupyter-widgets/base",
       "_view_module_version": "1.2.0",
       "_view_name": "LayoutView",
       "align_content": null,
       "align_items": null,
       "align_self": null,
       "border": null,
       "bottom": null,
       "display": null,
       "flex": null,
       "flex_flow": null,
       "grid_area": null,
       "grid_auto_columns": null,
       "grid_auto_flow": null,
       "grid_auto_rows": null,
       "grid_column": null,
       "grid_gap": null,
       "grid_row": null,
       "grid_template_areas": null,
       "grid_template_columns": null,
       "grid_template_rows": null,
       "height": null,
       "justify_content": null,
       "justify_items": null,
       "left": null,
       "margin": null,
       "max_height": null,
       "max_width": null,
       "min_height": null,
       "min_width": null,
       "object_fit": null,
       "object_position": null,
       "order": null,
       "overflow": null,
       "overflow_x": null,
       "overflow_y": null,
       "padding": null,
       "right": null,
       "top": null,
       "visibility": null,
       "width": null
      }
     },
     "1a2c347f290f410ab78451dd56370b0e": {
      "model_module": "@jupyter-widgets/controls",
      "model_module_version": "1.5.0",
      "model_name": "DescriptionStyleModel",
      "state": {
       "_model_module": "@jupyter-widgets/controls",
       "_model_module_version": "1.5.0",
       "_model_name": "DescriptionStyleModel",
       "_view_count": null,
       "_view_module": "@jupyter-widgets/base",
       "_view_module_version": "1.2.0",
       "_view_name": "StyleView",
       "description_width": ""
      }
     },
     "1aac9af233584654864d0cc1c3282716": {
      "model_module": "@jupyter-widgets/base",
      "model_module_version": "1.2.0",
      "model_name": "LayoutModel",
      "state": {
       "_model_module": "@jupyter-widgets/base",
       "_model_module_version": "1.2.0",
       "_model_name": "LayoutModel",
       "_view_count": null,
       "_view_module": "@jupyter-widgets/base",
       "_view_module_version": "1.2.0",
       "_view_name": "LayoutView",
       "align_content": null,
       "align_items": null,
       "align_self": null,
       "border": null,
       "bottom": null,
       "display": null,
       "flex": null,
       "flex_flow": null,
       "grid_area": null,
       "grid_auto_columns": null,
       "grid_auto_flow": null,
       "grid_auto_rows": null,
       "grid_column": null,
       "grid_gap": null,
       "grid_row": null,
       "grid_template_areas": null,
       "grid_template_columns": null,
       "grid_template_rows": null,
       "height": null,
       "justify_content": null,
       "justify_items": null,
       "left": null,
       "margin": null,
       "max_height": null,
       "max_width": null,
       "min_height": null,
       "min_width": null,
       "object_fit": null,
       "object_position": null,
       "order": null,
       "overflow": null,
       "overflow_x": null,
       "overflow_y": null,
       "padding": null,
       "right": null,
       "top": null,
       "visibility": null,
       "width": null
      }
     },
     "1bdf7573eb114d84b6c00d5775a84bc2": {
      "model_module": "@jupyter-widgets/controls",
      "model_module_version": "1.5.0",
      "model_name": "DescriptionStyleModel",
      "state": {
       "_model_module": "@jupyter-widgets/controls",
       "_model_module_version": "1.5.0",
       "_model_name": "DescriptionStyleModel",
       "_view_count": null,
       "_view_module": "@jupyter-widgets/base",
       "_view_module_version": "1.2.0",
       "_view_name": "StyleView",
       "description_width": ""
      }
     },
     "2006e6a55c8b45bd8e107197193b34ab": {
      "model_module": "@jupyter-widgets/controls",
      "model_module_version": "1.5.0",
      "model_name": "FloatProgressModel",
      "state": {
       "_dom_classes": [],
       "_model_module": "@jupyter-widgets/controls",
       "_model_module_version": "1.5.0",
       "_model_name": "FloatProgressModel",
       "_view_count": null,
       "_view_module": "@jupyter-widgets/controls",
       "_view_module_version": "1.5.0",
       "_view_name": "ProgressView",
       "bar_style": "success",
       "description": "",
       "description_tooltip": null,
       "layout": "IPY_MODEL_1aac9af233584654864d0cc1c3282716",
       "max": 536063208.0,
       "min": 0.0,
       "orientation": "horizontal",
       "style": "IPY_MODEL_6e8e8aeb747148138dc7c1c31538ecdf",
       "value": 536063208.0
      }
     },
     "22d16f2865b34cd896d2ead8d6d6e40e": {
      "model_module": "@jupyter-widgets/base",
      "model_module_version": "1.2.0",
      "model_name": "LayoutModel",
      "state": {
       "_model_module": "@jupyter-widgets/base",
       "_model_module_version": "1.2.0",
       "_model_name": "LayoutModel",
       "_view_count": null,
       "_view_module": "@jupyter-widgets/base",
       "_view_module_version": "1.2.0",
       "_view_name": "LayoutView",
       "align_content": null,
       "align_items": null,
       "align_self": null,
       "border": null,
       "bottom": null,
       "display": null,
       "flex": null,
       "flex_flow": null,
       "grid_area": null,
       "grid_auto_columns": null,
       "grid_auto_flow": null,
       "grid_auto_rows": null,
       "grid_column": null,
       "grid_gap": null,
       "grid_row": null,
       "grid_template_areas": null,
       "grid_template_columns": null,
       "grid_template_rows": null,
       "height": null,
       "justify_content": null,
       "justify_items": null,
       "left": null,
       "margin": null,
       "max_height": null,
       "max_width": null,
       "min_height": null,
       "min_width": null,
       "object_fit": null,
       "object_position": null,
       "order": null,
       "overflow": null,
       "overflow_x": null,
       "overflow_y": null,
       "padding": null,
       "right": null,
       "top": null,
       "visibility": null,
       "width": null
      }
     },
     "253a20e38c3149dbbe51fcd867c89a9b": {
      "model_module": "@jupyter-widgets/controls",
      "model_module_version": "1.5.0",
      "model_name": "FloatProgressModel",
      "state": {
       "_dom_classes": [],
       "_model_module": "@jupyter-widgets/controls",
       "_model_module_version": "1.5.0",
       "_model_name": "FloatProgressModel",
       "_view_count": null,
       "_view_module": "@jupyter-widgets/controls",
       "_view_module_version": "1.5.0",
       "_view_name": "ProgressView",
       "bar_style": "success",
       "description": "",
       "description_tooltip": null,
       "layout": "IPY_MODEL_b6ef3d9e566a40858745476239d1f638",
       "max": 570.0,
       "min": 0.0,
       "orientation": "horizontal",
       "style": "IPY_MODEL_63bf6dd7557b4e7b89ee6360277a3fc6",
       "value": 570.0
      }
     },
     "2b95d5c5d2244ff8ad6a9d2ff196407e": {
      "model_module": "@jupyter-widgets/base",
      "model_module_version": "1.2.0",
      "model_name": "LayoutModel",
      "state": {
       "_model_module": "@jupyter-widgets/base",
       "_model_module_version": "1.2.0",
       "_model_name": "LayoutModel",
       "_view_count": null,
       "_view_module": "@jupyter-widgets/base",
       "_view_module_version": "1.2.0",
       "_view_name": "LayoutView",
       "align_content": null,
       "align_items": null,
       "align_self": null,
       "border": null,
       "bottom": null,
       "display": null,
       "flex": null,
       "flex_flow": null,
       "grid_area": null,
       "grid_auto_columns": null,
       "grid_auto_flow": null,
       "grid_auto_rows": null,
       "grid_column": null,
       "grid_gap": null,
       "grid_row": null,
       "grid_template_areas": null,
       "grid_template_columns": null,
       "grid_template_rows": null,
       "height": null,
       "justify_content": null,
       "justify_items": null,
       "left": null,
       "margin": null,
       "max_height": null,
       "max_width": null,
       "min_height": null,
       "min_width": null,
       "object_fit": null,
       "object_position": null,
       "order": null,
       "overflow": null,
       "overflow_x": null,
       "overflow_y": null,
       "padding": null,
       "right": null,
       "top": null,
       "visibility": null,
       "width": null
      }
     },
     "316631ad523b4741bbbe83a00fce0a40": {
      "model_module": "@jupyter-widgets/controls",
      "model_module_version": "1.5.0",
      "model_name": "ProgressStyleModel",
      "state": {
       "_model_module": "@jupyter-widgets/controls",
       "_model_module_version": "1.5.0",
       "_model_name": "ProgressStyleModel",
       "_view_count": null,
       "_view_module": "@jupyter-widgets/base",
       "_view_module_version": "1.2.0",
       "_view_name": "StyleView",
       "bar_color": null,
       "description_width": ""
      }
     },
     "33d5e61c58844dde8c260f878eeeeecf": {
      "model_module": "@jupyter-widgets/controls",
      "model_module_version": "1.5.0",
      "model_name": "DescriptionStyleModel",
      "state": {
       "_model_module": "@jupyter-widgets/controls",
       "_model_module_version": "1.5.0",
       "_model_name": "DescriptionStyleModel",
       "_view_count": null,
       "_view_module": "@jupyter-widgets/base",
       "_view_module_version": "1.2.0",
       "_view_name": "StyleView",
       "description_width": ""
      }
     },
     "3c90006cd5e64cf3b73ee1a786106b19": {
      "model_module": "@jupyter-widgets/base",
      "model_module_version": "1.2.0",
      "model_name": "LayoutModel",
      "state": {
       "_model_module": "@jupyter-widgets/base",
       "_model_module_version": "1.2.0",
       "_model_name": "LayoutModel",
       "_view_count": null,
       "_view_module": "@jupyter-widgets/base",
       "_view_module_version": "1.2.0",
       "_view_name": "LayoutView",
       "align_content": null,
       "align_items": null,
       "align_self": null,
       "border": null,
       "bottom": null,
       "display": null,
       "flex": null,
       "flex_flow": null,
       "grid_area": null,
       "grid_auto_columns": null,
       "grid_auto_flow": null,
       "grid_auto_rows": null,
       "grid_column": null,
       "grid_gap": null,
       "grid_row": null,
       "grid_template_areas": null,
       "grid_template_columns": null,
       "grid_template_rows": null,
       "height": null,
       "justify_content": null,
       "justify_items": null,
       "left": null,
       "margin": null,
       "max_height": null,
       "max_width": null,
       "min_height": null,
       "min_width": null,
       "object_fit": null,
       "object_position": null,
       "order": null,
       "overflow": null,
       "overflow_x": null,
       "overflow_y": null,
       "padding": null,
       "right": null,
       "top": null,
       "visibility": null,
       "width": null
      }
     },
     "3d44f226bec348c7a6a1c9524b4725bd": {
      "model_module": "@jupyter-widgets/controls",
      "model_module_version": "1.5.0",
      "model_name": "HBoxModel",
      "state": {
       "_dom_classes": [],
       "_model_module": "@jupyter-widgets/controls",
       "_model_module_version": "1.5.0",
       "_model_name": "HBoxModel",
       "_view_count": null,
       "_view_module": "@jupyter-widgets/controls",
       "_view_module_version": "1.5.0",
       "_view_name": "HBoxView",
       "box_style": "",
       "children": [
        "IPY_MODEL_683ecdca14bc4449824217eb4e1fc660",
        "IPY_MODEL_253a20e38c3149dbbe51fcd867c89a9b",
        "IPY_MODEL_4956a6e0ec2f4890b00f4e053f438e17"
       ],
       "layout": "IPY_MODEL_aa554f80e068462bb1a37fc6bf988bb1"
      }
     },
     "3ff91224c0ee46d3b9d43db10db55e48": {
      "model_module": "@jupyter-widgets/base",
      "model_module_version": "1.2.0",
      "model_name": "LayoutModel",
      "state": {
       "_model_module": "@jupyter-widgets/base",
       "_model_module_version": "1.2.0",
       "_model_name": "LayoutModel",
       "_view_count": null,
       "_view_module": "@jupyter-widgets/base",
       "_view_module_version": "1.2.0",
       "_view_name": "LayoutView",
       "align_content": null,
       "align_items": null,
       "align_self": null,
       "border": null,
       "bottom": null,
       "display": null,
       "flex": null,
       "flex_flow": null,
       "grid_area": null,
       "grid_auto_columns": null,
       "grid_auto_flow": null,
       "grid_auto_rows": null,
       "grid_column": null,
       "grid_gap": null,
       "grid_row": null,
       "grid_template_areas": null,
       "grid_template_columns": null,
       "grid_template_rows": null,
       "height": null,
       "justify_content": null,
       "justify_items": null,
       "left": null,
       "margin": null,
       "max_height": null,
       "max_width": null,
       "min_height": null,
       "min_width": null,
       "object_fit": null,
       "object_position": null,
       "order": null,
       "overflow": null,
       "overflow_x": null,
       "overflow_y": null,
       "padding": null,
       "right": null,
       "top": null,
       "visibility": null,
       "width": null
      }
     },
     "4162904ef59e4f2e868a6eddca491e48": {
      "model_module": "@jupyter-widgets/controls",
      "model_module_version": "1.5.0",
      "model_name": "DescriptionStyleModel",
      "state": {
       "_model_module": "@jupyter-widgets/controls",
       "_model_module_version": "1.5.0",
       "_model_name": "DescriptionStyleModel",
       "_view_count": null,
       "_view_module": "@jupyter-widgets/base",
       "_view_module_version": "1.2.0",
       "_view_name": "StyleView",
       "description_width": ""
      }
     },
     "4956a6e0ec2f4890b00f4e053f438e17": {
      "model_module": "@jupyter-widgets/controls",
      "model_module_version": "1.5.0",
      "model_name": "HTMLModel",
      "state": {
       "_dom_classes": [],
       "_model_module": "@jupyter-widgets/controls",
       "_model_module_version": "1.5.0",
       "_model_name": "HTMLModel",
       "_view_count": null,
       "_view_module": "@jupyter-widgets/controls",
       "_view_module_version": "1.5.0",
       "_view_name": "HTMLView",
       "description": "",
       "description_tooltip": null,
       "layout": "IPY_MODEL_d42b512778074c88ae19ec4bab12eb8b",
       "placeholder": "​",
       "style": "IPY_MODEL_ac72f48247f64db68c5d7fec09c18089",
       "value": " 570/570 [00:00&lt;00:00, 16.1kB/s]"
      }
     },
     "495895487d6b43e0972f2b1ddb55e1f3": {
      "model_module": "@jupyter-widgets/controls",
      "model_module_version": "1.5.0",
      "model_name": "DescriptionStyleModel",
      "state": {
       "_model_module": "@jupyter-widgets/controls",
       "_model_module_version": "1.5.0",
       "_model_name": "DescriptionStyleModel",
       "_view_count": null,
       "_view_module": "@jupyter-widgets/base",
       "_view_module_version": "1.2.0",
       "_view_name": "StyleView",
       "description_width": ""
      }
     },
     "499fcdce183648f1be4ce226a5bbd58e": {
      "model_module": "@jupyter-widgets/base",
      "model_module_version": "1.2.0",
      "model_name": "LayoutModel",
      "state": {
       "_model_module": "@jupyter-widgets/base",
       "_model_module_version": "1.2.0",
       "_model_name": "LayoutModel",
       "_view_count": null,
       "_view_module": "@jupyter-widgets/base",
       "_view_module_version": "1.2.0",
       "_view_name": "LayoutView",
       "align_content": null,
       "align_items": null,
       "align_self": null,
       "border": null,
       "bottom": null,
       "display": null,
       "flex": null,
       "flex_flow": null,
       "grid_area": null,
       "grid_auto_columns": null,
       "grid_auto_flow": null,
       "grid_auto_rows": null,
       "grid_column": null,
       "grid_gap": null,
       "grid_row": null,
       "grid_template_areas": null,
       "grid_template_columns": null,
       "grid_template_rows": null,
       "height": null,
       "justify_content": null,
       "justify_items": null,
       "left": null,
       "margin": null,
       "max_height": null,
       "max_width": null,
       "min_height": null,
       "min_width": null,
       "object_fit": null,
       "object_position": null,
       "order": null,
       "overflow": null,
       "overflow_x": null,
       "overflow_y": null,
       "padding": null,
       "right": null,
       "top": null,
       "visibility": null,
       "width": null
      }
     },
     "4a8647d9fc6848f9a9c7a5953195e5af": {
      "model_module": "@jupyter-widgets/base",
      "model_module_version": "1.2.0",
      "model_name": "LayoutModel",
      "state": {
       "_model_module": "@jupyter-widgets/base",
       "_model_module_version": "1.2.0",
       "_model_name": "LayoutModel",
       "_view_count": null,
       "_view_module": "@jupyter-widgets/base",
       "_view_module_version": "1.2.0",
       "_view_name": "LayoutView",
       "align_content": null,
       "align_items": null,
       "align_self": null,
       "border": null,
       "bottom": null,
       "display": null,
       "flex": null,
       "flex_flow": null,
       "grid_area": null,
       "grid_auto_columns": null,
       "grid_auto_flow": null,
       "grid_auto_rows": null,
       "grid_column": null,
       "grid_gap": null,
       "grid_row": null,
       "grid_template_areas": null,
       "grid_template_columns": null,
       "grid_template_rows": null,
       "height": null,
       "justify_content": null,
       "justify_items": null,
       "left": null,
       "margin": null,
       "max_height": null,
       "max_width": null,
       "min_height": null,
       "min_width": null,
       "object_fit": null,
       "object_position": null,
       "order": null,
       "overflow": null,
       "overflow_x": null,
       "overflow_y": null,
       "padding": null,
       "right": null,
       "top": null,
       "visibility": null,
       "width": null
      }
     },
     "540bb6733fc94c2eb67be734ae5ea974": {
      "model_module": "@jupyter-widgets/controls",
      "model_module_version": "1.5.0",
      "model_name": "HTMLModel",
      "state": {
       "_dom_classes": [],
       "_model_module": "@jupyter-widgets/controls",
       "_model_module_version": "1.5.0",
       "_model_name": "HTMLModel",
       "_view_count": null,
       "_view_module": "@jupyter-widgets/controls",
       "_view_module_version": "1.5.0",
       "_view_name": "HTMLView",
       "description": "",
       "description_tooltip": null,
       "layout": "IPY_MODEL_c14663afe94245c1a10893df22ae61f7",
       "placeholder": "​",
       "style": "IPY_MODEL_91b46a6722fd4fc49c42a65cf43708ec",
       "value": " 455k/455k [00:00&lt;00:00, 643kB/s]"
      }
     },
     "5593c23f3a344c0da378479669551dd6": {
      "model_module": "@jupyter-widgets/controls",
      "model_module_version": "1.5.0",
      "model_name": "HTMLModel",
      "state": {
       "_dom_classes": [],
       "_model_module": "@jupyter-widgets/controls",
       "_model_module_version": "1.5.0",
       "_model_name": "HTMLModel",
       "_view_count": null,
       "_view_module": "@jupyter-widgets/controls",
       "_view_module_version": "1.5.0",
       "_view_name": "HTMLView",
       "description": "",
       "description_tooltip": null,
       "layout": "IPY_MODEL_3ff91224c0ee46d3b9d43db10db55e48",
       "placeholder": "​",
       "style": "IPY_MODEL_33d5e61c58844dde8c260f878eeeeecf",
       "value": "Downloading: 100%"
      }
     },
     "629a59af24344a36a4b0242e4678ee0d": {
      "model_module": "@jupyter-widgets/controls",
      "model_module_version": "1.5.0",
      "model_name": "HTMLModel",
      "state": {
       "_dom_classes": [],
       "_model_module": "@jupyter-widgets/controls",
       "_model_module_version": "1.5.0",
       "_model_name": "HTMLModel",
       "_view_count": null,
       "_view_module": "@jupyter-widgets/controls",
       "_view_module_version": "1.5.0",
       "_view_name": "HTMLView",
       "description": "",
       "description_tooltip": null,
       "layout": "IPY_MODEL_f6efb59335aa482d9bf42f473b4a8c67",
       "placeholder": "​",
       "style": "IPY_MODEL_4162904ef59e4f2e868a6eddca491e48",
       "value": "Downloading: 100%"
      }
     },
     "6395b37468f1469da7c731ab7e66ef94": {
      "model_module": "@jupyter-widgets/base",
      "model_module_version": "1.2.0",
      "model_name": "LayoutModel",
      "state": {
       "_model_module": "@jupyter-widgets/base",
       "_model_module_version": "1.2.0",
       "_model_name": "LayoutModel",
       "_view_count": null,
       "_view_module": "@jupyter-widgets/base",
       "_view_module_version": "1.2.0",
       "_view_name": "LayoutView",
       "align_content": null,
       "align_items": null,
       "align_self": null,
       "border": null,
       "bottom": null,
       "display": null,
       "flex": null,
       "flex_flow": null,
       "grid_area": null,
       "grid_auto_columns": null,
       "grid_auto_flow": null,
       "grid_auto_rows": null,
       "grid_column": null,
       "grid_gap": null,
       "grid_row": null,
       "grid_template_areas": null,
       "grid_template_columns": null,
       "grid_template_rows": null,
       "height": null,
       "justify_content": null,
       "justify_items": null,
       "left": null,
       "margin": null,
       "max_height": null,
       "max_width": null,
       "min_height": null,
       "min_width": null,
       "object_fit": null,
       "object_position": null,
       "order": null,
       "overflow": null,
       "overflow_x": null,
       "overflow_y": null,
       "padding": null,
       "right": null,
       "top": null,
       "visibility": null,
       "width": null
      }
     },
     "63bf6dd7557b4e7b89ee6360277a3fc6": {
      "model_module": "@jupyter-widgets/controls",
      "model_module_version": "1.5.0",
      "model_name": "ProgressStyleModel",
      "state": {
       "_model_module": "@jupyter-widgets/controls",
       "_model_module_version": "1.5.0",
       "_model_name": "ProgressStyleModel",
       "_view_count": null,
       "_view_module": "@jupyter-widgets/base",
       "_view_module_version": "1.2.0",
       "_view_name": "StyleView",
       "bar_color": null,
       "description_width": ""
      }
     },
     "6693949a99ab49bc8cbbfd503362c67a": {
      "model_module": "@jupyter-widgets/base",
      "model_module_version": "1.2.0",
      "model_name": "LayoutModel",
      "state": {
       "_model_module": "@jupyter-widgets/base",
       "_model_module_version": "1.2.0",
       "_model_name": "LayoutModel",
       "_view_count": null,
       "_view_module": "@jupyter-widgets/base",
       "_view_module_version": "1.2.0",
       "_view_name": "LayoutView",
       "align_content": null,
       "align_items": null,
       "align_self": null,
       "border": null,
       "bottom": null,
       "display": null,
       "flex": null,
       "flex_flow": null,
       "grid_area": null,
       "grid_auto_columns": null,
       "grid_auto_flow": null,
       "grid_auto_rows": null,
       "grid_column": null,
       "grid_gap": null,
       "grid_row": null,
       "grid_template_areas": null,
       "grid_template_columns": null,
       "grid_template_rows": null,
       "height": null,
       "justify_content": null,
       "justify_items": null,
       "left": null,
       "margin": null,
       "max_height": null,
       "max_width": null,
       "min_height": null,
       "min_width": null,
       "object_fit": null,
       "object_position": null,
       "order": null,
       "overflow": null,
       "overflow_x": null,
       "overflow_y": null,
       "padding": null,
       "right": null,
       "top": null,
       "visibility": null,
       "width": null
      }
     },
     "683ecdca14bc4449824217eb4e1fc660": {
      "model_module": "@jupyter-widgets/controls",
      "model_module_version": "1.5.0",
      "model_name": "HTMLModel",
      "state": {
       "_dom_classes": [],
       "_model_module": "@jupyter-widgets/controls",
       "_model_module_version": "1.5.0",
       "_model_name": "HTMLModel",
       "_view_count": null,
       "_view_module": "@jupyter-widgets/controls",
       "_view_module_version": "1.5.0",
       "_view_name": "HTMLView",
       "description": "",
       "description_tooltip": null,
       "layout": "IPY_MODEL_95dc0cfc4e304e09b47b58669b8c4aba",
       "placeholder": "​",
       "style": "IPY_MODEL_bafd890c7a4240c0b6419394c9f5a398",
       "value": "Downloading: 100%"
      }
     },
     "6b024b03c16743d0ba7375c1161c5f9c": {
      "model_module": "@jupyter-widgets/base",
      "model_module_version": "1.2.0",
      "model_name": "LayoutModel",
      "state": {
       "_model_module": "@jupyter-widgets/base",
       "_model_module_version": "1.2.0",
       "_model_name": "LayoutModel",
       "_view_count": null,
       "_view_module": "@jupyter-widgets/base",
       "_view_module_version": "1.2.0",
       "_view_name": "LayoutView",
       "align_content": null,
       "align_items": null,
       "align_self": null,
       "border": null,
       "bottom": null,
       "display": null,
       "flex": null,
       "flex_flow": null,
       "grid_area": null,
       "grid_auto_columns": null,
       "grid_auto_flow": null,
       "grid_auto_rows": null,
       "grid_column": null,
       "grid_gap": null,
       "grid_row": null,
       "grid_template_areas": null,
       "grid_template_columns": null,
       "grid_template_rows": null,
       "height": null,
       "justify_content": null,
       "justify_items": null,
       "left": null,
       "margin": null,
       "max_height": null,
       "max_width": null,
       "min_height": null,
       "min_width": null,
       "object_fit": null,
       "object_position": null,
       "order": null,
       "overflow": null,
       "overflow_x": null,
       "overflow_y": null,
       "padding": null,
       "right": null,
       "top": null,
       "visibility": null,
       "width": null
      }
     },
     "6e8e8aeb747148138dc7c1c31538ecdf": {
      "model_module": "@jupyter-widgets/controls",
      "model_module_version": "1.5.0",
      "model_name": "ProgressStyleModel",
      "state": {
       "_model_module": "@jupyter-widgets/controls",
       "_model_module_version": "1.5.0",
       "_model_name": "ProgressStyleModel",
       "_view_count": null,
       "_view_module": "@jupyter-widgets/base",
       "_view_module_version": "1.2.0",
       "_view_name": "StyleView",
       "bar_color": null,
       "description_width": ""
      }
     },
     "6f73c0414e3540cf837acf728154afac": {
      "model_module": "@jupyter-widgets/controls",
      "model_module_version": "1.5.0",
      "model_name": "HBoxModel",
      "state": {
       "_dom_classes": [],
       "_model_module": "@jupyter-widgets/controls",
       "_model_module_version": "1.5.0",
       "_model_name": "HBoxModel",
       "_view_count": null,
       "_view_module": "@jupyter-widgets/controls",
       "_view_module_version": "1.5.0",
       "_view_name": "HBoxView",
       "box_style": "",
       "children": [
        "IPY_MODEL_629a59af24344a36a4b0242e4678ee0d",
        "IPY_MODEL_98ea8c9dbe0445319c47164f053b73c8",
        "IPY_MODEL_f7a06fb7c60349c8b0e097e2661e8286"
       ],
       "layout": "IPY_MODEL_22d16f2865b34cd896d2ead8d6d6e40e"
      }
     },
     "7e44041bf7f14d1fa1ab0d454414d100": {
      "model_module": "@jupyter-widgets/controls",
      "model_module_version": "1.5.0",
      "model_name": "DescriptionStyleModel",
      "state": {
       "_model_module": "@jupyter-widgets/controls",
       "_model_module_version": "1.5.0",
       "_model_name": "DescriptionStyleModel",
       "_view_count": null,
       "_view_module": "@jupyter-widgets/base",
       "_view_module_version": "1.2.0",
       "_view_name": "StyleView",
       "description_width": ""
      }
     },
     "7ecc7b721ee84d5bbe8e80152623ab95": {
      "model_module": "@jupyter-widgets/controls",
      "model_module_version": "1.5.0",
      "model_name": "DescriptionStyleModel",
      "state": {
       "_model_module": "@jupyter-widgets/controls",
       "_model_module_version": "1.5.0",
       "_model_name": "DescriptionStyleModel",
       "_view_count": null,
       "_view_module": "@jupyter-widgets/base",
       "_view_module_version": "1.2.0",
       "_view_name": "StyleView",
       "description_width": ""
      }
     },
     "8087b88b7587476aab1468d705c95492": {
      "model_module": "@jupyter-widgets/controls",
      "model_module_version": "1.5.0",
      "model_name": "HBoxModel",
      "state": {
       "_dom_classes": [],
       "_model_module": "@jupyter-widgets/controls",
       "_model_module_version": "1.5.0",
       "_model_name": "HBoxModel",
       "_view_count": null,
       "_view_module": "@jupyter-widgets/controls",
       "_view_module_version": "1.5.0",
       "_view_name": "HBoxView",
       "box_style": "",
       "children": [
        "IPY_MODEL_d7f63da3795746069c2536a1022ef9b7",
        "IPY_MODEL_8c92f050d0ac4c97b6ed7565f8b83e30",
        "IPY_MODEL_540bb6733fc94c2eb67be734ae5ea974"
       ],
       "layout": "IPY_MODEL_6693949a99ab49bc8cbbfd503362c67a"
      }
     },
     "825e5a94ea5543f6a5b784ccceb5e6cf": {
      "model_module": "@jupyter-widgets/controls",
      "model_module_version": "1.5.0",
      "model_name": "ProgressStyleModel",
      "state": {
       "_model_module": "@jupyter-widgets/controls",
       "_model_module_version": "1.5.0",
       "_model_name": "ProgressStyleModel",
       "_view_count": null,
       "_view_module": "@jupyter-widgets/base",
       "_view_module_version": "1.2.0",
       "_view_name": "StyleView",
       "bar_color": null,
       "description_width": ""
      }
     },
     "8c92f050d0ac4c97b6ed7565f8b83e30": {
      "model_module": "@jupyter-widgets/controls",
      "model_module_version": "1.5.0",
      "model_name": "FloatProgressModel",
      "state": {
       "_dom_classes": [],
       "_model_module": "@jupyter-widgets/controls",
       "_model_module_version": "1.5.0",
       "_model_name": "FloatProgressModel",
       "_view_count": null,
       "_view_module": "@jupyter-widgets/controls",
       "_view_module_version": "1.5.0",
       "_view_name": "ProgressView",
       "bar_style": "success",
       "description": "",
       "description_tooltip": null,
       "layout": "IPY_MODEL_6395b37468f1469da7c731ab7e66ef94",
       "max": 466062.0,
       "min": 0.0,
       "orientation": "horizontal",
       "style": "IPY_MODEL_316631ad523b4741bbbe83a00fce0a40",
       "value": 466062.0
      }
     },
     "91b46a6722fd4fc49c42a65cf43708ec": {
      "model_module": "@jupyter-widgets/controls",
      "model_module_version": "1.5.0",
      "model_name": "DescriptionStyleModel",
      "state": {
       "_model_module": "@jupyter-widgets/controls",
       "_model_module_version": "1.5.0",
       "_model_name": "DescriptionStyleModel",
       "_view_count": null,
       "_view_module": "@jupyter-widgets/base",
       "_view_module_version": "1.2.0",
       "_view_name": "StyleView",
       "description_width": ""
      }
     },
     "933441af23d64a3bb22bb33cb39ca3de": {
      "model_module": "@jupyter-widgets/controls",
      "model_module_version": "1.5.0",
      "model_name": "HTMLModel",
      "state": {
       "_dom_classes": [],
       "_model_module": "@jupyter-widgets/controls",
       "_model_module_version": "1.5.0",
       "_model_name": "HTMLModel",
       "_view_count": null,
       "_view_module": "@jupyter-widgets/controls",
       "_view_module_version": "1.5.0",
       "_view_name": "HTMLView",
       "description": "",
       "description_tooltip": null,
       "layout": "IPY_MODEL_c5ce4200322e470c8e368b3aae1dd617",
       "placeholder": "​",
       "style": "IPY_MODEL_495895487d6b43e0972f2b1ddb55e1f3",
       "value": "Downloading: 100%"
      }
     },
     "95dc0cfc4e304e09b47b58669b8c4aba": {
      "model_module": "@jupyter-widgets/base",
      "model_module_version": "1.2.0",
      "model_name": "LayoutModel",
      "state": {
       "_model_module": "@jupyter-widgets/base",
       "_model_module_version": "1.2.0",
       "_model_name": "LayoutModel",
       "_view_count": null,
       "_view_module": "@jupyter-widgets/base",
       "_view_module_version": "1.2.0",
       "_view_name": "LayoutView",
       "align_content": null,
       "align_items": null,
       "align_self": null,
       "border": null,
       "bottom": null,
       "display": null,
       "flex": null,
       "flex_flow": null,
       "grid_area": null,
       "grid_auto_columns": null,
       "grid_auto_flow": null,
       "grid_auto_rows": null,
       "grid_column": null,
       "grid_gap": null,
       "grid_row": null,
       "grid_template_areas": null,
       "grid_template_columns": null,
       "grid_template_rows": null,
       "height": null,
       "justify_content": null,
       "justify_items": null,
       "left": null,
       "margin": null,
       "max_height": null,
       "max_width": null,
       "min_height": null,
       "min_width": null,
       "object_fit": null,
       "object_position": null,
       "order": null,
       "overflow": null,
       "overflow_x": null,
       "overflow_y": null,
       "padding": null,
       "right": null,
       "top": null,
       "visibility": null,
       "width": null
      }
     },
     "98ea8c9dbe0445319c47164f053b73c8": {
      "model_module": "@jupyter-widgets/controls",
      "model_module_version": "1.5.0",
      "model_name": "FloatProgressModel",
      "state": {
       "_dom_classes": [],
       "_model_module": "@jupyter-widgets/controls",
       "_model_module_version": "1.5.0",
       "_model_name": "FloatProgressModel",
       "_view_count": null,
       "_view_module": "@jupyter-widgets/controls",
       "_view_module_version": "1.5.0",
       "_view_name": "ProgressView",
       "bar_style": "success",
       "description": "",
       "description_tooltip": null,
       "layout": "IPY_MODEL_4a8647d9fc6848f9a9c7a5953195e5af",
       "max": 28.0,
       "min": 0.0,
       "orientation": "horizontal",
       "style": "IPY_MODEL_825e5a94ea5543f6a5b784ccceb5e6cf",
       "value": 28.0
      }
     },
     "9ccb9ec952954888a21665d25d903689": {
      "model_module": "@jupyter-widgets/controls",
      "model_module_version": "1.5.0",
      "model_name": "HTMLModel",
      "state": {
       "_dom_classes": [],
       "_model_module": "@jupyter-widgets/controls",
       "_model_module_version": "1.5.0",
       "_model_name": "HTMLModel",
       "_view_count": null,
       "_view_module": "@jupyter-widgets/controls",
       "_view_module_version": "1.5.0",
       "_view_name": "HTMLView",
       "description": "",
       "description_tooltip": null,
       "layout": "IPY_MODEL_499fcdce183648f1be4ce226a5bbd58e",
       "placeholder": "​",
       "style": "IPY_MODEL_7e44041bf7f14d1fa1ab0d454414d100",
       "value": " 226k/226k [00:00&lt;00:00, 569kB/s]"
      }
     },
     "aa554f80e068462bb1a37fc6bf988bb1": {
      "model_module": "@jupyter-widgets/base",
      "model_module_version": "1.2.0",
      "model_name": "LayoutModel",
      "state": {
       "_model_module": "@jupyter-widgets/base",
       "_model_module_version": "1.2.0",
       "_model_name": "LayoutModel",
       "_view_count": null,
       "_view_module": "@jupyter-widgets/base",
       "_view_module_version": "1.2.0",
       "_view_name": "LayoutView",
       "align_content": null,
       "align_items": null,
       "align_self": null,
       "border": null,
       "bottom": null,
       "display": null,
       "flex": null,
       "flex_flow": null,
       "grid_area": null,
       "grid_auto_columns": null,
       "grid_auto_flow": null,
       "grid_auto_rows": null,
       "grid_column": null,
       "grid_gap": null,
       "grid_row": null,
       "grid_template_areas": null,
       "grid_template_columns": null,
       "grid_template_rows": null,
       "height": null,
       "justify_content": null,
       "justify_items": null,
       "left": null,
       "margin": null,
       "max_height": null,
       "max_width": null,
       "min_height": null,
       "min_width": null,
       "object_fit": null,
       "object_position": null,
       "order": null,
       "overflow": null,
       "overflow_x": null,
       "overflow_y": null,
       "padding": null,
       "right": null,
       "top": null,
       "visibility": null,
       "width": null
      }
     },
     "ac72f48247f64db68c5d7fec09c18089": {
      "model_module": "@jupyter-widgets/controls",
      "model_module_version": "1.5.0",
      "model_name": "DescriptionStyleModel",
      "state": {
       "_model_module": "@jupyter-widgets/controls",
       "_model_module_version": "1.5.0",
       "_model_name": "DescriptionStyleModel",
       "_view_count": null,
       "_view_module": "@jupyter-widgets/base",
       "_view_module_version": "1.2.0",
       "_view_name": "StyleView",
       "description_width": ""
      }
     },
     "b6ef3d9e566a40858745476239d1f638": {
      "model_module": "@jupyter-widgets/base",
      "model_module_version": "1.2.0",
      "model_name": "LayoutModel",
      "state": {
       "_model_module": "@jupyter-widgets/base",
       "_model_module_version": "1.2.0",
       "_model_name": "LayoutModel",
       "_view_count": null,
       "_view_module": "@jupyter-widgets/base",
       "_view_module_version": "1.2.0",
       "_view_name": "LayoutView",
       "align_content": null,
       "align_items": null,
       "align_self": null,
       "border": null,
       "bottom": null,
       "display": null,
       "flex": null,
       "flex_flow": null,
       "grid_area": null,
       "grid_auto_columns": null,
       "grid_auto_flow": null,
       "grid_auto_rows": null,
       "grid_column": null,
       "grid_gap": null,
       "grid_row": null,
       "grid_template_areas": null,
       "grid_template_columns": null,
       "grid_template_rows": null,
       "height": null,
       "justify_content": null,
       "justify_items": null,
       "left": null,
       "margin": null,
       "max_height": null,
       "max_width": null,
       "min_height": null,
       "min_width": null,
       "object_fit": null,
       "object_position": null,
       "order": null,
       "overflow": null,
       "overflow_x": null,
       "overflow_y": null,
       "padding": null,
       "right": null,
       "top": null,
       "visibility": null,
       "width": null
      }
     },
     "bafd890c7a4240c0b6419394c9f5a398": {
      "model_module": "@jupyter-widgets/controls",
      "model_module_version": "1.5.0",
      "model_name": "DescriptionStyleModel",
      "state": {
       "_model_module": "@jupyter-widgets/controls",
       "_model_module_version": "1.5.0",
       "_model_name": "DescriptionStyleModel",
       "_view_count": null,
       "_view_module": "@jupyter-widgets/base",
       "_view_module_version": "1.2.0",
       "_view_name": "StyleView",
       "description_width": ""
      }
     },
     "c14663afe94245c1a10893df22ae61f7": {
      "model_module": "@jupyter-widgets/base",
      "model_module_version": "1.2.0",
      "model_name": "LayoutModel",
      "state": {
       "_model_module": "@jupyter-widgets/base",
       "_model_module_version": "1.2.0",
       "_model_name": "LayoutModel",
       "_view_count": null,
       "_view_module": "@jupyter-widgets/base",
       "_view_module_version": "1.2.0",
       "_view_name": "LayoutView",
       "align_content": null,
       "align_items": null,
       "align_self": null,
       "border": null,
       "bottom": null,
       "display": null,
       "flex": null,
       "flex_flow": null,
       "grid_area": null,
       "grid_auto_columns": null,
       "grid_auto_flow": null,
       "grid_auto_rows": null,
       "grid_column": null,
       "grid_gap": null,
       "grid_row": null,
       "grid_template_areas": null,
       "grid_template_columns": null,
       "grid_template_rows": null,
       "height": null,
       "justify_content": null,
       "justify_items": null,
       "left": null,
       "margin": null,
       "max_height": null,
       "max_width": null,
       "min_height": null,
       "min_width": null,
       "object_fit": null,
       "object_position": null,
       "order": null,
       "overflow": null,
       "overflow_x": null,
       "overflow_y": null,
       "padding": null,
       "right": null,
       "top": null,
       "visibility": null,
       "width": null
      }
     },
     "c1d752bb3ac6429480812874f17fdadb": {
      "model_module": "@jupyter-widgets/controls",
      "model_module_version": "1.5.0",
      "model_name": "FloatProgressModel",
      "state": {
       "_dom_classes": [],
       "_model_module": "@jupyter-widgets/controls",
       "_model_module_version": "1.5.0",
       "_model_name": "FloatProgressModel",
       "_view_count": null,
       "_view_module": "@jupyter-widgets/controls",
       "_view_module_version": "1.5.0",
       "_view_name": "ProgressView",
       "bar_style": "success",
       "description": "",
       "description_tooltip": null,
       "layout": "IPY_MODEL_3c90006cd5e64cf3b73ee1a786106b19",
       "max": 231508.0,
       "min": 0.0,
       "orientation": "horizontal",
       "style": "IPY_MODEL_e0e85cab12e14c769b8df052cd8af289",
       "value": 231508.0
      }
     },
     "c2fe2d44d3ea492b95ca4e352f017d4c": {
      "model_module": "@jupyter-widgets/controls",
      "model_module_version": "1.5.0",
      "model_name": "HBoxModel",
      "state": {
       "_dom_classes": [],
       "_model_module": "@jupyter-widgets/controls",
       "_model_module_version": "1.5.0",
       "_model_name": "HBoxModel",
       "_view_count": null,
       "_view_module": "@jupyter-widgets/controls",
       "_view_module_version": "1.5.0",
       "_view_name": "HBoxView",
       "box_style": "",
       "children": [
        "IPY_MODEL_5593c23f3a344c0da378479669551dd6",
        "IPY_MODEL_2006e6a55c8b45bd8e107197193b34ab",
        "IPY_MODEL_005e3ac1f9f448afa1763340cca3918a"
       ],
       "layout": "IPY_MODEL_0d93231ad97746d2b25c34d8818cca81"
      }
     },
     "c5ce4200322e470c8e368b3aae1dd617": {
      "model_module": "@jupyter-widgets/base",
      "model_module_version": "1.2.0",
      "model_name": "LayoutModel",
      "state": {
       "_model_module": "@jupyter-widgets/base",
       "_model_module_version": "1.2.0",
       "_model_name": "LayoutModel",
       "_view_count": null,
       "_view_module": "@jupyter-widgets/base",
       "_view_module_version": "1.2.0",
       "_view_name": "LayoutView",
       "align_content": null,
       "align_items": null,
       "align_self": null,
       "border": null,
       "bottom": null,
       "display": null,
       "flex": null,
       "flex_flow": null,
       "grid_area": null,
       "grid_auto_columns": null,
       "grid_auto_flow": null,
       "grid_auto_rows": null,
       "grid_column": null,
       "grid_gap": null,
       "grid_row": null,
       "grid_template_areas": null,
       "grid_template_columns": null,
       "grid_template_rows": null,
       "height": null,
       "justify_content": null,
       "justify_items": null,
       "left": null,
       "margin": null,
       "max_height": null,
       "max_width": null,
       "min_height": null,
       "min_width": null,
       "object_fit": null,
       "object_position": null,
       "order": null,
       "overflow": null,
       "overflow_x": null,
       "overflow_y": null,
       "padding": null,
       "right": null,
       "top": null,
       "visibility": null,
       "width": null
      }
     },
     "d42b512778074c88ae19ec4bab12eb8b": {
      "model_module": "@jupyter-widgets/base",
      "model_module_version": "1.2.0",
      "model_name": "LayoutModel",
      "state": {
       "_model_module": "@jupyter-widgets/base",
       "_model_module_version": "1.2.0",
       "_model_name": "LayoutModel",
       "_view_count": null,
       "_view_module": "@jupyter-widgets/base",
       "_view_module_version": "1.2.0",
       "_view_name": "LayoutView",
       "align_content": null,
       "align_items": null,
       "align_self": null,
       "border": null,
       "bottom": null,
       "display": null,
       "flex": null,
       "flex_flow": null,
       "grid_area": null,
       "grid_auto_columns": null,
       "grid_auto_flow": null,
       "grid_auto_rows": null,
       "grid_column": null,
       "grid_gap": null,
       "grid_row": null,
       "grid_template_areas": null,
       "grid_template_columns": null,
       "grid_template_rows": null,
       "height": null,
       "justify_content": null,
       "justify_items": null,
       "left": null,
       "margin": null,
       "max_height": null,
       "max_width": null,
       "min_height": null,
       "min_width": null,
       "object_fit": null,
       "object_position": null,
       "order": null,
       "overflow": null,
       "overflow_x": null,
       "overflow_y": null,
       "padding": null,
       "right": null,
       "top": null,
       "visibility": null,
       "width": null
      }
     },
     "d7f63da3795746069c2536a1022ef9b7": {
      "model_module": "@jupyter-widgets/controls",
      "model_module_version": "1.5.0",
      "model_name": "HTMLModel",
      "state": {
       "_dom_classes": [],
       "_model_module": "@jupyter-widgets/controls",
       "_model_module_version": "1.5.0",
       "_model_name": "HTMLModel",
       "_view_count": null,
       "_view_module": "@jupyter-widgets/controls",
       "_view_module_version": "1.5.0",
       "_view_name": "HTMLView",
       "description": "",
       "description_tooltip": null,
       "layout": "IPY_MODEL_2b95d5c5d2244ff8ad6a9d2ff196407e",
       "placeholder": "​",
       "style": "IPY_MODEL_7ecc7b721ee84d5bbe8e80152623ab95",
       "value": "Downloading: 100%"
      }
     },
     "e0e85cab12e14c769b8df052cd8af289": {
      "model_module": "@jupyter-widgets/controls",
      "model_module_version": "1.5.0",
      "model_name": "ProgressStyleModel",
      "state": {
       "_model_module": "@jupyter-widgets/controls",
       "_model_module_version": "1.5.0",
       "_model_name": "ProgressStyleModel",
       "_view_count": null,
       "_view_module": "@jupyter-widgets/base",
       "_view_module_version": "1.2.0",
       "_view_name": "StyleView",
       "bar_color": null,
       "description_width": ""
      }
     },
     "ea3a061ceeb14175ad1b262ffa63eb20": {
      "model_module": "@jupyter-widgets/base",
      "model_module_version": "1.2.0",
      "model_name": "LayoutModel",
      "state": {
       "_model_module": "@jupyter-widgets/base",
       "_model_module_version": "1.2.0",
       "_model_name": "LayoutModel",
       "_view_count": null,
       "_view_module": "@jupyter-widgets/base",
       "_view_module_version": "1.2.0",
       "_view_name": "LayoutView",
       "align_content": null,
       "align_items": null,
       "align_self": null,
       "border": null,
       "bottom": null,
       "display": null,
       "flex": null,
       "flex_flow": null,
       "grid_area": null,
       "grid_auto_columns": null,
       "grid_auto_flow": null,
       "grid_auto_rows": null,
       "grid_column": null,
       "grid_gap": null,
       "grid_row": null,
       "grid_template_areas": null,
       "grid_template_columns": null,
       "grid_template_rows": null,
       "height": null,
       "justify_content": null,
       "justify_items": null,
       "left": null,
       "margin": null,
       "max_height": null,
       "max_width": null,
       "min_height": null,
       "min_width": null,
       "object_fit": null,
       "object_position": null,
       "order": null,
       "overflow": null,
       "overflow_x": null,
       "overflow_y": null,
       "padding": null,
       "right": null,
       "top": null,
       "visibility": null,
       "width": null
      }
     },
     "f34b11d1cf2a46708b3fff762b16b85b": {
      "model_module": "@jupyter-widgets/controls",
      "model_module_version": "1.5.0",
      "model_name": "HBoxModel",
      "state": {
       "_dom_classes": [],
       "_model_module": "@jupyter-widgets/controls",
       "_model_module_version": "1.5.0",
       "_model_name": "HBoxModel",
       "_view_count": null,
       "_view_module": "@jupyter-widgets/controls",
       "_view_module_version": "1.5.0",
       "_view_name": "HBoxView",
       "box_style": "",
       "children": [
        "IPY_MODEL_933441af23d64a3bb22bb33cb39ca3de",
        "IPY_MODEL_c1d752bb3ac6429480812874f17fdadb",
        "IPY_MODEL_9ccb9ec952954888a21665d25d903689"
       ],
       "layout": "IPY_MODEL_0f00712a12ec4c4c9053728e043d349b"
      }
     },
     "f6efb59335aa482d9bf42f473b4a8c67": {
      "model_module": "@jupyter-widgets/base",
      "model_module_version": "1.2.0",
      "model_name": "LayoutModel",
      "state": {
       "_model_module": "@jupyter-widgets/base",
       "_model_module_version": "1.2.0",
       "_model_name": "LayoutModel",
       "_view_count": null,
       "_view_module": "@jupyter-widgets/base",
       "_view_module_version": "1.2.0",
       "_view_name": "LayoutView",
       "align_content": null,
       "align_items": null,
       "align_self": null,
       "border": null,
       "bottom": null,
       "display": null,
       "flex": null,
       "flex_flow": null,
       "grid_area": null,
       "grid_auto_columns": null,
       "grid_auto_flow": null,
       "grid_auto_rows": null,
       "grid_column": null,
       "grid_gap": null,
       "grid_row": null,
       "grid_template_areas": null,
       "grid_template_columns": null,
       "grid_template_rows": null,
       "height": null,
       "justify_content": null,
       "justify_items": null,
       "left": null,
       "margin": null,
       "max_height": null,
       "max_width": null,
       "min_height": null,
       "min_width": null,
       "object_fit": null,
       "object_position": null,
       "order": null,
       "overflow": null,
       "overflow_x": null,
       "overflow_y": null,
       "padding": null,
       "right": null,
       "top": null,
       "visibility": null,
       "width": null
      }
     },
     "f7a06fb7c60349c8b0e097e2661e8286": {
      "model_module": "@jupyter-widgets/controls",
      "model_module_version": "1.5.0",
      "model_name": "HTMLModel",
      "state": {
       "_dom_classes": [],
       "_model_module": "@jupyter-widgets/controls",
       "_model_module_version": "1.5.0",
       "_model_name": "HTMLModel",
       "_view_count": null,
       "_view_module": "@jupyter-widgets/controls",
       "_view_module_version": "1.5.0",
       "_view_name": "HTMLView",
       "description": "",
       "description_tooltip": null,
       "layout": "IPY_MODEL_6b024b03c16743d0ba7375c1161c5f9c",
       "placeholder": "​",
       "style": "IPY_MODEL_1bdf7573eb114d84b6c00d5775a84bc2",
       "value": " 28.0/28.0 [00:00&lt;00:00, 888B/s]"
      }
     }
    },
    "version_major": 2,
    "version_minor": 0
   }
  }
 },
 "nbformat": 4,
 "nbformat_minor": 5
}
