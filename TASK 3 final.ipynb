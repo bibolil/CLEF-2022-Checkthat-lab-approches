{
  "cells": [
    {
      "cell_type": "code",
      "execution_count": null,
      "metadata": {
        "execution": {
          "iopub.execute_input": "2022-05-05T10:05:40.321036Z",
          "iopub.status.busy": "2022-05-05T10:05:40.320685Z",
          "iopub.status.idle": "2022-05-05T10:05:40.403011Z",
          "shell.execute_reply": "2022-05-05T10:05:40.401842Z",
          "shell.execute_reply.started": "2022-05-05T10:05:40.320950Z"
        },
        "id": "MQfEjgxavXO3",
        "trusted": true
      },
      "outputs": [],
      "source": [
        "# This Python 3 environment comes with many helpful analytics libraries installed\n",
        "# It is defined by the kaggle/python Docker image: https://github.com/kaggle/docker-python\n",
        "# For example, here's several helpful packages to load\n",
        "\n",
        "import numpy as np # linear algebra\n",
        "import pandas as pd # data processing, CSV file I/O (e.g. pd.read_csv)\n",
        "\n",
        "# Input data files are available in the read-only \"../input/\" directory\n",
        "# For example, running this (by clicking run or pressing Shift+Enter) will list all files under the input directory\n",
        "\n",
        "import os\n",
        "for dirname, _, filenames in os.walk('/kaggle/input'):\n",
        "    for filename in filenames:\n",
        "        print(os.path.join(dirname, filename))\n",
        "\n",
        "# You can write up to 20GB to the current directory (/kaggle/working/) that gets preserved as output when you create a version using \"Save & Run All\" \n",
        "# You can also write temporary files to /kaggle/temp/, but they won't be saved outside of the current session"
      ]
    },
    {
      "cell_type": "code",
      "execution_count": null,
      "metadata": {
        "colab": {
          "base_uri": "https://localhost:8080/"
        },
        "id": "YpnZRZ3Kv_hC",
        "outputId": "248191db-5d38-409a-b4bd-8e6994e2a3d6"
      },
      "outputs": [
        {
          "name": "stdout",
          "output_type": "stream",
          "text": [
            "Requirement already satisfied: transformers in /usr/local/lib/python3.7/dist-packages (4.18.0)\n",
            "Requirement already satisfied: tokenizers!=0.11.3,<0.13,>=0.11.1 in /usr/local/lib/python3.7/dist-packages (from transformers) (0.12.1)\n",
            "Requirement already satisfied: huggingface-hub<1.0,>=0.1.0 in /usr/local/lib/python3.7/dist-packages (from transformers) (0.5.1)\n",
            "Requirement already satisfied: packaging>=20.0 in /usr/local/lib/python3.7/dist-packages (from transformers) (21.3)\n",
            "Requirement already satisfied: pyyaml>=5.1 in /usr/local/lib/python3.7/dist-packages (from transformers) (6.0)\n",
            "Requirement already satisfied: requests in /usr/local/lib/python3.7/dist-packages (from transformers) (2.23.0)\n",
            "Requirement already satisfied: filelock in /usr/local/lib/python3.7/dist-packages (from transformers) (3.6.0)\n",
            "Requirement already satisfied: tqdm>=4.27 in /usr/local/lib/python3.7/dist-packages (from transformers) (4.64.0)\n",
            "Requirement already satisfied: regex!=2019.12.17 in /usr/local/lib/python3.7/dist-packages (from transformers) (2019.12.20)\n",
            "Requirement already satisfied: importlib-metadata in /usr/local/lib/python3.7/dist-packages (from transformers) (4.11.3)\n",
            "Requirement already satisfied: numpy>=1.17 in /usr/local/lib/python3.7/dist-packages (from transformers) (1.21.6)\n",
            "Requirement already satisfied: sacremoses in /usr/local/lib/python3.7/dist-packages (from transformers) (0.0.53)\n",
            "Requirement already satisfied: typing-extensions>=3.7.4.3 in /usr/local/lib/python3.7/dist-packages (from huggingface-hub<1.0,>=0.1.0->transformers) (4.2.0)\n",
            "Requirement already satisfied: pyparsing!=3.0.5,>=2.0.2 in /usr/local/lib/python3.7/dist-packages (from packaging>=20.0->transformers) (3.0.8)\n",
            "Requirement already satisfied: zipp>=0.5 in /usr/local/lib/python3.7/dist-packages (from importlib-metadata->transformers) (3.8.0)\n",
            "Requirement already satisfied: idna<3,>=2.5 in /usr/local/lib/python3.7/dist-packages (from requests->transformers) (2.10)\n",
            "Requirement already satisfied: chardet<4,>=3.0.2 in /usr/local/lib/python3.7/dist-packages (from requests->transformers) (3.0.4)\n",
            "Requirement already satisfied: urllib3!=1.25.0,!=1.25.1,<1.26,>=1.21.1 in /usr/local/lib/python3.7/dist-packages (from requests->transformers) (1.24.3)\n",
            "Requirement already satisfied: certifi>=2017.4.17 in /usr/local/lib/python3.7/dist-packages (from requests->transformers) (2021.10.8)\n",
            "Requirement already satisfied: click in /usr/local/lib/python3.7/dist-packages (from sacremoses->transformers) (7.1.2)\n",
            "Requirement already satisfied: six in /usr/local/lib/python3.7/dist-packages (from sacremoses->transformers) (1.15.0)\n",
            "Requirement already satisfied: joblib in /usr/local/lib/python3.7/dist-packages (from sacremoses->transformers) (1.1.0)\n"
          ]
        }
      ],
      "source": [
        "pip install transformers"
      ]
    },
    {
      "cell_type": "code",
      "execution_count": null,
      "metadata": {
        "execution": {
          "iopub.execute_input": "2022-05-05T10:05:40.405904Z",
          "iopub.status.busy": "2022-05-05T10:05:40.405366Z",
          "iopub.status.idle": "2022-05-05T10:05:47.701358Z",
          "shell.execute_reply": "2022-05-05T10:05:47.700391Z",
          "shell.execute_reply.started": "2022-05-05T10:05:40.405859Z"
        },
        "id": "oVJiozjcvXO7",
        "trusted": true
      },
      "outputs": [],
      "source": [
        "import matplotlib.pyplot as plt\n",
        "import tensorflow as tf\n",
        "\n",
        "from tensorflow.keras.layers import Embedding\n",
        "from tensorflow.keras.preprocessing.sequence import pad_sequences\n",
        "from tensorflow.keras.models import Sequential\n",
        "from tensorflow.keras.preprocessing.text import one_hot\n",
        "from tensorflow.keras.layers import LSTM\n",
        "from tensorflow.keras.layers import Dense\n",
        "from tensorflow.keras.layers import Input,GlobalMaxPool1D,Dropout\n",
        "from keras.utils.vis_utils import plot_model\n",
        "from tensorflow.keras.layers import Input,GlobalMaxPool1D,Dropout,concatenate\n",
        "from tensorflow.keras.models import Model\n",
        "from keras.preprocessing.text import Tokenizer\n",
        "from keras.preprocessing.sequence import pad_sequences\n",
        "\n",
        "import nltk\n",
        "import re\n",
        "from nltk.corpus import stopwords #corpus is collection of text\n",
        "from nltk.stem.porter import PorterStemmer\n",
        "\n",
        "from sklearn.model_selection import train_test_split\n",
        "from sklearn.metrics import confusion_matrix, f1_score, roc_auc_score"
      ]
    },
    {
      "cell_type": "code",
      "execution_count": null,
      "metadata": {
        "execution": {
          "iopub.execute_input": "2022-05-05T10:05:47.705434Z",
          "iopub.status.busy": "2022-05-05T10:05:47.705165Z",
          "iopub.status.idle": "2022-05-05T10:05:47.851272Z",
          "shell.execute_reply": "2022-05-05T10:05:47.850263Z",
          "shell.execute_reply.started": "2022-05-05T10:05:47.705386Z"
        },
        "id": "mS0hLZRIvXO7",
        "trusted": true
      },
      "outputs": [],
      "source": [
        "data=pd.read_csv('/content/task3_engslish_training.csv')"
      ]
    },
    {
      "cell_type": "code",
      "execution_count": null,
      "metadata": {
        "id": "17qdPFcCiGWj"
      },
      "outputs": [],
      "source": [
        "test=pd.read_csv('/content/English_data_test_release.csv')"
      ]
    },
    {
      "cell_type": "code",
      "execution_count": null,
      "metadata": {
        "colab": {
          "base_uri": "https://localhost:8080/",
          "height": 250
        },
        "id": "c48H0_NjiKij",
        "outputId": "cac67e0d-16f2-4cd3-b8ba-403ee1876347"
      },
      "outputs": [
        {
          "data": {
            "text/html": [
              "\n",
              "  <div id=\"df-49c51389-15b4-4bb0-9790-698e0639b204\">\n",
              "    <div class=\"colab-df-container\">\n",
              "      <div>\n",
              "<style scoped>\n",
              "    .dataframe tbody tr th:only-of-type {\n",
              "        vertical-align: middle;\n",
              "    }\n",
              "\n",
              "    .dataframe tbody tr th {\n",
              "        vertical-align: top;\n",
              "    }\n",
              "\n",
              "    .dataframe thead th {\n",
              "        text-align: right;\n",
              "    }\n",
              "</style>\n",
              "<table border=\"1\" class=\"dataframe\">\n",
              "  <thead>\n",
              "    <tr style=\"text-align: right;\">\n",
              "      <th></th>\n",
              "      <th>ID</th>\n",
              "      <th>text</th>\n",
              "      <th>title</th>\n",
              "    </tr>\n",
              "  </thead>\n",
              "  <tbody>\n",
              "    <tr>\n",
              "      <th>0</th>\n",
              "      <td>122653045997905671927713471889615536378</td>\n",
              "      <td>The deputy secretary at the US Treasury has sa...</td>\n",
              "      <td>US Treasury deputy sec warns that shortages li...</td>\n",
              "    </tr>\n",
              "    <tr>\n",
              "      <th>1</th>\n",
              "      <td>275389285957305997321446227088442471741</td>\n",
              "      <td>KABUL—Approximately twelve minutes after U.S. ...</td>\n",
              "      <td>CNN Praises Taliban For Wearing Masks During A...</td>\n",
              "    </tr>\n",
              "    <tr>\n",
              "      <th>2</th>\n",
              "      <td>333248764296609831067233855420575814716</td>\n",
              "      <td>The vast majority of (oblivious) Americans hav...</td>\n",
              "      <td>Tennessee Has Just LEGALIZED Government COVID ...</td>\n",
              "    </tr>\n",
              "    <tr>\n",
              "      <th>3</th>\n",
              "      <td>264019763253447756851916399533799891538</td>\n",
              "      <td>(Natural News) There’s a secret layer of infor...</td>\n",
              "      <td>MEDICAL SHOCKER: Scientists at Sloan Kettering...</td>\n",
              "    </tr>\n",
              "    <tr>\n",
              "      <th>4</th>\n",
              "      <td>158073737187690682830899773280916034317</td>\n",
              "      <td>A recent study reported by the NCBI, which is ...</td>\n",
              "      <td>Study Results: Facemasks are Ineffective to Bl...</td>\n",
              "    </tr>\n",
              "  </tbody>\n",
              "</table>\n",
              "</div>\n",
              "      <button class=\"colab-df-convert\" onclick=\"convertToInteractive('df-49c51389-15b4-4bb0-9790-698e0639b204')\"\n",
              "              title=\"Convert this dataframe to an interactive table.\"\n",
              "              style=\"display:none;\">\n",
              "        \n",
              "  <svg xmlns=\"http://www.w3.org/2000/svg\" height=\"24px\"viewBox=\"0 0 24 24\"\n",
              "       width=\"24px\">\n",
              "    <path d=\"M0 0h24v24H0V0z\" fill=\"none\"/>\n",
              "    <path d=\"M18.56 5.44l.94 2.06.94-2.06 2.06-.94-2.06-.94-.94-2.06-.94 2.06-2.06.94zm-11 1L8.5 8.5l.94-2.06 2.06-.94-2.06-.94L8.5 2.5l-.94 2.06-2.06.94zm10 10l.94 2.06.94-2.06 2.06-.94-2.06-.94-.94-2.06-.94 2.06-2.06.94z\"/><path d=\"M17.41 7.96l-1.37-1.37c-.4-.4-.92-.59-1.43-.59-.52 0-1.04.2-1.43.59L10.3 9.45l-7.72 7.72c-.78.78-.78 2.05 0 2.83L4 21.41c.39.39.9.59 1.41.59.51 0 1.02-.2 1.41-.59l7.78-7.78 2.81-2.81c.8-.78.8-2.07 0-2.86zM5.41 20L4 18.59l7.72-7.72 1.47 1.35L5.41 20z\"/>\n",
              "  </svg>\n",
              "      </button>\n",
              "      \n",
              "  <style>\n",
              "    .colab-df-container {\n",
              "      display:flex;\n",
              "      flex-wrap:wrap;\n",
              "      gap: 12px;\n",
              "    }\n",
              "\n",
              "    .colab-df-convert {\n",
              "      background-color: #E8F0FE;\n",
              "      border: none;\n",
              "      border-radius: 50%;\n",
              "      cursor: pointer;\n",
              "      display: none;\n",
              "      fill: #1967D2;\n",
              "      height: 32px;\n",
              "      padding: 0 0 0 0;\n",
              "      width: 32px;\n",
              "    }\n",
              "\n",
              "    .colab-df-convert:hover {\n",
              "      background-color: #E2EBFA;\n",
              "      box-shadow: 0px 1px 2px rgba(60, 64, 67, 0.3), 0px 1px 3px 1px rgba(60, 64, 67, 0.15);\n",
              "      fill: #174EA6;\n",
              "    }\n",
              "\n",
              "    [theme=dark] .colab-df-convert {\n",
              "      background-color: #3B4455;\n",
              "      fill: #D2E3FC;\n",
              "    }\n",
              "\n",
              "    [theme=dark] .colab-df-convert:hover {\n",
              "      background-color: #434B5C;\n",
              "      box-shadow: 0px 1px 3px 1px rgba(0, 0, 0, 0.15);\n",
              "      filter: drop-shadow(0px 1px 2px rgba(0, 0, 0, 0.3));\n",
              "      fill: #FFFFFF;\n",
              "    }\n",
              "  </style>\n",
              "\n",
              "      <script>\n",
              "        const buttonEl =\n",
              "          document.querySelector('#df-49c51389-15b4-4bb0-9790-698e0639b204 button.colab-df-convert');\n",
              "        buttonEl.style.display =\n",
              "          google.colab.kernel.accessAllowed ? 'block' : 'none';\n",
              "\n",
              "        async function convertToInteractive(key) {\n",
              "          const element = document.querySelector('#df-49c51389-15b4-4bb0-9790-698e0639b204');\n",
              "          const dataTable =\n",
              "            await google.colab.kernel.invokeFunction('convertToInteractive',\n",
              "                                                     [key], {});\n",
              "          if (!dataTable) return;\n",
              "\n",
              "          const docLinkHtml = 'Like what you see? Visit the ' +\n",
              "            '<a target=\"_blank\" href=https://colab.research.google.com/notebooks/data_table.ipynb>data table notebook</a>'\n",
              "            + ' to learn more about interactive tables.';\n",
              "          element.innerHTML = '';\n",
              "          dataTable['output_type'] = 'display_data';\n",
              "          await google.colab.output.renderOutput(dataTable, element);\n",
              "          const docLink = document.createElement('div');\n",
              "          docLink.innerHTML = docLinkHtml;\n",
              "          element.appendChild(docLink);\n",
              "        }\n",
              "      </script>\n",
              "    </div>\n",
              "  </div>\n",
              "  "
            ],
            "text/plain": [
              "                                        ID  \\\n",
              "0  122653045997905671927713471889615536378   \n",
              "1  275389285957305997321446227088442471741   \n",
              "2  333248764296609831067233855420575814716   \n",
              "3  264019763253447756851916399533799891538   \n",
              "4  158073737187690682830899773280916034317   \n",
              "\n",
              "                                                text  \\\n",
              "0  The deputy secretary at the US Treasury has sa...   \n",
              "1  KABUL—Approximately twelve minutes after U.S. ...   \n",
              "2  The vast majority of (oblivious) Americans hav...   \n",
              "3  (Natural News) There’s a secret layer of infor...   \n",
              "4  A recent study reported by the NCBI, which is ...   \n",
              "\n",
              "                                               title  \n",
              "0  US Treasury deputy sec warns that shortages li...  \n",
              "1  CNN Praises Taliban For Wearing Masks During A...  \n",
              "2  Tennessee Has Just LEGALIZED Government COVID ...  \n",
              "3  MEDICAL SHOCKER: Scientists at Sloan Kettering...  \n",
              "4  Study Results: Facemasks are Ineffective to Bl...  "
            ]
          },
          "execution_count": 101,
          "metadata": {},
          "output_type": "execute_result"
        }
      ],
      "source": [
        "test.head()"
      ]
    },
    {
      "cell_type": "code",
      "execution_count": null,
      "metadata": {
        "colab": {
          "base_uri": "https://localhost:8080/",
          "height": 206
        },
        "execution": {
          "iopub.execute_input": "2022-05-05T10:05:47.855632Z",
          "iopub.status.busy": "2022-05-05T10:05:47.855311Z",
          "iopub.status.idle": "2022-05-05T10:05:47.878906Z",
          "shell.execute_reply": "2022-05-05T10:05:47.878017Z",
          "shell.execute_reply.started": "2022-05-05T10:05:47.855519Z"
        },
        "id": "UvZhfYlavXO8",
        "outputId": "89e91f65-8061-4d22-af3c-0f2a657ea782",
        "trusted": true
      },
      "outputs": [
        {
          "data": {
            "text/html": [
              "\n",
              "  <div id=\"df-43174d0e-159b-41c6-b2ad-eede72008907\">\n",
              "    <div class=\"colab-df-container\">\n",
              "      <div>\n",
              "<style scoped>\n",
              "    .dataframe tbody tr th:only-of-type {\n",
              "        vertical-align: middle;\n",
              "    }\n",
              "\n",
              "    .dataframe tbody tr th {\n",
              "        vertical-align: top;\n",
              "    }\n",
              "\n",
              "    .dataframe thead th {\n",
              "        text-align: right;\n",
              "    }\n",
              "</style>\n",
              "<table border=\"1\" class=\"dataframe\">\n",
              "  <thead>\n",
              "    <tr style=\"text-align: right;\">\n",
              "      <th></th>\n",
              "      <th>public_id</th>\n",
              "      <th>text</th>\n",
              "      <th>title</th>\n",
              "      <th>our rating</th>\n",
              "    </tr>\n",
              "  </thead>\n",
              "  <tbody>\n",
              "    <tr>\n",
              "      <th>0</th>\n",
              "      <td>1145ea7c</td>\n",
              "      <td>U.S. military officials worked to ensure Presi...</td>\n",
              "      <td>The Texas State Senate – Senator Paul Bettenco...</td>\n",
              "      <td>TRUE</td>\n",
              "    </tr>\n",
              "    <tr>\n",
              "      <th>1</th>\n",
              "      <td>2d06d27c</td>\n",
              "      <td>A 2,500-strong border and coastguard corps cou...</td>\n",
              "      <td>EU army to protect borders</td>\n",
              "      <td>false</td>\n",
              "    </tr>\n",
              "    <tr>\n",
              "      <th>2</th>\n",
              "      <td>65d9521c</td>\n",
              "      <td>The federal government has asked school admini...</td>\n",
              "      <td>Emmett Till’s Memorial Sign Shot Up again 35 d...</td>\n",
              "      <td>false</td>\n",
              "    </tr>\n",
              "    <tr>\n",
              "      <th>3</th>\n",
              "      <td>e122d505</td>\n",
              "      <td>Extremely hot days, when temperatures soar to ...</td>\n",
              "      <td>95-Degree Days: How Extreme Heat Could Spread ...</td>\n",
              "      <td>true</td>\n",
              "    </tr>\n",
              "    <tr>\n",
              "      <th>4</th>\n",
              "      <td>ad091373</td>\n",
              "      <td>Rep.Thierry, Shawn Gov. Abbott Grants Sen. Kol...</td>\n",
              "      <td>Texas House of Representatives</td>\n",
              "      <td>partially false</td>\n",
              "    </tr>\n",
              "  </tbody>\n",
              "</table>\n",
              "</div>\n",
              "      <button class=\"colab-df-convert\" onclick=\"convertToInteractive('df-43174d0e-159b-41c6-b2ad-eede72008907')\"\n",
              "              title=\"Convert this dataframe to an interactive table.\"\n",
              "              style=\"display:none;\">\n",
              "        \n",
              "  <svg xmlns=\"http://www.w3.org/2000/svg\" height=\"24px\"viewBox=\"0 0 24 24\"\n",
              "       width=\"24px\">\n",
              "    <path d=\"M0 0h24v24H0V0z\" fill=\"none\"/>\n",
              "    <path d=\"M18.56 5.44l.94 2.06.94-2.06 2.06-.94-2.06-.94-.94-2.06-.94 2.06-2.06.94zm-11 1L8.5 8.5l.94-2.06 2.06-.94-2.06-.94L8.5 2.5l-.94 2.06-2.06.94zm10 10l.94 2.06.94-2.06 2.06-.94-2.06-.94-.94-2.06-.94 2.06-2.06.94z\"/><path d=\"M17.41 7.96l-1.37-1.37c-.4-.4-.92-.59-1.43-.59-.52 0-1.04.2-1.43.59L10.3 9.45l-7.72 7.72c-.78.78-.78 2.05 0 2.83L4 21.41c.39.39.9.59 1.41.59.51 0 1.02-.2 1.41-.59l7.78-7.78 2.81-2.81c.8-.78.8-2.07 0-2.86zM5.41 20L4 18.59l7.72-7.72 1.47 1.35L5.41 20z\"/>\n",
              "  </svg>\n",
              "      </button>\n",
              "      \n",
              "  <style>\n",
              "    .colab-df-container {\n",
              "      display:flex;\n",
              "      flex-wrap:wrap;\n",
              "      gap: 12px;\n",
              "    }\n",
              "\n",
              "    .colab-df-convert {\n",
              "      background-color: #E8F0FE;\n",
              "      border: none;\n",
              "      border-radius: 50%;\n",
              "      cursor: pointer;\n",
              "      display: none;\n",
              "      fill: #1967D2;\n",
              "      height: 32px;\n",
              "      padding: 0 0 0 0;\n",
              "      width: 32px;\n",
              "    }\n",
              "\n",
              "    .colab-df-convert:hover {\n",
              "      background-color: #E2EBFA;\n",
              "      box-shadow: 0px 1px 2px rgba(60, 64, 67, 0.3), 0px 1px 3px 1px rgba(60, 64, 67, 0.15);\n",
              "      fill: #174EA6;\n",
              "    }\n",
              "\n",
              "    [theme=dark] .colab-df-convert {\n",
              "      background-color: #3B4455;\n",
              "      fill: #D2E3FC;\n",
              "    }\n",
              "\n",
              "    [theme=dark] .colab-df-convert:hover {\n",
              "      background-color: #434B5C;\n",
              "      box-shadow: 0px 1px 3px 1px rgba(0, 0, 0, 0.15);\n",
              "      filter: drop-shadow(0px 1px 2px rgba(0, 0, 0, 0.3));\n",
              "      fill: #FFFFFF;\n",
              "    }\n",
              "  </style>\n",
              "\n",
              "      <script>\n",
              "        const buttonEl =\n",
              "          document.querySelector('#df-43174d0e-159b-41c6-b2ad-eede72008907 button.colab-df-convert');\n",
              "        buttonEl.style.display =\n",
              "          google.colab.kernel.accessAllowed ? 'block' : 'none';\n",
              "\n",
              "        async function convertToInteractive(key) {\n",
              "          const element = document.querySelector('#df-43174d0e-159b-41c6-b2ad-eede72008907');\n",
              "          const dataTable =\n",
              "            await google.colab.kernel.invokeFunction('convertToInteractive',\n",
              "                                                     [key], {});\n",
              "          if (!dataTable) return;\n",
              "\n",
              "          const docLinkHtml = 'Like what you see? Visit the ' +\n",
              "            '<a target=\"_blank\" href=https://colab.research.google.com/notebooks/data_table.ipynb>data table notebook</a>'\n",
              "            + ' to learn more about interactive tables.';\n",
              "          element.innerHTML = '';\n",
              "          dataTable['output_type'] = 'display_data';\n",
              "          await google.colab.output.renderOutput(dataTable, element);\n",
              "          const docLink = document.createElement('div');\n",
              "          docLink.innerHTML = docLinkHtml;\n",
              "          element.appendChild(docLink);\n",
              "        }\n",
              "      </script>\n",
              "    </div>\n",
              "  </div>\n",
              "  "
            ],
            "text/plain": [
              "  public_id                                               text  \\\n",
              "0  1145ea7c  U.S. military officials worked to ensure Presi...   \n",
              "1  2d06d27c  A 2,500-strong border and coastguard corps cou...   \n",
              "2  65d9521c  The federal government has asked school admini...   \n",
              "3  e122d505  Extremely hot days, when temperatures soar to ...   \n",
              "4  ad091373  Rep.Thierry, Shawn Gov. Abbott Grants Sen. Kol...   \n",
              "\n",
              "                                               title       our rating  \n",
              "0  The Texas State Senate – Senator Paul Bettenco...             TRUE  \n",
              "1                         EU army to protect borders            false  \n",
              "2  Emmett Till’s Memorial Sign Shot Up again 35 d...            false  \n",
              "3  95-Degree Days: How Extreme Heat Could Spread ...             true  \n",
              "4                     Texas House of Representatives  partially false  "
            ]
          },
          "execution_count": 102,
          "metadata": {},
          "output_type": "execute_result"
        }
      ],
      "source": [
        "data.head()"
      ]
    },
    {
      "cell_type": "code",
      "execution_count": null,
      "metadata": {
        "execution": {
          "iopub.execute_input": "2022-05-05T10:05:47.881219Z",
          "iopub.status.busy": "2022-05-05T10:05:47.880294Z",
          "iopub.status.idle": "2022-05-05T10:05:47.886406Z",
          "shell.execute_reply": "2022-05-05T10:05:47.885431Z",
          "shell.execute_reply.started": "2022-05-05T10:05:47.881175Z"
        },
        "id": "owoqthODvXO8",
        "trusted": true
      },
      "outputs": [],
      "source": [
        "def lower(text):\n",
        "    lowercase_text = [word.lower() for word in text.split()]\n",
        "    text=\" \".join(lowercase_text)\n",
        "    return text"
      ]
    },
    {
      "cell_type": "code",
      "execution_count": null,
      "metadata": {
        "execution": {
          "iopub.execute_input": "2022-05-05T10:05:47.888773Z",
          "iopub.status.busy": "2022-05-05T10:05:47.888230Z",
          "iopub.status.idle": "2022-05-05T10:05:48.085507Z",
          "shell.execute_reply": "2022-05-05T10:05:48.084454Z",
          "shell.execute_reply.started": "2022-05-05T10:05:47.888728Z"
        },
        "id": "6ItFfr7cvXO9",
        "trusted": true
      },
      "outputs": [],
      "source": [
        "data['text'] = data['text'].astype(str).apply(lambda x:lower(x))\n",
        "data['title'] = data['title'].astype(str).apply(lambda x:lower(x))\n",
        "test['text'] = test['text'].astype(str).apply(lambda x:lower(x))\n",
        "test['title'] = test['title'].astype(str).apply(lambda x:lower(x))"
      ]
    },
    {
      "cell_type": "code",
      "execution_count": null,
      "metadata": {
        "id": "co-9KjHWST5O"
      },
      "outputs": [],
      "source": [
        "import string\n",
        "lista=string.punctuation\n",
        "def remove_punctuation(text):\n",
        "    no_punct=[words for words in text if words not in lista]\n",
        "    words_wo_punct=''.join(no_punct)\n",
        "    return words_wo_punct\n",
        "data['text'] = data['text'].apply(lambda x: remove_punctuation(x))\n",
        "data['title'] = data['title'].apply(lambda x: remove_punctuation(x))\n",
        "test['text'] = test['text'].astype(str).apply(lambda x:remove_punctuation(x))\n",
        "test['title'] = test['title'].astype(str).apply(lambda x:remove_punctuation(x))"
      ]
    },
    {
      "cell_type": "code",
      "execution_count": null,
      "metadata": {
        "colab": {
          "base_uri": "https://localhost:8080/"
        },
        "id": "LLAvsCEIS_G1",
        "outputId": "d0de3fd8-ce47-4a95-ebad-34d8c6dc0aab"
      },
      "outputs": [
        {
          "name": "stdout",
          "output_type": "stream",
          "text": [
            "[nltk_data] Downloading package stopwords to /root/nltk_data...\n",
            "[nltk_data]   Package stopwords is already up-to-date!\n"
          ]
        }
      ],
      "source": [
        "import nltk\n",
        "nltk.download('stopwords')\n",
        "stop = nltk.corpus.stopwords.words('english')\n",
        "\n",
        "data['text'] = data['text'].apply(lambda x: ' '.join([word for word in x.split() if word not in (stop)]))\n",
        "data['title'] = data['title'].apply(lambda x: ' '.join([word for word in x.split() if word not in (stop)]))\n",
        "test['text'] = test['text'].apply(lambda x: ' '.join([word for word in x.split() if word not in (stop)]))\n",
        "test['title'] = test['title'].apply(lambda x: ' '.join([word for word in x.split() if word not in (stop)]))"
      ]
    },
    {
      "cell_type": "code",
      "execution_count": null,
      "metadata": {
        "colab": {
          "base_uri": "https://localhost:8080/"
        },
        "id": "3dBL-Ft4eKRl",
        "outputId": "88e66e59-793b-4f64-ca14-c80038be5aa7"
      },
      "outputs": [
        {
          "name": "stdout",
          "output_type": "stream",
          "text": [
            "[nltk_data] Downloading package wordnet to /root/nltk_data...\n",
            "[nltk_data]   Package wordnet is already up-to-date!\n"
          ]
        },
        {
          "data": {
            "text/plain": [
              "True"
            ]
          },
          "execution_count": 107,
          "metadata": {},
          "output_type": "execute_result"
        }
      ],
      "source": [
        "nltk.download('wordnet')"
      ]
    },
    {
      "cell_type": "code",
      "execution_count": null,
      "metadata": {
        "id": "IcZMY7Uddee6"
      },
      "outputs": [],
      "source": [
        "w_tokenizer = nltk.tokenize.WhitespaceTokenizer()\n",
        "lemmatizer = nltk.stem.WordNetLemmatizer()\n",
        "\n",
        "def lemmatize_text(text):\n",
        "    return ' '.join([lemmatizer.lemmatize(w) for w in w_tokenizer.tokenize(text)])\n",
        "data['text'] = data.text.apply(lemmatize_text)\n",
        "data['title'] = data.title.apply(lemmatize_text)\n",
        "test['text'] = test.text.apply(lemmatize_text)\n",
        "test['title'] = test.title.apply(lemmatize_text)"
      ]
    },
    {
      "cell_type": "code",
      "execution_count": null,
      "metadata": {
        "colab": {
          "base_uri": "https://localhost:8080/",
          "height": 206
        },
        "id": "O2TynkE_X2F9",
        "outputId": "775c6b50-4118-4f2d-c939-11d9ac4efeaa"
      },
      "outputs": [
        {
          "data": {
            "text/html": [
              "\n",
              "  <div id=\"df-044faed6-59af-40fa-9dce-2984d7c4c027\">\n",
              "    <div class=\"colab-df-container\">\n",
              "      <div>\n",
              "<style scoped>\n",
              "    .dataframe tbody tr th:only-of-type {\n",
              "        vertical-align: middle;\n",
              "    }\n",
              "\n",
              "    .dataframe tbody tr th {\n",
              "        vertical-align: top;\n",
              "    }\n",
              "\n",
              "    .dataframe thead th {\n",
              "        text-align: right;\n",
              "    }\n",
              "</style>\n",
              "<table border=\"1\" class=\"dataframe\">\n",
              "  <thead>\n",
              "    <tr style=\"text-align: right;\">\n",
              "      <th></th>\n",
              "      <th>public_id</th>\n",
              "      <th>text</th>\n",
              "      <th>title</th>\n",
              "      <th>our rating</th>\n",
              "    </tr>\n",
              "  </thead>\n",
              "  <tbody>\n",
              "    <tr>\n",
              "      <th>0</th>\n",
              "      <td>1145ea7c</td>\n",
              "      <td>u military official worked ensure president tr...</td>\n",
              "      <td>texas state senate – senator paul bettencourt ...</td>\n",
              "      <td>TRUE</td>\n",
              "    </tr>\n",
              "    <tr>\n",
              "      <th>1</th>\n",
              "      <td>2d06d27c</td>\n",
              "      <td>2500strong border coastguard corp could see ar...</td>\n",
              "      <td>eu army protect border</td>\n",
              "      <td>false</td>\n",
              "    </tr>\n",
              "    <tr>\n",
              "      <th>2</th>\n",
              "      <td>65d9521c</td>\n",
              "      <td>federal government asked school administrator ...</td>\n",
              "      <td>emmett till’s memorial sign shot 35 day replaced</td>\n",
              "      <td>false</td>\n",
              "    </tr>\n",
              "    <tr>\n",
              "      <th>3</th>\n",
              "      <td>e122d505</td>\n",
              "      <td>extremely hot day temperature soar 95 degree f...</td>\n",
              "      <td>95degree day extreme heat could spread across ...</td>\n",
              "      <td>true</td>\n",
              "    </tr>\n",
              "    <tr>\n",
              "      <th>4</th>\n",
              "      <td>ad091373</td>\n",
              "      <td>repthierry shawn gov abbott grant sen kolkhors...</td>\n",
              "      <td>texas house representative</td>\n",
              "      <td>partially false</td>\n",
              "    </tr>\n",
              "  </tbody>\n",
              "</table>\n",
              "</div>\n",
              "      <button class=\"colab-df-convert\" onclick=\"convertToInteractive('df-044faed6-59af-40fa-9dce-2984d7c4c027')\"\n",
              "              title=\"Convert this dataframe to an interactive table.\"\n",
              "              style=\"display:none;\">\n",
              "        \n",
              "  <svg xmlns=\"http://www.w3.org/2000/svg\" height=\"24px\"viewBox=\"0 0 24 24\"\n",
              "       width=\"24px\">\n",
              "    <path d=\"M0 0h24v24H0V0z\" fill=\"none\"/>\n",
              "    <path d=\"M18.56 5.44l.94 2.06.94-2.06 2.06-.94-2.06-.94-.94-2.06-.94 2.06-2.06.94zm-11 1L8.5 8.5l.94-2.06 2.06-.94-2.06-.94L8.5 2.5l-.94 2.06-2.06.94zm10 10l.94 2.06.94-2.06 2.06-.94-2.06-.94-.94-2.06-.94 2.06-2.06.94z\"/><path d=\"M17.41 7.96l-1.37-1.37c-.4-.4-.92-.59-1.43-.59-.52 0-1.04.2-1.43.59L10.3 9.45l-7.72 7.72c-.78.78-.78 2.05 0 2.83L4 21.41c.39.39.9.59 1.41.59.51 0 1.02-.2 1.41-.59l7.78-7.78 2.81-2.81c.8-.78.8-2.07 0-2.86zM5.41 20L4 18.59l7.72-7.72 1.47 1.35L5.41 20z\"/>\n",
              "  </svg>\n",
              "      </button>\n",
              "      \n",
              "  <style>\n",
              "    .colab-df-container {\n",
              "      display:flex;\n",
              "      flex-wrap:wrap;\n",
              "      gap: 12px;\n",
              "    }\n",
              "\n",
              "    .colab-df-convert {\n",
              "      background-color: #E8F0FE;\n",
              "      border: none;\n",
              "      border-radius: 50%;\n",
              "      cursor: pointer;\n",
              "      display: none;\n",
              "      fill: #1967D2;\n",
              "      height: 32px;\n",
              "      padding: 0 0 0 0;\n",
              "      width: 32px;\n",
              "    }\n",
              "\n",
              "    .colab-df-convert:hover {\n",
              "      background-color: #E2EBFA;\n",
              "      box-shadow: 0px 1px 2px rgba(60, 64, 67, 0.3), 0px 1px 3px 1px rgba(60, 64, 67, 0.15);\n",
              "      fill: #174EA6;\n",
              "    }\n",
              "\n",
              "    [theme=dark] .colab-df-convert {\n",
              "      background-color: #3B4455;\n",
              "      fill: #D2E3FC;\n",
              "    }\n",
              "\n",
              "    [theme=dark] .colab-df-convert:hover {\n",
              "      background-color: #434B5C;\n",
              "      box-shadow: 0px 1px 3px 1px rgba(0, 0, 0, 0.15);\n",
              "      filter: drop-shadow(0px 1px 2px rgba(0, 0, 0, 0.3));\n",
              "      fill: #FFFFFF;\n",
              "    }\n",
              "  </style>\n",
              "\n",
              "      <script>\n",
              "        const buttonEl =\n",
              "          document.querySelector('#df-044faed6-59af-40fa-9dce-2984d7c4c027 button.colab-df-convert');\n",
              "        buttonEl.style.display =\n",
              "          google.colab.kernel.accessAllowed ? 'block' : 'none';\n",
              "\n",
              "        async function convertToInteractive(key) {\n",
              "          const element = document.querySelector('#df-044faed6-59af-40fa-9dce-2984d7c4c027');\n",
              "          const dataTable =\n",
              "            await google.colab.kernel.invokeFunction('convertToInteractive',\n",
              "                                                     [key], {});\n",
              "          if (!dataTable) return;\n",
              "\n",
              "          const docLinkHtml = 'Like what you see? Visit the ' +\n",
              "            '<a target=\"_blank\" href=https://colab.research.google.com/notebooks/data_table.ipynb>data table notebook</a>'\n",
              "            + ' to learn more about interactive tables.';\n",
              "          element.innerHTML = '';\n",
              "          dataTable['output_type'] = 'display_data';\n",
              "          await google.colab.output.renderOutput(dataTable, element);\n",
              "          const docLink = document.createElement('div');\n",
              "          docLink.innerHTML = docLinkHtml;\n",
              "          element.appendChild(docLink);\n",
              "        }\n",
              "      </script>\n",
              "    </div>\n",
              "  </div>\n",
              "  "
            ],
            "text/plain": [
              "  public_id                                               text  \\\n",
              "0  1145ea7c  u military official worked ensure president tr...   \n",
              "1  2d06d27c  2500strong border coastguard corp could see ar...   \n",
              "2  65d9521c  federal government asked school administrator ...   \n",
              "3  e122d505  extremely hot day temperature soar 95 degree f...   \n",
              "4  ad091373  repthierry shawn gov abbott grant sen kolkhors...   \n",
              "\n",
              "                                               title       our rating  \n",
              "0  texas state senate – senator paul bettencourt ...             TRUE  \n",
              "1                             eu army protect border            false  \n",
              "2   emmett till’s memorial sign shot 35 day replaced            false  \n",
              "3  95degree day extreme heat could spread across ...             true  \n",
              "4                         texas house representative  partially false  "
            ]
          },
          "execution_count": 109,
          "metadata": {},
          "output_type": "execute_result"
        }
      ],
      "source": [
        "data.head()"
      ]
    },
    {
      "cell_type": "code",
      "execution_count": null,
      "metadata": {
        "execution": {
          "iopub.execute_input": "2022-05-05T10:05:48.087265Z",
          "iopub.status.busy": "2022-05-05T10:05:48.086956Z",
          "iopub.status.idle": "2022-05-05T10:05:48.195313Z",
          "shell.execute_reply": "2022-05-05T10:05:48.194170Z",
          "shell.execute_reply.started": "2022-05-05T10:05:48.087225Z"
        },
        "id": "kejuXVg5vXO9",
        "trusted": true
      },
      "outputs": [],
      "source": [
        "for i in range(len(data)):\n",
        "    if data['our rating'][i] in ['TRUE','FALSE']:        \n",
        "        data['our rating'][i]=data['our rating'][i].lower()"
      ]
    },
    {
      "cell_type": "code",
      "execution_count": null,
      "metadata": {
        "colab": {
          "base_uri": "https://localhost:8080/"
        },
        "execution": {
          "iopub.execute_input": "2022-05-05T10:05:48.197112Z",
          "iopub.status.busy": "2022-05-05T10:05:48.196764Z",
          "iopub.status.idle": "2022-05-05T10:05:48.209816Z",
          "shell.execute_reply": "2022-05-05T10:05:48.208566Z",
          "shell.execute_reply.started": "2022-05-05T10:05:48.197060Z"
        },
        "id": "ouqOi0UXvXO-",
        "outputId": "7ae42579-13e3-4ff3-d4f9-4461ec3a601b",
        "trusted": true
      },
      "outputs": [
        {
          "name": "stdout",
          "output_type": "stream",
          "text": [
            "1264\n"
          ]
        }
      ],
      "source": [
        "print(len(data))"
      ]
    },
    {
      "cell_type": "code",
      "execution_count": null,
      "metadata": {
        "colab": {
          "base_uri": "https://localhost:8080/",
          "height": 298
        },
        "execution": {
          "iopub.execute_input": "2022-05-05T10:05:48.212327Z",
          "iopub.status.busy": "2022-05-05T10:05:48.211924Z",
          "iopub.status.idle": "2022-05-05T10:05:48.626281Z",
          "shell.execute_reply": "2022-05-05T10:05:48.625059Z",
          "shell.execute_reply.started": "2022-05-05T10:05:48.212269Z"
        },
        "id": "S5X-wwaEvXO-",
        "outputId": "fa3a248f-9d64-44ee-e3c7-202e11923089",
        "trusted": true
      },
      "outputs": [
        {
          "data": {
            "text/plain": [
              "<matplotlib.axes._subplots.AxesSubplot at 0x7f1631880890>"
            ]
          },
          "execution_count": 112,
          "metadata": {},
          "output_type": "execute_result"
        },
        {
          "data": {
            "image/png": "[encoded data removed]",
            "text/plain": [
              "<Figure size 432x288 with 1 Axes>"
            ]
          },
          "metadata": {
            "needs_background": "light"
          },
          "output_type": "display_data"
        }
      ],
      "source": [
        "import seaborn as sns\n",
        "sns.countplot(x='our rating', data=data)"
      ]
    },
    {
      "cell_type": "code",
      "execution_count": null,
      "metadata": {
        "colab": {
          "base_uri": "https://localhost:8080/"
        },
        "execution": {
          "iopub.execute_input": "2022-05-05T10:05:48.630500Z",
          "iopub.status.busy": "2022-05-05T10:05:48.630243Z",
          "iopub.status.idle": "2022-05-05T10:05:48.648301Z",
          "shell.execute_reply": "2022-05-05T10:05:48.646248Z",
          "shell.execute_reply.started": "2022-05-05T10:05:48.630472Z"
        },
        "id": "-nTy5di_vXO_",
        "outputId": "f4d008c4-ea0f-4c40-861f-1368a3fd98ff",
        "trusted": true
      },
      "outputs": [
        {
          "name": "stdout",
          "output_type": "stream",
          "text": [
            "<class 'pandas.core.frame.DataFrame'>\n",
            "RangeIndex: 1264 entries, 0 to 1263\n",
            "Data columns (total 4 columns):\n",
            " #   Column      Non-Null Count  Dtype \n",
            "---  ------      --------------  ----- \n",
            " 0   public_id   1264 non-null   object\n",
            " 1   text        1264 non-null   object\n",
            " 2   title       1264 non-null   object\n",
            " 3   our rating  1264 non-null   object\n",
            "dtypes: object(4)\n",
            "memory usage: 39.6+ KB\n"
          ]
        }
      ],
      "source": [
        "data.info()"
      ]
    },
    {
      "cell_type": "code",
      "execution_count": null,
      "metadata": {
        "colab": {
          "base_uri": "https://localhost:8080/"
        },
        "execution": {
          "iopub.execute_input": "2022-05-05T10:05:48.650701Z",
          "iopub.status.busy": "2022-05-05T10:05:48.650338Z",
          "iopub.status.idle": "2022-05-05T10:05:48.665325Z",
          "shell.execute_reply": "2022-05-05T10:05:48.664006Z",
          "shell.execute_reply.started": "2022-05-05T10:05:48.650629Z"
        },
        "id": "LJSDFB7VvXO_",
        "outputId": "06a4a2f3-5efc-4b4d-86cf-c4d4424c5731",
        "trusted": true
      },
      "outputs": [
        {
          "data": {
            "text/plain": [
              "public_id     0\n",
              "text          0\n",
              "title         0\n",
              "our rating    0\n",
              "dtype: int64"
            ]
          },
          "execution_count": 114,
          "metadata": {},
          "output_type": "execute_result"
        }
      ],
      "source": [
        "data.isnull().sum()"
      ]
    },
    {
      "cell_type": "code",
      "execution_count": null,
      "metadata": {
        "execution": {
          "iopub.execute_input": "2022-05-05T10:05:48.667943Z",
          "iopub.status.busy": "2022-05-05T10:05:48.667050Z",
          "iopub.status.idle": "2022-05-05T10:05:48.673291Z",
          "shell.execute_reply": "2022-05-05T10:05:48.671720Z",
          "shell.execute_reply.started": "2022-05-05T10:05:48.667898Z"
        },
        "id": "wjKD60CUvXPA",
        "trusted": true
      },
      "outputs": [],
      "source": [
        "# True = Class 0\n",
        "# False = Class 1\n",
        "# Partially False = Class 3\n",
        "# Other = Class 4"
      ]
    },
    {
      "cell_type": "code",
      "execution_count": null,
      "metadata": {
        "execution": {
          "iopub.execute_input": "2022-05-05T10:05:48.676382Z",
          "iopub.status.busy": "2022-05-05T10:05:48.675257Z",
          "iopub.status.idle": "2022-05-05T10:05:48.684140Z",
          "shell.execute_reply": "2022-05-05T10:05:48.683090Z",
          "shell.execute_reply.started": "2022-05-05T10:05:48.676335Z"
        },
        "id": "RL9DX_ChvXPA",
        "trusted": true
      },
      "outputs": [],
      "source": [
        "def replace_title(txt):\n",
        "    if(txt==''):\n",
        "        txt.replace('', data['text'])\n",
        "    "
      ]
    },
    {
      "cell_type": "code",
      "execution_count": null,
      "metadata": {
        "execution": {
          "iopub.execute_input": "2022-05-05T10:05:48.686717Z",
          "iopub.status.busy": "2022-05-05T10:05:48.686448Z",
          "iopub.status.idle": "2022-05-05T10:05:48.712872Z",
          "shell.execute_reply": "2022-05-05T10:05:48.711889Z",
          "shell.execute_reply.started": "2022-05-05T10:05:48.686688Z"
        },
        "id": "saMk5SgLvXPA",
        "trusted": true
      },
      "outputs": [],
      "source": [
        "data['title']=data['title'].fillna('')\n",
        "for i in range(len(data)):\n",
        "    if data['title'][i]=='':\n",
        "        data['title'][i]=data['text'][i]"
      ]
    },
    {
      "cell_type": "code",
      "execution_count": null,
      "metadata": {
        "execution": {
          "iopub.execute_input": "2022-05-05T10:05:48.714897Z",
          "iopub.status.busy": "2022-05-05T10:05:48.714464Z",
          "iopub.status.idle": "2022-05-05T10:05:48.725654Z",
          "shell.execute_reply": "2022-05-05T10:05:48.724109Z",
          "shell.execute_reply.started": "2022-05-05T10:05:48.714835Z"
        },
        "id": "cTk68vj3vXPA",
        "trusted": true
      },
      "outputs": [],
      "source": [
        "data[\"our rating\"] = np.where(data[\"our rating\"] == \"partially false\", 2, data[\"our rating\"])\n",
        "data[\"our rating\"] = np.where(data[\"our rating\"] == \"false\", 1, data[\"our rating\"])\n",
        "data[\"our rating\"] = np.where(data[\"our rating\"] == \"true\", 0, data[\"our rating\"])\n",
        "data[\"our rating\"] = np.where(data[\"our rating\"] == \"other\", 3, data[\"our rating\"])"
      ]
    },
    {
      "cell_type": "code",
      "execution_count": null,
      "metadata": {
        "colab": {
          "base_uri": "https://localhost:8080/",
          "height": 206
        },
        "execution": {
          "iopub.execute_input": "2022-05-05T10:05:48.728863Z",
          "iopub.status.busy": "2022-05-05T10:05:48.727663Z",
          "iopub.status.idle": "2022-05-05T10:05:48.748187Z",
          "shell.execute_reply": "2022-05-05T10:05:48.746968Z",
          "shell.execute_reply.started": "2022-05-05T10:05:48.728816Z"
        },
        "id": "G5bTK4xwvXPB",
        "outputId": "a42fa106-292c-4033-e52d-d8058e254f26",
        "trusted": true
      },
      "outputs": [
        {
          "data": {
            "text/html": [
              "\n",
              "  <div id=\"df-f3aa2869-75f0-4598-b59f-fca036d7267d\">\n",
              "    <div class=\"colab-df-container\">\n",
              "      <div>\n",
              "<style scoped>\n",
              "    .dataframe tbody tr th:only-of-type {\n",
              "        vertical-align: middle;\n",
              "    }\n",
              "\n",
              "    .dataframe tbody tr th {\n",
              "        vertical-align: top;\n",
              "    }\n",
              "\n",
              "    .dataframe thead th {\n",
              "        text-align: right;\n",
              "    }\n",
              "</style>\n",
              "<table border=\"1\" class=\"dataframe\">\n",
              "  <thead>\n",
              "    <tr style=\"text-align: right;\">\n",
              "      <th></th>\n",
              "      <th>public_id</th>\n",
              "      <th>text</th>\n",
              "      <th>title</th>\n",
              "      <th>our rating</th>\n",
              "    </tr>\n",
              "  </thead>\n",
              "  <tbody>\n",
              "    <tr>\n",
              "      <th>0</th>\n",
              "      <td>1145ea7c</td>\n",
              "      <td>u military official worked ensure president tr...</td>\n",
              "      <td>texas state senate – senator paul bettencourt ...</td>\n",
              "      <td>0</td>\n",
              "    </tr>\n",
              "    <tr>\n",
              "      <th>1</th>\n",
              "      <td>2d06d27c</td>\n",
              "      <td>2500strong border coastguard corp could see ar...</td>\n",
              "      <td>eu army protect border</td>\n",
              "      <td>1</td>\n",
              "    </tr>\n",
              "    <tr>\n",
              "      <th>2</th>\n",
              "      <td>65d9521c</td>\n",
              "      <td>federal government asked school administrator ...</td>\n",
              "      <td>emmett till’s memorial sign shot 35 day replaced</td>\n",
              "      <td>1</td>\n",
              "    </tr>\n",
              "    <tr>\n",
              "      <th>3</th>\n",
              "      <td>e122d505</td>\n",
              "      <td>extremely hot day temperature soar 95 degree f...</td>\n",
              "      <td>95degree day extreme heat could spread across ...</td>\n",
              "      <td>0</td>\n",
              "    </tr>\n",
              "    <tr>\n",
              "      <th>4</th>\n",
              "      <td>ad091373</td>\n",
              "      <td>repthierry shawn gov abbott grant sen kolkhors...</td>\n",
              "      <td>texas house representative</td>\n",
              "      <td>2</td>\n",
              "    </tr>\n",
              "  </tbody>\n",
              "</table>\n",
              "</div>\n",
              "      <button class=\"colab-df-convert\" onclick=\"convertToInteractive('df-f3aa2869-75f0-4598-b59f-fca036d7267d')\"\n",
              "              title=\"Convert this dataframe to an interactive table.\"\n",
              "              style=\"display:none;\">\n",
              "        \n",
              "  <svg xmlns=\"http://www.w3.org/2000/svg\" height=\"24px\"viewBox=\"0 0 24 24\"\n",
              "       width=\"24px\">\n",
              "    <path d=\"M0 0h24v24H0V0z\" fill=\"none\"/>\n",
              "    <path d=\"M18.56 5.44l.94 2.06.94-2.06 2.06-.94-2.06-.94-.94-2.06-.94 2.06-2.06.94zm-11 1L8.5 8.5l.94-2.06 2.06-.94-2.06-.94L8.5 2.5l-.94 2.06-2.06.94zm10 10l.94 2.06.94-2.06 2.06-.94-2.06-.94-.94-2.06-.94 2.06-2.06.94z\"/><path d=\"M17.41 7.96l-1.37-1.37c-.4-.4-.92-.59-1.43-.59-.52 0-1.04.2-1.43.59L10.3 9.45l-7.72 7.72c-.78.78-.78 2.05 0 2.83L4 21.41c.39.39.9.59 1.41.59.51 0 1.02-.2 1.41-.59l7.78-7.78 2.81-2.81c.8-.78.8-2.07 0-2.86zM5.41 20L4 18.59l7.72-7.72 1.47 1.35L5.41 20z\"/>\n",
              "  </svg>\n",
              "      </button>\n",
              "      \n",
              "  <style>\n",
              "    .colab-df-container {\n",
              "      display:flex;\n",
              "      flex-wrap:wrap;\n",
              "      gap: 12px;\n",
              "    }\n",
              "\n",
              "    .colab-df-convert {\n",
              "      background-color: #E8F0FE;\n",
              "      border: none;\n",
              "      border-radius: 50%;\n",
              "      cursor: pointer;\n",
              "      display: none;\n",
              "      fill: #1967D2;\n",
              "      height: 32px;\n",
              "      padding: 0 0 0 0;\n",
              "      width: 32px;\n",
              "    }\n",
              "\n",
              "    .colab-df-convert:hover {\n",
              "      background-color: #E2EBFA;\n",
              "      box-shadow: 0px 1px 2px rgba(60, 64, 67, 0.3), 0px 1px 3px 1px rgba(60, 64, 67, 0.15);\n",
              "      fill: #174EA6;\n",
              "    }\n",
              "\n",
              "    [theme=dark] .colab-df-convert {\n",
              "      background-color: #3B4455;\n",
              "      fill: #D2E3FC;\n",
              "    }\n",
              "\n",
              "    [theme=dark] .colab-df-convert:hover {\n",
              "      background-color: #434B5C;\n",
              "      box-shadow: 0px 1px 3px 1px rgba(0, 0, 0, 0.15);\n",
              "      filter: drop-shadow(0px 1px 2px rgba(0, 0, 0, 0.3));\n",
              "      fill: #FFFFFF;\n",
              "    }\n",
              "  </style>\n",
              "\n",
              "      <script>\n",
              "        const buttonEl =\n",
              "          document.querySelector('#df-f3aa2869-75f0-4598-b59f-fca036d7267d button.colab-df-convert');\n",
              "        buttonEl.style.display =\n",
              "          google.colab.kernel.accessAllowed ? 'block' : 'none';\n",
              "\n",
              "        async function convertToInteractive(key) {\n",
              "          const element = document.querySelector('#df-f3aa2869-75f0-4598-b59f-fca036d7267d');\n",
              "          const dataTable =\n",
              "            await google.colab.kernel.invokeFunction('convertToInteractive',\n",
              "                                                     [key], {});\n",
              "          if (!dataTable) return;\n",
              "\n",
              "          const docLinkHtml = 'Like what you see? Visit the ' +\n",
              "            '<a target=\"_blank\" href=https://colab.research.google.com/notebooks/data_table.ipynb>data table notebook</a>'\n",
              "            + ' to learn more about interactive tables.';\n",
              "          element.innerHTML = '';\n",
              "          dataTable['output_type'] = 'display_data';\n",
              "          await google.colab.output.renderOutput(dataTable, element);\n",
              "          const docLink = document.createElement('div');\n",
              "          docLink.innerHTML = docLinkHtml;\n",
              "          element.appendChild(docLink);\n",
              "        }\n",
              "      </script>\n",
              "    </div>\n",
              "  </div>\n",
              "  "
            ],
            "text/plain": [
              "  public_id                                               text  \\\n",
              "0  1145ea7c  u military official worked ensure president tr...   \n",
              "1  2d06d27c  2500strong border coastguard corp could see ar...   \n",
              "2  65d9521c  federal government asked school administrator ...   \n",
              "3  e122d505  extremely hot day temperature soar 95 degree f...   \n",
              "4  ad091373  repthierry shawn gov abbott grant sen kolkhors...   \n",
              "\n",
              "                                               title our rating  \n",
              "0  texas state senate – senator paul bettencourt ...          0  \n",
              "1                             eu army protect border          1  \n",
              "2   emmett till’s memorial sign shot 35 day replaced          1  \n",
              "3  95degree day extreme heat could spread across ...          0  \n",
              "4                         texas house representative          2  "
            ]
          },
          "execution_count": 119,
          "metadata": {},
          "output_type": "execute_result"
        }
      ],
      "source": [
        "data.head()"
      ]
    },
    {
      "cell_type": "code",
      "execution_count": null,
      "metadata": {
        "execution": {
          "iopub.execute_input": "2022-05-05T10:05:48.774713Z",
          "iopub.status.busy": "2022-05-05T10:05:48.774180Z",
          "iopub.status.idle": "2022-05-05T10:05:48.782937Z",
          "shell.execute_reply": "2022-05-05T10:05:48.781957Z",
          "shell.execute_reply.started": "2022-05-05T10:05:48.774670Z"
        },
        "id": "R7gJXeXHvXPB",
        "trusted": true
      },
      "outputs": [],
      "source": [
        "list_classes = [\"true\", \"false\", \"partially false\", \"other\"]"
      ]
    },
    {
      "cell_type": "code",
      "execution_count": null,
      "metadata": {
        "execution": {
          "iopub.execute_input": "2022-05-05T10:05:48.785191Z",
          "iopub.status.busy": "2022-05-05T10:05:48.784912Z",
          "iopub.status.idle": "2022-05-05T10:05:48.796187Z",
          "shell.execute_reply": "2022-05-05T10:05:48.795180Z",
          "shell.execute_reply.started": "2022-05-05T10:05:48.785149Z"
        },
        "id": "aqJWxCc3vXPB",
        "trusted": true
      },
      "outputs": [],
      "source": [
        "# get label\n",
        "X=data.drop(['our rating'],axis=1)\n",
        "y=data['our rating'].values"
      ]
    },
    {
      "cell_type": "code",
      "execution_count": null,
      "metadata": {
        "execution": {
          "iopub.execute_input": "2022-05-05T10:05:48.800138Z",
          "iopub.status.busy": "2022-05-05T10:05:48.799884Z",
          "iopub.status.idle": "2022-05-05T10:05:48.813666Z",
          "shell.execute_reply": "2022-05-05T10:05:48.812580Z",
          "shell.execute_reply.started": "2022-05-05T10:05:48.800097Z"
        },
        "id": "pMLygM2GvXPB",
        "trusted": true
      },
      "outputs": [],
      "source": [
        "# from sklearn.model_selection import train_test_split\n",
        "# X_train, X_test, y_train, y_test = train_test_split(X,y, test_size=0.2,shuffle=True, random_state=42,stratify=y)"
      ]
    },
    {
      "cell_type": "code",
      "execution_count": null,
      "metadata": {
        "execution": {
          "iopub.execute_input": "2022-05-05T10:05:48.815909Z",
          "iopub.status.busy": "2022-05-05T10:05:48.815461Z",
          "iopub.status.idle": "2022-05-05T10:05:48.825152Z",
          "shell.execute_reply": "2022-05-05T10:05:48.823965Z",
          "shell.execute_reply.started": "2022-05-05T10:05:48.815812Z"
        },
        "id": "PbU1FZjDvXPC",
        "trusted": true
      },
      "outputs": [],
      "source": [
        "X_train_text=X['text'].values\n",
        "X_train_title=X['title'].values\n",
        "y_train=tf.keras.utils.to_categorical(y)\n",
        "X_test_text=test['text'].values\n",
        "X_test_title=test['title'].values\n"
      ]
    },
    {
      "cell_type": "code",
      "execution_count": null,
      "metadata": {
        "execution": {
          "iopub.execute_input": "2022-05-05T10:05:48.827598Z",
          "iopub.status.busy": "2022-05-05T10:05:48.826608Z",
          "iopub.status.idle": "2022-05-05T10:05:48.834846Z",
          "shell.execute_reply": "2022-05-05T10:05:48.833613Z",
          "shell.execute_reply.started": "2022-05-05T10:05:48.827553Z"
        },
        "id": "zzIeBKPpvXPC",
        "trusted": true
      },
      "outputs": [],
      "source": [
        "# X_test_text=X_test['text'].values\n",
        "# X_test_title=X_test['title'].values"
      ]
    },
    {
      "cell_type": "code",
      "execution_count": null,
      "metadata": {
        "id": "opSucAPHvXPC"
      },
      "outputs": [],
      "source": []
    },
    {
      "cell_type": "code",
      "execution_count": null,
      "metadata": {
        "execution": {
          "iopub.execute_input": "2022-05-05T10:05:48.837581Z",
          "iopub.status.busy": "2022-05-05T10:05:48.836884Z",
          "iopub.status.idle": "2022-05-05T10:05:51.169791Z",
          "shell.execute_reply": "2022-05-05T10:05:51.168791Z",
          "shell.execute_reply.started": "2022-05-05T10:05:48.837535Z"
        },
        "id": "lULB6OMAvXPC",
        "trusted": true
      },
      "outputs": [],
      "source": [
        "#transformers\n",
        "from transformers import BertTokenizerFast\n",
        "from transformers import TFBertModel,TFAutoModel\n",
        "from transformers import RobertaTokenizerFast\n",
        "from transformers import TFRobertaModel     "
      ]
    },
    {
      "cell_type": "code",
      "execution_count": null,
      "metadata": {
        "execution": {
          "iopub.execute_input": "2022-05-05T10:05:51.173542Z",
          "iopub.status.busy": "2022-05-05T10:05:51.172755Z",
          "iopub.status.idle": "2022-05-05T10:05:57.097187Z",
          "shell.execute_reply": "2022-05-05T10:05:57.096058Z",
          "shell.execute_reply.started": "2022-05-05T10:05:51.173481Z"
        },
        "id": "eT30L5kMvXPC",
        "trusted": true
      },
      "outputs": [],
      "source": [
        "tokenizer =BertTokenizerFast.from_pretrained('bert-base-uncased')"
      ]
    },
    {
      "cell_type": "code",
      "execution_count": null,
      "metadata": {
        "execution": {
          "iopub.execute_input": "2022-05-05T10:17:35.541255Z",
          "iopub.status.busy": "2022-05-05T10:17:35.540346Z",
          "iopub.status.idle": "2022-05-05T10:17:35.546259Z",
          "shell.execute_reply": "2022-05-05T10:17:35.545038Z",
          "shell.execute_reply.started": "2022-05-05T10:17:35.541217Z"
        },
        "id": "q-JB_rkavXPC",
        "trusted": true
      },
      "outputs": [],
      "source": [
        "MAX_LEN=128"
      ]
    },
    {
      "cell_type": "code",
      "execution_count": null,
      "metadata": {
        "execution": {
          "iopub.execute_input": "2022-05-05T10:14:00.877014Z",
          "iopub.status.busy": "2022-05-05T10:14:00.876681Z",
          "iopub.status.idle": "2022-05-05T10:14:00.885257Z",
          "shell.execute_reply": "2022-05-05T10:14:00.883575Z",
          "shell.execute_reply.started": "2022-05-05T10:14:00.876984Z"
        },
        "id": "I1pPx57RvXPD",
        "trusted": true
      },
      "outputs": [],
      "source": [
        "def tokenize(data,max_len=MAX_LEN) :\n",
        "    input_ids = []\n",
        "    attention_masks = []\n",
        "    for i in range(len(data)):\n",
        "        encoded = tokenizer.encode_plus(\n",
        "            data[i],\n",
        "            add_special_tokens=True,\n",
        "            max_length=MAX_LEN,\n",
        "            padding='max_length',\n",
        "            pad_to_max_length = True,\n",
        "            return_attention_mask=True,\n",
        "            truncation=True\n",
        "        )\n",
        "        input_ids.append(encoded['input_ids'])\n",
        "        attention_masks.append(encoded['attention_mask'])\n",
        "    return np.array(input_ids),np.array(attention_masks)"
      ]
    },
    {
      "cell_type": "code",
      "execution_count": null,
      "metadata": {
        "execution": {
          "iopub.execute_input": "2022-05-05T10:17:38.433813Z",
          "iopub.status.busy": "2022-05-05T10:17:38.432993Z",
          "iopub.status.idle": "2022-05-05T10:17:43.626305Z",
          "shell.execute_reply": "2022-05-05T10:17:43.625080Z",
          "shell.execute_reply.started": "2022-05-05T10:17:38.433766Z"
        },
        "id": "WkTmrOPevXPD",
        "trusted": true
      },
      "outputs": [],
      "source": [
        "title_input_ids, title_attention_masks = tokenize(X_train_title, MAX_LEN)\n",
        "text_input_ids, text_attention_masks = tokenize(X_train_text, MAX_LEN)\n",
        "title_input_test, title_attention_test = tokenize(X_test_title, MAX_LEN)\n",
        "text_input_test, text_attention_test = tokenize(X_test_text, MAX_LEN)"
      ]
    },
    {
      "cell_type": "code",
      "execution_count": null,
      "metadata": {
        "colab": {
          "base_uri": "https://localhost:8080/"
        },
        "execution": {
          "iopub.execute_input": "2022-05-05T10:16:50.739570Z",
          "iopub.status.busy": "2022-05-05T10:16:50.738854Z",
          "iopub.status.idle": "2022-05-05T10:16:55.934342Z",
          "shell.execute_reply": "2022-05-05T10:16:55.933147Z",
          "shell.execute_reply.started": "2022-05-05T10:16:50.739536Z"
        },
        "id": "296zC5hivXPD",
        "outputId": "4eb98273-2ec6-4d23-b2a5-7f50e7937188",
        "trusted": true
      },
      "outputs": [
        {
          "name": "stderr",
          "output_type": "stream",
          "text": [
            "Some layers from the model checkpoint at bert-base-uncased were not used when initializing TFBertModel: ['mlm___cls', 'nsp___cls']\n",
            "- This IS expected if you are initializing TFBertModel from the checkpoint of a model trained on another task or with another architecture (e.g. initializing a BertForSequenceClassification model from a BertForPreTraining model).\n",
            "- This IS NOT expected if you are initializing TFBertModel from the checkpoint of a model that you expect to be exactly identical (initializing a BertForSequenceClassification model from a BertForSequenceClassification model).\n",
            "All the layers of TFBertModel were initialized from the model checkpoint at bert-base-uncased.\n",
            "If your task is similar to the task the model of the checkpoint was trained on, you can already use TFBertModel for predictions without further training.\n",
            "Some layers from the model checkpoint at bert-base-uncased were not used when initializing TFBertModel: ['mlm___cls', 'nsp___cls']\n",
            "- This IS expected if you are initializing TFBertModel from the checkpoint of a model trained on another task or with another architecture (e.g. initializing a BertForSequenceClassification model from a BertForPreTraining model).\n",
            "- This IS NOT expected if you are initializing TFBertModel from the checkpoint of a model that you expect to be exactly identical (initializing a BertForSequenceClassification model from a BertForSequenceClassification model).\n",
            "All the layers of TFBertModel were initialized from the model checkpoint at bert-base-uncased.\n",
            "If your task is similar to the task the model of the checkpoint was trained on, you can already use TFBertModel for predictions without further training.\n"
          ]
        }
      ],
      "source": [
        "roberta_model = TFBertModel.from_pretrained('bert-base-uncased')\n",
        "roberta_model2 = TFBertModel.from_pretrained('bert-base-uncased')"
      ]
    },
    {
      "cell_type": "code",
      "execution_count": null,
      "metadata": {
        "execution": {
          "iopub.execute_input": "2022-05-05T10:06:31.205702Z",
          "iopub.status.busy": "2022-05-05T10:06:31.205445Z",
          "iopub.status.idle": "2022-05-05T10:06:31.226043Z",
          "shell.execute_reply": "2022-05-05T10:06:31.224242Z",
          "shell.execute_reply.started": "2022-05-05T10:06:31.205650Z"
        },
        "id": "synDB1GUvXPD",
        "trusted": true
      },
      "outputs": [],
      "source": [
        "import tensorflow as tf"
      ]
    },
    {
      "cell_type": "code",
      "execution_count": null,
      "metadata": {
        "execution": {
          "iopub.execute_input": "2022-05-05T10:06:31.228680Z",
          "iopub.status.busy": "2022-05-05T10:06:31.228135Z",
          "iopub.status.idle": "2022-05-05T10:06:32.409403Z",
          "shell.execute_reply": "2022-05-05T10:06:32.408289Z",
          "shell.execute_reply.started": "2022-05-05T10:06:31.228618Z"
        },
        "id": "TvTnl2oIvXPD",
        "trusted": true
      },
      "outputs": [],
      "source": [
        "def create_model(bert_model,bert_model2,learning, max_len=MAX_LEN):\n",
        "    \n",
        "    opt = tf.keras.optimizers.Adam(learning_rate=learning)\n",
        "    input_title = tf.keras.Input(shape=(max_len,),dtype='int32')\n",
        "    attention_title = tf.keras.Input(shape=(max_len,),dtype='int32')\n",
        "    input_text=tf.keras.Input(shape=(max_len,),dtype='int32')\n",
        "    attention_text=tf.keras.Input(shape=(max_len,),dtype='int32')\n",
        "    \n",
        "    output1 = bert_model([input_title,attention_title])[0]\n",
        "    output1 = tf.keras.layers.GlobalMaxPooling1D()(output1)\n",
        "    output1 = tf.keras.layers.Dropout(0.1)(output1)\n",
        "\n",
        "    \n",
        "    \n",
        "    output2=bert_model2([input_text,attention_text])[0]\n",
        "    output2=tf.keras.layers.Bidirectional(tf.keras.layers.GRU(128, return_sequences=True, dropout=0.3))(output2)\n",
        "    #output2=tf.keras.layers.Bidirectional(tf.keras.layers.GRU(128, return_sequences=True, dropout=0.3))(output2)\n",
        "    output2 = tf.keras.layers.GlobalMaxPooling1D()(output2)\n",
        "    output2 = tf.keras.layers.Dropout(0.1)(output2)\n",
        "\n",
        "    ensembled= concatenate([output1,output2],axis=-1) \n",
        "    \n",
        "    output = tf.keras.layers.Dense(4, activation='softmax')(ensembled)\n",
        "    model = tf.keras.models.Model(inputs = ([input_title,attention_title],[input_text,attention_text]),outputs = output)\n",
        "    model.compile(opt,loss='binary_crossentropy',metrics=['accuracy'])\n",
        "    return model"
      ]
    },
    {
      "cell_type": "code",
      "execution_count": null,
      "metadata": {
        "colab": {
          "base_uri": "https://localhost:8080/"
        },
        "execution": {
          "iopub.execute_input": "2022-05-05T10:18:02.971323Z",
          "iopub.status.busy": "2022-05-05T10:18:02.970974Z",
          "iopub.status.idle": "2022-05-05T10:18:02.980091Z",
          "shell.execute_reply": "2022-05-05T10:18:02.978804Z",
          "shell.execute_reply.started": "2022-05-05T10:18:02.971293Z"
        },
        "id": "62SP7B99vXPD",
        "outputId": "6e566943-4fc6-4193-b9df-4aacd4c28d3e",
        "trusted": true
      },
      "outputs": [
        {
          "name": "stdout",
          "output_type": "stream",
          "text": [
            "128\n"
          ]
        }
      ],
      "source": [
        "print(MAX_LEN)"
      ]
    },
    {
      "cell_type": "code",
      "execution_count": null,
      "metadata": {
        "colab": {
          "base_uri": "https://localhost:8080/"
        },
        "execution": {
          "iopub.execute_input": "2022-05-05T10:18:04.890729Z",
          "iopub.status.busy": "2022-05-05T10:18:04.890163Z",
          "iopub.status.idle": "2022-05-05T10:18:09.064529Z",
          "shell.execute_reply": "2022-05-05T10:18:09.063572Z",
          "shell.execute_reply.started": "2022-05-05T10:18:04.890697Z"
        },
        "id": "i1EYop_yvXPD",
        "outputId": "e0e92b29-2b81-4f4d-db7b-e4b59df0f2e9",
        "trusted": true
      },
      "outputs": [
        {
          "name": "stdout",
          "output_type": "stream",
          "text": [
            "Model: \"model_1\"\n",
            "__________________________________________________________________________________________________\n",
            " Layer (type)                   Output Shape         Param #     Connected to                     \n",
            "==================================================================================================\n",
            " input_11 (InputLayer)          [(None, 128)]        0           []                               \n",
            "                                                                                                  \n",
            " input_12 (InputLayer)          [(None, 128)]        0           []                               \n",
            "                                                                                                  \n",
            " input_9 (InputLayer)           [(None, 128)]        0           []                               \n",
            "                                                                                                  \n",
            " input_10 (InputLayer)          [(None, 128)]        0           []                               \n",
            "                                                                                                  \n",
            " tf_bert_model_5 (TFBertModel)  TFBaseModelOutputWi  109482240   ['input_11[0][0]',               \n",
            "                                thPoolingAndCrossAt               'input_12[0][0]']               \n",
            "                                tentions(last_hidde                                               \n",
            "                                n_state=(None, 128,                                               \n",
            "                                 768),                                                            \n",
            "                                 pooler_output=(Non                                               \n",
            "                                e, 768),                                                          \n",
            "                                 past_key_values=No                                               \n",
            "                                ne, hidden_states=N                                               \n",
            "                                one, attentions=Non                                               \n",
            "                                e, cross_attentions                                               \n",
            "                                =None)                                                            \n",
            "                                                                                                  \n",
            " tf_bert_model_4 (TFBertModel)  TFBaseModelOutputWi  109482240   ['input_9[0][0]',                \n",
            "                                thPoolingAndCrossAt               'input_10[0][0]']               \n",
            "                                tentions(last_hidde                                               \n",
            "                                n_state=(None, 128,                                               \n",
            "                                 768),                                                            \n",
            "                                 pooler_output=(Non                                               \n",
            "                                e, 768),                                                          \n",
            "                                 past_key_values=No                                               \n",
            "                                ne, hidden_states=N                                               \n",
            "                                one, attentions=Non                                               \n",
            "                                e, cross_attentions                                               \n",
            "                                =None)                                                            \n",
            "                                                                                                  \n",
            " bidirectional_1 (Bidirectional  (None, 128, 256)    689664      ['tf_bert_model_5[0][0]']        \n",
            " )                                                                                                \n",
            "                                                                                                  \n",
            " global_max_pooling1d_3 (Global  (None, 768)         0           ['tf_bert_model_4[0][0]']        \n",
            " MaxPooling1D)                                                                                    \n",
            "                                                                                                  \n",
            " global_max_pooling1d_4 (Global  (None, 256)         0           ['bidirectional_1[0][0]']        \n",
            " MaxPooling1D)                                                                                    \n",
            "                                                                                                  \n",
            " dropout_225 (Dropout)          (None, 768)          0           ['global_max_pooling1d_3[0][0]'] \n",
            "                                                                                                  \n",
            " dropout_226 (Dropout)          (None, 256)          0           ['global_max_pooling1d_4[0][0]'] \n",
            "                                                                                                  \n",
            " concatenate_1 (Concatenate)    (None, 1024)         0           ['dropout_225[0][0]',            \n",
            "                                                                  'dropout_226[0][0]']            \n",
            "                                                                                                  \n",
            " dense_1 (Dense)                (None, 4)            4100        ['concatenate_1[0][0]']          \n",
            "                                                                                                  \n",
            "==================================================================================================\n",
            "Total params: 219,658,244\n",
            "Trainable params: 219,658,244\n",
            "Non-trainable params: 0\n",
            "__________________________________________________________________________________________________\n"
          ]
        }
      ],
      "source": [
        "model = create_model(roberta_model,roberta_model2,2e-5,MAX_LEN)\n",
        "model.summary()"
      ]
    },
    {
      "cell_type": "code",
      "execution_count": null,
      "metadata": {
        "colab": {
          "base_uri": "https://localhost:8080/"
        },
        "execution": {
          "iopub.execute_input": "2022-05-05T10:18:15.051690Z",
          "iopub.status.busy": "2022-05-05T10:18:15.051415Z",
          "iopub.status.idle": "2022-05-05T10:19:25.445044Z",
          "shell.execute_reply": "2022-05-05T10:19:25.443555Z",
          "shell.execute_reply.started": "2022-05-05T10:18:15.051660Z"
        },
        "id": "2lU7vVmPvXPE",
        "outputId": "ea1cd075-b57b-446d-bd22-43a620cea720",
        "trusted": true
      },
      "outputs": [
        {
          "name": "stdout",
          "output_type": "stream",
          "text": [
            "Epoch 1/10\n",
            "46/46 [==============================] - 150s 3s/step - loss: 0.5725 - accuracy: 0.4085 - val_loss: 0.4843 - val_accuracy: 0.4783\n",
            "Epoch 2/10\n",
            "46/46 [==============================] - 110s 2s/step - loss: 0.4704 - accuracy: 0.5134 - val_loss: 0.4623 - val_accuracy: 0.5613\n",
            "Epoch 3/10\n",
            "46/46 [==============================] - 110s 2s/step - loss: 0.4060 - accuracy: 0.6291 - val_loss: 0.4204 - val_accuracy: 0.6324\n",
            "Epoch 4/10\n",
            "46/46 [==============================] - 110s 2s/step - loss: 0.3303 - accuracy: 0.7132 - val_loss: 0.4147 - val_accuracy: 0.6640\n",
            "Epoch 5/10\n",
            "46/46 [==============================] - 110s 2s/step - loss: 0.2320 - accuracy: 0.8427 - val_loss: 0.4918 - val_accuracy: 0.5652\n",
            "Epoch 6/10\n",
            "46/46 [==============================] - 109s 2s/step - loss: 0.1608 - accuracy: 0.9100 - val_loss: 0.5215 - val_accuracy: 0.5850\n",
            "Epoch 7/10\n",
            "46/46 [==============================] - 109s 2s/step - loss: 0.0908 - accuracy: 0.9693 - val_loss: 0.5891 - val_accuracy: 0.5731\n",
            "Epoch 8/10\n",
            "46/46 [==============================] - 110s 2s/step - loss: 0.0514 - accuracy: 0.9871 - val_loss: 0.5402 - val_accuracy: 0.6443\n",
            "Epoch 9/10\n",
            "46/46 [==============================] - 110s 2s/step - loss: 0.0353 - accuracy: 0.9871 - val_loss: 0.6080 - val_accuracy: 0.6047\n",
            "Epoch 10/10\n",
            "46/46 [==============================] - 109s 2s/step - loss: 0.0209 - accuracy: 0.9960 - val_loss: 0.6798 - val_accuracy: 0.6206\n"
          ]
        }
      ],
      "source": [
        "history = model.fit([[title_input_ids,title_attention_masks],[text_input_ids,text_attention_masks]], y_train, validation_split=0.2, epochs=10, batch_size=22)"
      ]
    },
    {
      "cell_type": "code",
      "execution_count": null,
      "metadata": {
        "execution": {
          "iopub.execute_input": "2022-05-05T10:12:54.432450Z",
          "iopub.status.busy": "2022-05-05T10:12:54.432048Z",
          "iopub.status.idle": "2022-05-05T10:12:56.988951Z",
          "shell.execute_reply": "2022-05-05T10:12:56.988002Z",
          "shell.execute_reply.started": "2022-05-05T10:12:54.432419Z"
        },
        "id": "2pJ0JNndvXPE",
        "trusted": true
      },
      "outputs": [],
      "source": [
        "y_preds=model.predict([[title_input_test,title_attention_test],[text_input_test,text_attention_test]])"
      ]
    },
    {
      "cell_type": "code",
      "execution_count": null,
      "metadata": {
        "colab": {
          "base_uri": "https://localhost:8080/"
        },
        "execution": {
          "iopub.execute_input": "2022-05-05T10:12:58.151506Z",
          "iopub.status.busy": "2022-05-05T10:12:58.151189Z",
          "iopub.status.idle": "2022-05-05T10:12:58.159429Z",
          "shell.execute_reply": "2022-05-05T10:12:58.158060Z",
          "shell.execute_reply.started": "2022-05-05T10:12:58.151473Z"
        },
        "id": "FqmBRgANvXPE",
        "outputId": "f75d60bc-d284-4a25-fb81-6a9e41eb7c72",
        "trusted": true
      },
      "outputs": [
        {
          "data": {
            "text/plain": [
              "array([[1.1325876e-03, 9.6365666e-01, 3.4477074e-02, 7.3369074e-04],\n",
              "       [9.7382031e-02, 8.9681071e-01, 2.4251859e-03, 3.3820353e-03],\n",
              "       [1.6778566e-06, 9.9997067e-01, 3.4034470e-06, 2.4297824e-05],\n",
              "       ...,\n",
              "       [2.9199253e-04, 2.0485257e-01, 7.9354930e-01, 1.3061025e-03],\n",
              "       [1.1509000e-04, 9.4440156e-01, 1.0715559e-02, 4.4767801e-02],\n",
              "       [2.2966424e-02, 7.2681558e-01, 2.3163341e-01, 1.8584583e-02]],\n",
              "      dtype=float32)"
            ]
          },
          "execution_count": 139,
          "metadata": {},
          "output_type": "execute_result"
        }
      ],
      "source": [
        "y_preds"
      ]
    },
    {
      "cell_type": "code",
      "execution_count": null,
      "metadata": {
        "execution": {
          "iopub.execute_input": "2022-05-05T10:12:59.850774Z",
          "iopub.status.busy": "2022-05-05T10:12:59.849929Z",
          "iopub.status.idle": "2022-05-05T10:12:59.855882Z",
          "shell.execute_reply": "2022-05-05T10:12:59.854658Z",
          "shell.execute_reply.started": "2022-05-05T10:12:59.850742Z"
        },
        "id": "9tKPOQiFvXPE",
        "trusted": true
      },
      "outputs": [],
      "source": [
        "y_preds=np.argmax(y_preds,axis=1)"
      ]
    },
    {
      "cell_type": "code",
      "execution_count": null,
      "metadata": {
        "colab": {
          "base_uri": "https://localhost:8080/"
        },
        "id": "66kweGlJo1Yw",
        "outputId": "25006035-e0b2-4c05-c85e-70a74cd31b63"
      },
      "outputs": [
        {
          "data": {
            "text/plain": [
              "array([1, 1, 1, 1, 1, 0, 0, 0, 1, 1, 1, 1, 3, 3, 1, 1, 1, 3, 1, 1, 1, 0,\n",
              "       1, 2, 2, 1, 1, 0, 0, 0, 0, 0, 0, 2, 1, 0, 0, 0, 1, 1, 1, 2, 2, 2,\n",
              "       1, 1, 0, 2, 2, 0, 1, 2, 2, 3, 3, 0, 2, 2, 2, 1, 3, 0, 1, 1, 2, 1,\n",
              "       0, 1, 2, 1, 1, 2, 2, 0, 1, 2, 0, 1, 0, 2, 0, 0, 1, 2, 0, 2, 1, 2,\n",
              "       2, 1, 0, 0, 1, 1, 1, 2, 1, 0, 1, 0, 1, 1, 1, 1, 1, 1, 0, 1, 1, 1,\n",
              "       2, 1, 1, 1, 1, 1, 1, 1, 1, 1, 1, 1, 1, 1, 1, 1, 1, 1, 1, 1, 1, 1,\n",
              "       1, 1, 1, 1, 1, 1, 1, 1, 1, 1, 1, 1, 1, 1, 1, 1, 1, 1, 1, 1, 1, 1,\n",
              "       1, 1, 1, 1, 1, 0, 1, 1, 1, 1, 1, 1, 1, 1, 0, 1, 1, 1, 1, 1, 1, 1,\n",
              "       1, 1, 1, 1, 1, 1, 1, 1, 1, 1, 1, 1, 1, 1, 1, 1, 1, 1, 1, 3, 1, 1,\n",
              "       1, 1, 1, 1, 1, 1, 1, 2, 1, 1, 3, 1, 1, 1, 1, 1, 1, 1, 1, 0, 2, 2,\n",
              "       1, 0, 0, 0, 0, 2, 0, 0, 0, 1, 2, 0, 2, 2, 0, 0, 2, 1, 0, 0, 2, 0,\n",
              "       1, 2, 0, 1, 0, 0, 0, 2, 2, 0, 1, 2, 2, 2, 2, 2, 1, 3, 1, 0, 1, 1,\n",
              "       1, 0, 0, 2, 2, 0, 1, 0, 0, 2, 2, 2, 1, 1, 2, 0, 1, 0, 0, 2, 1, 1,\n",
              "       3, 0, 1, 1, 1, 1, 1, 1, 3, 1, 2, 1, 0, 1, 0, 1, 2, 2, 1, 1, 1, 1,\n",
              "       2, 1, 2, 1, 1, 2, 1, 1, 1, 1, 1, 2, 1, 1, 0, 0, 0, 1, 1, 2, 1, 1,\n",
              "       1, 1, 1, 1, 1, 0, 1, 1, 1, 1, 1, 1, 1, 1, 1, 1, 1, 0, 1, 1, 1, 1,\n",
              "       1, 1, 1, 1, 1, 1, 1, 1, 1, 1, 1, 1, 1, 1, 0, 1, 1, 1, 1, 1, 1, 1,\n",
              "       1, 1, 1, 1, 1, 1, 1, 1, 1, 1, 1, 1, 3, 1, 1, 1, 1, 1, 1, 1, 1, 1,\n",
              "       1, 1, 1, 1, 1, 1, 1, 1, 1, 1, 1, 1, 1, 1, 1, 1, 1, 1, 1, 1, 1, 1,\n",
              "       1, 1, 1, 1, 1, 1, 1, 1, 1, 1, 1, 1, 1, 1, 1, 1, 2, 1, 1, 2, 1, 1,\n",
              "       1, 1, 1, 1, 1, 0, 1, 1, 1, 1, 1, 1, 0, 1, 1, 2, 1, 0, 2, 2, 0, 0,\n",
              "       0, 1, 0, 0, 1, 1, 2, 0, 0, 1, 0, 1, 0, 0, 3, 0, 3, 1, 0, 1, 0, 1,\n",
              "       1, 1, 1, 2, 1, 0, 1, 0, 0, 1, 1, 1, 2, 1, 1, 1, 1, 2, 1, 2, 1, 2,\n",
              "       1, 1, 0, 1, 0, 2, 3, 0, 1, 1, 0, 1, 3, 1, 1, 2, 1, 1, 0, 1, 0, 2,\n",
              "       1, 1, 1, 1, 2, 2, 1, 2, 2, 1, 1, 3, 1, 0, 1, 1, 1, 1, 2, 3, 1, 1,\n",
              "       1, 3, 1, 0, 1, 1, 1, 1, 1, 1, 1, 1, 1, 0, 1, 1, 1, 2, 1, 1, 1, 1,\n",
              "       1, 1, 1, 1, 1, 1, 2, 1, 1, 1, 1, 1, 1, 2, 2, 2, 1, 1, 1, 1, 1, 1,\n",
              "       1, 1, 2, 1, 0, 1, 1, 1, 1, 0, 1, 1, 1, 1, 1, 2, 1, 1])"
            ]
          },
          "execution_count": 141,
          "metadata": {},
          "output_type": "execute_result"
        }
      ],
      "source": [
        "y_preds"
      ]
    },
    {
      "cell_type": "code",
      "execution_count": null,
      "metadata": {
        "execution": {
          "iopub.execute_input": "2022-05-05T10:13:14.391730Z",
          "iopub.status.busy": "2022-05-05T10:13:14.391321Z",
          "iopub.status.idle": "2022-05-05T10:13:14.409547Z",
          "shell.execute_reply": "2022-05-05T10:13:14.408578Z",
          "shell.execute_reply.started": "2022-05-05T10:13:14.391673Z"
        },
        "id": "TAUSAua_vXPE",
        "trusted": true
      },
      "outputs": [],
      "source": [
        "submission=pd.DataFrame(columns=['public_id','predicted_rating'])\n",
        "submission['public_id']=test['ID']\n",
        "submission['predicted_rating']=y_preds"
      ]
    },
    {
      "cell_type": "code",
      "execution_count": null,
      "metadata": {
        "id": "HGvEENiWrKc3"
      },
      "outputs": [],
      "source": [
        "submission['predicted_rating'] = np.where(submission['predicted_rating'] == '2',\"partially false\", submission['predicted_rating'])\n",
        "submission['predicted_rating'] = np.where(submission['predicted_rating'] == '1', \"false\", submission['predicted_rating'])\n",
        "submission['predicted_rating'] = np.where(submission['predicted_rating'] == '0', \"true\", submission['predicted_rating'])\n",
        "submission['predicted_rating'] = np.where(submission['predicted_rating'] == '3', \"other\", submission['predicted_rating'])"
      ]
    },
    {
      "cell_type": "code",
      "execution_count": null,
      "metadata": {
        "colab": {
          "base_uri": "https://localhost:8080/",
          "height": 206
        },
        "id": "QZJhUpY2rq9-",
        "outputId": "935083aa-d3e8-4690-a40d-ad6b1cc2e664"
      },
      "outputs": [
        {
          "data": {
            "text/html": [
              "\n",
              "  <div id=\"df-acdafdbe-4643-471d-bc63-42bc45727d55\">\n",
              "    <div class=\"colab-df-container\">\n",
              "      <div>\n",
              "<style scoped>\n",
              "    .dataframe tbody tr th:only-of-type {\n",
              "        vertical-align: middle;\n",
              "    }\n",
              "\n",
              "    .dataframe tbody tr th {\n",
              "        vertical-align: top;\n",
              "    }\n",
              "\n",
              "    .dataframe thead th {\n",
              "        text-align: right;\n",
              "    }\n",
              "</style>\n",
              "<table border=\"1\" class=\"dataframe\">\n",
              "  <thead>\n",
              "    <tr style=\"text-align: right;\">\n",
              "      <th></th>\n",
              "      <th>public_id</th>\n",
              "      <th>predicted_rating</th>\n",
              "    </tr>\n",
              "  </thead>\n",
              "  <tbody>\n",
              "    <tr>\n",
              "      <th>0</th>\n",
              "      <td>122653045997905671927713471889615536378</td>\n",
              "      <td>false</td>\n",
              "    </tr>\n",
              "    <tr>\n",
              "      <th>1</th>\n",
              "      <td>275389285957305997321446227088442471741</td>\n",
              "      <td>false</td>\n",
              "    </tr>\n",
              "    <tr>\n",
              "      <th>2</th>\n",
              "      <td>333248764296609831067233855420575814716</td>\n",
              "      <td>false</td>\n",
              "    </tr>\n",
              "    <tr>\n",
              "      <th>3</th>\n",
              "      <td>264019763253447756851916399533799891538</td>\n",
              "      <td>false</td>\n",
              "    </tr>\n",
              "    <tr>\n",
              "      <th>4</th>\n",
              "      <td>158073737187690682830899773280916034317</td>\n",
              "      <td>false</td>\n",
              "    </tr>\n",
              "  </tbody>\n",
              "</table>\n",
              "</div>\n",
              "      <button class=\"colab-df-convert\" onclick=\"convertToInteractive('df-acdafdbe-4643-471d-bc63-42bc45727d55')\"\n",
              "              title=\"Convert this dataframe to an interactive table.\"\n",
              "              style=\"display:none;\">\n",
              "        \n",
              "  <svg xmlns=\"http://www.w3.org/2000/svg\" height=\"24px\"viewBox=\"0 0 24 24\"\n",
              "       width=\"24px\">\n",
              "    <path d=\"M0 0h24v24H0V0z\" fill=\"none\"/>\n",
              "    <path d=\"M18.56 5.44l.94 2.06.94-2.06 2.06-.94-2.06-.94-.94-2.06-.94 2.06-2.06.94zm-11 1L8.5 8.5l.94-2.06 2.06-.94-2.06-.94L8.5 2.5l-.94 2.06-2.06.94zm10 10l.94 2.06.94-2.06 2.06-.94-2.06-.94-.94-2.06-.94 2.06-2.06.94z\"/><path d=\"M17.41 7.96l-1.37-1.37c-.4-.4-.92-.59-1.43-.59-.52 0-1.04.2-1.43.59L10.3 9.45l-7.72 7.72c-.78.78-.78 2.05 0 2.83L4 21.41c.39.39.9.59 1.41.59.51 0 1.02-.2 1.41-.59l7.78-7.78 2.81-2.81c.8-.78.8-2.07 0-2.86zM5.41 20L4 18.59l7.72-7.72 1.47 1.35L5.41 20z\"/>\n",
              "  </svg>\n",
              "      </button>\n",
              "      \n",
              "  <style>\n",
              "    .colab-df-container {\n",
              "      display:flex;\n",
              "      flex-wrap:wrap;\n",
              "      gap: 12px;\n",
              "    }\n",
              "\n",
              "    .colab-df-convert {\n",
              "      background-color: #E8F0FE;\n",
              "      border: none;\n",
              "      border-radius: 50%;\n",
              "      cursor: pointer;\n",
              "      display: none;\n",
              "      fill: #1967D2;\n",
              "      height: 32px;\n",
              "      padding: 0 0 0 0;\n",
              "      width: 32px;\n",
              "    }\n",
              "\n",
              "    .colab-df-convert:hover {\n",
              "      background-color: #E2EBFA;\n",
              "      box-shadow: 0px 1px 2px rgba(60, 64, 67, 0.3), 0px 1px 3px 1px rgba(60, 64, 67, 0.15);\n",
              "      fill: #174EA6;\n",
              "    }\n",
              "\n",
              "    [theme=dark] .colab-df-convert {\n",
              "      background-color: #3B4455;\n",
              "      fill: #D2E3FC;\n",
              "    }\n",
              "\n",
              "    [theme=dark] .colab-df-convert:hover {\n",
              "      background-color: #434B5C;\n",
              "      box-shadow: 0px 1px 3px 1px rgba(0, 0, 0, 0.15);\n",
              "      filter: drop-shadow(0px 1px 2px rgba(0, 0, 0, 0.3));\n",
              "      fill: #FFFFFF;\n",
              "    }\n",
              "  </style>\n",
              "\n",
              "      <script>\n",
              "        const buttonEl =\n",
              "          document.querySelector('#df-acdafdbe-4643-471d-bc63-42bc45727d55 button.colab-df-convert');\n",
              "        buttonEl.style.display =\n",
              "          google.colab.kernel.accessAllowed ? 'block' : 'none';\n",
              "\n",
              "        async function convertToInteractive(key) {\n",
              "          const element = document.querySelector('#df-acdafdbe-4643-471d-bc63-42bc45727d55');\n",
              "          const dataTable =\n",
              "            await google.colab.kernel.invokeFunction('convertToInteractive',\n",
              "                                                     [key], {});\n",
              "          if (!dataTable) return;\n",
              "\n",
              "          const docLinkHtml = 'Like what you see? Visit the ' +\n",
              "            '<a target=\"_blank\" href=https://colab.research.google.com/notebooks/data_table.ipynb>data table notebook</a>'\n",
              "            + ' to learn more about interactive tables.';\n",
              "          element.innerHTML = '';\n",
              "          dataTable['output_type'] = 'display_data';\n",
              "          await google.colab.output.renderOutput(dataTable, element);\n",
              "          const docLink = document.createElement('div');\n",
              "          docLink.innerHTML = docLinkHtml;\n",
              "          element.appendChild(docLink);\n",
              "        }\n",
              "      </script>\n",
              "    </div>\n",
              "  </div>\n",
              "  "
            ],
            "text/plain": [
              "                                 public_id predicted_rating\n",
              "0  122653045997905671927713471889615536378            false\n",
              "1  275389285957305997321446227088442471741            false\n",
              "2  333248764296609831067233855420575814716            false\n",
              "3  264019763253447756851916399533799891538            false\n",
              "4  158073737187690682830899773280916034317            false"
            ]
          },
          "execution_count": 149,
          "metadata": {},
          "output_type": "execute_result"
        }
      ],
      "source": [
        "submission.head()"
      ]
    },
    {
      "cell_type": "code",
      "execution_count": null,
      "metadata": {
        "id": "Cq-QOzkyr0_W"
      },
      "outputs": [],
      "source": [
        "submission.to_csv('subtask3_english_iCompass.tsv', sep ='\\t',index= False)"
      ]
    }
  ],
  "metadata": {
    "accelerator": "GPU",
    "colab": {
      "collapsed_sections": [],
      "name": "clef-fake-news-submission .ipynb",
      "provenance": []
    },
    "kernelspec": {
      "display_name": "Python 3",
      "language": "python",
      "name": "python3"
    },
    "language_info": {
      "codemirror_mode": {
        "name": "ipython",
        "version": 3
      },
      "file_extension": ".py",
      "mimetype": "text/x-python",
      "name": "python",
      "nbconvert_exporter": "python",
      "pygments_lexer": "ipython3",
      "version": "3.7.12"
    }
  },
  "nbformat": 4,
  "nbformat_minor": 0
}
