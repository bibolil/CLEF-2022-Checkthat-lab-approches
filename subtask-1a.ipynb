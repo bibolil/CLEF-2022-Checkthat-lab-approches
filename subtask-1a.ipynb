{
 "cells": [
  {
   "cell_type": "code",
   "execution_count": 1,
   "id": "8c91fb47",
   "metadata": {
    "_cell_guid": "b1076dfc-b9ad-4769-8c92-a6c4dae69d19",
    "_uuid": "8f2839f25d086af736a60e9eeb907d3b93b6e0e5",
    "execution": {
     "iopub.execute_input": "2022-04-20T22:57:28.191859Z",
     "iopub.status.busy": "2022-04-20T22:57:28.190370Z",
     "iopub.status.idle": "2022-04-20T22:57:32.671788Z",
     "shell.execute_reply": "2022-04-20T22:57:32.672435Z",
     "shell.execute_reply.started": "2022-04-20T22:49:43.627470Z"
    },
    "papermill": {
     "duration": 4.53718,
     "end_time": "2022-04-20T22:57:32.672754",
     "exception": false,
     "start_time": "2022-04-20T22:57:28.135574",
     "status": "completed"
    },
    "tags": []
   },
   "outputs": [
    {
     "name": "stdout",
     "output_type": "stream",
     "text": [
      "/kaggle/input/worthiness-augmented/augmented_data2.csv\n",
      "/kaggle/input/worthiness-augmented/augmented_data1.csv\n",
      "/kaggle/input/check-worthiness-2021/CT21-AR-Dev-T1-Tweets.jsonl\n",
      "/kaggle/input/check-worthiness-2021/CT21-AR-Train-T1-Labels.tsv\n",
      "/kaggle/input/check-worthiness-2021/CT21-AR-Dev-T1-Labels.tsv\n",
      "/kaggle/input/check-worthiness-2021/CT21-AR-Train-T1-Tweets.jsonl\n",
      "/kaggle/input/checkworthiness/checkworthiness/CT22_arabic_1A_checkworthy_dev_test.tsv\n",
      "/kaggle/input/checkworthiness/checkworthiness/CT22_arabic_1A_checkworthy_train.tsv\n",
      "/kaggle/input/checkworthiness/checkworthiness/CT22_arabic_1A_checkworthy_dev.tsv\n"
     ]
    }
   ],
   "source": [
    "# This Python 3 environment comes with many helpful analytics libraries installed\n",
    "# It is defined by the kaggle/python Docker image: https://github.com/kaggle/docker-python\n",
    "# For example, here's several helpful packages to load\n",
    "\n",
    "import numpy as np # linear algebra\n",
    "import pandas as pd # data processing, CSV file I/O (e.g. pd.read_csv)\n",
    "import tensorflow as tf\n",
    "# Input data files are available in the read-only \"../input/\" directory\n",
    "# For example, running this (by clicking run or pressing Shift+Enter) will list all files under the input directory\n",
    "\n",
    "import os\n",
    "for dirname, _, filenames in os.walk('/kaggle/input'):\n",
    "    for filename in filenames:\n",
    "        print(os.path.join(dirname, filename))\n",
    "\n",
    "# You can write up to 20GB to the current directory (/kaggle/working/) that gets preserved as output when you create a version using \"Save & Run All\" \n",
    "# You can also write temporary files to /kaggle/temp/, but they won't be saved outside of the current session"
   ]
  },
  {
   "cell_type": "code",
   "execution_count": 2,
   "id": "cbd7a681",
   "metadata": {
    "execution": {
     "iopub.execute_input": "2022-04-20T22:57:32.771091Z",
     "iopub.status.busy": "2022-04-20T22:57:32.770345Z",
     "iopub.status.idle": "2022-04-20T22:57:32.798300Z",
     "shell.execute_reply": "2022-04-20T22:57:32.798753Z",
     "shell.execute_reply.started": "2022-04-20T22:49:43.666417Z"
    },
    "papermill": {
     "duration": 0.07869,
     "end_time": "2022-04-20T22:57:32.798894",
     "exception": false,
     "start_time": "2022-04-20T22:57:32.720204",
     "status": "completed"
    },
    "tags": []
   },
   "outputs": [],
   "source": [
    "augmented=pd.read_csv(\"../input/worthiness-augmented/augmented_data1.csv\")"
   ]
  },
  {
   "cell_type": "code",
   "execution_count": 3,
   "id": "652f3d43",
   "metadata": {
    "execution": {
     "iopub.execute_input": "2022-04-20T22:57:32.896050Z",
     "iopub.status.busy": "2022-04-20T22:57:32.895253Z",
     "iopub.status.idle": "2022-04-20T22:57:32.897842Z",
     "shell.execute_reply": "2022-04-20T22:57:32.897290Z",
     "shell.execute_reply.started": "2022-04-20T22:49:43.714723Z"
    },
    "papermill": {
     "duration": 0.052388,
     "end_time": "2022-04-20T22:57:32.897991",
     "exception": false,
     "start_time": "2022-04-20T22:57:32.845603",
     "status": "completed"
    },
    "tags": []
   },
   "outputs": [],
   "source": [
    "def remove_unk(text):\n",
    "    return text.replace('[UNK]','')"
   ]
  },
  {
   "cell_type": "code",
   "execution_count": 4,
   "id": "dcd032d1",
   "metadata": {
    "execution": {
     "iopub.execute_input": "2022-04-20T22:57:33.000549Z",
     "iopub.status.busy": "2022-04-20T22:57:32.999873Z",
     "iopub.status.idle": "2022-04-20T22:57:33.002516Z",
     "shell.execute_reply": "2022-04-20T22:57:33.002077Z",
     "shell.execute_reply.started": "2022-04-20T22:49:43.729839Z"
    },
    "papermill": {
     "duration": 0.058091,
     "end_time": "2022-04-20T22:57:33.002634",
     "exception": false,
     "start_time": "2022-04-20T22:57:32.944543",
     "status": "completed"
    },
    "tags": []
   },
   "outputs": [],
   "source": [
    "augmented['tweet_text']=augmented['tweet_text'].apply(lambda x:remove_unk(x))"
   ]
  },
  {
   "cell_type": "code",
   "execution_count": 5,
   "id": "1a94ac05",
   "metadata": {
    "execution": {
     "iopub.execute_input": "2022-04-20T22:57:33.099313Z",
     "iopub.status.busy": "2022-04-20T22:57:33.098738Z",
     "iopub.status.idle": "2022-04-20T22:57:33.165929Z",
     "shell.execute_reply": "2022-04-20T22:57:33.165162Z",
     "shell.execute_reply.started": "2022-04-20T22:49:43.759243Z"
    },
    "papermill": {
     "duration": 0.117278,
     "end_time": "2022-04-20T22:57:33.166070",
     "exception": false,
     "start_time": "2022-04-20T22:57:33.048792",
     "status": "completed"
    },
    "tags": []
   },
   "outputs": [],
   "source": [
    "train_21=pd.read_csv(\"../input/check-worthiness-2021/CT21-AR-Train-T1-Labels.tsv\",sep='\\t')\n",
    "dev_21=pd.read_csv(\"../input/check-worthiness-2021/CT21-AR-Dev-T1-Labels.tsv\",sep='\\t')"
   ]
  },
  {
   "cell_type": "code",
   "execution_count": 6,
   "id": "79ec1814",
   "metadata": {
    "execution": {
     "iopub.execute_input": "2022-04-20T22:57:33.265349Z",
     "iopub.status.busy": "2022-04-20T22:57:33.264524Z",
     "iopub.status.idle": "2022-04-20T22:57:33.276020Z",
     "shell.execute_reply": "2022-04-20T22:57:33.276446Z",
     "shell.execute_reply.started": "2022-04-20T22:49:43.855555Z"
    },
    "papermill": {
     "duration": 0.063499,
     "end_time": "2022-04-20T22:57:33.276584",
     "exception": false,
     "start_time": "2022-04-20T22:57:33.213085",
     "status": "completed"
    },
    "tags": []
   },
   "outputs": [
    {
     "data": {
      "text/html": [
       "<div>\n",
       "<style scoped>\n",
       "    .dataframe tbody tr th:only-of-type {\n",
       "        vertical-align: middle;\n",
       "    }\n",
       "\n",
       "    .dataframe tbody tr th {\n",
       "        vertical-align: top;\n",
       "    }\n",
       "\n",
       "    .dataframe thead th {\n",
       "        text-align: right;\n",
       "    }\n",
       "</style>\n",
       "<table border=\"1\" class=\"dataframe\">\n",
       "  <thead>\n",
       "    <tr style=\"text-align: right;\">\n",
       "      <th></th>\n",
       "      <th>topic_id</th>\n",
       "      <th>tweet_id</th>\n",
       "      <th>tweet_url</th>\n",
       "      <th>tweet_text</th>\n",
       "      <th>claim</th>\n",
       "      <th>claim_worthiness</th>\n",
       "    </tr>\n",
       "  </thead>\n",
       "  <tbody>\n",
       "    <tr>\n",
       "      <th>3434</th>\n",
       "      <td>CT20-AR-30</td>\n",
       "      <td>1229511354714927105</td>\n",
       "      <td>https://twitter.com/user/status/12295113547149...</td>\n",
       "      <td>#سفيه_الدوحه_وجزيه_المرتزقه ماكسر خاطري الا حم...</td>\n",
       "      <td>0</td>\n",
       "      <td>0</td>\n",
       "    </tr>\n",
       "    <tr>\n",
       "      <th>3435</th>\n",
       "      <td>CT20-AR-30</td>\n",
       "      <td>1229512831114108934</td>\n",
       "      <td>https://twitter.com/user/status/12295128311141...</td>\n",
       "      <td>انتصار جديد لـ #قطر وصفعة قاسية لدول الحصار ال...</td>\n",
       "      <td>0</td>\n",
       "      <td>0</td>\n",
       "    </tr>\n",
       "    <tr>\n",
       "      <th>3436</th>\n",
       "      <td>CT20-AR-30</td>\n",
       "      <td>1229513572633530368</td>\n",
       "      <td>https://twitter.com/user/status/12295135726335...</td>\n",
       "      <td>@alkhor_live @ama4425 الله اكبر هذا يعتبر اكبر...</td>\n",
       "      <td>0</td>\n",
       "      <td>0</td>\n",
       "    </tr>\n",
       "    <tr>\n",
       "      <th>3437</th>\n",
       "      <td>CT20-AR-30</td>\n",
       "      <td>1229529046930903040</td>\n",
       "      <td>https://twitter.com/user/status/12295290469309...</td>\n",
       "      <td>@Alg27010 @ramlo_ramlo غير تنضحك مع راملو ... ...</td>\n",
       "      <td>0</td>\n",
       "      <td>0</td>\n",
       "    </tr>\n",
       "    <tr>\n",
       "      <th>3438</th>\n",
       "      <td>CT20-AR-30</td>\n",
       "      <td>1229539125453295619</td>\n",
       "      <td>https://twitter.com/user/status/12295391254532...</td>\n",
       "      <td>قناة العربية : رئيس النظام السوري قناة الجزيرة...</td>\n",
       "      <td>1</td>\n",
       "      <td>0</td>\n",
       "    </tr>\n",
       "  </tbody>\n",
       "</table>\n",
       "</div>"
      ],
      "text/plain": [
       "        topic_id             tweet_id  \\\n",
       "3434  CT20-AR-30  1229511354714927105   \n",
       "3435  CT20-AR-30  1229512831114108934   \n",
       "3436  CT20-AR-30  1229513572633530368   \n",
       "3437  CT20-AR-30  1229529046930903040   \n",
       "3438  CT20-AR-30  1229539125453295619   \n",
       "\n",
       "                                              tweet_url  \\\n",
       "3434  https://twitter.com/user/status/12295113547149...   \n",
       "3435  https://twitter.com/user/status/12295128311141...   \n",
       "3436  https://twitter.com/user/status/12295135726335...   \n",
       "3437  https://twitter.com/user/status/12295290469309...   \n",
       "3438  https://twitter.com/user/status/12295391254532...   \n",
       "\n",
       "                                             tweet_text  claim  \\\n",
       "3434  #سفيه_الدوحه_وجزيه_المرتزقه ماكسر خاطري الا حم...      0   \n",
       "3435  انتصار جديد لـ #قطر وصفعة قاسية لدول الحصار ال...      0   \n",
       "3436  @alkhor_live @ama4425 الله اكبر هذا يعتبر اكبر...      0   \n",
       "3437  @Alg27010 @ramlo_ramlo غير تنضحك مع راملو ... ...      0   \n",
       "3438  قناة العربية : رئيس النظام السوري قناة الجزيرة...      1   \n",
       "\n",
       "      claim_worthiness  \n",
       "3434                 0  \n",
       "3435                 0  \n",
       "3436                 0  \n",
       "3437                 0  \n",
       "3438                 0  "
      ]
     },
     "execution_count": 6,
     "metadata": {},
     "output_type": "execute_result"
    }
   ],
   "source": [
    "train_21.tail()"
   ]
  },
  {
   "cell_type": "code",
   "execution_count": 7,
   "id": "46b5bdf5",
   "metadata": {
    "execution": {
     "iopub.execute_input": "2022-04-20T22:57:33.378621Z",
     "iopub.status.busy": "2022-04-20T22:57:33.377793Z",
     "iopub.status.idle": "2022-04-20T22:57:33.379637Z",
     "shell.execute_reply": "2022-04-20T22:57:33.380052Z",
     "shell.execute_reply.started": "2022-04-20T22:49:43.885136Z"
    },
    "papermill": {
     "duration": 0.056856,
     "end_time": "2022-04-20T22:57:33.380178",
     "exception": false,
     "start_time": "2022-04-20T22:57:33.323322",
     "status": "completed"
    },
    "tags": []
   },
   "outputs": [],
   "source": [
    "train_21.rename(columns={'claim_worthiness':'class_label'},inplace=True)\n",
    "dev_21.rename(columns={'claim_worthiness':'class_label'},inplace=True)"
   ]
  },
  {
   "cell_type": "code",
   "execution_count": 8,
   "id": "747ec2f6",
   "metadata": {
    "execution": {
     "iopub.execute_input": "2022-04-20T22:57:33.481743Z",
     "iopub.status.busy": "2022-04-20T22:57:33.481080Z",
     "iopub.status.idle": "2022-04-20T22:57:33.484023Z",
     "shell.execute_reply": "2022-04-20T22:57:33.484408Z",
     "shell.execute_reply.started": "2022-04-20T22:49:43.900995Z"
    },
    "papermill": {
     "duration": 0.057957,
     "end_time": "2022-04-20T22:57:33.484568",
     "exception": false,
     "start_time": "2022-04-20T22:57:33.426611",
     "status": "completed"
    },
    "tags": []
   },
   "outputs": [],
   "source": [
    "train_21.drop(columns={'claim'},inplace=True)\n",
    "dev_21.drop(columns={'claim'},inplace=True)\n"
   ]
  },
  {
   "cell_type": "code",
   "execution_count": 9,
   "id": "e4ea18fb",
   "metadata": {
    "execution": {
     "iopub.execute_input": "2022-04-20T22:57:33.580947Z",
     "iopub.status.busy": "2022-04-20T22:57:33.580164Z",
     "iopub.status.idle": "2022-04-20T22:57:33.589859Z",
     "shell.execute_reply": "2022-04-20T22:57:33.589404Z",
     "shell.execute_reply.started": "2022-04-20T22:49:43.939318Z"
    },
    "papermill": {
     "duration": 0.058928,
     "end_time": "2022-04-20T22:57:33.589967",
     "exception": false,
     "start_time": "2022-04-20T22:57:33.531039",
     "status": "completed"
    },
    "tags": []
   },
   "outputs": [
    {
     "data": {
      "text/html": [
       "<div>\n",
       "<style scoped>\n",
       "    .dataframe tbody tr th:only-of-type {\n",
       "        vertical-align: middle;\n",
       "    }\n",
       "\n",
       "    .dataframe tbody tr th {\n",
       "        vertical-align: top;\n",
       "    }\n",
       "\n",
       "    .dataframe thead th {\n",
       "        text-align: right;\n",
       "    }\n",
       "</style>\n",
       "<table border=\"1\" class=\"dataframe\">\n",
       "  <thead>\n",
       "    <tr style=\"text-align: right;\">\n",
       "      <th></th>\n",
       "      <th>topic_id</th>\n",
       "      <th>tweet_id</th>\n",
       "      <th>tweet_url</th>\n",
       "      <th>tweet_text</th>\n",
       "      <th>class_label</th>\n",
       "    </tr>\n",
       "  </thead>\n",
       "  <tbody>\n",
       "    <tr>\n",
       "      <th>0</th>\n",
       "      <td>CT20-AR-01</td>\n",
       "      <td>1221949644554588160</td>\n",
       "      <td>https://twitter.com/user/status/12219496445545...</td>\n",
       "      <td>وأي خيانة أكبر من خيانة الدين ،، الوطن ،، الهو...</td>\n",
       "      <td>0</td>\n",
       "    </tr>\n",
       "    <tr>\n",
       "      <th>1</th>\n",
       "      <td>CT20-AR-01</td>\n",
       "      <td>1222030473385345028</td>\n",
       "      <td>https://twitter.com/user/status/12220304733853...</td>\n",
       "      <td>صباح الخير على فلسطين وقدسها وشعبها ومهجرينها ...</td>\n",
       "      <td>0</td>\n",
       "    </tr>\n",
       "    <tr>\n",
       "      <th>2</th>\n",
       "      <td>CT20-AR-01</td>\n",
       "      <td>1222035929105338368</td>\n",
       "      <td>https://twitter.com/user/status/12220359291053...</td>\n",
       "      <td>ذنبگ أنگ جميله گ يوسف وخانگ العالم گ أاخواته 💔...</td>\n",
       "      <td>0</td>\n",
       "    </tr>\n",
       "    <tr>\n",
       "      <th>3</th>\n",
       "      <td>CT20-AR-01</td>\n",
       "      <td>1222048121145962496</td>\n",
       "      <td>https://twitter.com/user/status/12220481211459...</td>\n",
       "      <td>لا يلزمك ان تكون فلسطينياً لتحب فلسطين، حُبها ...</td>\n",
       "      <td>0</td>\n",
       "    </tr>\n",
       "    <tr>\n",
       "      <th>4</th>\n",
       "      <td>CT20-AR-01</td>\n",
       "      <td>1222053294266372096</td>\n",
       "      <td>https://twitter.com/user/status/12220532942663...</td>\n",
       "      <td>#مناصرون رحل البروفسور زيك فريد فوغل . رئيس قس...</td>\n",
       "      <td>0</td>\n",
       "    </tr>\n",
       "  </tbody>\n",
       "</table>\n",
       "</div>"
      ],
      "text/plain": [
       "     topic_id             tweet_id  \\\n",
       "0  CT20-AR-01  1221949644554588160   \n",
       "1  CT20-AR-01  1222030473385345028   \n",
       "2  CT20-AR-01  1222035929105338368   \n",
       "3  CT20-AR-01  1222048121145962496   \n",
       "4  CT20-AR-01  1222053294266372096   \n",
       "\n",
       "                                           tweet_url  \\\n",
       "0  https://twitter.com/user/status/12219496445545...   \n",
       "1  https://twitter.com/user/status/12220304733853...   \n",
       "2  https://twitter.com/user/status/12220359291053...   \n",
       "3  https://twitter.com/user/status/12220481211459...   \n",
       "4  https://twitter.com/user/status/12220532942663...   \n",
       "\n",
       "                                          tweet_text  class_label  \n",
       "0  وأي خيانة أكبر من خيانة الدين ،، الوطن ،، الهو...            0  \n",
       "1  صباح الخير على فلسطين وقدسها وشعبها ومهجرينها ...            0  \n",
       "2  ذنبگ أنگ جميله گ يوسف وخانگ العالم گ أاخواته 💔...            0  \n",
       "3  لا يلزمك ان تكون فلسطينياً لتحب فلسطين، حُبها ...            0  \n",
       "4  #مناصرون رحل البروفسور زيك فريد فوغل . رئيس قس...            0  "
      ]
     },
     "execution_count": 9,
     "metadata": {},
     "output_type": "execute_result"
    }
   ],
   "source": [
    "train_21.head()"
   ]
  },
  {
   "cell_type": "code",
   "execution_count": 10,
   "id": "1e098545",
   "metadata": {
    "execution": {
     "iopub.execute_input": "2022-04-20T22:57:33.688665Z",
     "iopub.status.busy": "2022-04-20T22:57:33.688104Z",
     "iopub.status.idle": "2022-04-20T22:57:33.765709Z",
     "shell.execute_reply": "2022-04-20T22:57:33.766176Z",
     "shell.execute_reply.started": "2022-04-20T22:49:43.987556Z"
    },
    "papermill": {
     "duration": 0.129299,
     "end_time": "2022-04-20T22:57:33.766345",
     "exception": false,
     "start_time": "2022-04-20T22:57:33.637046",
     "status": "completed"
    },
    "tags": []
   },
   "outputs": [],
   "source": [
    "train=pd.read_csv('/kaggle/input/checkworthiness/checkworthiness/CT22_arabic_1A_checkworthy_train.tsv',sep='\\t')\n",
    "test=pd.read_csv('/kaggle/input/checkworthiness/checkworthiness/CT22_arabic_1A_checkworthy_dev_test.tsv',sep='\\t')\n",
    "dev=pd.read_csv('/kaggle/input/checkworthiness/checkworthiness/CT22_arabic_1A_checkworthy_dev.tsv',sep='\\t')"
   ]
  },
  {
   "cell_type": "code",
   "execution_count": 11,
   "id": "234a1480",
   "metadata": {
    "execution": {
     "iopub.execute_input": "2022-04-20T22:57:33.866729Z",
     "iopub.status.busy": "2022-04-20T22:57:33.865907Z",
     "iopub.status.idle": "2022-04-20T22:57:33.867924Z",
     "shell.execute_reply": "2022-04-20T22:57:33.868330Z",
     "shell.execute_reply.started": "2022-04-20T22:49:44.065702Z"
    },
    "papermill": {
     "duration": 0.054758,
     "end_time": "2022-04-20T22:57:33.868493",
     "exception": false,
     "start_time": "2022-04-20T22:57:33.813735",
     "status": "completed"
    },
    "tags": []
   },
   "outputs": [],
   "source": [
    "def balanced_batch(data):\n",
    "  harmful=data.loc[data[\"class_label\"]==1]\n",
    "  norm_count=int(len(harmful)*1.5)\n",
    "  normal=data.loc[data[\"class_label\"]==0].sample(n=norm_count)\n",
    "  data=harmful.append(normal).sample(frac=1).reset_index(drop=True)\n",
    "  return data"
   ]
  },
  {
   "cell_type": "code",
   "execution_count": 12,
   "id": "09b1a63f",
   "metadata": {
    "execution": {
     "iopub.execute_input": "2022-04-20T22:57:33.972063Z",
     "iopub.status.busy": "2022-04-20T22:57:33.970517Z",
     "iopub.status.idle": "2022-04-20T22:57:33.972642Z",
     "shell.execute_reply": "2022-04-20T22:57:33.973047Z",
     "shell.execute_reply.started": "2022-04-20T22:49:44.084793Z"
    },
    "papermill": {
     "duration": 0.057731,
     "end_time": "2022-04-20T22:57:33.973175",
     "exception": false,
     "start_time": "2022-04-20T22:57:33.915444",
     "status": "completed"
    },
    "tags": []
   },
   "outputs": [],
   "source": [
    "data=pd.concat([train])\n",
    "test_data=pd.concat([test,dev])"
   ]
  },
  {
   "cell_type": "code",
   "execution_count": 13,
   "id": "37f3d2ff",
   "metadata": {
    "execution": {
     "iopub.execute_input": "2022-04-20T22:57:34.072091Z",
     "iopub.status.busy": "2022-04-20T22:57:34.071278Z",
     "iopub.status.idle": "2022-04-20T22:57:34.073855Z",
     "shell.execute_reply": "2022-04-20T22:57:34.073402Z",
     "shell.execute_reply.started": "2022-04-20T22:49:44.110098Z"
    },
    "papermill": {
     "duration": 0.053226,
     "end_time": "2022-04-20T22:57:34.073966",
     "exception": false,
     "start_time": "2022-04-20T22:57:34.020740",
     "status": "completed"
    },
    "tags": []
   },
   "outputs": [],
   "source": [
    "# data=balanced_batch(data)"
   ]
  },
  {
   "cell_type": "code",
   "execution_count": 14,
   "id": "61ab3576",
   "metadata": {
    "execution": {
     "iopub.execute_input": "2022-04-20T22:57:34.174161Z",
     "iopub.status.busy": "2022-04-20T22:57:34.173503Z",
     "iopub.status.idle": "2022-04-20T22:57:34.912149Z",
     "shell.execute_reply": "2022-04-20T22:57:34.912540Z",
     "shell.execute_reply.started": "2022-04-20T22:49:44.127457Z"
    },
    "papermill": {
     "duration": 0.790772,
     "end_time": "2022-04-20T22:57:34.912689",
     "exception": false,
     "start_time": "2022-04-20T22:57:34.121917",
     "status": "completed"
    },
    "tags": []
   },
   "outputs": [
    {
     "data": {
      "text/plain": [
       "<AxesSubplot:xlabel='class_label', ylabel='count'>"
      ]
     },
     "execution_count": 14,
     "metadata": {},
     "output_type": "execute_result"
    },
    {
     "data": {
      "image/png": "[encoded data removed]",
      "text/plain": [
       "<Figure size 432x288 with 1 Axes>"
      ]
     },
     "metadata": {
      "needs_background": "light"
     },
     "output_type": "display_data"
    }
   ],
   "source": [
    "import seaborn as sns\n",
    "sns.countplot(x='class_label', data=data)"
   ]
  },
  {
   "cell_type": "markdown",
   "id": "a452350b",
   "metadata": {
    "papermill": {
     "duration": 0.048244,
     "end_time": "2022-04-20T22:57:35.009168",
     "exception": false,
     "start_time": "2022-04-20T22:57:34.960924",
     "status": "completed"
    },
    "tags": []
   },
   "source": [
    "Data preprocessing"
   ]
  },
  {
   "cell_type": "code",
   "execution_count": 15,
   "id": "b4727908",
   "metadata": {
    "execution": {
     "iopub.execute_input": "2022-04-20T22:57:35.112863Z",
     "iopub.status.busy": "2022-04-20T22:57:35.111273Z",
     "iopub.status.idle": "2022-04-20T22:57:35.113450Z",
     "shell.execute_reply": "2022-04-20T22:57:35.113874Z",
     "shell.execute_reply.started": "2022-04-20T22:49:44.396257Z"
    },
    "papermill": {
     "duration": 0.05551,
     "end_time": "2022-04-20T22:57:35.114005",
     "exception": false,
     "start_time": "2022-04-20T22:57:35.058495",
     "status": "completed"
    },
    "tags": []
   },
   "outputs": [],
   "source": [
    "# !git clone https://github.com/aub-mind/arabert\n"
   ]
  },
  {
   "cell_type": "code",
   "execution_count": 16,
   "id": "7111f46e",
   "metadata": {
    "execution": {
     "iopub.execute_input": "2022-04-20T22:57:35.214548Z",
     "iopub.status.busy": "2022-04-20T22:57:35.213795Z",
     "iopub.status.idle": "2022-04-20T22:57:35.215843Z",
     "shell.execute_reply": "2022-04-20T22:57:35.216207Z",
     "shell.execute_reply.started": "2022-04-20T22:49:44.403893Z"
    },
    "papermill": {
     "duration": 0.054226,
     "end_time": "2022-04-20T22:57:35.216334",
     "exception": false,
     "start_time": "2022-04-20T22:57:35.162108",
     "status": "completed"
    },
    "tags": []
   },
   "outputs": [],
   "source": [
    "# from arabert.preprocess import ArabertPreprocessor\n",
    "\n",
    "# model_name=\"aubmindlab/bert-base-arabertv01\"\n",
    "# arabert_prep = ArabertPreprocessor(model_name=model_name)\n",
    "\n",
    "#data['tweet_text'] = data['tweet_text'].apply(lambda x:arabert_prep.preprocess(x))\n",
    "#test['tweet_text'] = test['tweet_text'].apply(lambda x:arabert_prep.preprocess(x))\n",
    "#dev['tweet_text'] = dev['tweet_text'].apply(lambda x:arabert_prep.preprocess(x))"
   ]
  },
  {
   "cell_type": "code",
   "execution_count": 17,
   "id": "64393a08",
   "metadata": {
    "execution": {
     "iopub.execute_input": "2022-04-20T22:57:35.317253Z",
     "iopub.status.busy": "2022-04-20T22:57:35.316628Z",
     "iopub.status.idle": "2022-04-20T22:57:35.319312Z",
     "shell.execute_reply": "2022-04-20T22:57:35.319760Z",
     "shell.execute_reply.started": "2022-04-20T22:49:44.416781Z"
    },
    "papermill": {
     "duration": 0.055745,
     "end_time": "2022-04-20T22:57:35.319893",
     "exception": false,
     "start_time": "2022-04-20T22:57:35.264148",
     "status": "completed"
    },
    "tags": []
   },
   "outputs": [
    {
     "name": "stdout",
     "output_type": "stream",
     "text": [
      "غضب شعبي في قطر لتباطؤ الحكومة ضد فيروس كورونا    #حكومه_قطر_تنشر_كورونا https://t.co/B3Bxg7i4zR\n"
     ]
    }
   ],
   "source": [
    "test3=data['tweet_text'][4]\n",
    "test4=data['tweet_text'][1]\n",
    "print(test4)\n"
   ]
  },
  {
   "cell_type": "code",
   "execution_count": 18,
   "id": "51cf073a",
   "metadata": {
    "execution": {
     "iopub.execute_input": "2022-04-20T22:57:35.423030Z",
     "iopub.status.busy": "2022-04-20T22:57:35.422313Z",
     "iopub.status.idle": "2022-04-20T22:57:35.573778Z",
     "shell.execute_reply": "2022-04-20T22:57:35.573265Z",
     "shell.execute_reply.started": "2022-04-20T22:49:44.427445Z"
    },
    "papermill": {
     "duration": 0.204226,
     "end_time": "2022-04-20T22:57:35.573915",
     "exception": false,
     "start_time": "2022-04-20T22:57:35.369689",
     "status": "completed"
    },
    "tags": []
   },
   "outputs": [],
   "source": [
    "from sklearn.model_selection import train_test_split\n",
    "X_train = data.tweet_text.values\n",
    "y_train = data.class_label.values\n",
    "\n",
    "X_test = test_data.tweet_text.values\n",
    "y_test=test.class_label.values\n",
    "\n",
    "X_val=test_data.tweet_text.values\n",
    "y_val=test_data.class_label.values"
   ]
  },
  {
   "cell_type": "code",
   "execution_count": 19,
   "id": "9b6ed03c",
   "metadata": {
    "execution": {
     "iopub.execute_input": "2022-04-20T22:57:35.677812Z",
     "iopub.status.busy": "2022-04-20T22:57:35.676229Z",
     "iopub.status.idle": "2022-04-20T22:57:35.678404Z",
     "shell.execute_reply": "2022-04-20T22:57:35.678825Z",
     "shell.execute_reply.started": "2022-04-20T22:49:44.441793Z"
    },
    "papermill": {
     "duration": 0.055333,
     "end_time": "2022-04-20T22:57:35.678956",
     "exception": false,
     "start_time": "2022-04-20T22:57:35.623623",
     "status": "completed"
    },
    "tags": []
   },
   "outputs": [],
   "source": [
    "#X_train, X_test, y_train, y_test = train_test_split(X,y, test_size=0.2,shuffle=True, random_state=42)\n",
    "#X_train, X_val, y_train, y_val = train_test_split(X_train,y_train, test_size=0.1,shuffle=True, random_state=42)"
   ]
  },
  {
   "cell_type": "code",
   "execution_count": 20,
   "id": "71e06cd8",
   "metadata": {
    "execution": {
     "iopub.execute_input": "2022-04-20T22:57:35.779651Z",
     "iopub.status.busy": "2022-04-20T22:57:35.779017Z",
     "iopub.status.idle": "2022-04-20T22:57:38.338168Z",
     "shell.execute_reply": "2022-04-20T22:57:38.338689Z",
     "shell.execute_reply.started": "2022-04-20T22:49:44.449929Z"
    },
    "papermill": {
     "duration": 2.611869,
     "end_time": "2022-04-20T22:57:38.338851",
     "exception": false,
     "start_time": "2022-04-20T22:57:35.726982",
     "status": "completed"
    },
    "tags": []
   },
   "outputs": [],
   "source": [
    "#transformers\n",
    "from transformers import BertTokenizerFast\n",
    "from transformers import TFBertModel,TFAutoModel\n",
    "from transformers import RobertaTokenizerFast\n",
    "from transformers import TFRobertaModel"
   ]
  },
  {
   "cell_type": "code",
   "execution_count": 21,
   "id": "e7c51d44",
   "metadata": {
    "execution": {
     "iopub.execute_input": "2022-04-20T22:57:38.442739Z",
     "iopub.status.busy": "2022-04-20T22:57:38.441871Z",
     "iopub.status.idle": "2022-04-20T22:57:44.067817Z",
     "shell.execute_reply": "2022-04-20T22:57:44.066905Z",
     "shell.execute_reply.started": "2022-04-20T22:49:44.460697Z"
    },
    "papermill": {
     "duration": 5.679456,
     "end_time": "2022-04-20T22:57:44.067960",
     "exception": false,
     "start_time": "2022-04-20T22:57:38.388504",
     "status": "completed"
    },
    "tags": []
   },
   "outputs": [
    {
     "data": {
      "application/vnd.jupyter.widget-view+json": {
       "model_id": "f0c7a64deba54503870a3c0b83c2dd34",
       "version_major": 2,
       "version_minor": 0
      },
      "text/plain": [
       "Downloading:   0%|          | 0.00/762k [00:00<?, ?B/s]"
      ]
     },
     "metadata": {},
     "output_type": "display_data"
    },
    {
     "data": {
      "application/vnd.jupyter.widget-view+json": {
       "model_id": "e5ea66426acc444e97959171e9ddb95a",
       "version_major": 2,
       "version_minor": 0
      },
      "text/plain": [
       "Downloading:   0%|          | 0.00/2.57M [00:00<?, ?B/s]"
      ]
     },
     "metadata": {},
     "output_type": "display_data"
    },
    {
     "data": {
      "application/vnd.jupyter.widget-view+json": {
       "model_id": "3f8a1930f81d4df7835f6c410c385fe2",
       "version_major": 2,
       "version_minor": 0
      },
      "text/plain": [
       "Downloading:   0%|          | 0.00/112 [00:00<?, ?B/s]"
      ]
     },
     "metadata": {},
     "output_type": "display_data"
    },
    {
     "data": {
      "application/vnd.jupyter.widget-view+json": {
       "model_id": "d5d5313b2a06452eb511a7915d6ab4bf",
       "version_major": 2,
       "version_minor": 0
      },
      "text/plain": [
       "Downloading:   0%|          | 0.00/379 [00:00<?, ?B/s]"
      ]
     },
     "metadata": {},
     "output_type": "display_data"
    },
    {
     "data": {
      "application/vnd.jupyter.widget-view+json": {
       "model_id": "c4d4b9cfbb3d4c23acb159486258e69a",
       "version_major": 2,
       "version_minor": 0
      },
      "text/plain": [
       "Downloading:   0%|          | 0.00/576 [00:00<?, ?B/s]"
      ]
     },
     "metadata": {},
     "output_type": "display_data"
    }
   ],
   "source": [
    "tokenizer = BertTokenizerFast.from_pretrained('aubmindlab/bert-base-arabertv01')\n",
    "\n"
   ]
  },
  {
   "cell_type": "code",
   "execution_count": 22,
   "id": "e5cdedd8",
   "metadata": {
    "execution": {
     "iopub.execute_input": "2022-04-20T22:57:44.176201Z",
     "iopub.status.busy": "2022-04-20T22:57:44.175368Z",
     "iopub.status.idle": "2022-04-20T22:57:44.733311Z",
     "shell.execute_reply": "2022-04-20T22:57:44.733854Z",
     "shell.execute_reply.started": "2022-04-20T22:49:48.195558Z"
    },
    "papermill": {
     "duration": 0.614638,
     "end_time": "2022-04-20T22:57:44.734035",
     "exception": false,
     "start_time": "2022-04-20T22:57:44.119397",
     "status": "completed"
    },
    "tags": []
   },
   "outputs": [],
   "source": [
    "token_lens_test = []\n",
    "\n",
    "for txt in data['tweet_text'].values:\n",
    "    tokens = tokenizer.encode(txt, max_length=512, truncation=True)\n",
    "    token_lens_test.append(len(tokens))\n",
    "    \n",
    "max_len=np.max(token_lens_test)"
   ]
  },
  {
   "cell_type": "code",
   "execution_count": null,
   "id": "7f3a945d",
   "metadata": {
    "papermill": {
     "duration": 0.052085,
     "end_time": "2022-04-20T22:57:44.839181",
     "exception": false,
     "start_time": "2022-04-20T22:57:44.787096",
     "status": "completed"
    },
    "tags": []
   },
   "outputs": [],
   "source": []
  },
  {
   "cell_type": "code",
   "execution_count": 23,
   "id": "d1b25f6a",
   "metadata": {
    "execution": {
     "iopub.execute_input": "2022-04-20T22:57:44.946921Z",
     "iopub.status.busy": "2022-04-20T22:57:44.946228Z",
     "iopub.status.idle": "2022-04-20T22:57:44.949025Z",
     "shell.execute_reply": "2022-04-20T22:57:44.949615Z",
     "shell.execute_reply.started": "2022-04-20T22:49:48.884463Z"
    },
    "papermill": {
     "duration": 0.059085,
     "end_time": "2022-04-20T22:57:44.949799",
     "exception": false,
     "start_time": "2022-04-20T22:57:44.890714",
     "status": "completed"
    },
    "tags": []
   },
   "outputs": [
    {
     "name": "stdout",
     "output_type": "stream",
     "text": [
      "MAX TOKENIZED SENTENCE LENGTH: 133\n"
     ]
    }
   ],
   "source": [
    "print(f\"MAX TOKENIZED SENTENCE LENGTH: {max_len}\")\n"
   ]
  },
  {
   "cell_type": "code",
   "execution_count": 24,
   "id": "ffdb201f",
   "metadata": {
    "execution": {
     "iopub.execute_input": "2022-04-20T22:57:45.059602Z",
     "iopub.status.busy": "2022-04-20T22:57:45.058010Z",
     "iopub.status.idle": "2022-04-20T22:57:45.060170Z",
     "shell.execute_reply": "2022-04-20T22:57:45.060594Z",
     "shell.execute_reply.started": "2022-04-20T22:49:48.893051Z"
    },
    "papermill": {
     "duration": 0.05796,
     "end_time": "2022-04-20T22:57:45.060739",
     "exception": false,
     "start_time": "2022-04-20T22:57:45.002779",
     "status": "completed"
    },
    "tags": []
   },
   "outputs": [],
   "source": [
    "MAX_LEN=150"
   ]
  },
  {
   "cell_type": "code",
   "execution_count": 25,
   "id": "ce27337a",
   "metadata": {
    "execution": {
     "iopub.execute_input": "2022-04-20T22:57:45.171001Z",
     "iopub.status.busy": "2022-04-20T22:57:45.169423Z",
     "iopub.status.idle": "2022-04-20T22:57:45.171600Z",
     "shell.execute_reply": "2022-04-20T22:57:45.172025Z",
     "shell.execute_reply.started": "2022-04-20T22:49:48.905840Z"
    },
    "papermill": {
     "duration": 0.060037,
     "end_time": "2022-04-20T22:57:45.172155",
     "exception": false,
     "start_time": "2022-04-20T22:57:45.112118",
     "status": "completed"
    },
    "tags": []
   },
   "outputs": [],
   "source": [
    "def tokenize(data,max_len=MAX_LEN) :\n",
    "    input_ids = []\n",
    "    attention_masks = []\n",
    "    for i in range(len(data)):\n",
    "        encoded = tokenizer.encode_plus(\n",
    "            data[i],\n",
    "            add_special_tokens=True,\n",
    "            max_length=MAX_LEN,\n",
    "            padding='max_length',\n",
    "            pad_to_max_length = True,\n",
    "            return_attention_mask=True,\n",
    "            truncation=True\n",
    "        )\n",
    "        input_ids.append(encoded['input_ids'])\n",
    "        attention_masks.append(encoded['attention_mask'])\n",
    "    return np.array(input_ids),np.array(attention_masks)"
   ]
  },
  {
   "cell_type": "code",
   "execution_count": 26,
   "id": "d5a3a517",
   "metadata": {
    "execution": {
     "iopub.execute_input": "2022-04-20T22:57:45.279672Z",
     "iopub.status.busy": "2022-04-20T22:57:45.278866Z",
     "iopub.status.idle": "2022-04-20T22:57:45.281289Z",
     "shell.execute_reply": "2022-04-20T22:57:45.280871Z",
     "shell.execute_reply.started": "2022-04-20T22:49:48.918489Z"
    },
    "papermill": {
     "duration": 0.05764,
     "end_time": "2022-04-20T22:57:45.281418",
     "exception": false,
     "start_time": "2022-04-20T22:57:45.223778",
     "status": "completed"
    },
    "tags": []
   },
   "outputs": [],
   "source": [
    "MAX_LEN2=175"
   ]
  },
  {
   "cell_type": "code",
   "execution_count": 27,
   "id": "7177edb0",
   "metadata": {
    "execution": {
     "iopub.execute_input": "2022-04-20T22:57:45.388789Z",
     "iopub.status.busy": "2022-04-20T22:57:45.387992Z",
     "iopub.status.idle": "2022-04-20T22:57:46.838209Z",
     "shell.execute_reply": "2022-04-20T22:57:46.837594Z",
     "shell.execute_reply.started": "2022-04-20T22:49:48.932057Z"
    },
    "papermill": {
     "duration": 1.506004,
     "end_time": "2022-04-20T22:57:46.838336",
     "exception": false,
     "start_time": "2022-04-20T22:57:45.332332",
     "status": "completed"
    },
    "tags": []
   },
   "outputs": [],
   "source": [
    "train_input_ids, train_attention_masks = tokenize(X_train, MAX_LEN)\n",
    "val_input_ids, val_attention_masks = tokenize(X_val, MAX_LEN)\n",
    "test_input_ids, test_attention_masks = tokenize(X_test, MAX_LEN)\n",
    "\n"
   ]
  },
  {
   "cell_type": "code",
   "execution_count": 28,
   "id": "1dd07359",
   "metadata": {
    "execution": {
     "iopub.execute_input": "2022-04-20T22:57:46.949699Z",
     "iopub.status.busy": "2022-04-20T22:57:46.949098Z",
     "iopub.status.idle": "2022-04-20T22:58:16.527971Z",
     "shell.execute_reply": "2022-04-20T22:58:16.528563Z",
     "shell.execute_reply.started": "2022-04-20T22:49:51.054233Z"
    },
    "papermill": {
     "duration": 29.637681,
     "end_time": "2022-04-20T22:58:16.528725",
     "exception": false,
     "start_time": "2022-04-20T22:57:46.891044",
     "status": "completed"
    },
    "tags": []
   },
   "outputs": [
    {
     "data": {
      "application/vnd.jupyter.widget-view+json": {
       "model_id": "d3636b19091a4351b566a8a64e3695eb",
       "version_major": 2,
       "version_minor": 0
      },
      "text/plain": [
       "Downloading:   0%|          | 0.00/708M [00:00<?, ?B/s]"
      ]
     },
     "metadata": {},
     "output_type": "display_data"
    },
    {
     "name": "stderr",
     "output_type": "stream",
     "text": [
      "2022-04-20 22:58:09.001216: I tensorflow/stream_executor/cuda/cuda_gpu_executor.cc:937] successful NUMA node read from SysFS had negative value (-1), but there must be at least one NUMA node, so returning NUMA node zero\n",
      "2022-04-20 22:58:09.002278: I tensorflow/stream_executor/cuda/cuda_gpu_executor.cc:937] successful NUMA node read from SysFS had negative value (-1), but there must be at least one NUMA node, so returning NUMA node zero\n",
      "2022-04-20 22:58:09.002986: I tensorflow/stream_executor/cuda/cuda_gpu_executor.cc:937] successful NUMA node read from SysFS had negative value (-1), but there must be at least one NUMA node, so returning NUMA node zero\n",
      "2022-04-20 22:58:09.003844: I tensorflow/core/platform/cpu_feature_guard.cc:142] This TensorFlow binary is optimized with oneAPI Deep Neural Network Library (oneDNN) to use the following CPU instructions in performance-critical operations:  AVX2 AVX512F FMA\n",
      "To enable them in other operations, rebuild TensorFlow with the appropriate compiler flags.\n",
      "2022-04-20 22:58:09.005014: I tensorflow/stream_executor/cuda/cuda_gpu_executor.cc:937] successful NUMA node read from SysFS had negative value (-1), but there must be at least one NUMA node, so returning NUMA node zero\n",
      "2022-04-20 22:58:09.005709: I tensorflow/stream_executor/cuda/cuda_gpu_executor.cc:937] successful NUMA node read from SysFS had negative value (-1), but there must be at least one NUMA node, so returning NUMA node zero\n",
      "2022-04-20 22:58:09.006328: I tensorflow/stream_executor/cuda/cuda_gpu_executor.cc:937] successful NUMA node read from SysFS had negative value (-1), but there must be at least one NUMA node, so returning NUMA node zero\n",
      "2022-04-20 22:58:13.711981: I tensorflow/stream_executor/cuda/cuda_gpu_executor.cc:937] successful NUMA node read from SysFS had negative value (-1), but there must be at least one NUMA node, so returning NUMA node zero\n",
      "2022-04-20 22:58:13.713119: I tensorflow/stream_executor/cuda/cuda_gpu_executor.cc:937] successful NUMA node read from SysFS had negative value (-1), but there must be at least one NUMA node, so returning NUMA node zero\n",
      "2022-04-20 22:58:13.714049: I tensorflow/stream_executor/cuda/cuda_gpu_executor.cc:937] successful NUMA node read from SysFS had negative value (-1), but there must be at least one NUMA node, so returning NUMA node zero\n",
      "2022-04-20 22:58:13.714901: I tensorflow/core/common_runtime/gpu/gpu_device.cc:1510] Created device /job:localhost/replica:0/task:0/device:GPU:0 with 14969 MB memory:  -> device: 0, name: Tesla P100-PCIE-16GB, pci bus id: 0000:00:04.0, compute capability: 6.0\n",
      "Some layers from the model checkpoint at aubmindlab/bert-base-arabertv01 were not used when initializing TFBertModel: ['mlm___cls', 'nsp___cls']\n",
      "- This IS expected if you are initializing TFBertModel from the checkpoint of a model trained on another task or with another architecture (e.g. initializing a BertForSequenceClassification model from a BertForPreTraining model).\n",
      "- This IS NOT expected if you are initializing TFBertModel from the checkpoint of a model that you expect to be exactly identical (initializing a BertForSequenceClassification model from a BertForSequenceClassification model).\n",
      "All the layers of TFBertModel were initialized from the model checkpoint at aubmindlab/bert-base-arabertv01.\n",
      "If your task is similar to the task the model of the checkpoint was trained on, you can already use TFBertModel for predictions without further training.\n"
     ]
    }
   ],
   "source": [
    "bert_model = TFAutoModel.from_pretrained('aubmindlab/bert-base-arabertv01')\n"
   ]
  },
  {
   "cell_type": "code",
   "execution_count": 29,
   "id": "634fac76",
   "metadata": {
    "execution": {
     "iopub.execute_input": "2022-04-20T22:58:16.657060Z",
     "iopub.status.busy": "2022-04-20T22:58:16.656206Z",
     "iopub.status.idle": "2022-04-20T22:58:16.661182Z",
     "shell.execute_reply": "2022-04-20T22:58:16.660747Z",
     "shell.execute_reply.started": "2022-04-20T22:49:53.524652Z"
    },
    "papermill": {
     "duration": 0.072052,
     "end_time": "2022-04-20T22:58:16.661291",
     "exception": false,
     "start_time": "2022-04-20T22:58:16.589239",
     "status": "completed"
    },
    "tags": []
   },
   "outputs": [],
   "source": [
    "def create_model(bert_model,learning,max_len=MAX_LEN):\n",
    "    \n",
    "    ##params###\n",
    "    opt = tf.keras.optimizers.Adam(learning_rate=learning)\n",
    "    loss = 'binary_crossentropy'\n",
    "    input_ids = tf.keras.Input(shape=(max_len,),dtype='int32')\n",
    "    attention_masks = tf.keras.Input(shape=(max_len,),dtype='int32')\n",
    "    embeddings = bert_model([input_ids,attention_masks])[0]\n",
    "    \n",
    "    x=tf.keras.layers.Bidirectional(tf.keras.layers.GRU(128, return_sequences=True, dropout=0.3))(embeddings)\n",
    "    x=tf.keras.layers.Dense(50, activation=\"relu\")(x)\n",
    "    avg_pool = tf.keras.layers.GlobalMaxPooling1D()(x)\n",
    "    x=tf.keras.layers.Dropout(0.1)(avg_pool)\n",
    "    output = tf.keras.layers.Dense(1, activation=\"sigmoid\")(x)\n",
    "    \n",
    "    \n",
    "    model = tf.keras.models.Model(inputs = [input_ids,attention_masks], outputs = output)\n",
    "    model.compile(opt, loss=loss, metrics=['accuracy'])\n",
    "    return model"
   ]
  },
  {
   "cell_type": "code",
   "execution_count": 30,
   "id": "b5a207f2",
   "metadata": {
    "execution": {
     "iopub.execute_input": "2022-04-20T22:58:16.786952Z",
     "iopub.status.busy": "2022-04-20T22:58:16.786297Z",
     "iopub.status.idle": "2022-04-20T22:58:16.790253Z",
     "shell.execute_reply": "2022-04-20T22:58:16.789812Z",
     "shell.execute_reply.started": "2022-04-20T22:49:53.538290Z"
    },
    "papermill": {
     "duration": 0.069511,
     "end_time": "2022-04-20T22:58:16.790371",
     "exception": false,
     "start_time": "2022-04-20T22:58:16.720860",
     "status": "completed"
    },
    "tags": []
   },
   "outputs": [],
   "source": [
    "#https://stackoverflow.com/a/45305384/5210098\n",
    "from keras import backend as K\n",
    "def get_f1(y_true, y_pred): #taken from old keras source code\n",
    "    true_positives = K.sum(K.round(K.clip(y_true * y_pred, 0, 1)))\n",
    "    possible_positives = K.sum(K.round(K.clip(y_true, 0, 1)))\n",
    "    predicted_positives = K.sum(K.round(K.clip(y_pred, 0, 1)))\n",
    "    precision = true_positives / (predicted_positives + K.epsilon())\n",
    "    recall = true_positives / (possible_positives + K.epsilon())\n",
    "    f1_val = 2*(precision*recall)/(precision+recall+K.epsilon())\n",
    "    return f1_val\n"
   ]
  },
  {
   "cell_type": "code",
   "execution_count": 31,
   "id": "994aef4e",
   "metadata": {
    "execution": {
     "iopub.execute_input": "2022-04-20T22:58:16.916697Z",
     "iopub.status.busy": "2022-04-20T22:58:16.915927Z",
     "iopub.status.idle": "2022-04-20T22:58:23.870510Z",
     "shell.execute_reply": "2022-04-20T22:58:23.871443Z",
     "shell.execute_reply.started": "2022-04-20T22:49:53.552018Z"
    },
    "papermill": {
     "duration": 7.022796,
     "end_time": "2022-04-20T22:58:23.871659",
     "exception": false,
     "start_time": "2022-04-20T22:58:16.848863",
     "status": "completed"
    },
    "tags": []
   },
   "outputs": [
    {
     "name": "stdout",
     "output_type": "stream",
     "text": [
      "Model: \"model\"\n",
      "__________________________________________________________________________________________________\n",
      "Layer (type)                    Output Shape         Param #     Connected to                     \n",
      "==================================================================================================\n",
      "input_1 (InputLayer)            [(None, 150)]        0                                            \n",
      "__________________________________________________________________________________________________\n",
      "input_2 (InputLayer)            [(None, 150)]        0                                            \n",
      "__________________________________________________________________________________________________\n",
      "tf_bert_model (TFBertModel)     TFBaseModelOutputWit 135193344   input_1[0][0]                    \n",
      "                                                                 input_2[0][0]                    \n",
      "__________________________________________________________________________________________________\n",
      "bidirectional (Bidirectional)   (None, 150, 256)     689664      tf_bert_model[0][0]              \n",
      "__________________________________________________________________________________________________\n",
      "dense (Dense)                   (None, 150, 50)      12850       bidirectional[0][0]              \n",
      "__________________________________________________________________________________________________\n",
      "global_max_pooling1d (GlobalMax (None, 50)           0           dense[0][0]                      \n",
      "__________________________________________________________________________________________________\n",
      "dropout_37 (Dropout)            (None, 50)           0           global_max_pooling1d[0][0]       \n",
      "__________________________________________________________________________________________________\n",
      "dense_1 (Dense)                 (None, 1)            51          dropout_37[0][0]                 \n",
      "==================================================================================================\n",
      "Total params: 135,895,909\n",
      "Trainable params: 135,895,909\n",
      "Non-trainable params: 0\n",
      "__________________________________________________________________________________________________\n"
     ]
    }
   ],
   "source": [
    "model = create_model(bert_model,2e-5,MAX_LEN)\n",
    "model.summary()"
   ]
  },
  {
   "cell_type": "code",
   "execution_count": 32,
   "id": "bc1d4602",
   "metadata": {
    "execution": {
     "iopub.execute_input": "2022-04-20T22:58:23.984275Z",
     "iopub.status.busy": "2022-04-20T22:58:23.983403Z",
     "iopub.status.idle": "2022-04-20T22:58:24.619960Z",
     "shell.execute_reply": "2022-04-20T22:58:24.617667Z",
     "shell.execute_reply.started": "2022-04-20T22:49:56.329652Z"
    },
    "papermill": {
     "duration": 0.693823,
     "end_time": "2022-04-20T22:58:24.620144",
     "exception": false,
     "start_time": "2022-04-20T22:58:23.926321",
     "status": "completed"
    },
    "tags": []
   },
   "outputs": [
    {
     "name": "stderr",
     "output_type": "stream",
     "text": [
      "2022-04-20 22:58:23.987265: I tensorflow/core/profiler/lib/profiler_session.cc:131] Profiler session initializing.\n",
      "2022-04-20 22:58:23.987302: I tensorflow/core/profiler/lib/profiler_session.cc:146] Profiler session started.\n",
      "2022-04-20 22:58:23.989289: I tensorflow/core/profiler/internal/gpu/cupti_tracer.cc:1614] Profiler found 1 GPUs\n",
      "2022-04-20 22:58:24.455099: I tensorflow/core/profiler/lib/profiler_session.cc:164] Profiler session tear down.\n",
      "2022-04-20 22:58:24.455311: I tensorflow/core/profiler/internal/gpu/cupti_tracer.cc:1748] CUPTI activity buffer flushed\n"
     ]
    }
   ],
   "source": [
    "from tensorflow.keras.callbacks import ReduceLROnPlateau, TensorBoard\n",
    "\n",
    "tensorboard = TensorBoard(log_dir = 'logs')\n",
    "reduce_lr = ReduceLROnPlateau(monitor = 'val_accuracy', mode='auto',verbose=1)"
   ]
  },
  {
   "cell_type": "code",
   "execution_count": 33,
   "id": "1fc5d7b5",
   "metadata": {
    "execution": {
     "iopub.execute_input": "2022-04-20T22:58:24.836808Z",
     "iopub.status.busy": "2022-04-20T22:58:24.835947Z",
     "iopub.status.idle": "2022-04-20T23:03:02.184843Z",
     "shell.execute_reply": "2022-04-20T23:03:02.185308Z",
     "shell.execute_reply.started": "2022-04-20T22:49:56.818511Z"
    },
    "papermill": {
     "duration": 277.453559,
     "end_time": "2022-04-20T23:03:02.185542",
     "exception": false,
     "start_time": "2022-04-20T22:58:24.731983",
     "status": "completed"
    },
    "tags": []
   },
   "outputs": [
    {
     "name": "stderr",
     "output_type": "stream",
     "text": [
      "2022-04-20 22:58:24.908212: I tensorflow/compiler/mlir/mlir_graph_optimization_pass.cc:185] None of the MLIR Optimization Passes are enabled (registered 2)\n"
     ]
    },
    {
     "name": "stdout",
     "output_type": "stream",
     "text": [
      "Epoch 1/4\n"
     ]
    },
    {
     "name": "stderr",
     "output_type": "stream",
     "text": [
      "2022-04-20 22:58:41.393342: I tensorflow/stream_executor/cuda/cuda_dnn.cc:369] Loaded cuDNN version 8005\n"
     ]
    },
    {
     "name": "stdout",
     "output_type": "stream",
     "text": [
      "79/79 [==============================] - 73s 715ms/step - loss: 0.6911 - accuracy: 0.6041 - val_loss: 0.6638 - val_accuracy: 0.6177\n",
      "Epoch 2/4\n",
      "79/79 [==============================] - 53s 676ms/step - loss: 0.6126 - accuracy: 0.6737 - val_loss: 0.6321 - val_accuracy: 0.6663\n",
      "Epoch 3/4\n",
      "79/79 [==============================] - 53s 676ms/step - loss: 0.5557 - accuracy: 0.7123 - val_loss: 0.6515 - val_accuracy: 0.6328\n",
      "Epoch 4/4\n",
      "79/79 [==============================] - 53s 676ms/step - loss: 0.4892 - accuracy: 0.7628 - val_loss: 0.7636 - val_accuracy: 0.5356\n"
     ]
    }
   ],
   "source": [
    "history_bert = model.fit([train_input_ids,train_attention_masks], y_train, validation_data=([val_input_ids,val_attention_masks], y_val), epochs=4, batch_size=32,callbacks=[reduce_lr])"
   ]
  },
  {
   "cell_type": "code",
   "execution_count": 34,
   "id": "92bd7f61",
   "metadata": {
    "execution": {
     "iopub.execute_input": "2022-04-20T23:03:02.506349Z",
     "iopub.status.busy": "2022-04-20T23:03:02.505126Z",
     "iopub.status.idle": "2022-04-20T23:03:11.840516Z",
     "shell.execute_reply": "2022-04-20T23:03:11.839566Z",
     "shell.execute_reply.started": "2022-04-20T22:54:40.405432Z"
    },
    "papermill": {
     "duration": 9.494367,
     "end_time": "2022-04-20T23:03:11.840677",
     "exception": false,
     "start_time": "2022-04-20T23:03:02.346310",
     "status": "completed"
    },
    "tags": []
   },
   "outputs": [],
   "source": [
    "result_bert = model.predict([test_input_ids,test_attention_masks])\n"
   ]
  },
  {
   "cell_type": "markdown",
   "id": "b9bbea00",
   "metadata": {
    "execution": {
     "iopub.execute_input": "2022-04-05T16:41:09.975083Z",
     "iopub.status.busy": "2022-04-05T16:41:09.974795Z",
     "iopub.status.idle": "2022-04-05T16:41:09.983786Z",
     "shell.execute_reply": "2022-04-05T16:41:09.983088Z",
     "shell.execute_reply.started": "2022-04-05T16:41:09.975042Z"
    },
    "papermill": {
     "duration": 0.155177,
     "end_time": "2022-04-20T23:03:12.150792",
     "exception": false,
     "start_time": "2022-04-20T23:03:11.995615",
     "status": "completed"
    },
    "tags": []
   },
   "source": [
    " "
   ]
  },
  {
   "cell_type": "code",
   "execution_count": 35,
   "id": "0d8b01a2",
   "metadata": {
    "execution": {
     "iopub.execute_input": "2022-04-20T23:03:12.465307Z",
     "iopub.status.busy": "2022-04-20T23:03:12.464406Z",
     "iopub.status.idle": "2022-04-20T23:03:12.466299Z",
     "shell.execute_reply": "2022-04-20T23:03:12.466789Z",
     "shell.execute_reply.started": "2022-04-20T22:54:51.178755Z"
    },
    "papermill": {
     "duration": 0.16177,
     "end_time": "2022-04-20T23:03:12.466931",
     "exception": false,
     "start_time": "2022-04-20T23:03:12.305161",
     "status": "completed"
    },
    "tags": []
   },
   "outputs": [],
   "source": [
    "resultat=[]\n",
    "for i in range(len(result_bert)):\n",
    "    resultat.append(result_bert[i])\n",
    "    #resultat.append(result_bert[i])\n",
    "    #resultat.append(result_bert2[i])"
   ]
  },
  {
   "cell_type": "code",
   "execution_count": 36,
   "id": "35a0d85d",
   "metadata": {
    "execution": {
     "iopub.execute_input": "2022-04-20T23:03:12.788905Z",
     "iopub.status.busy": "2022-04-20T23:03:12.787994Z",
     "iopub.status.idle": "2022-04-20T23:03:12.789892Z",
     "shell.execute_reply": "2022-04-20T23:03:12.790312Z",
     "shell.execute_reply.started": "2022-04-20T22:54:51.187065Z"
    },
    "papermill": {
     "duration": 0.164745,
     "end_time": "2022-04-20T23:03:12.790485",
     "exception": false,
     "start_time": "2022-04-20T23:03:12.625740",
     "status": "completed"
    },
    "tags": []
   },
   "outputs": [],
   "source": [
    "y_predicted=[]\n",
    "for i in range(len(resultat)):\n",
    "    if resultat[i]>0.5:\n",
    "        y_predicted.append(1)\n",
    "    else:\n",
    "        y_predicted.append(0)"
   ]
  },
  {
   "cell_type": "code",
   "execution_count": 37,
   "id": "976d54de",
   "metadata": {
    "execution": {
     "iopub.execute_input": "2022-04-20T23:03:13.104187Z",
     "iopub.status.busy": "2022-04-20T23:03:13.103322Z",
     "iopub.status.idle": "2022-04-20T23:03:13.106107Z",
     "shell.execute_reply": "2022-04-20T23:03:13.105591Z",
     "shell.execute_reply.started": "2022-04-20T22:54:51.201623Z"
    },
    "papermill": {
     "duration": 0.160893,
     "end_time": "2022-04-20T23:03:13.106218",
     "exception": false,
     "start_time": "2022-04-20T23:03:12.945325",
     "status": "completed"
    },
    "tags": []
   },
   "outputs": [],
   "source": [
    "#y_predicted = np.where(result_bert> 0.5, 1, 0)\n"
   ]
  },
  {
   "cell_type": "code",
   "execution_count": null,
   "id": "5a6e4d2d",
   "metadata": {
    "papermill": {
     "duration": 0.153635,
     "end_time": "2022-04-20T23:03:13.414817",
     "exception": false,
     "start_time": "2022-04-20T23:03:13.261182",
     "status": "completed"
    },
    "tags": []
   },
   "outputs": [],
   "source": []
  },
  {
   "cell_type": "code",
   "execution_count": 38,
   "id": "f808a412",
   "metadata": {
    "execution": {
     "iopub.execute_input": "2022-04-20T23:03:13.733786Z",
     "iopub.status.busy": "2022-04-20T23:03:13.732989Z",
     "iopub.status.idle": "2022-04-20T23:03:13.735134Z",
     "shell.execute_reply": "2022-04-20T23:03:13.735595Z",
     "shell.execute_reply.started": "2022-04-20T22:54:51.212584Z"
    },
    "papermill": {
     "duration": 0.164056,
     "end_time": "2022-04-20T23:03:13.735747",
     "exception": false,
     "start_time": "2022-04-20T23:03:13.571691",
     "status": "completed"
    },
    "tags": []
   },
   "outputs": [],
   "source": [
    "def conf_matrix(y, y_pred, title):\n",
    "    fig, ax =plt.subplots(figsize=(5,5))\n",
    "    labels=['Negative', 'Positive']\n",
    "    ax=sns.heatmap(confusion_matrix(y, y_pred), annot=True, cmap=\"Blues\", fmt='g', cbar=False, annot_kws={\"size\":25})\n",
    "    plt.title(title, fontsize=20)\n",
    "    ax.xaxis.set_ticklabels(labels, fontsize=17) \n",
    "    ax.yaxis.set_ticklabels(labels, fontsize=17)\n",
    "    ax.set_ylabel('Test', fontsize=20)\n",
    "    ax.set_xlabel('Predicted', fontsize=20)\n",
    "    plt.show()\n"
   ]
  },
  {
   "cell_type": "code",
   "execution_count": 39,
   "id": "6ba70a3c",
   "metadata": {
    "execution": {
     "iopub.execute_input": "2022-04-20T23:03:14.052685Z",
     "iopub.status.busy": "2022-04-20T23:03:14.051838Z",
     "iopub.status.idle": "2022-04-20T23:03:14.053630Z",
     "shell.execute_reply": "2022-04-20T23:03:14.054041Z",
     "shell.execute_reply.started": "2022-04-20T22:54:51.225689Z"
    },
    "papermill": {
     "duration": 0.163845,
     "end_time": "2022-04-20T23:03:14.054188",
     "exception": false,
     "start_time": "2022-04-20T23:03:13.890343",
     "status": "completed"
    },
    "tags": []
   },
   "outputs": [],
   "source": [
    "y_test=test_data['class_label'].values"
   ]
  },
  {
   "cell_type": "code",
   "execution_count": 40,
   "id": "529b0fca",
   "metadata": {
    "execution": {
     "iopub.execute_input": "2022-04-20T23:03:14.384486Z",
     "iopub.status.busy": "2022-04-20T23:03:14.380241Z",
     "iopub.status.idle": "2022-04-20T23:03:14.513892Z",
     "shell.execute_reply": "2022-04-20T23:03:14.514982Z",
     "shell.execute_reply.started": "2022-04-20T22:54:51.237793Z"
    },
    "papermill": {
     "duration": 0.306302,
     "end_time": "2022-04-20T23:03:14.515285",
     "exception": false,
     "start_time": "2022-04-20T23:03:14.208983",
     "status": "completed"
    },
    "tags": []
   },
   "outputs": [
    {
     "data": {
      "image/png": "[encoded data removed]",
      "text/plain": [
       "<Figure size 360x360 with 1 Axes>"
      ]
     },
     "metadata": {
      "needs_background": "light"
     },
     "output_type": "display_data"
    }
   ],
   "source": [
    "from sklearn.metrics import confusion_matrix\n",
    "import matplotlib.pyplot as plt\n",
    "conf_matrix(y_test, y_predicted,'Bert case arabic check worthiness detection')"
   ]
  },
  {
   "cell_type": "code",
   "execution_count": 41,
   "id": "0fad91cc",
   "metadata": {
    "execution": {
     "iopub.execute_input": "2022-04-20T23:03:14.844247Z",
     "iopub.status.busy": "2022-04-20T23:03:14.843345Z",
     "iopub.status.idle": "2022-04-20T23:03:14.846775Z",
     "shell.execute_reply": "2022-04-20T23:03:14.847348Z",
     "shell.execute_reply.started": "2022-04-20T22:54:51.411350Z"
    },
    "papermill": {
     "duration": 0.16656,
     "end_time": "2022-04-20T23:03:14.847538",
     "exception": false,
     "start_time": "2022-04-20T23:03:14.680978",
     "status": "completed"
    },
    "tags": []
   },
   "outputs": [
    {
     "name": "stdout",
     "output_type": "stream",
     "text": [
      "Accuracy :0.535637\n"
     ]
    }
   ],
   "source": [
    "from sklearn.metrics import accuracy_score\n",
    "accuracy= accuracy_score(y_test, y_predicted)\n",
    "print(\"Accuracy :%5f\" % (accuracy))"
   ]
  },
  {
   "cell_type": "code",
   "execution_count": 42,
   "id": "3aec292f",
   "metadata": {
    "execution": {
     "iopub.execute_input": "2022-04-20T23:03:15.166337Z",
     "iopub.status.busy": "2022-04-20T23:03:15.165538Z",
     "iopub.status.idle": "2022-04-20T23:03:15.171364Z",
     "shell.execute_reply": "2022-04-20T23:03:15.170931Z",
     "shell.execute_reply.started": "2022-04-20T22:54:51.423820Z"
    },
    "papermill": {
     "duration": 0.167132,
     "end_time": "2022-04-20T23:03:15.171502",
     "exception": false,
     "start_time": "2022-04-20T23:03:15.004370",
     "status": "completed"
    },
    "tags": []
   },
   "outputs": [
    {
     "name": "stdout",
     "output_type": "stream",
     "text": [
      "F1-score binary :0.589695\n"
     ]
    }
   ],
   "source": [
    "from sklearn.metrics import f1_score\n",
    "binf1=f1_score(y_test,y_predicted, average='binary')\n",
    "print(\"F1-score binary :%5f\" % (binf1))"
   ]
  },
  {
   "cell_type": "code",
   "execution_count": 43,
   "id": "c9b4e96c",
   "metadata": {
    "execution": {
     "iopub.execute_input": "2022-04-20T23:03:15.490369Z",
     "iopub.status.busy": "2022-04-20T23:03:15.488316Z",
     "iopub.status.idle": "2022-04-20T23:03:15.497109Z",
     "shell.execute_reply": "2022-04-20T23:03:15.496509Z",
     "shell.execute_reply.started": "2022-04-20T22:54:51.438188Z"
    },
    "papermill": {
     "duration": 0.169672,
     "end_time": "2022-04-20T23:03:15.497258",
     "exception": false,
     "start_time": "2022-04-20T23:03:15.327586",
     "status": "completed"
    },
    "tags": []
   },
   "outputs": [
    {
     "name": "stdout",
     "output_type": "stream",
     "text": [
      "F1-score micro :0.535637\n"
     ]
    }
   ],
   "source": [
    "from sklearn.metrics import f1_score\n",
    "mic=f1_score(y_test,y_predicted, average='micro')\n",
    "print(\"F1-score micro :%5f\" % (mic))"
   ]
  },
  {
   "cell_type": "code",
   "execution_count": 44,
   "id": "b36b2132",
   "metadata": {
    "execution": {
     "iopub.execute_input": "2022-04-20T23:03:15.819462Z",
     "iopub.status.busy": "2022-04-20T23:03:15.818627Z",
     "iopub.status.idle": "2022-04-20T23:03:15.824540Z",
     "shell.execute_reply": "2022-04-20T23:03:15.825066Z",
     "shell.execute_reply.started": "2022-04-20T22:54:51.452239Z"
    },
    "papermill": {
     "duration": 0.167874,
     "end_time": "2022-04-20T23:03:15.825241",
     "exception": false,
     "start_time": "2022-04-20T23:03:15.657367",
     "status": "completed"
    },
    "tags": []
   },
   "outputs": [
    {
     "name": "stdout",
     "output_type": "stream",
     "text": [
      "F1-score macro :0.527434\n"
     ]
    }
   ],
   "source": [
    "from sklearn.metrics import f1_score\n",
    "mac=f1_score(y_test,y_predicted, average='macro')\n",
    "print(\"F1-score macro :%5f\" % (mac))"
   ]
  },
  {
   "cell_type": "code",
   "execution_count": 45,
   "id": "b265cc9e",
   "metadata": {
    "execution": {
     "iopub.execute_input": "2022-04-20T23:03:16.148733Z",
     "iopub.status.busy": "2022-04-20T23:03:16.147940Z",
     "iopub.status.idle": "2022-04-20T23:03:16.153590Z",
     "shell.execute_reply": "2022-04-20T23:03:16.154187Z",
     "shell.execute_reply.started": "2022-04-20T22:54:51.467967Z"
    },
    "papermill": {
     "duration": 0.170293,
     "end_time": "2022-04-20T23:03:16.154418",
     "exception": false,
     "start_time": "2022-04-20T23:03:15.984125",
     "status": "completed"
    },
    "tags": []
   },
   "outputs": [
    {
     "name": "stdout",
     "output_type": "stream",
     "text": [
      "0.8442622950819673\n"
     ]
    }
   ],
   "source": [
    "from sklearn.metrics import recall_score\n",
    "rec=recall_score(y_test, y_predicted, average='binary')\n",
    "print(rec)"
   ]
  },
  {
   "cell_type": "code",
   "execution_count": 46,
   "id": "baddf942",
   "metadata": {
    "execution": {
     "iopub.execute_input": "2022-04-20T23:03:16.476191Z",
     "iopub.status.busy": "2022-04-20T23:03:16.475333Z",
     "iopub.status.idle": "2022-04-20T23:03:16.481209Z",
     "shell.execute_reply": "2022-04-20T23:03:16.480776Z",
     "shell.execute_reply.started": "2022-04-20T22:54:51.483775Z"
    },
    "papermill": {
     "duration": 0.168969,
     "end_time": "2022-04-20T23:03:16.481318",
     "exception": false,
     "start_time": "2022-04-20T23:03:16.312349",
     "status": "completed"
    },
    "tags": []
   },
   "outputs": [
    {
     "name": "stdout",
     "output_type": "stream",
     "text": [
      "0.4530791788856305\n"
     ]
    }
   ],
   "source": [
    "from sklearn.metrics import precision_score\n",
    "prec=precision_score(y_test, y_predicted, average='binary')\n",
    "print(prec)"
   ]
  },
  {
   "cell_type": "code",
   "execution_count": 47,
   "id": "4297dc80",
   "metadata": {
    "execution": {
     "iopub.execute_input": "2022-04-20T23:03:16.802844Z",
     "iopub.status.busy": "2022-04-20T23:03:16.801979Z",
     "iopub.status.idle": "2022-04-20T23:03:16.803893Z",
     "shell.execute_reply": "2022-04-20T23:03:16.804290Z",
     "shell.execute_reply.started": "2022-04-20T22:54:51.498396Z"
    },
    "papermill": {
     "duration": 0.164412,
     "end_time": "2022-04-20T23:03:16.804437",
     "exception": false,
     "start_time": "2022-04-20T23:03:16.640025",
     "status": "completed"
    },
    "tags": []
   },
   "outputs": [],
   "source": [
    "# Configuration\n",
    "lr= ' '\n",
    "EPOCHS = 10\n",
    "BATCH_SIZE = 32\n",
    "MAX_LEN = 175"
   ]
  },
  {
   "cell_type": "code",
   "execution_count": 48,
   "id": "e04657c7",
   "metadata": {
    "execution": {
     "iopub.execute_input": "2022-04-20T23:03:17.129274Z",
     "iopub.status.busy": "2022-04-20T23:03:17.128407Z",
     "iopub.status.idle": "2022-04-20T23:03:17.130810Z",
     "shell.execute_reply": "2022-04-20T23:03:17.131334Z",
     "shell.execute_reply.started": "2022-04-20T22:54:51.508879Z"
    },
    "papermill": {
     "duration": 0.168864,
     "end_time": "2022-04-20T23:03:17.131515",
     "exception": false,
     "start_time": "2022-04-20T23:03:16.962651",
     "status": "completed"
    },
    "tags": []
   },
   "outputs": [],
   "source": [
    "score = [{'MODEL': 'combined', 'Accuracy': accuracy,'Precision':prec,'Recall':rec, 'f1-score micro':mic, 'f1-score macro':mac,'epochs':EPOCHS,'batch_size':BATCH_SIZE,'sequence length':MAX_LEN,'learning-rate':'2e-6/3e-06','Preprocessing':0,'augmentation':0}]\n",
    "score_f =pd.DataFrame(score)"
   ]
  },
  {
   "cell_type": "code",
   "execution_count": 49,
   "id": "23a4c0be",
   "metadata": {
    "execution": {
     "iopub.execute_input": "2022-04-20T23:03:17.453025Z",
     "iopub.status.busy": "2022-04-20T23:03:17.452294Z",
     "iopub.status.idle": "2022-04-20T23:03:17.457673Z",
     "shell.execute_reply": "2022-04-20T23:03:17.458048Z",
     "shell.execute_reply.started": "2022-04-20T22:54:51.521110Z"
    },
    "papermill": {
     "duration": 0.166925,
     "end_time": "2022-04-20T23:03:17.458194",
     "exception": false,
     "start_time": "2022-04-20T23:03:17.291269",
     "status": "completed"
    },
    "tags": []
   },
   "outputs": [],
   "source": [
    "score_f.to_csv(\"model_boosted_results.csv\")"
   ]
  },
  {
   "cell_type": "code",
   "execution_count": null,
   "id": "0e42c1f4",
   "metadata": {
    "papermill": {
     "duration": 0.157106,
     "end_time": "2022-04-20T23:03:17.811578",
     "exception": false,
     "start_time": "2022-04-20T23:03:17.654472",
     "status": "completed"
    },
    "tags": []
   },
   "outputs": [],
   "source": []
  },
  {
   "cell_type": "code",
   "execution_count": null,
   "id": "d7567ca7",
   "metadata": {
    "papermill": {
     "duration": 0.158172,
     "end_time": "2022-04-20T23:03:18.127727",
     "exception": false,
     "start_time": "2022-04-20T23:03:17.969555",
     "status": "completed"
    },
    "tags": []
   },
   "outputs": [],
   "source": []
  },
  {
   "cell_type": "code",
   "execution_count": null,
   "id": "aebdfb69",
   "metadata": {
    "papermill": {
     "duration": 0.157078,
     "end_time": "2022-04-20T23:03:18.443072",
     "exception": false,
     "start_time": "2022-04-20T23:03:18.285994",
     "status": "completed"
    },
    "tags": []
   },
   "outputs": [],
   "source": []
  },
  {
   "cell_type": "code",
   "execution_count": null,
   "id": "e9df1ea7",
   "metadata": {
    "papermill": {
     "duration": 0.157742,
     "end_time": "2022-04-20T23:03:18.761020",
     "exception": false,
     "start_time": "2022-04-20T23:03:18.603278",
     "status": "completed"
    },
    "tags": []
   },
   "outputs": [],
   "source": []
  },
  {
   "cell_type": "code",
   "execution_count": null,
   "id": "eaf04fd4",
   "metadata": {
    "papermill": {
     "duration": 0.15775,
     "end_time": "2022-04-20T23:03:19.077779",
     "exception": false,
     "start_time": "2022-04-20T23:03:18.920029",
     "status": "completed"
    },
    "tags": []
   },
   "outputs": [],
   "source": []
  }
 ],
 "metadata": {
  "kernelspec": {
   "display_name": "Python 3",
   "language": "python",
   "name": "python3"
  },
  "language_info": {
   "codemirror_mode": {
    "name": "ipython",
    "version": 3
   },
   "file_extension": ".py",
   "mimetype": "text/x-python",
   "name": "python",
   "nbconvert_exporter": "python",
   "pygments_lexer": "ipython3",
   "version": "3.7.12"
  },
  "papermill": {
   "default_parameters": {},
   "duration": 362.683324,
   "end_time": "2022-04-20T23:03:22.623213",
   "environment_variables": {},
   "exception": null,
   "input_path": "__notebook__.ipynb",
   "output_path": "__notebook__.ipynb",
   "parameters": {},
   "start_time": "2022-04-20T22:57:19.939889",
   "version": "2.3.3"
  },
  "widgets": {
   "application/vnd.jupyter.widget-state+json": {
    "state": {
     "0364b6e3de8d46aab7e5e145b91c1885": {
      "model_module": "@jupyter-widgets/base",
      "model_module_version": "1.2.0",
      "model_name": "LayoutModel",
      "state": {
       "_model_module": "@jupyter-widgets/base",
       "_model_module_version": "1.2.0",
       "_model_name": "LayoutModel",
       "_view_count": null,
       "_view_module": "@jupyter-widgets/base",
       "_view_module_version": "1.2.0",
       "_view_name": "LayoutView",
       "align_content": null,
       "align_items": null,
       "align_self": null,
       "border": null,
       "bottom": null,
       "display": null,
       "flex": null,
       "flex_flow": null,
       "grid_area": null,
       "grid_auto_columns": null,
       "grid_auto_flow": null,
       "grid_auto_rows": null,
       "grid_column": null,
       "grid_gap": null,
       "grid_row": null,
       "grid_template_areas": null,
       "grid_template_columns": null,
       "grid_template_rows": null,
       "height": null,
       "justify_content": null,
       "justify_items": null,
       "left": null,
       "margin": null,
       "max_height": null,
       "max_width": null,
       "min_height": null,
       "min_width": null,
       "object_fit": null,
       "object_position": null,
       "order": null,
       "overflow": null,
       "overflow_x": null,
       "overflow_y": null,
       "padding": null,
       "right": null,
       "top": null,
       "visibility": null,
       "width": null
      }
     },
     "05d896c4f01a4a67b1ba93ccd3b75b6a": {
      "model_module": "@jupyter-widgets/controls",
      "model_module_version": "1.5.0",
      "model_name": "HTMLModel",
      "state": {
       "_dom_classes": [],
       "_model_module": "@jupyter-widgets/controls",
       "_model_module_version": "1.5.0",
       "_model_name": "HTMLModel",
       "_view_count": null,
       "_view_module": "@jupyter-widgets/controls",
       "_view_module_version": "1.5.0",
       "_view_name": "HTMLView",
       "description": "",
       "description_tooltip": null,
       "layout": "IPY_MODEL_de5ca9a8d8434eab818c052eda114ae4",
       "placeholder": "​",
       "style": "IPY_MODEL_07564659ce9749a9b9efa2b5006a43a5",
       "value": "Downloading: 100%"
      }
     },
     "07564659ce9749a9b9efa2b5006a43a5": {
      "model_module": "@jupyter-widgets/controls",
      "model_module_version": "1.5.0",
      "model_name": "DescriptionStyleModel",
      "state": {
       "_model_module": "@jupyter-widgets/controls",
       "_model_module_version": "1.5.0",
       "_model_name": "DescriptionStyleModel",
       "_view_count": null,
       "_view_module": "@jupyter-widgets/base",
       "_view_module_version": "1.2.0",
       "_view_name": "StyleView",
       "description_width": ""
      }
     },
     "097e6408ba534836b1430aa73416299b": {
      "model_module": "@jupyter-widgets/controls",
      "model_module_version": "1.5.0",
      "model_name": "HTMLModel",
      "state": {
       "_dom_classes": [],
       "_model_module": "@jupyter-widgets/controls",
       "_model_module_version": "1.5.0",
       "_model_name": "HTMLModel",
       "_view_count": null,
       "_view_module": "@jupyter-widgets/controls",
       "_view_module_version": "1.5.0",
       "_view_name": "HTMLView",
       "description": "",
       "description_tooltip": null,
       "layout": "IPY_MODEL_bc07f08f19ae4f79829097affe34fd70",
       "placeholder": "​",
       "style": "IPY_MODEL_a02e497aadfc47258c7839ec44c13db7",
       "value": " 379/379 [00:00&lt;00:00, 13.6kB/s]"
      }
     },
     "098d9e5a3cac4ed1bb6f043249b16ce3": {
      "model_module": "@jupyter-widgets/controls",
      "model_module_version": "1.5.0",
      "model_name": "DescriptionStyleModel",
      "state": {
       "_model_module": "@jupyter-widgets/controls",
       "_model_module_version": "1.5.0",
       "_model_name": "DescriptionStyleModel",
       "_view_count": null,
       "_view_module": "@jupyter-widgets/base",
       "_view_module_version": "1.2.0",
       "_view_name": "StyleView",
       "description_width": ""
      }
     },
     "09d448c0a75244e9ab6a9f2bea9a129b": {
      "model_module": "@jupyter-widgets/base",
      "model_module_version": "1.2.0",
      "model_name": "LayoutModel",
      "state": {
       "_model_module": "@jupyter-widgets/base",
       "_model_module_version": "1.2.0",
       "_model_name": "LayoutModel",
       "_view_count": null,
       "_view_module": "@jupyter-widgets/base",
       "_view_module_version": "1.2.0",
       "_view_name": "LayoutView",
       "align_content": null,
       "align_items": null,
       "align_self": null,
       "border": null,
       "bottom": null,
       "display": null,
       "flex": null,
       "flex_flow": null,
       "grid_area": null,
       "grid_auto_columns": null,
       "grid_auto_flow": null,
       "grid_auto_rows": null,
       "grid_column": null,
       "grid_gap": null,
       "grid_row": null,
       "grid_template_areas": null,
       "grid_template_columns": null,
       "grid_template_rows": null,
       "height": null,
       "justify_content": null,
       "justify_items": null,
       "left": null,
       "margin": null,
       "max_height": null,
       "max_width": null,
       "min_height": null,
       "min_width": null,
       "object_fit": null,
       "object_position": null,
       "order": null,
       "overflow": null,
       "overflow_x": null,
       "overflow_y": null,
       "padding": null,
       "right": null,
       "top": null,
       "visibility": null,
       "width": null
      }
     },
     "0fe08b8d539c4bf1a7c6f4b33c167ad0": {
      "model_module": "@jupyter-widgets/base",
      "model_module_version": "1.2.0",
      "model_name": "LayoutModel",
      "state": {
       "_model_module": "@jupyter-widgets/base",
       "_model_module_version": "1.2.0",
       "_model_name": "LayoutModel",
       "_view_count": null,
       "_view_module": "@jupyter-widgets/base",
       "_view_module_version": "1.2.0",
       "_view_name": "LayoutView",
       "align_content": null,
       "align_items": null,
       "align_self": null,
       "border": null,
       "bottom": null,
       "display": null,
       "flex": null,
       "flex_flow": null,
       "grid_area": null,
       "grid_auto_columns": null,
       "grid_auto_flow": null,
       "grid_auto_rows": null,
       "grid_column": null,
       "grid_gap": null,
       "grid_row": null,
       "grid_template_areas": null,
       "grid_template_columns": null,
       "grid_template_rows": null,
       "height": null,
       "justify_content": null,
       "justify_items": null,
       "left": null,
       "margin": null,
       "max_height": null,
       "max_width": null,
       "min_height": null,
       "min_width": null,
       "object_fit": null,
       "object_position": null,
       "order": null,
       "overflow": null,
       "overflow_x": null,
       "overflow_y": null,
       "padding": null,
       "right": null,
       "top": null,
       "visibility": null,
       "width": null
      }
     },
     "118b865a504c43d887ad011f3d5a62b7": {
      "model_module": "@jupyter-widgets/base",
      "model_module_version": "1.2.0",
      "model_name": "LayoutModel",
      "state": {
       "_model_module": "@jupyter-widgets/base",
       "_model_module_version": "1.2.0",
       "_model_name": "LayoutModel",
       "_view_count": null,
       "_view_module": "@jupyter-widgets/base",
       "_view_module_version": "1.2.0",
       "_view_name": "LayoutView",
       "align_content": null,
       "align_items": null,
       "align_self": null,
       "border": null,
       "bottom": null,
       "display": null,
       "flex": null,
       "flex_flow": null,
       "grid_area": null,
       "grid_auto_columns": null,
       "grid_auto_flow": null,
       "grid_auto_rows": null,
       "grid_column": null,
       "grid_gap": null,
       "grid_row": null,
       "grid_template_areas": null,
       "grid_template_columns": null,
       "grid_template_rows": null,
       "height": null,
       "justify_content": null,
       "justify_items": null,
       "left": null,
       "margin": null,
       "max_height": null,
       "max_width": null,
       "min_height": null,
       "min_width": null,
       "object_fit": null,
       "object_position": null,
       "order": null,
       "overflow": null,
       "overflow_x": null,
       "overflow_y": null,
       "padding": null,
       "right": null,
       "top": null,
       "visibility": null,
       "width": null
      }
     },
     "15655136dc784cb7bcd57da3dcb89e50": {
      "model_module": "@jupyter-widgets/controls",
      "model_module_version": "1.5.0",
      "model_name": "DescriptionStyleModel",
      "state": {
       "_model_module": "@jupyter-widgets/controls",
       "_model_module_version": "1.5.0",
       "_model_name": "DescriptionStyleModel",
       "_view_count": null,
       "_view_module": "@jupyter-widgets/base",
       "_view_module_version": "1.2.0",
       "_view_name": "StyleView",
       "description_width": ""
      }
     },
     "1669d3813ab04fb4818fdaef6dec5388": {
      "model_module": "@jupyter-widgets/controls",
      "model_module_version": "1.5.0",
      "model_name": "DescriptionStyleModel",
      "state": {
       "_model_module": "@jupyter-widgets/controls",
       "_model_module_version": "1.5.0",
       "_model_name": "DescriptionStyleModel",
       "_view_count": null,
       "_view_module": "@jupyter-widgets/base",
       "_view_module_version": "1.2.0",
       "_view_name": "StyleView",
       "description_width": ""
      }
     },
     "19f11b9d7682435d998d5b8658e5df55": {
      "model_module": "@jupyter-widgets/controls",
      "model_module_version": "1.5.0",
      "model_name": "HTMLModel",
      "state": {
       "_dom_classes": [],
       "_model_module": "@jupyter-widgets/controls",
       "_model_module_version": "1.5.0",
       "_model_name": "HTMLModel",
       "_view_count": null,
       "_view_module": "@jupyter-widgets/controls",
       "_view_module_version": "1.5.0",
       "_view_name": "HTMLView",
       "description": "",
       "description_tooltip": null,
       "layout": "IPY_MODEL_4184a709013741d29c3f8ae9e47aabe0",
       "placeholder": "​",
       "style": "IPY_MODEL_8b91a221170f40e2b354798ce0493ea0",
       "value": "Downloading: 100%"
      }
     },
     "1bacc90d6bb4488b8ec0cab781398d2f": {
      "model_module": "@jupyter-widgets/controls",
      "model_module_version": "1.5.0",
      "model_name": "DescriptionStyleModel",
      "state": {
       "_model_module": "@jupyter-widgets/controls",
       "_model_module_version": "1.5.0",
       "_model_name": "DescriptionStyleModel",
       "_view_count": null,
       "_view_module": "@jupyter-widgets/base",
       "_view_module_version": "1.2.0",
       "_view_name": "StyleView",
       "description_width": ""
      }
     },
     "2064a4ffeb96403eaf627db7b2f2de52": {
      "model_module": "@jupyter-widgets/controls",
      "model_module_version": "1.5.0",
      "model_name": "DescriptionStyleModel",
      "state": {
       "_model_module": "@jupyter-widgets/controls",
       "_model_module_version": "1.5.0",
       "_model_name": "DescriptionStyleModel",
       "_view_count": null,
       "_view_module": "@jupyter-widgets/base",
       "_view_module_version": "1.2.0",
       "_view_name": "StyleView",
       "description_width": ""
      }
     },
     "2200bacd84584964a15400c13cd29e4b": {
      "model_module": "@jupyter-widgets/controls",
      "model_module_version": "1.5.0",
      "model_name": "ProgressStyleModel",
      "state": {
       "_model_module": "@jupyter-widgets/controls",
       "_model_module_version": "1.5.0",
       "_model_name": "ProgressStyleModel",
       "_view_count": null,
       "_view_module": "@jupyter-widgets/base",
       "_view_module_version": "1.2.0",
       "_view_name": "StyleView",
       "bar_color": null,
       "description_width": ""
      }
     },
     "31215c228d714a8f9558b277aee6f90d": {
      "model_module": "@jupyter-widgets/controls",
      "model_module_version": "1.5.0",
      "model_name": "FloatProgressModel",
      "state": {
       "_dom_classes": [],
       "_model_module": "@jupyter-widgets/controls",
       "_model_module_version": "1.5.0",
       "_model_name": "FloatProgressModel",
       "_view_count": null,
       "_view_module": "@jupyter-widgets/controls",
       "_view_module_version": "1.5.0",
       "_view_name": "ProgressView",
       "bar_style": "success",
       "description": "",
       "description_tooltip": null,
       "layout": "IPY_MODEL_4ebf4a984d1f4bddbd24e2158e5053cd",
       "max": 379.0,
       "min": 0.0,
       "orientation": "horizontal",
       "style": "IPY_MODEL_61a7018171bc4c11ba4e09999516a818",
       "value": 379.0
      }
     },
     "38b4b53b1fc740b480ce989a08c6b25a": {
      "model_module": "@jupyter-widgets/base",
      "model_module_version": "1.2.0",
      "model_name": "LayoutModel",
      "state": {
       "_model_module": "@jupyter-widgets/base",
       "_model_module_version": "1.2.0",
       "_model_name": "LayoutModel",
       "_view_count": null,
       "_view_module": "@jupyter-widgets/base",
       "_view_module_version": "1.2.0",
       "_view_name": "LayoutView",
       "align_content": null,
       "align_items": null,
       "align_self": null,
       "border": null,
       "bottom": null,
       "display": null,
       "flex": null,
       "flex_flow": null,
       "grid_area": null,
       "grid_auto_columns": null,
       "grid_auto_flow": null,
       "grid_auto_rows": null,
       "grid_column": null,
       "grid_gap": null,
       "grid_row": null,
       "grid_template_areas": null,
       "grid_template_columns": null,
       "grid_template_rows": null,
       "height": null,
       "justify_content": null,
       "justify_items": null,
       "left": null,
       "margin": null,
       "max_height": null,
       "max_width": null,
       "min_height": null,
       "min_width": null,
       "object_fit": null,
       "object_position": null,
       "order": null,
       "overflow": null,
       "overflow_x": null,
       "overflow_y": null,
       "padding": null,
       "right": null,
       "top": null,
       "visibility": null,
       "width": null
      }
     },
     "3f8a1930f81d4df7835f6c410c385fe2": {
      "model_module": "@jupyter-widgets/controls",
      "model_module_version": "1.5.0",
      "model_name": "HBoxModel",
      "state": {
       "_dom_classes": [],
       "_model_module": "@jupyter-widgets/controls",
       "_model_module_version": "1.5.0",
       "_model_name": "HBoxModel",
       "_view_count": null,
       "_view_module": "@jupyter-widgets/controls",
       "_view_module_version": "1.5.0",
       "_view_name": "HBoxView",
       "box_style": "",
       "children": [
        "IPY_MODEL_f1625f95ba39468ca4389c6f4c6c7802",
        "IPY_MODEL_e372759e8d184366a04e9d3b76d0d3df",
        "IPY_MODEL_82783d74fb494fe3a2a6c7e5431c498f"
       ],
       "layout": "IPY_MODEL_42374aea1fd546e18fc91b672403bc90"
      }
     },
     "4184a709013741d29c3f8ae9e47aabe0": {
      "model_module": "@jupyter-widgets/base",
      "model_module_version": "1.2.0",
      "model_name": "LayoutModel",
      "state": {
       "_model_module": "@jupyter-widgets/base",
       "_model_module_version": "1.2.0",
       "_model_name": "LayoutModel",
       "_view_count": null,
       "_view_module": "@jupyter-widgets/base",
       "_view_module_version": "1.2.0",
       "_view_name": "LayoutView",
       "align_content": null,
       "align_items": null,
       "align_self": null,
       "border": null,
       "bottom": null,
       "display": null,
       "flex": null,
       "flex_flow": null,
       "grid_area": null,
       "grid_auto_columns": null,
       "grid_auto_flow": null,
       "grid_auto_rows": null,
       "grid_column": null,
       "grid_gap": null,
       "grid_row": null,
       "grid_template_areas": null,
       "grid_template_columns": null,
       "grid_template_rows": null,
       "height": null,
       "justify_content": null,
       "justify_items": null,
       "left": null,
       "margin": null,
       "max_height": null,
       "max_width": null,
       "min_height": null,
       "min_width": null,
       "object_fit": null,
       "object_position": null,
       "order": null,
       "overflow": null,
       "overflow_x": null,
       "overflow_y": null,
       "padding": null,
       "right": null,
       "top": null,
       "visibility": null,
       "width": null
      }
     },
     "42374aea1fd546e18fc91b672403bc90": {
      "model_module": "@jupyter-widgets/base",
      "model_module_version": "1.2.0",
      "model_name": "LayoutModel",
      "state": {
       "_model_module": "@jupyter-widgets/base",
       "_model_module_version": "1.2.0",
       "_model_name": "LayoutModel",
       "_view_count": null,
       "_view_module": "@jupyter-widgets/base",
       "_view_module_version": "1.2.0",
       "_view_name": "LayoutView",
       "align_content": null,
       "align_items": null,
       "align_self": null,
       "border": null,
       "bottom": null,
       "display": null,
       "flex": null,
       "flex_flow": null,
       "grid_area": null,
       "grid_auto_columns": null,
       "grid_auto_flow": null,
       "grid_auto_rows": null,
       "grid_column": null,
       "grid_gap": null,
       "grid_row": null,
       "grid_template_areas": null,
       "grid_template_columns": null,
       "grid_template_rows": null,
       "height": null,
       "justify_content": null,
       "justify_items": null,
       "left": null,
       "margin": null,
       "max_height": null,
       "max_width": null,
       "min_height": null,
       "min_width": null,
       "object_fit": null,
       "object_position": null,
       "order": null,
       "overflow": null,
       "overflow_x": null,
       "overflow_y": null,
       "padding": null,
       "right": null,
       "top": null,
       "visibility": null,
       "width": null
      }
     },
     "4c865a8ca8fe4f9cb08055517e5613f7": {
      "model_module": "@jupyter-widgets/controls",
      "model_module_version": "1.5.0",
      "model_name": "FloatProgressModel",
      "state": {
       "_dom_classes": [],
       "_model_module": "@jupyter-widgets/controls",
       "_model_module_version": "1.5.0",
       "_model_name": "FloatProgressModel",
       "_view_count": null,
       "_view_module": "@jupyter-widgets/controls",
       "_view_module_version": "1.5.0",
       "_view_name": "ProgressView",
       "bar_style": "success",
       "description": "",
       "description_tooltip": null,
       "layout": "IPY_MODEL_51a27ae754cb4366865d4133a9f4fd14",
       "max": 780034.0,
       "min": 0.0,
       "orientation": "horizontal",
       "style": "IPY_MODEL_c48eed214e834152b9055641cdeff8b3",
       "value": 780034.0
      }
     },
     "4ebf4a984d1f4bddbd24e2158e5053cd": {
      "model_module": "@jupyter-widgets/base",
      "model_module_version": "1.2.0",
      "model_name": "LayoutModel",
      "state": {
       "_model_module": "@jupyter-widgets/base",
       "_model_module_version": "1.2.0",
       "_model_name": "LayoutModel",
       "_view_count": null,
       "_view_module": "@jupyter-widgets/base",
       "_view_module_version": "1.2.0",
       "_view_name": "LayoutView",
       "align_content": null,
       "align_items": null,
       "align_self": null,
       "border": null,
       "bottom": null,
       "display": null,
       "flex": null,
       "flex_flow": null,
       "grid_area": null,
       "grid_auto_columns": null,
       "grid_auto_flow": null,
       "grid_auto_rows": null,
       "grid_column": null,
       "grid_gap": null,
       "grid_row": null,
       "grid_template_areas": null,
       "grid_template_columns": null,
       "grid_template_rows": null,
       "height": null,
       "justify_content": null,
       "justify_items": null,
       "left": null,
       "margin": null,
       "max_height": null,
       "max_width": null,
       "min_height": null,
       "min_width": null,
       "object_fit": null,
       "object_position": null,
       "order": null,
       "overflow": null,
       "overflow_x": null,
       "overflow_y": null,
       "padding": null,
       "right": null,
       "top": null,
       "visibility": null,
       "width": null
      }
     },
     "51a27ae754cb4366865d4133a9f4fd14": {
      "model_module": "@jupyter-widgets/base",
      "model_module_version": "1.2.0",
      "model_name": "LayoutModel",
      "state": {
       "_model_module": "@jupyter-widgets/base",
       "_model_module_version": "1.2.0",
       "_model_name": "LayoutModel",
       "_view_count": null,
       "_view_module": "@jupyter-widgets/base",
       "_view_module_version": "1.2.0",
       "_view_name": "LayoutView",
       "align_content": null,
       "align_items": null,
       "align_self": null,
       "border": null,
       "bottom": null,
       "display": null,
       "flex": null,
       "flex_flow": null,
       "grid_area": null,
       "grid_auto_columns": null,
       "grid_auto_flow": null,
       "grid_auto_rows": null,
       "grid_column": null,
       "grid_gap": null,
       "grid_row": null,
       "grid_template_areas": null,
       "grid_template_columns": null,
       "grid_template_rows": null,
       "height": null,
       "justify_content": null,
       "justify_items": null,
       "left": null,
       "margin": null,
       "max_height": null,
       "max_width": null,
       "min_height": null,
       "min_width": null,
       "object_fit": null,
       "object_position": null,
       "order": null,
       "overflow": null,
       "overflow_x": null,
       "overflow_y": null,
       "padding": null,
       "right": null,
       "top": null,
       "visibility": null,
       "width": null
      }
     },
     "5794466392e240ce9a6a7fdda54d70ec": {
      "model_module": "@jupyter-widgets/base",
      "model_module_version": "1.2.0",
      "model_name": "LayoutModel",
      "state": {
       "_model_module": "@jupyter-widgets/base",
       "_model_module_version": "1.2.0",
       "_model_name": "LayoutModel",
       "_view_count": null,
       "_view_module": "@jupyter-widgets/base",
       "_view_module_version": "1.2.0",
       "_view_name": "LayoutView",
       "align_content": null,
       "align_items": null,
       "align_self": null,
       "border": null,
       "bottom": null,
       "display": null,
       "flex": null,
       "flex_flow": null,
       "grid_area": null,
       "grid_auto_columns": null,
       "grid_auto_flow": null,
       "grid_auto_rows": null,
       "grid_column": null,
       "grid_gap": null,
       "grid_row": null,
       "grid_template_areas": null,
       "grid_template_columns": null,
       "grid_template_rows": null,
       "height": null,
       "justify_content": null,
       "justify_items": null,
       "left": null,
       "margin": null,
       "max_height": null,
       "max_width": null,
       "min_height": null,
       "min_width": null,
       "object_fit": null,
       "object_position": null,
       "order": null,
       "overflow": null,
       "overflow_x": null,
       "overflow_y": null,
       "padding": null,
       "right": null,
       "top": null,
       "visibility": null,
       "width": null
      }
     },
     "61a7018171bc4c11ba4e09999516a818": {
      "model_module": "@jupyter-widgets/controls",
      "model_module_version": "1.5.0",
      "model_name": "ProgressStyleModel",
      "state": {
       "_model_module": "@jupyter-widgets/controls",
       "_model_module_version": "1.5.0",
       "_model_name": "ProgressStyleModel",
       "_view_count": null,
       "_view_module": "@jupyter-widgets/base",
       "_view_module_version": "1.2.0",
       "_view_name": "StyleView",
       "bar_color": null,
       "description_width": ""
      }
     },
     "67891a71009c481fb864007e1aa91967": {
      "model_module": "@jupyter-widgets/controls",
      "model_module_version": "1.5.0",
      "model_name": "HTMLModel",
      "state": {
       "_dom_classes": [],
       "_model_module": "@jupyter-widgets/controls",
       "_model_module_version": "1.5.0",
       "_model_name": "HTMLModel",
       "_view_count": null,
       "_view_module": "@jupyter-widgets/controls",
       "_view_module_version": "1.5.0",
       "_view_name": "HTMLView",
       "description": "",
       "description_tooltip": null,
       "layout": "IPY_MODEL_dec41b02a0a549c38273324b844668a1",
       "placeholder": "​",
       "style": "IPY_MODEL_e02d96e81e2e476ebbbc4fadda90407e",
       "value": "Downloading: 100%"
      }
     },
     "709ea0f0bc35453992a259efdc48720c": {
      "model_module": "@jupyter-widgets/base",
      "model_module_version": "1.2.0",
      "model_name": "LayoutModel",
      "state": {
       "_model_module": "@jupyter-widgets/base",
       "_model_module_version": "1.2.0",
       "_model_name": "LayoutModel",
       "_view_count": null,
       "_view_module": "@jupyter-widgets/base",
       "_view_module_version": "1.2.0",
       "_view_name": "LayoutView",
       "align_content": null,
       "align_items": null,
       "align_self": null,
       "border": null,
       "bottom": null,
       "display": null,
       "flex": null,
       "flex_flow": null,
       "grid_area": null,
       "grid_auto_columns": null,
       "grid_auto_flow": null,
       "grid_auto_rows": null,
       "grid_column": null,
       "grid_gap": null,
       "grid_row": null,
       "grid_template_areas": null,
       "grid_template_columns": null,
       "grid_template_rows": null,
       "height": null,
       "justify_content": null,
       "justify_items": null,
       "left": null,
       "margin": null,
       "max_height": null,
       "max_width": null,
       "min_height": null,
       "min_width": null,
       "object_fit": null,
       "object_position": null,
       "order": null,
       "overflow": null,
       "overflow_x": null,
       "overflow_y": null,
       "padding": null,
       "right": null,
       "top": null,
       "visibility": null,
       "width": null
      }
     },
     "7b345f264a1d4110a4185ce19930631c": {
      "model_module": "@jupyter-widgets/base",
      "model_module_version": "1.2.0",
      "model_name": "LayoutModel",
      "state": {
       "_model_module": "@jupyter-widgets/base",
       "_model_module_version": "1.2.0",
       "_model_name": "LayoutModel",
       "_view_count": null,
       "_view_module": "@jupyter-widgets/base",
       "_view_module_version": "1.2.0",
       "_view_name": "LayoutView",
       "align_content": null,
       "align_items": null,
       "align_self": null,
       "border": null,
       "bottom": null,
       "display": null,
       "flex": null,
       "flex_flow": null,
       "grid_area": null,
       "grid_auto_columns": null,
       "grid_auto_flow": null,
       "grid_auto_rows": null,
       "grid_column": null,
       "grid_gap": null,
       "grid_row": null,
       "grid_template_areas": null,
       "grid_template_columns": null,
       "grid_template_rows": null,
       "height": null,
       "justify_content": null,
       "justify_items": null,
       "left": null,
       "margin": null,
       "max_height": null,
       "max_width": null,
       "min_height": null,
       "min_width": null,
       "object_fit": null,
       "object_position": null,
       "order": null,
       "overflow": null,
       "overflow_x": null,
       "overflow_y": null,
       "padding": null,
       "right": null,
       "top": null,
       "visibility": null,
       "width": null
      }
     },
     "7ed4cbc448b0408ea9ddc22c6f2d5b21": {
      "model_module": "@jupyter-widgets/controls",
      "model_module_version": "1.5.0",
      "model_name": "DescriptionStyleModel",
      "state": {
       "_model_module": "@jupyter-widgets/controls",
       "_model_module_version": "1.5.0",
       "_model_name": "DescriptionStyleModel",
       "_view_count": null,
       "_view_module": "@jupyter-widgets/base",
       "_view_module_version": "1.2.0",
       "_view_name": "StyleView",
       "description_width": ""
      }
     },
     "82422c98d9164b16af93c33b741d403a": {
      "model_module": "@jupyter-widgets/controls",
      "model_module_version": "1.5.0",
      "model_name": "FloatProgressModel",
      "state": {
       "_dom_classes": [],
       "_model_module": "@jupyter-widgets/controls",
       "_model_module_version": "1.5.0",
       "_model_name": "FloatProgressModel",
       "_view_count": null,
       "_view_module": "@jupyter-widgets/controls",
       "_view_module_version": "1.5.0",
       "_view_name": "ProgressView",
       "bar_style": "success",
       "description": "",
       "description_tooltip": null,
       "layout": "IPY_MODEL_eeaabaf81fe84150b5b5f628f91174b4",
       "max": 576.0,
       "min": 0.0,
       "orientation": "horizontal",
       "style": "IPY_MODEL_aac51275e05c41b79c0c1e1ac90206da",
       "value": 576.0
      }
     },
     "82783d74fb494fe3a2a6c7e5431c498f": {
      "model_module": "@jupyter-widgets/controls",
      "model_module_version": "1.5.0",
      "model_name": "HTMLModel",
      "state": {
       "_dom_classes": [],
       "_model_module": "@jupyter-widgets/controls",
       "_model_module_version": "1.5.0",
       "_model_name": "HTMLModel",
       "_view_count": null,
       "_view_module": "@jupyter-widgets/controls",
       "_view_module_version": "1.5.0",
       "_view_name": "HTMLView",
       "description": "",
       "description_tooltip": null,
       "layout": "IPY_MODEL_ac065740878c41e4959cdc6c172ea97f",
       "placeholder": "​",
       "style": "IPY_MODEL_7ed4cbc448b0408ea9ddc22c6f2d5b21",
       "value": " 112/112 [00:00&lt;00:00, 4.41kB/s]"
      }
     },
     "85114e80f6de49f2af0d7c9ba8fc7e6f": {
      "model_module": "@jupyter-widgets/controls",
      "model_module_version": "1.5.0",
      "model_name": "FloatProgressModel",
      "state": {
       "_dom_classes": [],
       "_model_module": "@jupyter-widgets/controls",
       "_model_module_version": "1.5.0",
       "_model_name": "FloatProgressModel",
       "_view_count": null,
       "_view_module": "@jupyter-widgets/controls",
       "_view_module_version": "1.5.0",
       "_view_name": "ProgressView",
       "bar_style": "success",
       "description": "",
       "description_tooltip": null,
       "layout": "IPY_MODEL_a88956f31f174610918e5183ea6ce27e",
       "max": 741884184.0,
       "min": 0.0,
       "orientation": "horizontal",
       "style": "IPY_MODEL_f763400ecb7842cc84631549a1903600",
       "value": 741884184.0
      }
     },
     "89e60e9aad2e47c6b3198d8d901a171a": {
      "model_module": "@jupyter-widgets/base",
      "model_module_version": "1.2.0",
      "model_name": "LayoutModel",
      "state": {
       "_model_module": "@jupyter-widgets/base",
       "_model_module_version": "1.2.0",
       "_model_name": "LayoutModel",
       "_view_count": null,
       "_view_module": "@jupyter-widgets/base",
       "_view_module_version": "1.2.0",
       "_view_name": "LayoutView",
       "align_content": null,
       "align_items": null,
       "align_self": null,
       "border": null,
       "bottom": null,
       "display": null,
       "flex": null,
       "flex_flow": null,
       "grid_area": null,
       "grid_auto_columns": null,
       "grid_auto_flow": null,
       "grid_auto_rows": null,
       "grid_column": null,
       "grid_gap": null,
       "grid_row": null,
       "grid_template_areas": null,
       "grid_template_columns": null,
       "grid_template_rows": null,
       "height": null,
       "justify_content": null,
       "justify_items": null,
       "left": null,
       "margin": null,
       "max_height": null,
       "max_width": null,
       "min_height": null,
       "min_width": null,
       "object_fit": null,
       "object_position": null,
       "order": null,
       "overflow": null,
       "overflow_x": null,
       "overflow_y": null,
       "padding": null,
       "right": null,
       "top": null,
       "visibility": null,
       "width": null
      }
     },
     "8b91a221170f40e2b354798ce0493ea0": {
      "model_module": "@jupyter-widgets/controls",
      "model_module_version": "1.5.0",
      "model_name": "DescriptionStyleModel",
      "state": {
       "_model_module": "@jupyter-widgets/controls",
       "_model_module_version": "1.5.0",
       "_model_name": "DescriptionStyleModel",
       "_view_count": null,
       "_view_module": "@jupyter-widgets/base",
       "_view_module_version": "1.2.0",
       "_view_name": "StyleView",
       "description_width": ""
      }
     },
     "8d2ba7221f9445809c6e68719f18ab73": {
      "model_module": "@jupyter-widgets/base",
      "model_module_version": "1.2.0",
      "model_name": "LayoutModel",
      "state": {
       "_model_module": "@jupyter-widgets/base",
       "_model_module_version": "1.2.0",
       "_model_name": "LayoutModel",
       "_view_count": null,
       "_view_module": "@jupyter-widgets/base",
       "_view_module_version": "1.2.0",
       "_view_name": "LayoutView",
       "align_content": null,
       "align_items": null,
       "align_self": null,
       "border": null,
       "bottom": null,
       "display": null,
       "flex": null,
       "flex_flow": null,
       "grid_area": null,
       "grid_auto_columns": null,
       "grid_auto_flow": null,
       "grid_auto_rows": null,
       "grid_column": null,
       "grid_gap": null,
       "grid_row": null,
       "grid_template_areas": null,
       "grid_template_columns": null,
       "grid_template_rows": null,
       "height": null,
       "justify_content": null,
       "justify_items": null,
       "left": null,
       "margin": null,
       "max_height": null,
       "max_width": null,
       "min_height": null,
       "min_width": null,
       "object_fit": null,
       "object_position": null,
       "order": null,
       "overflow": null,
       "overflow_x": null,
       "overflow_y": null,
       "padding": null,
       "right": null,
       "top": null,
       "visibility": null,
       "width": null
      }
     },
     "9859a2068b4346a3a1132124cd1ea69a": {
      "model_module": "@jupyter-widgets/controls",
      "model_module_version": "1.5.0",
      "model_name": "HTMLModel",
      "state": {
       "_dom_classes": [],
       "_model_module": "@jupyter-widgets/controls",
       "_model_module_version": "1.5.0",
       "_model_name": "HTMLModel",
       "_view_count": null,
       "_view_module": "@jupyter-widgets/controls",
       "_view_module_version": "1.5.0",
       "_view_name": "HTMLView",
       "description": "",
       "description_tooltip": null,
       "layout": "IPY_MODEL_e4da144c04494c6e84d984ea9383a68d",
       "placeholder": "​",
       "style": "IPY_MODEL_098d9e5a3cac4ed1bb6f043249b16ce3",
       "value": " 762k/762k [00:00&lt;00:00, 1.84MB/s]"
      }
     },
     "9a33f776dd074be18655d4d696ed8beb": {
      "model_module": "@jupyter-widgets/base",
      "model_module_version": "1.2.0",
      "model_name": "LayoutModel",
      "state": {
       "_model_module": "@jupyter-widgets/base",
       "_model_module_version": "1.2.0",
       "_model_name": "LayoutModel",
       "_view_count": null,
       "_view_module": "@jupyter-widgets/base",
       "_view_module_version": "1.2.0",
       "_view_name": "LayoutView",
       "align_content": null,
       "align_items": null,
       "align_self": null,
       "border": null,
       "bottom": null,
       "display": null,
       "flex": null,
       "flex_flow": null,
       "grid_area": null,
       "grid_auto_columns": null,
       "grid_auto_flow": null,
       "grid_auto_rows": null,
       "grid_column": null,
       "grid_gap": null,
       "grid_row": null,
       "grid_template_areas": null,
       "grid_template_columns": null,
       "grid_template_rows": null,
       "height": null,
       "justify_content": null,
       "justify_items": null,
       "left": null,
       "margin": null,
       "max_height": null,
       "max_width": null,
       "min_height": null,
       "min_width": null,
       "object_fit": null,
       "object_position": null,
       "order": null,
       "overflow": null,
       "overflow_x": null,
       "overflow_y": null,
       "padding": null,
       "right": null,
       "top": null,
       "visibility": null,
       "width": null
      }
     },
     "9f8a976bd6564089b6792947e8d1c9c6": {
      "model_module": "@jupyter-widgets/controls",
      "model_module_version": "1.5.0",
      "model_name": "FloatProgressModel",
      "state": {
       "_dom_classes": [],
       "_model_module": "@jupyter-widgets/controls",
       "_model_module_version": "1.5.0",
       "_model_name": "FloatProgressModel",
       "_view_count": null,
       "_view_module": "@jupyter-widgets/controls",
       "_view_module_version": "1.5.0",
       "_view_name": "ProgressView",
       "bar_style": "success",
       "description": "",
       "description_tooltip": null,
       "layout": "IPY_MODEL_5794466392e240ce9a6a7fdda54d70ec",
       "max": 2697421.0,
       "min": 0.0,
       "orientation": "horizontal",
       "style": "IPY_MODEL_ff7a74eb12a24214b7048dbb33f377eb",
       "value": 2697421.0
      }
     },
     "a02e497aadfc47258c7839ec44c13db7": {
      "model_module": "@jupyter-widgets/controls",
      "model_module_version": "1.5.0",
      "model_name": "DescriptionStyleModel",
      "state": {
       "_model_module": "@jupyter-widgets/controls",
       "_model_module_version": "1.5.0",
       "_model_name": "DescriptionStyleModel",
       "_view_count": null,
       "_view_module": "@jupyter-widgets/base",
       "_view_module_version": "1.2.0",
       "_view_name": "StyleView",
       "description_width": ""
      }
     },
     "a88956f31f174610918e5183ea6ce27e": {
      "model_module": "@jupyter-widgets/base",
      "model_module_version": "1.2.0",
      "model_name": "LayoutModel",
      "state": {
       "_model_module": "@jupyter-widgets/base",
       "_model_module_version": "1.2.0",
       "_model_name": "LayoutModel",
       "_view_count": null,
       "_view_module": "@jupyter-widgets/base",
       "_view_module_version": "1.2.0",
       "_view_name": "LayoutView",
       "align_content": null,
       "align_items": null,
       "align_self": null,
       "border": null,
       "bottom": null,
       "display": null,
       "flex": null,
       "flex_flow": null,
       "grid_area": null,
       "grid_auto_columns": null,
       "grid_auto_flow": null,
       "grid_auto_rows": null,
       "grid_column": null,
       "grid_gap": null,
       "grid_row": null,
       "grid_template_areas": null,
       "grid_template_columns": null,
       "grid_template_rows": null,
       "height": null,
       "justify_content": null,
       "justify_items": null,
       "left": null,
       "margin": null,
       "max_height": null,
       "max_width": null,
       "min_height": null,
       "min_width": null,
       "object_fit": null,
       "object_position": null,
       "order": null,
       "overflow": null,
       "overflow_x": null,
       "overflow_y": null,
       "padding": null,
       "right": null,
       "top": null,
       "visibility": null,
       "width": null
      }
     },
     "aabc72963c604a309acdcea324ae756f": {
      "model_module": "@jupyter-widgets/controls",
      "model_module_version": "1.5.0",
      "model_name": "HTMLModel",
      "state": {
       "_dom_classes": [],
       "_model_module": "@jupyter-widgets/controls",
       "_model_module_version": "1.5.0",
       "_model_name": "HTMLModel",
       "_view_count": null,
       "_view_module": "@jupyter-widgets/controls",
       "_view_module_version": "1.5.0",
       "_view_name": "HTMLView",
       "description": "",
       "description_tooltip": null,
       "layout": "IPY_MODEL_0fe08b8d539c4bf1a7c6f4b33c167ad0",
       "placeholder": "​",
       "style": "IPY_MODEL_d2a96b4c2bc7404a9936f47914b10fef",
       "value": " 576/576 [00:00&lt;00:00, 21.4kB/s]"
      }
     },
     "aac51275e05c41b79c0c1e1ac90206da": {
      "model_module": "@jupyter-widgets/controls",
      "model_module_version": "1.5.0",
      "model_name": "ProgressStyleModel",
      "state": {
       "_model_module": "@jupyter-widgets/controls",
       "_model_module_version": "1.5.0",
       "_model_name": "ProgressStyleModel",
       "_view_count": null,
       "_view_module": "@jupyter-widgets/base",
       "_view_module_version": "1.2.0",
       "_view_name": "StyleView",
       "bar_color": null,
       "description_width": ""
      }
     },
     "ac065740878c41e4959cdc6c172ea97f": {
      "model_module": "@jupyter-widgets/base",
      "model_module_version": "1.2.0",
      "model_name": "LayoutModel",
      "state": {
       "_model_module": "@jupyter-widgets/base",
       "_model_module_version": "1.2.0",
       "_model_name": "LayoutModel",
       "_view_count": null,
       "_view_module": "@jupyter-widgets/base",
       "_view_module_version": "1.2.0",
       "_view_name": "LayoutView",
       "align_content": null,
       "align_items": null,
       "align_self": null,
       "border": null,
       "bottom": null,
       "display": null,
       "flex": null,
       "flex_flow": null,
       "grid_area": null,
       "grid_auto_columns": null,
       "grid_auto_flow": null,
       "grid_auto_rows": null,
       "grid_column": null,
       "grid_gap": null,
       "grid_row": null,
       "grid_template_areas": null,
       "grid_template_columns": null,
       "grid_template_rows": null,
       "height": null,
       "justify_content": null,
       "justify_items": null,
       "left": null,
       "margin": null,
       "max_height": null,
       "max_width": null,
       "min_height": null,
       "min_width": null,
       "object_fit": null,
       "object_position": null,
       "order": null,
       "overflow": null,
       "overflow_x": null,
       "overflow_y": null,
       "padding": null,
       "right": null,
       "top": null,
       "visibility": null,
       "width": null
      }
     },
     "b14966e23f36462c86e881076ecf5178": {
      "model_module": "@jupyter-widgets/base",
      "model_module_version": "1.2.0",
      "model_name": "LayoutModel",
      "state": {
       "_model_module": "@jupyter-widgets/base",
       "_model_module_version": "1.2.0",
       "_model_name": "LayoutModel",
       "_view_count": null,
       "_view_module": "@jupyter-widgets/base",
       "_view_module_version": "1.2.0",
       "_view_name": "LayoutView",
       "align_content": null,
       "align_items": null,
       "align_self": null,
       "border": null,
       "bottom": null,
       "display": null,
       "flex": null,
       "flex_flow": null,
       "grid_area": null,
       "grid_auto_columns": null,
       "grid_auto_flow": null,
       "grid_auto_rows": null,
       "grid_column": null,
       "grid_gap": null,
       "grid_row": null,
       "grid_template_areas": null,
       "grid_template_columns": null,
       "grid_template_rows": null,
       "height": null,
       "justify_content": null,
       "justify_items": null,
       "left": null,
       "margin": null,
       "max_height": null,
       "max_width": null,
       "min_height": null,
       "min_width": null,
       "object_fit": null,
       "object_position": null,
       "order": null,
       "overflow": null,
       "overflow_x": null,
       "overflow_y": null,
       "padding": null,
       "right": null,
       "top": null,
       "visibility": null,
       "width": null
      }
     },
     "bc07f08f19ae4f79829097affe34fd70": {
      "model_module": "@jupyter-widgets/base",
      "model_module_version": "1.2.0",
      "model_name": "LayoutModel",
      "state": {
       "_model_module": "@jupyter-widgets/base",
       "_model_module_version": "1.2.0",
       "_model_name": "LayoutModel",
       "_view_count": null,
       "_view_module": "@jupyter-widgets/base",
       "_view_module_version": "1.2.0",
       "_view_name": "LayoutView",
       "align_content": null,
       "align_items": null,
       "align_self": null,
       "border": null,
       "bottom": null,
       "display": null,
       "flex": null,
       "flex_flow": null,
       "grid_area": null,
       "grid_auto_columns": null,
       "grid_auto_flow": null,
       "grid_auto_rows": null,
       "grid_column": null,
       "grid_gap": null,
       "grid_row": null,
       "grid_template_areas": null,
       "grid_template_columns": null,
       "grid_template_rows": null,
       "height": null,
       "justify_content": null,
       "justify_items": null,
       "left": null,
       "margin": null,
       "max_height": null,
       "max_width": null,
       "min_height": null,
       "min_width": null,
       "object_fit": null,
       "object_position": null,
       "order": null,
       "overflow": null,
       "overflow_x": null,
       "overflow_y": null,
       "padding": null,
       "right": null,
       "top": null,
       "visibility": null,
       "width": null
      }
     },
     "c48eed214e834152b9055641cdeff8b3": {
      "model_module": "@jupyter-widgets/controls",
      "model_module_version": "1.5.0",
      "model_name": "ProgressStyleModel",
      "state": {
       "_model_module": "@jupyter-widgets/controls",
       "_model_module_version": "1.5.0",
       "_model_name": "ProgressStyleModel",
       "_view_count": null,
       "_view_module": "@jupyter-widgets/base",
       "_view_module_version": "1.2.0",
       "_view_name": "StyleView",
       "bar_color": null,
       "description_width": ""
      }
     },
     "c4d4b9cfbb3d4c23acb159486258e69a": {
      "model_module": "@jupyter-widgets/controls",
      "model_module_version": "1.5.0",
      "model_name": "HBoxModel",
      "state": {
       "_dom_classes": [],
       "_model_module": "@jupyter-widgets/controls",
       "_model_module_version": "1.5.0",
       "_model_name": "HBoxModel",
       "_view_count": null,
       "_view_module": "@jupyter-widgets/controls",
       "_view_module_version": "1.5.0",
       "_view_name": "HBoxView",
       "box_style": "",
       "children": [
        "IPY_MODEL_19f11b9d7682435d998d5b8658e5df55",
        "IPY_MODEL_82422c98d9164b16af93c33b741d403a",
        "IPY_MODEL_aabc72963c604a309acdcea324ae756f"
       ],
       "layout": "IPY_MODEL_0364b6e3de8d46aab7e5e145b91c1885"
      }
     },
     "c59ef7705be54f978bf48f18de991da6": {
      "model_module": "@jupyter-widgets/controls",
      "model_module_version": "1.5.0",
      "model_name": "DescriptionStyleModel",
      "state": {
       "_model_module": "@jupyter-widgets/controls",
       "_model_module_version": "1.5.0",
       "_model_name": "DescriptionStyleModel",
       "_view_count": null,
       "_view_module": "@jupyter-widgets/base",
       "_view_module_version": "1.2.0",
       "_view_name": "StyleView",
       "description_width": ""
      }
     },
     "d2a96b4c2bc7404a9936f47914b10fef": {
      "model_module": "@jupyter-widgets/controls",
      "model_module_version": "1.5.0",
      "model_name": "DescriptionStyleModel",
      "state": {
       "_model_module": "@jupyter-widgets/controls",
       "_model_module_version": "1.5.0",
       "_model_name": "DescriptionStyleModel",
       "_view_count": null,
       "_view_module": "@jupyter-widgets/base",
       "_view_module_version": "1.2.0",
       "_view_name": "StyleView",
       "description_width": ""
      }
     },
     "d3636b19091a4351b566a8a64e3695eb": {
      "model_module": "@jupyter-widgets/controls",
      "model_module_version": "1.5.0",
      "model_name": "HBoxModel",
      "state": {
       "_dom_classes": [],
       "_model_module": "@jupyter-widgets/controls",
       "_model_module_version": "1.5.0",
       "_model_name": "HBoxModel",
       "_view_count": null,
       "_view_module": "@jupyter-widgets/controls",
       "_view_module_version": "1.5.0",
       "_view_name": "HBoxView",
       "box_style": "",
       "children": [
        "IPY_MODEL_d6ec8afc37444455bc54035161e7c349",
        "IPY_MODEL_85114e80f6de49f2af0d7c9ba8fc7e6f",
        "IPY_MODEL_d77ac9e9e5b845dcb0abcc2232816011"
       ],
       "layout": "IPY_MODEL_8d2ba7221f9445809c6e68719f18ab73"
      }
     },
     "d5d5313b2a06452eb511a7915d6ab4bf": {
      "model_module": "@jupyter-widgets/controls",
      "model_module_version": "1.5.0",
      "model_name": "HBoxModel",
      "state": {
       "_dom_classes": [],
       "_model_module": "@jupyter-widgets/controls",
       "_model_module_version": "1.5.0",
       "_model_name": "HBoxModel",
       "_view_count": null,
       "_view_module": "@jupyter-widgets/controls",
       "_view_module_version": "1.5.0",
       "_view_name": "HBoxView",
       "box_style": "",
       "children": [
        "IPY_MODEL_67891a71009c481fb864007e1aa91967",
        "IPY_MODEL_31215c228d714a8f9558b277aee6f90d",
        "IPY_MODEL_097e6408ba534836b1430aa73416299b"
       ],
       "layout": "IPY_MODEL_9a33f776dd074be18655d4d696ed8beb"
      }
     },
     "d6ec8afc37444455bc54035161e7c349": {
      "model_module": "@jupyter-widgets/controls",
      "model_module_version": "1.5.0",
      "model_name": "HTMLModel",
      "state": {
       "_dom_classes": [],
       "_model_module": "@jupyter-widgets/controls",
       "_model_module_version": "1.5.0",
       "_model_name": "HTMLModel",
       "_view_count": null,
       "_view_module": "@jupyter-widgets/controls",
       "_view_module_version": "1.5.0",
       "_view_name": "HTMLView",
       "description": "",
       "description_tooltip": null,
       "layout": "IPY_MODEL_fd833733601b40c5b26fa187259f27d6",
       "placeholder": "​",
       "style": "IPY_MODEL_2064a4ffeb96403eaf627db7b2f2de52",
       "value": "Downloading: 100%"
      }
     },
     "d77ac9e9e5b845dcb0abcc2232816011": {
      "model_module": "@jupyter-widgets/controls",
      "model_module_version": "1.5.0",
      "model_name": "HTMLModel",
      "state": {
       "_dom_classes": [],
       "_model_module": "@jupyter-widgets/controls",
       "_model_module_version": "1.5.0",
       "_model_name": "HTMLModel",
       "_view_count": null,
       "_view_module": "@jupyter-widgets/controls",
       "_view_module_version": "1.5.0",
       "_view_name": "HTMLView",
       "description": "",
       "description_tooltip": null,
       "layout": "IPY_MODEL_09d448c0a75244e9ab6a9f2bea9a129b",
       "placeholder": "​",
       "style": "IPY_MODEL_c59ef7705be54f978bf48f18de991da6",
       "value": " 708M/708M [00:20&lt;00:00, 44.3MB/s]"
      }
     },
     "de5ca9a8d8434eab818c052eda114ae4": {
      "model_module": "@jupyter-widgets/base",
      "model_module_version": "1.2.0",
      "model_name": "LayoutModel",
      "state": {
       "_model_module": "@jupyter-widgets/base",
       "_model_module_version": "1.2.0",
       "_model_name": "LayoutModel",
       "_view_count": null,
       "_view_module": "@jupyter-widgets/base",
       "_view_module_version": "1.2.0",
       "_view_name": "LayoutView",
       "align_content": null,
       "align_items": null,
       "align_self": null,
       "border": null,
       "bottom": null,
       "display": null,
       "flex": null,
       "flex_flow": null,
       "grid_area": null,
       "grid_auto_columns": null,
       "grid_auto_flow": null,
       "grid_auto_rows": null,
       "grid_column": null,
       "grid_gap": null,
       "grid_row": null,
       "grid_template_areas": null,
       "grid_template_columns": null,
       "grid_template_rows": null,
       "height": null,
       "justify_content": null,
       "justify_items": null,
       "left": null,
       "margin": null,
       "max_height": null,
       "max_width": null,
       "min_height": null,
       "min_width": null,
       "object_fit": null,
       "object_position": null,
       "order": null,
       "overflow": null,
       "overflow_x": null,
       "overflow_y": null,
       "padding": null,
       "right": null,
       "top": null,
       "visibility": null,
       "width": null
      }
     },
     "dec41b02a0a549c38273324b844668a1": {
      "model_module": "@jupyter-widgets/base",
      "model_module_version": "1.2.0",
      "model_name": "LayoutModel",
      "state": {
       "_model_module": "@jupyter-widgets/base",
       "_model_module_version": "1.2.0",
       "_model_name": "LayoutModel",
       "_view_count": null,
       "_view_module": "@jupyter-widgets/base",
       "_view_module_version": "1.2.0",
       "_view_name": "LayoutView",
       "align_content": null,
       "align_items": null,
       "align_self": null,
       "border": null,
       "bottom": null,
       "display": null,
       "flex": null,
       "flex_flow": null,
       "grid_area": null,
       "grid_auto_columns": null,
       "grid_auto_flow": null,
       "grid_auto_rows": null,
       "grid_column": null,
       "grid_gap": null,
       "grid_row": null,
       "grid_template_areas": null,
       "grid_template_columns": null,
       "grid_template_rows": null,
       "height": null,
       "justify_content": null,
       "justify_items": null,
       "left": null,
       "margin": null,
       "max_height": null,
       "max_width": null,
       "min_height": null,
       "min_width": null,
       "object_fit": null,
       "object_position": null,
       "order": null,
       "overflow": null,
       "overflow_x": null,
       "overflow_y": null,
       "padding": null,
       "right": null,
       "top": null,
       "visibility": null,
       "width": null
      }
     },
     "e02d96e81e2e476ebbbc4fadda90407e": {
      "model_module": "@jupyter-widgets/controls",
      "model_module_version": "1.5.0",
      "model_name": "DescriptionStyleModel",
      "state": {
       "_model_module": "@jupyter-widgets/controls",
       "_model_module_version": "1.5.0",
       "_model_name": "DescriptionStyleModel",
       "_view_count": null,
       "_view_module": "@jupyter-widgets/base",
       "_view_module_version": "1.2.0",
       "_view_name": "StyleView",
       "description_width": ""
      }
     },
     "e188f1a83cdd448896fd055f0a564d0a": {
      "model_module": "@jupyter-widgets/controls",
      "model_module_version": "1.5.0",
      "model_name": "HTMLModel",
      "state": {
       "_dom_classes": [],
       "_model_module": "@jupyter-widgets/controls",
       "_model_module_version": "1.5.0",
       "_model_name": "HTMLModel",
       "_view_count": null,
       "_view_module": "@jupyter-widgets/controls",
       "_view_module_version": "1.5.0",
       "_view_name": "HTMLView",
       "description": "",
       "description_tooltip": null,
       "layout": "IPY_MODEL_38b4b53b1fc740b480ce989a08c6b25a",
       "placeholder": "​",
       "style": "IPY_MODEL_1bacc90d6bb4488b8ec0cab781398d2f",
       "value": "Downloading: 100%"
      }
     },
     "e372759e8d184366a04e9d3b76d0d3df": {
      "model_module": "@jupyter-widgets/controls",
      "model_module_version": "1.5.0",
      "model_name": "FloatProgressModel",
      "state": {
       "_dom_classes": [],
       "_model_module": "@jupyter-widgets/controls",
       "_model_module_version": "1.5.0",
       "_model_name": "FloatProgressModel",
       "_view_count": null,
       "_view_module": "@jupyter-widgets/controls",
       "_view_module_version": "1.5.0",
       "_view_name": "ProgressView",
       "bar_style": "success",
       "description": "",
       "description_tooltip": null,
       "layout": "IPY_MODEL_89e60e9aad2e47c6b3198d8d901a171a",
       "max": 112.0,
       "min": 0.0,
       "orientation": "horizontal",
       "style": "IPY_MODEL_2200bacd84584964a15400c13cd29e4b",
       "value": 112.0
      }
     },
     "e4da144c04494c6e84d984ea9383a68d": {
      "model_module": "@jupyter-widgets/base",
      "model_module_version": "1.2.0",
      "model_name": "LayoutModel",
      "state": {
       "_model_module": "@jupyter-widgets/base",
       "_model_module_version": "1.2.0",
       "_model_name": "LayoutModel",
       "_view_count": null,
       "_view_module": "@jupyter-widgets/base",
       "_view_module_version": "1.2.0",
       "_view_name": "LayoutView",
       "align_content": null,
       "align_items": null,
       "align_self": null,
       "border": null,
       "bottom": null,
       "display": null,
       "flex": null,
       "flex_flow": null,
       "grid_area": null,
       "grid_auto_columns": null,
       "grid_auto_flow": null,
       "grid_auto_rows": null,
       "grid_column": null,
       "grid_gap": null,
       "grid_row": null,
       "grid_template_areas": null,
       "grid_template_columns": null,
       "grid_template_rows": null,
       "height": null,
       "justify_content": null,
       "justify_items": null,
       "left": null,
       "margin": null,
       "max_height": null,
       "max_width": null,
       "min_height": null,
       "min_width": null,
       "object_fit": null,
       "object_position": null,
       "order": null,
       "overflow": null,
       "overflow_x": null,
       "overflow_y": null,
       "padding": null,
       "right": null,
       "top": null,
       "visibility": null,
       "width": null
      }
     },
     "e5ea66426acc444e97959171e9ddb95a": {
      "model_module": "@jupyter-widgets/controls",
      "model_module_version": "1.5.0",
      "model_name": "HBoxModel",
      "state": {
       "_dom_classes": [],
       "_model_module": "@jupyter-widgets/controls",
       "_model_module_version": "1.5.0",
       "_model_name": "HBoxModel",
       "_view_count": null,
       "_view_module": "@jupyter-widgets/controls",
       "_view_module_version": "1.5.0",
       "_view_name": "HBoxView",
       "box_style": "",
       "children": [
        "IPY_MODEL_05d896c4f01a4a67b1ba93ccd3b75b6a",
        "IPY_MODEL_9f8a976bd6564089b6792947e8d1c9c6",
        "IPY_MODEL_f401735da2364218accd15230eef7bd4"
       ],
       "layout": "IPY_MODEL_7b345f264a1d4110a4185ce19930631c"
      }
     },
     "eeaabaf81fe84150b5b5f628f91174b4": {
      "model_module": "@jupyter-widgets/base",
      "model_module_version": "1.2.0",
      "model_name": "LayoutModel",
      "state": {
       "_model_module": "@jupyter-widgets/base",
       "_model_module_version": "1.2.0",
       "_model_name": "LayoutModel",
       "_view_count": null,
       "_view_module": "@jupyter-widgets/base",
       "_view_module_version": "1.2.0",
       "_view_name": "LayoutView",
       "align_content": null,
       "align_items": null,
       "align_self": null,
       "border": null,
       "bottom": null,
       "display": null,
       "flex": null,
       "flex_flow": null,
       "grid_area": null,
       "grid_auto_columns": null,
       "grid_auto_flow": null,
       "grid_auto_rows": null,
       "grid_column": null,
       "grid_gap": null,
       "grid_row": null,
       "grid_template_areas": null,
       "grid_template_columns": null,
       "grid_template_rows": null,
       "height": null,
       "justify_content": null,
       "justify_items": null,
       "left": null,
       "margin": null,
       "max_height": null,
       "max_width": null,
       "min_height": null,
       "min_width": null,
       "object_fit": null,
       "object_position": null,
       "order": null,
       "overflow": null,
       "overflow_x": null,
       "overflow_y": null,
       "padding": null,
       "right": null,
       "top": null,
       "visibility": null,
       "width": null
      }
     },
     "f0c7a64deba54503870a3c0b83c2dd34": {
      "model_module": "@jupyter-widgets/controls",
      "model_module_version": "1.5.0",
      "model_name": "HBoxModel",
      "state": {
       "_dom_classes": [],
       "_model_module": "@jupyter-widgets/controls",
       "_model_module_version": "1.5.0",
       "_model_name": "HBoxModel",
       "_view_count": null,
       "_view_module": "@jupyter-widgets/controls",
       "_view_module_version": "1.5.0",
       "_view_name": "HBoxView",
       "box_style": "",
       "children": [
        "IPY_MODEL_e188f1a83cdd448896fd055f0a564d0a",
        "IPY_MODEL_4c865a8ca8fe4f9cb08055517e5613f7",
        "IPY_MODEL_9859a2068b4346a3a1132124cd1ea69a"
       ],
       "layout": "IPY_MODEL_709ea0f0bc35453992a259efdc48720c"
      }
     },
     "f1625f95ba39468ca4389c6f4c6c7802": {
      "model_module": "@jupyter-widgets/controls",
      "model_module_version": "1.5.0",
      "model_name": "HTMLModel",
      "state": {
       "_dom_classes": [],
       "_model_module": "@jupyter-widgets/controls",
       "_model_module_version": "1.5.0",
       "_model_name": "HTMLModel",
       "_view_count": null,
       "_view_module": "@jupyter-widgets/controls",
       "_view_module_version": "1.5.0",
       "_view_name": "HTMLView",
       "description": "",
       "description_tooltip": null,
       "layout": "IPY_MODEL_b14966e23f36462c86e881076ecf5178",
       "placeholder": "​",
       "style": "IPY_MODEL_15655136dc784cb7bcd57da3dcb89e50",
       "value": "Downloading: 100%"
      }
     },
     "f401735da2364218accd15230eef7bd4": {
      "model_module": "@jupyter-widgets/controls",
      "model_module_version": "1.5.0",
      "model_name": "HTMLModel",
      "state": {
       "_dom_classes": [],
       "_model_module": "@jupyter-widgets/controls",
       "_model_module_version": "1.5.0",
       "_model_name": "HTMLModel",
       "_view_count": null,
       "_view_module": "@jupyter-widgets/controls",
       "_view_module_version": "1.5.0",
       "_view_name": "HTMLView",
       "description": "",
       "description_tooltip": null,
       "layout": "IPY_MODEL_118b865a504c43d887ad011f3d5a62b7",
       "placeholder": "​",
       "style": "IPY_MODEL_1669d3813ab04fb4818fdaef6dec5388",
       "value": " 2.57M/2.57M [00:00&lt;00:00, 5.42MB/s]"
      }
     },
     "f763400ecb7842cc84631549a1903600": {
      "model_module": "@jupyter-widgets/controls",
      "model_module_version": "1.5.0",
      "model_name": "ProgressStyleModel",
      "state": {
       "_model_module": "@jupyter-widgets/controls",
       "_model_module_version": "1.5.0",
       "_model_name": "ProgressStyleModel",
       "_view_count": null,
       "_view_module": "@jupyter-widgets/base",
       "_view_module_version": "1.2.0",
       "_view_name": "StyleView",
       "bar_color": null,
       "description_width": ""
      }
     },
     "fd833733601b40c5b26fa187259f27d6": {
      "model_module": "@jupyter-widgets/base",
      "model_module_version": "1.2.0",
      "model_name": "LayoutModel",
      "state": {
       "_model_module": "@jupyter-widgets/base",
       "_model_module_version": "1.2.0",
       "_model_name": "LayoutModel",
       "_view_count": null,
       "_view_module": "@jupyter-widgets/base",
       "_view_module_version": "1.2.0",
       "_view_name": "LayoutView",
       "align_content": null,
       "align_items": null,
       "align_self": null,
       "border": null,
       "bottom": null,
       "display": null,
       "flex": null,
       "flex_flow": null,
       "grid_area": null,
       "grid_auto_columns": null,
       "grid_auto_flow": null,
       "grid_auto_rows": null,
       "grid_column": null,
       "grid_gap": null,
       "grid_row": null,
       "grid_template_areas": null,
       "grid_template_columns": null,
       "grid_template_rows": null,
       "height": null,
       "justify_content": null,
       "justify_items": null,
       "left": null,
       "margin": null,
       "max_height": null,
       "max_width": null,
       "min_height": null,
       "min_width": null,
       "object_fit": null,
       "object_position": null,
       "order": null,
       "overflow": null,
       "overflow_x": null,
       "overflow_y": null,
       "padding": null,
       "right": null,
       "top": null,
       "visibility": null,
       "width": null
      }
     },
     "ff7a74eb12a24214b7048dbb33f377eb": {
      "model_module": "@jupyter-widgets/controls",
      "model_module_version": "1.5.0",
      "model_name": "ProgressStyleModel",
      "state": {
       "_model_module": "@jupyter-widgets/controls",
       "_model_module_version": "1.5.0",
       "_model_name": "ProgressStyleModel",
       "_view_count": null,
       "_view_module": "@jupyter-widgets/base",
       "_view_module_version": "1.2.0",
       "_view_name": "StyleView",
       "bar_color": null,
       "description_width": ""
      }
     }
    },
    "version_major": 2,
    "version_minor": 0
   }
  }
 },
 "nbformat": 4,
 "nbformat_minor": 5
}
